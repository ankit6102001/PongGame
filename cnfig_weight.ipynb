{
  "cells": [
    {
      "cell_type": "markdown",
      "metadata": {
        "id": "view-in-github",
        "colab_type": "text"
      },
      "source": [
        "<a href=\"https://colab.research.google.com/github/ankit6102001/Python-Machine-learning-Deep-learning/blob/main/cnfig_weight.ipynb\" target=\"_parent\"><img src=\"https://colab.research.google.com/assets/colab-badge.svg\" alt=\"Open In Colab\"/></a>"
      ]
    },
    {
      "cell_type": "code",
      "execution_count": null,
      "id": "53a81721-d57d-4b4e-9e4e-babcd61aac76",
      "metadata": {
        "id": "53a81721-d57d-4b4e-9e4e-babcd61aac76",
        "outputId": "4f958bcc-d653-4bd1-82f8-bdb1741d9660"
      },
      "outputs": [
        {
          "data": {
            "image/png": "[encoded data removed]",
            "text/plain": [
              "<PIL.Image.Image image mode=L size=90x90 at 0x1921B3496A0>"
            ]
          },
          "execution_count": 16,
          "metadata": {},
          "output_type": "execute_result"
        }
      ],
      "source": [
        "from tensorflow.keras.preprocessing.image import load_img,img_to_array\n",
        "img=load_img(\"d:/images/cricketers/sachin.jpg\",color_mode='grayscale',target_size=(90,90))\n",
        "img"
      ]
    },
    {
      "cell_type": "code",
      "execution_count": null,
      "id": "d3bdf602-f4f8-48b6-8c13-8d2ab594018a",
      "metadata": {
        "id": "d3bdf602-f4f8-48b6-8c13-8d2ab594018a"
      },
      "outputs": [],
      "source": [
        "from tensorflow.keras.models import load_model"
      ]
    },
    {
      "cell_type": "code",
      "execution_count": null,
      "id": "4661339e-fed0-4715-bcd8-af46d6ccf691",
      "metadata": {
        "id": "4661339e-fed0-4715-bcd8-af46d6ccf691"
      },
      "outputs": [],
      "source": [
        "model=load_model(\"d:/gender_model.h5\")"
      ]
    },
    {
      "cell_type": "code",
      "execution_count": null,
      "id": "ad6b1ce2-951f-487d-8ab1-483589e4439c",
      "metadata": {
        "id": "ad6b1ce2-951f-487d-8ab1-483589e4439c",
        "outputId": "eb582fcb-c8ac-4034-8fca-a4475abf8008"
      },
      "outputs": [
        {
          "name": "stdout",
          "output_type": "stream",
          "text": [
            "[[0. 1.]]\n"
          ]
        }
      ],
      "source": [
        "np_img=img_to_array(img)\n",
        "print(model.predict(np_img.reshape(1,90,90,1)))"
      ]
    },
    {
      "cell_type": "code",
      "execution_count": null,
      "id": "927a10a8-97b8-450c-9b6a-6c7dee2f033d",
      "metadata": {
        "id": "927a10a8-97b8-450c-9b6a-6c7dee2f033d"
      },
      "outputs": [],
      "source": [
        "#save model configuration only\n",
        "json=model.to_json()\n",
        "file=open(\"d:/gender.cfg\",\"w\")\n",
        "file.write(json)\n",
        "file.close()"
      ]
    },
    {
      "cell_type": "code",
      "execution_count": null,
      "id": "3b6fe787-1279-45b8-b32b-cdab8ce9dc6a",
      "metadata": {
        "id": "3b6fe787-1279-45b8-b32b-cdab8ce9dc6a"
      },
      "outputs": [],
      "source": [
        "#save model weights only\n",
        "model.save_weights(\"d:/gender.h5\")"
      ]
    },
    {
      "cell_type": "code",
      "execution_count": null,
      "id": "31b6bc11-1345-4602-8033-b01341fce1f0",
      "metadata": {
        "id": "31b6bc11-1345-4602-8033-b01341fce1f0"
      },
      "outputs": [],
      "source": [
        ""
      ]
    }
  ],
  "metadata": {
    "kernelspec": {
      "display_name": "Python 3 (ipykernel)",
      "language": "python",
      "name": "python3"
    },
    "language_info": {
      "codemirror_mode": {
        "name": "ipython",
        "version": 3
      },
      "file_extension": ".py",
      "mimetype": "text/x-python",
      "name": "python",
      "nbconvert_exporter": "python",
      "pygments_lexer": "ipython3",
      "version": "3.9.7"
    },
    "colab": {
      "name": "cnfig/weight.ipynb",
      "provenance": [],
      "include_colab_link": true
    }
  },
  "nbformat": 4,
  "nbformat_minor": 5
}