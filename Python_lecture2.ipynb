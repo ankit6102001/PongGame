{
  "nbformat": 4,
  "nbformat_minor": 0,
  "metadata": {
    "colab": {
      "provenance": [],
      "authorship_tag": "ABX9TyO3EYaiEVF6yo1ny+DR1rn3",
      "include_colab_link": true
    },
    "kernelspec": {
      "name": "python3",
      "display_name": "Python 3"
    },
    "language_info": {
      "name": "python"
    }
  },
  "cells": [
    {
      "cell_type": "markdown",
      "metadata": {
        "id": "view-in-github",
        "colab_type": "text"
      },
      "source": [
        "<a href=\"https://colab.research.google.com/github/ankit6102001/Python-Machine-learning-Deep-learning/blob/main/Python_lecture2.ipynb\" target=\"_parent\"><img src=\"https://colab.research.google.com/assets/colab-badge.svg\" alt=\"Open In Colab\"/></a>"
      ]
    },
    {
      "cell_type": "code",
      "execution_count": null,
      "metadata": {
        "colab": {
          "base_uri": "https://localhost:8080/"
        },
        "id": "pmreI4SRLQCY",
        "outputId": "a68c5efe-7fdb-425b-87fe-a2127e6187ba"
      },
      "outputs": [
        {
          "output_type": "stream",
          "name": "stdout",
          "text": [
            "{'a', 'b'}\n",
            "frozenset({'a', 'g', 'e'})\n",
            "<class 'frozenset'>\n"
          ]
        }
      ],
      "source": [
        "#frozen set-> it is immutable\n",
        "set1=set([\"a\",\"b\"])\n",
        "print(set1)\n",
        "\n",
        "var=frozenset([\"e\",\"g\",\"a\"])\n",
        "print(var)\n",
        "print(type(var))"
      ]
    },
    {
      "cell_type": "code",
      "source": [
        "#for adding elements in set\n",
        "student={\"sono\",\"priya\",\"monu\"}\n",
        "print(student)\n",
        "student.add(\"gaurav\")\n",
        "print(student)\n",
        "for i in range(1,6):\n",
        "  student.add(i)\n",
        "print(student)  "
      ],
      "metadata": {
        "colab": {
          "base_uri": "https://localhost:8080/"
        },
        "id": "jjdVBE6iMLkk",
        "outputId": "2b1b147a-7985-4258-914b-80752fee3e01"
      },
      "execution_count": null,
      "outputs": [
        {
          "output_type": "stream",
          "name": "stdout",
          "text": [
            "{'monu', 'sono', 'priya'}\n",
            "{'gaurav', 'monu', 'sono', 'priya'}\n",
            "{1, 2, 3, 'gaurav', 4, 5, 'monu', 'priya', 'sono'}\n"
          ]
        }
      ]
    },
    {
      "cell_type": "code",
      "source": [
        "#union operation on set\n",
        "student={\"monu\",\"ankit\",\"aman\"}\n",
        "language={\"python\",\"java\",\"c++\"}\n",
        "combine=student.union(language)\n",
        "print(combine)"
      ],
      "metadata": {
        "colab": {
          "base_uri": "https://localhost:8080/"
        },
        "id": "HCLCim4YMlH0",
        "outputId": "20d8730e-fd37-4851-950c-13a69eb3a116"
      },
      "execution_count": null,
      "outputs": [
        {
          "output_type": "stream",
          "name": "stdout",
          "text": [
            "{'python', 'java', 'aman', 'monu', 'c++', 'ankit'}\n"
          ]
        }
      ]
    },
    {
      "cell_type": "code",
      "source": [
        "student={\"monu\",\"ankit\",\"aman\"}\n",
        "language={\"python\",\"java\",\"c++\"}\n",
        "combine=student|language\n",
        "print(combine)"
      ],
      "metadata": {
        "colab": {
          "base_uri": "https://localhost:8080/"
        },
        "id": "yIbo_PsBNk5s",
        "outputId": "2f75053c-d449-4fcd-b964-d4769ece1acb"
      },
      "execution_count": null,
      "outputs": [
        {
          "output_type": "stream",
          "name": "stdout",
          "text": [
            "{'python', 'java', 'aman', 'monu', 'c++', 'ankit'}\n"
          ]
        }
      ]
    },
    {
      "cell_type": "code",
      "source": [
        "#intersection -> common elemnts are selected\n",
        "set1={1,2,4,6,7,8}\n",
        "set2={2,4,6,1,0,9}\n",
        "set3=set1.intersection(set2)\n",
        "print(set3)\n",
        "set4=set1 & set2\n",
        "print(set4)"
      ],
      "metadata": {
        "colab": {
          "base_uri": "https://localhost:8080/"
        },
        "id": "6wnZie2eN5oj",
        "outputId": "37b55ca6-ee75-44ba-86e7-775ff44ea721"
      },
      "execution_count": null,
      "outputs": [
        {
          "output_type": "stream",
          "name": "stdout",
          "text": [
            "{1, 2, 4, 6}\n",
            "{1, 2, 4, 6}\n"
          ]
        }
      ]
    },
    {
      "cell_type": "code",
      "source": [
        "#difference\n",
        "set1={1,2,5,9,0,4}\n",
        "set2={5,6,7}\n",
        "set3=set1.difference(set2)\n",
        "print(set3)\n",
        "set4=set2.difference(set1)\n",
        "print(set4)\n",
        "set4=set1 - set2\n",
        "print(set4)"
      ],
      "metadata": {
        "colab": {
          "base_uri": "https://localhost:8080/"
        },
        "id": "Xkg-ovnCOueZ",
        "outputId": "77fa3d9d-f930-4ea6-a00c-1e55642bea77"
      },
      "execution_count": null,
      "outputs": [
        {
          "output_type": "stream",
          "name": "stdout",
          "text": [
            "{0, 1, 2, 4, 9}\n",
            "{6, 7}\n",
            "{0, 1, 2, 4, 9}\n"
          ]
        }
      ]
    },
    {
      "cell_type": "code",
      "source": [
        "#clearing\n",
        "set={1,4,6,7,8}\n",
        "print(set)\n",
        "set.clear()\n",
        "print(set)"
      ],
      "metadata": {
        "colab": {
          "base_uri": "https://localhost:8080/"
        },
        "id": "3RUnzZaqPkyW",
        "outputId": "8ed7e75e-0ab9-4bec-8b50-de09574fb724"
      },
      "execution_count": null,
      "outputs": [
        {
          "output_type": "stream",
          "name": "stdout",
          "text": [
            "{1, 4, 6, 7, 8}\n",
            "set()\n"
          ]
        }
      ]
    },
    {
      "cell_type": "code",
      "source": [
        "#dictionary-> collection of key-values pair\n",
        "dict={1:\"sonu\",2:\"monu\"}\n",
        "print(dict)\n",
        "print(type(dict))\n",
        "#it is a mapping type which is used to store information in the form of key:value\n",
        "#each key:value pair is known as item\n",
        "#key must be unique and values can be duplicate\n",
        "#dict mutable\n",
        "#it is iterable\n",
        "#it does not support indexing and slicing"
      ],
      "metadata": {
        "colab": {
          "base_uri": "https://localhost:8080/"
        },
        "id": "960OGn-WQqKV",
        "outputId": "cd24d9c1-2d85-4de5-c499-e4955372c7cd"
      },
      "execution_count": null,
      "outputs": [
        {
          "output_type": "stream",
          "name": "stdout",
          "text": [
            "{1: 'sonu', 2: 'monu'}\n",
            "<class 'dict'>\n"
          ]
        }
      ]
    },
    {
      "cell_type": "code",
      "source": [
        "dict={\"name\":\"ankit\",2:[3,4,5]}\n",
        "print(dict)"
      ],
      "metadata": {
        "colab": {
          "base_uri": "https://localhost:8080/"
        },
        "id": "UAjhSaGpSRpF",
        "outputId": "7ddbfe1f-8751-4bcf-fed9-bdf70cce2839"
      },
      "execution_count": null,
      "outputs": [
        {
          "output_type": "stream",
          "name": "stdout",
          "text": [
            "{'name': 'ankit', 2: [3, 4, 5]}\n"
          ]
        }
      ]
    },
    {
      "cell_type": "code",
      "source": [
        "dict={}\n",
        "print(dict)"
      ],
      "metadata": {
        "colab": {
          "base_uri": "https://localhost:8080/"
        },
        "id": "r3hLQCqnSl_4",
        "outputId": "8d7ea670-05b7-4278-ce3e-c131b3bfa60c"
      },
      "execution_count": null,
      "outputs": [
        {
          "output_type": "stream",
          "name": "stdout",
          "text": [
            "{}\n"
          ]
        }
      ]
    },
    {
      "cell_type": "code",
      "source": [
        "#var=dict({1:\"ankit\",2:\"aman\"})\n",
        "#print(var)\n",
        "#var1= dict([(1,\"ankit\"),(2,\"aman\")])\n",
        "#print(var1)"
      ],
      "metadata": {
        "id": "KEGololoStRP"
      },
      "execution_count": null,
      "outputs": []
    },
    {
      "cell_type": "code",
      "source": [],
      "metadata": {
        "id": "qQTTQcFtUEaF"
      },
      "execution_count": null,
      "outputs": []
    },
    {
      "cell_type": "code",
      "source": [
        "#nested dict\n",
        "dict={1:\"sonu\",2:{\"A\":\"hello\"}}\n",
        "print(dict)"
      ],
      "metadata": {
        "colab": {
          "base_uri": "https://localhost:8080/"
        },
        "id": "1_UmyvKIUEm3",
        "outputId": "cc72b2be-7694-4930-f747-a0e3a8ccc2fe"
      },
      "execution_count": null,
      "outputs": [
        {
          "output_type": "stream",
          "name": "stdout",
          "text": [
            "{1: 'sonu', 2: {'A': 'hello'}}\n"
          ]
        }
      ]
    },
    {
      "cell_type": "code",
      "source": [
        "#add elements\n",
        "dict={}\n",
        "print(dict)\n",
        "dict[0]=\"ankit\"\n",
        "dict[1]=\"aman\"\n",
        "dict[3]=\"shiv\"\n",
        "print(dict)\n",
        "dict[\"hello\"]=2,4,5,7\n",
        "print(dict)\n",
        "dict[0]=\"priya\" #updation\n",
        "print(dict)"
      ],
      "metadata": {
        "colab": {
          "base_uri": "https://localhost:8080/"
        },
        "id": "cdTzFJEoUvqg",
        "outputId": "b2199d24-f9b2-45cc-9237-7222edd9445e"
      },
      "execution_count": null,
      "outputs": [
        {
          "output_type": "stream",
          "name": "stdout",
          "text": [
            "{}\n",
            "{0: 'ankit', 1: 'aman', 3: 'shiv'}\n",
            "{0: 'ankit', 1: 'aman', 3: 'shiv', 'hello': (2, 4, 5, 7)}\n",
            "{0: 'priya', 1: 'aman', 3: 'shiv', 'hello': (2, 4, 5, 7)}\n"
          ]
        }
      ]
    },
    {
      "cell_type": "code",
      "source": [
        "#accessing the elements using keys\n",
        "dict={1:\"ankit\",2:\"sonu\",3:\"python\"}\n",
        "print(dict[1])\n",
        "#accesing the elemnts using get\n",
        "print(dict.get(3))"
      ],
      "metadata": {
        "colab": {
          "base_uri": "https://localhost:8080/"
        },
        "id": "DGUqnrTgV8Nx",
        "outputId": "02a330ee-2052-4c11-fcd8-ab823d2168ad"
      },
      "execution_count": null,
      "outputs": [
        {
          "output_type": "stream",
          "name": "stdout",
          "text": [
            "ankit\n",
            "python\n"
          ]
        }
      ]
    },
    {
      "cell_type": "code",
      "source": [
        "dict={1:\"ankit\",2:\"sonu\",3:\"python\"}\n",
        "dict1=dict.copy() #copy method\n",
        "print(dict1)\n",
        "#dict1.clear() #clear method\n",
        "print(dict1)\n",
        "print(dict)\n",
        "print(dict.keys()) # key methods\n",
        "print(dict.items())  # items method\n",
        "print(dict1.pop(2))  # pop methdod\n",
        "print(dict1.popitem()) #popitem\n"
      ],
      "metadata": {
        "colab": {
          "base_uri": "https://localhost:8080/"
        },
        "id": "zOSHHL-_WjkR",
        "outputId": "01a71c38-6eb3-4e5c-b6cf-d92f49097424"
      },
      "execution_count": null,
      "outputs": [
        {
          "output_type": "stream",
          "name": "stdout",
          "text": [
            "{1: 'ankit', 2: 'sonu', 3: 'python'}\n",
            "{1: 'ankit', 2: 'sonu', 3: 'python'}\n",
            "{1: 'ankit', 2: 'sonu', 3: 'python'}\n",
            "dict_keys([1, 2, 3])\n",
            "dict_items([(1, 'ankit'), (2, 'sonu'), (3, 'python')])\n",
            "sonu\n",
            "(3, 'python')\n"
          ]
        }
      ]
    },
    {
      "cell_type": "code",
      "source": [
        "#list comprehension \n",
        "#syntax-> newlist=[expression]\n",
        "#advantage -> more time effcient & space-efficient than loops\n",
        "#-> require fewer lines of code\n",
        "#->transform iterative statement into formula\n",
        "l=[character for character in[1,2,3]]\n",
        "print(l)\n",
        "\n",
        "l=[i for i in range(11) if i%2==0]\n",
        "print(l)\n",
        "\n",
        "matrix=[[j for j in range(3)] for i in range(3)]\n",
        "print(matrix)"
      ],
      "metadata": {
        "colab": {
          "base_uri": "https://localhost:8080/"
        },
        "id": "sIMYRJdMRjU4",
        "outputId": "f9472f7f-9a9e-4295-d71c-4153b582b73e"
      },
      "execution_count": null,
      "outputs": [
        {
          "output_type": "stream",
          "name": "stdout",
          "text": [
            "[1, 2, 3]\n",
            "[0, 2, 4, 6, 8, 10]\n",
            "[[0, 1, 2], [0, 1, 2], [0, 1, 2]]\n"
          ]
        }
      ]
    },
    {
      "cell_type": "code",
      "source": [
        "list=[]\n",
        "for i in \"information\":\n",
        "  list.append(i)\n",
        "print(list)  \n",
        "\n",
        "\n",
        "list=[i for i in \"information\"]\n",
        "print(list)"
      ],
      "metadata": {
        "colab": {
          "base_uri": "https://localhost:8080/"
        },
        "id": "1unuS_8pT4bU",
        "outputId": "9dae76cb-c375-41f5-b91c-b8d3dead5797"
      },
      "execution_count": null,
      "outputs": [
        {
          "output_type": "stream",
          "name": "stdout",
          "text": [
            "['i', 'n', 'f', 'o', 'r', 'm', 'a', 't', 'i', 'o', 'n']\n",
            "['i', 'n', 'f', 'o', 'r', 'm', 'a', 't', 'i', 'o', 'n']\n"
          ]
        }
      ]
    },
    {
      "cell_type": "code",
      "source": [
        "# function -> is a block of statements that return the specific task\n",
        "#-> reusability of the code\n",
        "#syntax -> def function_name(parameters):\n",
        "               #statements\n",
        "               #return expression\n",
        "\n",
        "def fun():\n",
        "  print(\"hello\")     \n",
        "fun()            "
      ],
      "metadata": {
        "colab": {
          "base_uri": "https://localhost:8080/"
        },
        "id": "ySETSKd3Ux1B",
        "outputId": "ad4a72a8-9f10-4b5f-a9f8-fa129e985740"
      },
      "execution_count": null,
      "outputs": [
        {
          "output_type": "stream",
          "name": "stdout",
          "text": [
            "hello\n"
          ]
        }
      ]
    },
    {
      "cell_type": "code",
      "source": [
        "def add():\n",
        "  a,b=10,20\n",
        "  c=a+b\n",
        "  print(c)\n",
        "add()  "
      ],
      "metadata": {
        "colab": {
          "base_uri": "https://localhost:8080/"
        },
        "id": "gIl-8n_bYqjX",
        "outputId": "2579927d-1108-45f6-c5cf-7cd7df091440"
      },
      "execution_count": null,
      "outputs": [
        {
          "output_type": "stream",
          "name": "stdout",
          "text": [
            "30\n"
          ]
        }
      ]
    },
    {
      "cell_type": "code",
      "source": [
        "def add():\n",
        "  a=int(input(\"enter first number:\"))\n",
        "  b=int(input(\"Enter second number:\"))\n",
        "  c=a+b\n",
        "  print(c)\n",
        "add()  "
      ],
      "metadata": {
        "colab": {
          "base_uri": "https://localhost:8080/"
        },
        "id": "fZhbtmERZDGl",
        "outputId": "dbcf90fc-f156-4416-ff63-73b4b79abea7"
      },
      "execution_count": null,
      "outputs": [
        {
          "output_type": "stream",
          "name": "stdout",
          "text": [
            "enter first number:2\n",
            "Enter second number:4\n",
            "6\n"
          ]
        }
      ]
    },
    {
      "cell_type": "code",
      "source": [
        "#funcation parameter  , arguments\n",
        "def add(a,b):   #parameters-> definition , only variable\n",
        "  c=a+b\n",
        "  print(c)\n",
        "add(2,3)   #arguments-> calling , value/variable/expression"
      ],
      "metadata": {
        "id": "T8_g-PbBZ7sZ"
      },
      "execution_count": null,
      "outputs": []
    },
    {
      "cell_type": "code",
      "source": [
        "def SimpleInterest(p,r,t):\n",
        "  i=(p*r*t)/100\n",
        "  print(i)\n",
        "  print(p+i)\n",
        "#SimpleInterest(1000,3,2)  \n",
        "a=int(input(\"enter the p:\"))\n",
        "b=int(input(\"enter the r:\"))\n",
        "c=int(input(\"enter the t:\"))\n",
        "SimpleInterest(a,b,c)"
      ],
      "metadata": {
        "id": "yNYxFmRWa2Lp"
      },
      "execution_count": null,
      "outputs": []
    },
    {
      "cell_type": "code",
      "source": [
        "def evenOdd(x):\n",
        "  if(x%2==0):\n",
        "    print(\"even\")\n",
        "  else:\n",
        "    print(\"odd\")\n",
        "#evenOdd(2)      \n",
        "num=int(input(\"Enter a number:\"))\n",
        "evenOdd(num)"
      ],
      "metadata": {
        "id": "HQqVJ_tJcNvA"
      },
      "execution_count": null,
      "outputs": []
    },
    {
      "cell_type": "code",
      "source": [
        "#types of arguments \n",
        "#> default argument \n",
        "#> keyword argument \n",
        "#> positional argument\n",
        "def show(a=1,b=2):  #default argument\n",
        "  print(a,b)\n",
        "show()  \n",
        "show(10)\n",
        "show(10,20)\n",
        "print(\"\\n\")\n",
        "def show(a,b):  #keyword argument\n",
        "  print(a,b)\n",
        "show(a=10,b=20) \n",
        "#show(20,10)\n",
        "print(\"\\n\")\n",
        "def show(a,b):  #positional argument\n",
        "  print(a,b)\n",
        "show(2,3)  \n",
        "show(2,b=3)\n",
        "#show(a=2,5)  #it shows errro -> positional argument folows the keyword argument"
      ],
      "metadata": {
        "id": "IAOkzc-uduy4"
      },
      "execution_count": null,
      "outputs": []
    },
    {
      "cell_type": "code",
      "source": [
        "#global and local variable\n",
        "#global variable -> are those which are not defined inside any function and have a global scope \n",
        "#local varible-> are those which are defined inside a function and its scope is limited to that function only\n",
        "\n",
        "def show():\n",
        "  s=\"hello\" #local variable\n",
        "  print(s)\n",
        "show()  \n",
        "#print(s) #it show an error"
      ],
      "metadata": {
        "id": "A75nyYfIu3YQ"
      },
      "execution_count": null,
      "outputs": []
    },
    {
      "cell_type": "code",
      "source": [
        "def show():\n",
        "  print(\"inside fun\",s)\n",
        "\n",
        "s=\"welcome\"  #global variable\n",
        "show()\n",
        "print(\"outside func\",s)  "
      ],
      "metadata": {
        "id": "Jx2DM3SVwf5L"
      },
      "execution_count": null,
      "outputs": []
    },
    {
      "cell_type": "code",
      "source": [
        "def func():\n",
        "  s=\"hello\"  #local variable \n",
        "  print(s)\n",
        "s=\"welcome all of you\"  #global variable\n",
        "func()\n",
        "print(s)  \n"
      ],
      "metadata": {
        "id": "eHZO3d4_xGtu"
      },
      "execution_count": null,
      "outputs": []
    },
    {
      "cell_type": "code",
      "source": [
        "'''def func():\n",
        "  s+= 'hello'\n",
        "  print(\"inside fun\",s)\n",
        "s=\"welcome\"\n",
        "func()  \n",
        "'''"
      ],
      "metadata": {
        "id": "8-n47NCdx0M8"
      },
      "execution_count": null,
      "outputs": []
    },
    {
      "cell_type": "code",
      "source": [
        "def func():\n",
        "  global s\n",
        "  s+=\"hello\"\n",
        "  print(s)\n",
        "  s=\"welcome all of you \"\n",
        "  print(s)\n",
        "\n",
        "s=\"python\"\n",
        "func()\n",
        "print(s)  "
      ],
      "metadata": {
        "id": "7uugntDQx26J"
      },
      "execution_count": null,
      "outputs": []
    },
    {
      "cell_type": "code",
      "source": [
        "#bubble sort                      a,b=b,a\n",
        "def bubblesort(arr):\n",
        "  n=len(arr)\n",
        "  swapped=False\n",
        "  for i in range(n-1):\n",
        "    for j in range(0,n-i-1):\n",
        "      if arr[j] > arr[j+1]:\n",
        "        swapped=True\n",
        "        arr[j],arr[j+1]=arr[j+1],arr[j]\n",
        " #   if not swapped: \n",
        " #     return \n",
        "  return arr    \n",
        "\n",
        "arr=[20,67,5,90,35,29,61,45]\n",
        "print(\"the unsorted array:\",arr)\n",
        "print(\"sorted array :\",bubblesort(arr))\n",
        "      \n"
      ],
      "metadata": {
        "id": "iigzY96Gz2av"
      },
      "execution_count": null,
      "outputs": []
    },
    {
      "cell_type": "code",
      "source": [
        "# lambda function -> anonymous function means that the function is without a name\n",
        "#lambda keyword is used to define anonymous function in python\n",
        "# syntax : lambda arguments:expression\n",
        "# lambda function can have any number of arguments but only one expression\n",
        "\n",
        "str= \"welcome\"\n",
        "var=lambda string:string.upper()\n",
        "print(var(str))"
      ],
      "metadata": {
        "id": "-47oiDkMBxrK"
      },
      "execution_count": null,
      "outputs": []
    },
    {
      "cell_type": "code",
      "source": [
        "def cube(x):\n",
        "  return x*x*x\n",
        "\n",
        "lambda_cube=lambda x:x*x*x\n",
        "\n",
        "print(\"using def keyword ,cube:\",cube(6))\n",
        "print(\"using lambda function ,cube:\",lambda_cube(6))"
      ],
      "metadata": {
        "id": "Fp8RZClhFt4Z"
      },
      "execution_count": null,
      "outputs": []
    },
    {
      "cell_type": "code",
      "source": [
        "list=[lambda arg=x:arg*10 for x in range(1,5)]\n",
        "for item in list:\n",
        "  print(item())"
      ],
      "metadata": {
        "id": "MXLquq7wIx55"
      },
      "execution_count": null,
      "outputs": []
    },
    {
      "cell_type": "code",
      "source": [
        "var=lambda a,b: a if(a>b) else b\n",
        "print(var(2,5))\n",
        "print(var(3,2))"
      ],
      "metadata": {
        "id": "bfq8MHrhJ_MM"
      },
      "execution_count": null,
      "outputs": []
    },
    {
      "cell_type": "code",
      "source": [
        "# using lambda function with filter function\n",
        "# filter function: filters the given sequence with the help of a function that test each element in the sequence to be true or not\n",
        "# syntax: filter(function , sequence)\n",
        "def fun(variables):\n",
        "  letters=['a','e','i','o','u']\n",
        "  if (variables in letters):\n",
        "    return True\n",
        "  else:\n",
        "    return False\n",
        "\n",
        "sequence=['m','o','u','n','t','a','i','n','s','a','i']\n",
        "filtered=filter(fun,sequence)\n",
        "print(\"filtered letters:\")\n",
        "for s in filtered:\n",
        "  print(s)      "
      ],
      "metadata": {
        "id": "5na_bbEpKycL"
      },
      "execution_count": null,
      "outputs": []
    },
    {
      "cell_type": "code",
      "source": [
        "'''\n",
        "seq=[1,2,3,6,9,20,10,50,15,6,7,89,45]\n",
        "result=filter(lambda x:x%2!=0,seq)\n",
        "print(list(result))\n",
        "ans = filter(lambda x:x%2==0,seq)\n",
        "print(list(ans))\n",
        "'''\n"
      ],
      "metadata": {
        "id": "Wx4qv-SkNGIe"
      },
      "execution_count": null,
      "outputs": []
    },
    {
      "cell_type": "code",
      "source": [
        "#map() :\n",
        "#syntax: map(fun,iter)\n",
        "'''\n",
        "l=[1,2,3,4,5]\n",
        "print(list(map(lambda num:num*num,l))\n",
        "'''\n"
      ],
      "metadata": {
        "id": "iWLGXftyPT4x"
      },
      "execution_count": null,
      "outputs": []
    },
    {
      "cell_type": "code",
      "source": [
        "'''num1=[1,2,3,5]\n",
        "num2=[4,5,2,1]\n",
        "ans=map(lambda x,y:x+y, num1,num2)\n",
        "print(list(ans))\n",
        "'''"
      ],
      "metadata": {
        "id": "mnS5knuqSVFB"
      },
      "execution_count": null,
      "outputs": []
    },
    {
      "cell_type": "code",
      "source": [
        "# *args and **kwargs\n",
        "#*args-> (non-keyword argument) -> it is used to pass variable number of arguments to a function.\n",
        "#**kwargs-> (keyword arguments)\n",
        "\n",
        "def func(*argv):\n",
        "  for arg in argv:\n",
        "    print(arg)\n",
        "func(\"hello\",\"python\",\"welcome\",\"home\")    "
      ],
      "metadata": {
        "id": "Tq6iRk84UKsw"
      },
      "execution_count": null,
      "outputs": []
    },
    {
      "cell_type": "code",
      "source": [
        "def fun(arg1,*argv):\n",
        "  print(\"first argument:\",arg1)\n",
        "  for arg in argv:\n",
        "    print(\"next argument:\",arg)\n",
        "\n",
        "fun(\"hello\",\"python\",\"welcome\",\"java\")"
      ],
      "metadata": {
        "id": "4FIxyYW9WfzM"
      },
      "execution_count": null,
      "outputs": []
    },
    {
      "cell_type": "code",
      "source": [
        "# **kwargs-> (keyword argument)-> it is used to pass a keyworded , variable length argument list.\n",
        "def func(**kwargs):\n",
        "  for key, value in kwargs.items():\n",
        "    print(\"%s==%s\" % (key,value))\n",
        "\n",
        "func(first=\"welcome\",second=\"beautiful\")    "
      ],
      "metadata": {
        "id": "8XBSCBBeXf7c"
      },
      "execution_count": null,
      "outputs": []
    },
    {
      "cell_type": "code",
      "source": [
        "#docstring-> it is used to describe the functionality of a function\n",
        "#synatx-> print(function_name.__doc__)\n",
        "def evenOdd(x):\n",
        "  if(x%2==0):\n",
        "    print(\"even\")\n",
        "  else:\n",
        "    print(\"odd\")\n",
        "\n",
        "print(evenOdd.__doc__)    \n"
      ],
      "metadata": {
        "id": "YFKAl2MoZqGN"
      },
      "execution_count": null,
      "outputs": []
    },
    {
      "cell_type": "code",
      "source": [
        "def square(num):\n",
        "  return num**2\n",
        "print(square(2))"
      ],
      "metadata": {
        "id": "Tco5ffU8bWsC"
      },
      "execution_count": null,
      "outputs": []
    },
    {
      "cell_type": "code",
      "source": [
        "def fun(x):\n",
        "  x[0]=10 # x is a new reference to same list l\n",
        "\n",
        "l=[20,11,13,16,89]\n",
        "fun(l)\n",
        "print(l)  \n"
      ],
      "metadata": {
        "id": "2XqSkEhfbs7L"
      },
      "execution_count": null,
      "outputs": []
    },
    {
      "cell_type": "code",
      "source": [
        "#oops concept -> object oriented programming \n",
        "#> it is a prograamming paradigm that uses objects and classes\n",
        "#>main concept of oops is to bind the data and the functions that work on together as a single unit \n",
        "# it is a paradigm (way) to think about the real world in coding.\n",
        "\n",
        "# main concepts-> class, Objects , Polymorphism , Encapsulation , Data Abstraction , Iheritance\n",
        "\n",
        "# class -> it is a blueprint/template/design/model to create similar objects.\n",
        "#syntax-> \n",
        "# class ClassName:\n",
        "    # statements\n",
        "class car:\n",
        "  pass    "
      ],
      "metadata": {
        "id": "XJbuAWolUhX4"
      },
      "execution_count": null,
      "outputs": []
    },
    {
      "cell_type": "code",
      "source": [
        "# object -> Any real world entity having data members and functions\n",
        "# object is an entity that has a state and behaviour associated with it.\n",
        "# object consists of -> State , Behaviour and Identity\n",
        "class car:\n",
        "  pass\n",
        "obj=car()  "
      ],
      "metadata": {
        "id": "RBRBTZ9pXjl3"
      },
      "execution_count": null,
      "outputs": []
    },
    {
      "cell_type": "code",
      "source": [
        "# self \n",
        "# __init__ method \n",
        "class Dog:\n",
        "  att=\"roar\"\n",
        "  def __init__(self,name):\n",
        "    self.name=name\n",
        "\n",
        "obj1=Dog(\"lion\") \n",
        "\n",
        "print(\"{}\".format(obj1.__class__.att))   "
      ],
      "metadata": {
        "id": "4NCKLg2cZShk"
      },
      "execution_count": null,
      "outputs": []
    },
    {
      "cell_type": "code",
      "source": [
        "class account:\n",
        "  def __init__(self,a,b):\n",
        "    self.acn=a\n",
        "    self.bal=b\n",
        "a1=account(101,1000)\n",
        "a2=account(102,1500)\n",
        "print(a1.acn,a1.bal)\n",
        "print(a2.acn,a2.bal)    "
      ],
      "metadata": {
        "id": "CNWsIy6NbSgY"
      },
      "execution_count": null,
      "outputs": []
    },
    {
      "cell_type": "code",
      "source": [
        "# inheritance- class code resuability\n",
        "# is the capability of one class to derive or inherit the properties from another class\n",
        "#> Derived class -> (child class)\n",
        "#> Base class-> (parent class)\n",
        "#types of inheritance: \n",
        "#> Single level inheritance : one parent and one child\n",
        "#> Multi level inheritance: one child withe two parent( 1 as direct , 1 as a grand parent)\n",
        "#>Multiple inheritance : one child with two or more than two direct parents( parent are at the same level)\n",
        "#>Hybrid inheritance: multilevel + multiple\n",
        "#>Hierarchical inheritance: one parent and multiple child"
      ],
      "metadata": {
        "id": "u9csreqTcQFD"
      },
      "execution_count": null,
      "outputs": []
    },
    {
      "cell_type": "code",
      "source": [
        "# single level inheritance :\n",
        "class telephone :  # parent class\n",
        "  def call(self):\n",
        "    print(\"this is call()\")\n",
        "class mobile(telephone):     #child class\n",
        "  def msg(self):\n",
        "    print(\"this is msg()\")\n",
        "\n",
        "obj=mobile()\n",
        "obj.call()\n",
        "obj.msg()"
      ],
      "metadata": {
        "id": "tvUWsoUqgu5a"
      },
      "execution_count": null,
      "outputs": []
    },
    {
      "cell_type": "code",
      "source": [
        "#multi level inheritance:\n",
        "class telephone:\n",
        "  def call(self):\n",
        "    print(\"this is call\")\n",
        "class mobile(telephone):\n",
        "  def msg(self):\n",
        "    print(\"this is msg\")\n",
        "class smartphone(mobile):\n",
        "  def dwnloadapp(self):\n",
        "    print(\"this is downloadapp\")\n",
        "obj=smartphone()\n",
        "obj.call()\n",
        "obj.msg()\n",
        "obj.dwnloadapp()            \n"
      ],
      "metadata": {
        "id": "3LMoWbCziXIg"
      },
      "execution_count": null,
      "outputs": []
    },
    {
      "cell_type": "code",
      "source": [
        "#multiple inheritance\n",
        "class telephone:\n",
        "  def call(self):\n",
        "    print(\"this is call\")\n",
        "\n",
        "class camera:\n",
        "  def picture(self):\n",
        "    print(\"this is picture\")    \n",
        "\n",
        "class mobile(telephone,camera):\n",
        "  def msg(self):\n",
        "    print(\"this is msg\")\n",
        "\n",
        "obj=mobile()\n",
        "obj.call()\n",
        "obj.msg()\n",
        "obj.picture()       "
      ],
      "metadata": {
        "id": "e_Qrecwj4FVi"
      },
      "execution_count": null,
      "outputs": []
    },
    {
      "cell_type": "code",
      "source": [
        "#hybrid inheritance \n",
        "class A:\n",
        "  def n1(self):\n",
        "    print(\"beautiful\")\n",
        "class B(A):\n",
        "  def n2(self):\n",
        "    print(\"python\")\n",
        "\n",
        "class C:\n",
        "  def n3(self):\n",
        "    print(\"java\")\n",
        "\n",
        "class D(B,C):\n",
        "  def n4(self):\n",
        "    print(\"this is me\")\n",
        "\n",
        "obj=D()\n",
        "obj.n1()\n",
        "obj.n2()\n",
        "obj.n3()    \n",
        "obj.n4()\n"
      ],
      "metadata": {
        "id": "6HlGW2e65-cn"
      },
      "execution_count": null,
      "outputs": []
    },
    {
      "cell_type": "code",
      "source": [
        "# hierarchical inheritance:\n",
        "class person:\n",
        "  def reading(self):\n",
        "    print(\"reading\")\n",
        "class man(person):\n",
        "  def working(self):\n",
        "    print(\"working\")\n",
        "\n",
        "class student(person):\n",
        "  def study(self):\n",
        "    print(\"studying\")\n",
        "\n",
        "obj=man()\n",
        "obj.reading()\n",
        "obj.working()\n",
        "#obj.study()\n"
      ],
      "metadata": {
        "id": "z3QcJihY8iZA"
      },
      "execution_count": null,
      "outputs": []
    },
    {
      "cell_type": "code",
      "source": [
        "#types of methods:\n",
        "# > instance method\n",
        "# > class method\n",
        "# > static method\n",
        "\n",
        "#> instance method -> purpose is to get or set details about instance(object)\n",
        "# default parameter -> self -> points to an instance of a class\n",
        "class student:\n",
        "  def study(self):\n",
        "    return \" this is an instance method\"\n",
        "a=student()\n",
        "a.study()\n",
        "\n"
      ],
      "metadata": {
        "id": "KG2uV8tt-fPb"
      },
      "execution_count": null,
      "outputs": []
    },
    {
      "cell_type": "code",
      "source": [
        "class student:\n",
        "  def study(self,a):\n",
        "    print(f\"this is an instance method a={a}\")\n",
        "\n",
        "obj=student()\n",
        "obj.study(20)    "
      ],
      "metadata": {
        "colab": {
          "base_uri": "https://localhost:8080/"
        },
        "id": "bCH90PtYBt5Y",
        "outputId": "7d9d177c-bf2c-4686-bbbb-99bd8ffaa411"
      },
      "execution_count": null,
      "outputs": [
        {
          "output_type": "stream",
          "name": "stdout",
          "text": [
            "this is an instance method a=20\n"
          ]
        }
      ]
    },
    {
      "cell_type": "code",
      "source": [
        "class student:\n",
        "  def __init__(self,a,b): # __init__ function is called every time object is created from a class or we can say it is a constructor\n",
        "    self.a=a\n",
        "    self.b=b\n",
        "  def study(self):\n",
        "    print(f\"a={self.a},b={self.b}\")\n",
        "\n",
        "obj=student(2,7)\n",
        "obj.study()      "
      ],
      "metadata": {
        "colab": {
          "base_uri": "https://localhost:8080/"
        },
        "id": "3EkP_5KqD6B1",
        "outputId": "a3ea6791-4eca-44f9-d3b8-f1d172f0b0b7"
      },
      "execution_count": null,
      "outputs": [
        {
          "output_type": "stream",
          "name": "stdout",
          "text": [
            "a=2,b=7\n"
          ]
        }
      ]
    },
    {
      "cell_type": "code",
      "source": [
        "#class method ->purpose of it is to set or get the details of the class\n",
        "# for define a class method , @clasmethod decorator\n",
        "# one default parameter - cls -> it points to the class \n",
        "class student:\n",
        "  @classmethod\n",
        "  def study(cls):\n",
        "    return \" this is a class method\"\n",
        "#obj=student()\n",
        "#obj.study()\n",
        "student.study()    "
      ],
      "metadata": {
        "colab": {
          "base_uri": "https://localhost:8080/",
          "height": 36
        },
        "id": "MtVCM3BT7ROY",
        "outputId": "fd77d82c-78f2-4ec5-aefa-544f16c0e4b3"
      },
      "execution_count": null,
      "outputs": [
        {
          "output_type": "execute_result",
          "data": {
            "text/plain": [
              "' this is a class method'"
            ],
            "application/vnd.google.colaboratory.intrinsic+json": {
              "type": "string"
            }
          },
          "metadata": {},
          "execution_count": 3
        }
      ]
    },
    {
      "cell_type": "code",
      "source": [
        "#static method -> cannot access the class data\n",
        "# define  @staticmethod decorator\n",
        "class student:\n",
        "  @staticmethod\n",
        "  def studying():\n",
        "    return \"study\"\n",
        "#obj=student()\n",
        "#obj.studying() \n",
        "student.studying() "
      ],
      "metadata": {
        "colab": {
          "base_uri": "https://localhost:8080/",
          "height": 36
        },
        "id": "xgr1kjYd9i5j",
        "outputId": "3ab5b6ac-41a8-47a4-8f04-60dc2db1c7c3"
      },
      "execution_count": null,
      "outputs": [
        {
          "output_type": "execute_result",
          "data": {
            "text/plain": [
              "'study'"
            ],
            "application/vnd.google.colaboratory.intrinsic+json": {
              "type": "string"
            }
          },
          "metadata": {},
          "execution_count": 5
        }
      ]
    },
    {
      "cell_type": "code",
      "source": [
        "#an instance method knows its instance\n",
        "#a class method knows its class\n",
        "# a static method doesn't know its class or instance"
      ],
      "metadata": {
        "id": "cFf2HPsS-2t2"
      },
      "execution_count": null,
      "outputs": []
    },
    {
      "cell_type": "code",
      "source": [
        "#encapsulation -> wrapping data and the methods that work on data within one unit.\n",
        "#protected members : cannot be accessed outside the class but can be accessed from within the class and its subclasses.\n",
        "# \"_\"\n",
        "class emp:\n",
        "  def __init__(self):\n",
        "    self.sal=100\n",
        "e=emp()\n",
        "print(e.sal)     "
      ],
      "metadata": {
        "colab": {
          "base_uri": "https://localhost:8080/"
        },
        "id": "SJ7tpCXU_5PM",
        "outputId": "701f2bfc-fa4e-4af7-b2c4-5e990a29be05"
      },
      "execution_count": null,
      "outputs": [
        {
          "output_type": "stream",
          "name": "stdout",
          "text": [
            "100\n"
          ]
        }
      ]
    },
    {
      "cell_type": "code",
      "source": [
        "class base:\n",
        "  def __init__(self):\n",
        "    self._a=3\n",
        "\n",
        "class derived(base):\n",
        "  def __init__(self):\n",
        "    base.__init__(self)\n",
        "    print(\"calling:\",self._a)\n",
        "\n",
        "obj=derived()\n",
        "print(obj._a)    \n"
      ],
      "metadata": {
        "colab": {
          "base_uri": "https://localhost:8080/"
        },
        "id": "9MEpur0wCiaK",
        "outputId": "362c777a-81da-4e1d-f643-327aa63b64e8"
      },
      "execution_count": null,
      "outputs": [
        {
          "output_type": "stream",
          "name": "stdout",
          "text": [
            "calling: 3\n",
            "3\n"
          ]
        }
      ]
    },
    {
      "cell_type": "code",
      "source": [
        "#private members : it cannot be accessed outside the class and also not by its base class\n",
        "#\"__\"\n",
        "class emp:\n",
        "  def __init__(self):\n",
        "    self.__sal=500\n",
        "e=emp() \n",
        "#print(e.__sal)    it show an error"
      ],
      "metadata": {
        "id": "yQ0pN9ruDtO7"
      },
      "execution_count": null,
      "outputs": []
    },
    {
      "cell_type": "code",
      "source": [
        "# wap to print all even and odd numbers between 1 and 100\n",
        "# wap to print calulate the factorial of number entered by user\n",
        "#wap to calculate the length of a string\n",
        "#wap to reverse a string\n",
        "# wap to reverse word in a string \n",
        "# wap to sum all the items in a list\n",
        "# wap to remove duplicates from a list\n",
        "#wap to check a list is empty or not \n",
        "# wap to get unique values from a list\n",
        "# wap to find the second largest number in a list\n",
        "#wap to create set differences \n",
        "# wap to clear a set\n",
        "# wap to find the length of the set\n",
        "# wap to find the maximum and minimum value in a set"
      ],
      "metadata": {
        "id": "REZFJxhUF2sa"
      },
      "execution_count": null,
      "outputs": []
    },
    {
      "cell_type": "code",
      "source": [
        "# Polymorphism -> poly means multiple or many /  morphism means roles or forms\n",
        "# the use of single entity (method , operator or object) to represent different types in different scenarios.\n",
        "\n",
        "# polymorphism in addition operator \"+\"\n",
        "num1 =5\n",
        "num2=6\n",
        "print(num1+num2)  # addition\n",
        "\n",
        "str1=\"hello\"\n",
        "str2=\"guys\"\n",
        "print(str1 + \" \"+ str2) # we use \"+\" operator for contenation"
      ],
      "metadata": {
        "colab": {
          "base_uri": "https://localhost:8080/"
        },
        "id": "zyopCzcDE0kk",
        "outputId": "e08a10d4-61c2-445b-ab02-06078c336b49"
      },
      "execution_count": null,
      "outputs": [
        {
          "output_type": "stream",
          "name": "stdout",
          "text": [
            "11\n",
            "hello guys\n"
          ]
        }
      ]
    },
    {
      "cell_type": "code",
      "source": [
        "# function polymorphism \n",
        "# len()\n",
        "\n",
        "print(len(\"student\"))\n",
        "print(len([1,4,6,7,9]))\n",
        "print(len({\"name\":\"ankit\",\"fruits\":\"apple\"}))"
      ],
      "metadata": {
        "colab": {
          "base_uri": "https://localhost:8080/"
        },
        "id": "Hriif0wWHwP7",
        "outputId": "046fed9b-db13-4d15-a71c-f5eafde5ccfd"
      },
      "execution_count": null,
      "outputs": [
        {
          "output_type": "stream",
          "name": "stdout",
          "text": [
            "7\n",
            "5\n",
            "2\n"
          ]
        }
      ]
    },
    {
      "cell_type": "code",
      "source": [
        "#len() -> str -> length of string\n",
        "# len() -> list -> number of items\n",
        "# len() -> dict -> number of keys"
      ],
      "metadata": {
        "id": "eMedYA6VJFxI"
      },
      "execution_count": null,
      "outputs": []
    },
    {
      "cell_type": "code",
      "source": [
        "# class polymorphism \n",
        "class cat:\n",
        "  def __init__(self,name ,colour):\n",
        "    self.name=name\n",
        "    self.colour=colour\n",
        "\n",
        "  def info(self):\n",
        "    print(f\"It is a cat. Its name is {self.name} . Its colour is {self.colour}\")\n",
        "\n",
        "  def sound(self):\n",
        "    print(\"meow\")\n",
        "\n",
        "class Dog:\n",
        "  def __init__(self,name,colour):\n",
        "    self.name=name\n",
        "    self.colour=colour\n",
        "\n",
        "  def info(self):\n",
        "    print(f\"It is a Dog. Its name is {self.name} . Its colour is {self.colour}\") \n",
        "\n",
        "  def sound(self):\n",
        "    print(\"bark\")  \n",
        "\n",
        "cat1=cat(\"kitty\",\"black\")\n",
        "Dog1=Dog(\"Lion\",\"white\")\n",
        "\n",
        "for animal in (cat1,Dog1):\n",
        "  animal.sound()\n",
        "  animal.info()\n",
        "  "
      ],
      "metadata": {
        "colab": {
          "base_uri": "https://localhost:8080/"
        },
        "id": "BlyN-Dm6JgdP",
        "outputId": "6ad45707-0e65-4c63-d27e-c599f018b219"
      },
      "execution_count": null,
      "outputs": [
        {
          "output_type": "stream",
          "name": "stdout",
          "text": [
            "meow\n",
            "It is a cat. Its name is kitty . Its colour is black\n",
            "bark\n",
            "It is a Dog. Its name is Lion . Its colour is white\n"
          ]
        }
      ]
    },
    {
      "cell_type": "code",
      "source": [
        "# in polymorphism -> method -> method overiding / method overloading , python supports method overiding\n",
        "# method overiding -> in which a child class redefine its parent class\n",
        "\n",
        "from math import pi\n",
        "class shape:\n",
        "  def __init__(self,name):\n",
        "    self.name=name\n",
        "\n",
        "  def area(self):\n",
        "    pass\n",
        "\n",
        "  def fact(self):\n",
        "    return \"two dimensional shape\"\n",
        "\n",
        "  def __str__(self):\n",
        "    return self.name\n",
        "\n",
        "class Square(shape):\n",
        "  def __init__(self,length):\n",
        "    super().__init__(\"Square\") \n",
        "    self.length=length \n",
        "\n",
        "  def area(self):\n",
        "    return self.length**2\n",
        "\n",
        "  def fact(self):\n",
        "    return \"square have each angle at 90 degree\"\n",
        "\n",
        "class Circle(shape):\n",
        "  def __init__(self,radius):\n",
        "    super().__init__(\"Circle\")\n",
        "    self.radius=radius \n",
        "\n",
        "  def area(self):\n",
        "    return pi*self.radius**2\n",
        "\n",
        "a=Square(4)\n",
        "b=Circle(6)\n",
        "print(b)\n",
        "print(b.fact())\n",
        "print(a.fact())\n",
        "print(b.area())               \n"
      ],
      "metadata": {
        "colab": {
          "base_uri": "https://localhost:8080/"
        },
        "id": "cPqoWTikMS8A",
        "outputId": "bafe44c8-d70e-481f-8696-49a55f1333cc"
      },
      "execution_count": null,
      "outputs": [
        {
          "output_type": "stream",
          "name": "stdout",
          "text": [
            "Circle\n",
            "two dimensional shape\n",
            "square have each angle at 90 degree\n",
            "113.09733552923255\n"
          ]
        }
      ]
    },
    {
      "cell_type": "code",
      "source": [
        "# method overloading : a way to create multiple methods with the same name but different arguments, is not possible in python"
      ],
      "metadata": {
        "id": "wJZ7XW_yQbgQ"
      },
      "execution_count": null,
      "outputs": []
    },
    {
      "cell_type": "code",
      "source": [
        "#Abstraction -> is a process of defining abstract class\n",
        "# it is defined as a process of handling complexity by hiding unnecessary information from the user.\n",
        "# abstraction can be achieved by having/ using abstract classes and methods in our programs\n",
        "# python provides the \"abc\" module to use the abstraction in the python\n",
        "#syntax:\n",
        "#from abc import ABC,\n",
        "#class ClassName(ABC):\n",
        "\n",
        "from abc import ABC,abstractmethod\n",
        "class Car(ABC):\n",
        "  def mileage(self):\n",
        "    pass\n",
        "class tesla(Car):\n",
        "  def mileage(self):\n",
        "    print(\"50 kmph\")\n",
        "\n",
        "t=tesla()\n",
        "t.mileage()        \n",
        "  "
      ],
      "metadata": {
        "colab": {
          "base_uri": "https://localhost:8080/"
        },
        "id": "OMERFQfqRBUs",
        "outputId": "861c633b-bb5c-4739-d6e6-a11758ea5fbd"
      },
      "execution_count": null,
      "outputs": [
        {
          "output_type": "stream",
          "name": "stdout",
          "text": [
            "50 kmph\n"
          ]
        }
      ]
    },
    {
      "cell_type": "code",
      "source": [
        "# Error and exception in python :\n",
        "# errors are the problems in a program due to which the program will stop execution.\n",
        "#exceptions are raised when some internal events occur which change the normal flow of the program.\n",
        "\n",
        "# two types of error in python\n",
        "#> syntax error\n",
        "#> Exception\n",
        "\n",
        "# synatx error :\n",
        "# when the proper  syntax of the language is not followed then as syntax error is thrown \n",
        "#var=5\n",
        "#if(var>4) # error is raised because we missing a colon \n",
        "#   print(\"hello\")"
      ],
      "metadata": {
        "id": "DAhflvC-O7ut"
      },
      "execution_count": null,
      "outputs": []
    },
    {
      "cell_type": "code",
      "source": [
        "# Exception :> when in the runtime an error that occurs after passing the syntax test is called exception.\n",
        "#a=6\n",
        "#var=a/0  # it show a zerodivision error\n",
        "#print(var)"
      ],
      "metadata": {
        "id": "nqUMNqkFRUU4"
      },
      "execution_count": null,
      "outputs": []
    },
    {
      "cell_type": "code",
      "source": [
        "#a=2\n",
        "#if(a>1):\n",
        "#print(\"hello\")  # identation error\n"
      ],
      "metadata": {
        "id": "j-KVKtKZSpOu"
      },
      "execution_count": null,
      "outputs": []
    },
    {
      "cell_type": "code",
      "source": [
        "# Exception handling in python\n",
        "# try and except statement -> catching exception \n",
        "# try and except statements are used to catch and handle exception \n",
        "# statements that can raise exception are kept inside the try clause and the statments that handles the exception are written inside the except clause\n",
        "a=[2,3,6]\n",
        "try: \n",
        "  print(\"second element\", a[1])\n",
        "  print(\"forth element\",a[3])\n",
        "except:\n",
        "  print(\"an error occured\")  "
      ],
      "metadata": {
        "colab": {
          "base_uri": "https://localhost:8080/"
        },
        "id": "MuFdR5h6TgTk",
        "outputId": "83b2a812-6570-4cd2-8a5f-54c971b49ae8"
      },
      "execution_count": null,
      "outputs": [
        {
          "output_type": "stream",
          "name": "stdout",
          "text": [
            "second element 3\n",
            "an error occured\n"
          ]
        }
      ]
    },
    {
      "cell_type": "code",
      "source": [
        "#a=[1,2,3]\n",
        "#print(a[3]) ->index error"
      ],
      "metadata": {
        "id": "8UNYAFp6VOsL"
      },
      "execution_count": null,
      "outputs": []
    },
    {
      "cell_type": "code",
      "source": [
        "def div1(a,b):\n",
        "  try:\n",
        "    c=((a+b)/(a-b))\n",
        "  except ZeroDivisionError:\n",
        "    print(\"a/b result in 0\")\n",
        "  else:\n",
        "    print(c)\n",
        "div1(2.0,3.0)\n",
        "div1(3.0,3.0)    \n"
      ],
      "metadata": {
        "colab": {
          "base_uri": "https://localhost:8080/"
        },
        "id": "0QxiyLuNV_AC",
        "outputId": "c46edc4e-557e-43cd-865a-b8ed09d2aec7"
      },
      "execution_count": null,
      "outputs": [
        {
          "output_type": "stream",
          "name": "stdout",
          "text": [
            "-5.0\n",
            "a/b result in 0\n"
          ]
        }
      ]
    },
    {
      "cell_type": "code",
      "source": [
        "# finally > which is always executed after the try and except blocks\n",
        "#syntax:\n",
        "#try:\n",
        "# some code....\n",
        "#except:\n",
        "#  optional block\n",
        "#  handling of exception\n",
        "#else:\n",
        "#  execute if no exception\n",
        "#finally:\n",
        "#   # some code...(always executed)\n",
        "try:\n",
        "  k=5//0\n",
        "  print(k)\n",
        "except:\n",
        "  print(\"cant divide by zero\")  \n",
        "finally:\n",
        "  print(\"always executed\")  "
      ],
      "metadata": {
        "colab": {
          "base_uri": "https://localhost:8080/"
        },
        "id": "zIKxp7W4W5ud",
        "outputId": "386ac97a-5cdc-41df-b750-46f0aa759292"
      },
      "execution_count": null,
      "outputs": [
        {
          "output_type": "stream",
          "name": "stdout",
          "text": [
            "cant divide by zero\n",
            "always executed\n"
          ]
        }
      ]
    },
    {
      "cell_type": "code",
      "source": [
        "#file handling\n",
        "#> open() function \n",
        "#f=open(filename,mode)\n",
        "#mode -> \n",
        "# r: open an existing file for  read operation\n",
        "# w: open an existing file for write operation , If the file already contains some data then it will be overridden but if the file is not present \n",
        "#     then it create a file as well\n",
        "# a: open an existing file for append operation, it won't override existing data.\n",
        "#r+ : to read and write data into the file, the previous data in the file will be overridden\n",
        "#w+ :to write and read data, it will override existing data\n",
        "#a+ : to append and read data from the file , it won't override existing data."
      ],
      "metadata": {
        "id": "NaVh-2SYvcPA"
      },
      "execution_count": null,
      "outputs": []
    },
    {
      "cell_type": "code",
      "source": [
        "file=open(\"/content/python.txt\",'r')\n",
        "for each in file:\n",
        "  print(each)"
      ],
      "metadata": {
        "colab": {
          "base_uri": "https://localhost:8080/"
        },
        "id": "A19kIr8S6Dul",
        "outputId": "39a83f5f-edfa-40ae-fe2f-3518146e2ed7"
      },
      "execution_count": null,
      "outputs": [
        {
          "output_type": "stream",
          "name": "stdout",
          "text": [
            "Hello everyone , \n",
            "\n",
            "how are you? \n"
          ]
        }
      ]
    },
    {
      "cell_type": "code",
      "source": [
        "file=open(\"/content/python.txt\",\"r\")\n",
        "print(file.read())"
      ],
      "metadata": {
        "colab": {
          "base_uri": "https://localhost:8080/"
        },
        "id": "AR3cUkD96iWH",
        "outputId": "02907681-c10a-4acc-f07e-ea776ec254bb"
      },
      "execution_count": null,
      "outputs": [
        {
          "output_type": "stream",
          "name": "stdout",
          "text": [
            "Hello everyone , \n",
            "how are you? \n"
          ]
        }
      ]
    },
    {
      "cell_type": "code",
      "source": [
        "file =open(\"/content/python.txt\",\"r\")\n",
        "print(file.read(20))"
      ],
      "metadata": {
        "colab": {
          "base_uri": "https://localhost:8080/"
        },
        "id": "SINJ7Oo163dX",
        "outputId": "a079c888-9a8b-4c98-8684-0547ae91bbad"
      },
      "execution_count": null,
      "outputs": [
        {
          "output_type": "stream",
          "name": "stdout",
          "text": [
            "Hello everyone , \n",
            "ho\n"
          ]
        }
      ]
    },
    {
      "cell_type": "code",
      "source": [
        "file=open(\"/content/python.txt\",\"w\")\n",
        "file.write(\"Python is a programming language\")\n",
        "file.write(\"My name is Ankit\")\n",
        "file.close()"
      ],
      "metadata": {
        "id": "kC2Z-qvj7Tkg"
      },
      "execution_count": null,
      "outputs": []
    },
    {
      "cell_type": "code",
      "source": [
        "file=open(\"/content/python.txt\",\"r\")\n",
        "print(file.read())"
      ],
      "metadata": {
        "colab": {
          "base_uri": "https://localhost:8080/"
        },
        "id": "azImFLV472zy",
        "outputId": "515ff328-a49c-446f-b76a-bce424937aa5"
      },
      "execution_count": null,
      "outputs": [
        {
          "output_type": "stream",
          "name": "stdout",
          "text": [
            "Python is a programming languageMy name is Ankit\n"
          ]
        }
      ]
    },
    {
      "cell_type": "code",
      "source": [
        "file=open(\"/content/python.txt\",\"a\")\n",
        "file.write(\"work hard until you achieve yours dreams\")\n",
        "file.close()"
      ],
      "metadata": {
        "id": "CCLD0kD08klm"
      },
      "execution_count": null,
      "outputs": []
    },
    {
      "cell_type": "code",
      "source": [
        "file=open(\"/content/python.txt\",\"r\")\n",
        "print(file.read())"
      ],
      "metadata": {
        "colab": {
          "base_uri": "https://localhost:8080/"
        },
        "id": "T0CZcHK-82mD",
        "outputId": "b5c6b98f-434a-47bf-d605-7d98404da313"
      },
      "execution_count": null,
      "outputs": [
        {
          "output_type": "stream",
          "name": "stdout",
          "text": [
            "Python is a programming languageMy name is Ankitwork hard until you achieve yours dreams\n"
          ]
        }
      ]
    },
    {
      "cell_type": "code",
      "source": [
        "# module -> python module is a file containing python definition and statement\n",
        "'''\n",
        "def add(x,y):\n",
        "  return (x+y)\n",
        "\n",
        "def subtract(x,y):\n",
        "  return (x-y)\n",
        "'''\n",
        "#calc.py\n",
        "# import module\n",
        "# import calc\n",
        "# print(calc.add(2,3))\n",
        "\n",
        "# from -import \n",
        "from math import sqrt, factorial \n",
        "print(sqrt(144))\n",
        "print(factorial(6))"
      ],
      "metadata": {
        "colab": {
          "base_uri": "https://localhost:8080/"
        },
        "id": "NNEqqtFx9tDu",
        "outputId": "04db677a-1384-4dc0-d501-63da9fd3c027"
      },
      "execution_count": null,
      "outputs": [
        {
          "output_type": "stream",
          "name": "stdout",
          "text": [
            "12.0\n",
            "720\n"
          ]
        }
      ]
    },
    {
      "cell_type": "code",
      "source": [],
      "metadata": {
        "id": "nH7rl_XeCGP1"
      },
      "execution_count": null,
      "outputs": []
    },
    {
      "cell_type": "code",
      "source": [
        "from math import *\n",
        "print(sqrt(16))\n",
        "print(factorial(4))"
      ],
      "metadata": {
        "colab": {
          "base_uri": "https://localhost:8080/"
        },
        "id": "fkb3PZ7MBsDU",
        "outputId": "b3555b89-5b4b-4524-ec31-b4a1f5febc0d"
      },
      "execution_count": null,
      "outputs": [
        {
          "output_type": "stream",
          "name": "stdout",
          "text": [
            "4.0\n",
            "24\n"
          ]
        }
      ]
    },
    {
      "cell_type": "code",
      "source": [
        "import math as mt # alice\n",
        "print(mt.sqrt(16))"
      ],
      "metadata": {
        "colab": {
          "base_uri": "https://localhost:8080/"
        },
        "id": "k1CD_G5WCHpJ",
        "outputId": "42278ac1-0bb7-4a1b-d990-8bdbbe6e724f"
      },
      "execution_count": null,
      "outputs": [
        {
          "output_type": "stream",
          "name": "stdout",
          "text": [
            "4.0\n"
          ]
        }
      ]
    },
    {
      "cell_type": "code",
      "source": [],
      "metadata": {
        "id": "haVf3RE7DcYN"
      },
      "execution_count": null,
      "outputs": []
    },
    {
      "cell_type": "code",
      "source": [
        "import random\n",
        "print(random.randint(0,5)) # print random integer\n",
        "print(random.random()) # print floating number from 0 to 1\n",
        "print(random.random()*100) #random number btw 0 and 100"
      ],
      "metadata": {
        "colab": {
          "base_uri": "https://localhost:8080/"
        },
        "id": "Gmeb3Zl3Dcqx",
        "outputId": "0c3e24d9-5d30-4199-d807-d9125d2d0429"
      },
      "execution_count": null,
      "outputs": [
        {
          "output_type": "stream",
          "name": "stdout",
          "text": [
            "5\n",
            "0.6054636221807268\n",
            "87.14024167965331\n"
          ]
        }
      ]
    },
    {
      "cell_type": "code",
      "source": [
        "from datetime import date\n",
        "my_date=date(2022,11,6)\n",
        "print(my_date)"
      ],
      "metadata": {
        "colab": {
          "base_uri": "https://localhost:8080/"
        },
        "id": "zpA9pus1Ett-",
        "outputId": "01f31740-e94b-41b5-aa63-7f3068f3b97d"
      },
      "execution_count": null,
      "outputs": [
        {
          "output_type": "stream",
          "name": "stdout",
          "text": [
            "2022-11-06\n"
          ]
        }
      ]
    },
    {
      "cell_type": "code",
      "source": [
        "from datetime import date\n",
        "today=date.today()\n",
        "print(today)"
      ],
      "metadata": {
        "colab": {
          "base_uri": "https://localhost:8080/"
        },
        "id": "1ZkSOcPOFBwz",
        "outputId": "4a825200-45ae-4c9e-b8a9-eb71c83738b1"
      },
      "execution_count": null,
      "outputs": [
        {
          "output_type": "stream",
          "name": "stdout",
          "text": [
            "2022-11-29\n"
          ]
        }
      ]
    },
    {
      "cell_type": "code",
      "source": [
        "# namespace -> is a system that has a unique name for each and every object in python.\n",
        "# types of namespace -> built in namespace , global namespace , local namespace "
      ],
      "metadata": {
        "id": "ktDBx5-lFggi"
      },
      "execution_count": null,
      "outputs": []
    },
    {
      "cell_type": "code",
      "source": [
        "# Decorators -> decorator takes in function , adds some functionality and returns it\n",
        "def smart_divide(fun):\n",
        "  def inner(a,b):\n",
        "    print(\"i am going to divide \",a,\"and\",b)\n",
        "    if b==0:\n",
        "      print(\"cannot divide\")\n",
        "      return\n",
        "    return fun(a,b)\n",
        "  return inner\n",
        "@smart_divide \n",
        "def divide(a,b):\n",
        "  print(a/b) \n",
        "\n",
        "divide(2,0)\n",
        "\n"
      ],
      "metadata": {
        "colab": {
          "base_uri": "https://localhost:8080/"
        },
        "id": "uhdjv2gtHiKw",
        "outputId": "f58e68a6-c87f-4ba8-c25c-baf6c8b30868"
      },
      "execution_count": null,
      "outputs": [
        {
          "output_type": "stream",
          "name": "stdout",
          "text": [
            "i am going to divide  2 and 0\n",
            "cannot divide\n"
          ]
        }
      ]
    },
    {
      "cell_type": "code",
      "source": [
        "# simple calculator\n",
        "def add(x,y):\n",
        "  return x+y\n",
        "def sub(x,y):\n",
        "  return x-y \n",
        "def mul(x,y):\n",
        "  return x*y\n",
        "def divide(x,y):\n",
        "  return x/y\n",
        "\n",
        "print(\"Select Option/Operation:\")\n",
        "print(\"1-Add\")\n",
        "print(\"2-Sub\")\n",
        "print(\"3-Mul\")\n",
        "print(\"4-divide\")\n",
        "while True:\n",
        "  choice = input(\"enter the choice(1/2/3/4):\") \n",
        "  if choice in ('1','2','3','4'):\n",
        "    num1=float(input(\"enter the first number:\"))\n",
        "    num2=float(input(\"enter the second number:\"))\n",
        "\n",
        "    if choice =='1':\n",
        "      print(num1,\"+\",num2,\"=\",add(num1,num2)) \n",
        "    elif choice =='2':\n",
        "      print(num1,\"-\",num2,\"=\",sub(num1,num2))\n",
        "    elif choice == '3':\n",
        "      print(num1,\"*\",num2,\"=\",mul(num1,num2))\n",
        "    elif choice =='4':\n",
        "      print(num1,\"/\",num2,\"=\",divide(num1,num2))\n",
        "\n",
        "    next_calculation= input(\"do next calculation?(yes/no):\")\n",
        "    if next_calculation==\"no\":\n",
        "      break\n",
        "\n",
        "  else:\n",
        "    print(\"invalid input\")\n",
        "\n",
        "\n"
      ],
      "metadata": {
        "colab": {
          "base_uri": "https://localhost:8080/"
        },
        "id": "kHQs628UCkTV",
        "outputId": "5a3e1239-4fc0-41bf-caa3-1f981d29313f"
      },
      "execution_count": null,
      "outputs": [
        {
          "name": "stdout",
          "output_type": "stream",
          "text": [
            "Select Option/Operation:\n",
            "1-Add\n",
            "2-Sub\n",
            "3-Mul\n",
            "4-divide\n",
            "enter the choice(1/2/3/4):2\n",
            "enter the first number:5\n",
            "enter the second number:4\n",
            "5.0 - 4.0 = 1.0\n",
            "do next calculation?(yes/no):yes\n",
            "enter the choice(1/2/3/4):3\n",
            "enter the first number:4\n",
            "enter the second number:5\n",
            "4.0 * 5.0 = 20.0\n",
            "do next calculation?(yes/no):no\n"
          ]
        }
      ]
    },
    {
      "cell_type": "code",
      "source": [
        "#Game-(Rock , paper , scissor)\n",
        "import random\n",
        "choices=[\"Rock\",\"Paper\",\"Scissor\"]\n",
        "computer=random.choice(choices)\n",
        "player = False\n",
        "cpu_score=0\n",
        "player_score=0\n",
        "while True:\n",
        "  player=input(\"Rock , Paper or Scissor\").capitalize()\n",
        "  if player==computer:\n",
        "    print(\"Tie\")\n",
        "  elif player==\"Rock\":\n",
        "    if computer==\"Paper\":\n",
        "      print(\"You lose\")\n",
        "      cpu_score+=1\n",
        "    else:\n",
        "      print(\"you win\")\n",
        "      player_score+=1\n",
        "\n",
        "  elif player==\"Scissor\" :\n",
        "    if computer==\"Rock\":\n",
        "      print(\"You lose\")\n",
        "      cpu_score+=1\n",
        "    else:\n",
        "      print(\"You win\")\n",
        "      player_score+=1\n",
        "  elif player==\"Paper\":\n",
        "    if computer==\"Scissor\":\n",
        "      print(\"you lose\")\n",
        "      cpu_score+=1\n",
        "    else:\n",
        "      print(\"You win\")\n",
        "      player_score+=1\n",
        "\n",
        "  elif player==\"End\":\n",
        "    print(\"Score:\")\n",
        "    print(f\"CPU:{cpu_score}\")\n",
        "    print(f\"Player:{player_score}\")\n",
        "    break            \n",
        "\n"
      ],
      "metadata": {
        "colab": {
          "base_uri": "https://localhost:8080/"
        },
        "id": "vlBauIfNMDPc",
        "outputId": "3a6726fe-b4da-46a6-a9c6-a502bb112f02"
      },
      "execution_count": null,
      "outputs": [
        {
          "output_type": "stream",
          "name": "stdout",
          "text": [
            "Rock , Paper or Scissorrock\n",
            "you win\n",
            "Rock , Paper or Scissorpaper\n",
            "you lose\n",
            "Rock , Paper or Scissorscissor\n",
            "Tie\n",
            "Rock , Paper or Scissorrock\n",
            "you win\n",
            "Rock , Paper or Scissorpaper\n",
            "you lose\n",
            "Rock , Paper or Scissorpaper\n",
            "you lose\n",
            "Rock , Paper or Scissorrock\n",
            "you win\n",
            "Rock , Paper or ScissorEnd\n",
            "Score:\n",
            "CPU:3\n",
            "Player:3\n"
          ]
        }
      ]
    },
    {
      "cell_type": "code",
      "source": [
        "# Palindrome -> 121 , Madam \n",
        "string=input((\"Enter a letter:\"))\n",
        "if (string ==string[::-1]):\n",
        "  print(\"palindrome\")\n",
        "else:\n",
        "  print(\"not palindrome\")  "
      ],
      "metadata": {
        "colab": {
          "base_uri": "https://localhost:8080/"
        },
        "id": "uXTcrNg1ROeV",
        "outputId": "07ff0f9c-ab00-4a04-9d90-ce69c38db71f"
      },
      "execution_count": null,
      "outputs": [
        {
          "output_type": "stream",
          "name": "stdout",
          "text": [
            "Enter a letter:dad\n",
            "palindrome\n"
          ]
        }
      ]
    },
    {
      "cell_type": "code",
      "source": [
        "num=int(input(\"enter a value:\"))\n",
        "temp=num\n",
        "rev=0\n",
        "while(num>0):\n",
        "  digit=num%10\n",
        "  rev=rev*10 + digit\n",
        "  num=num//10\n",
        "if(temp==rev):\n",
        "  print(\"palindrome\")\n",
        "else:\n",
        "  print(\"not a plaindrome\")  \n"
      ],
      "metadata": {
        "colab": {
          "base_uri": "https://localhost:8080/"
        },
        "id": "6dqL1gePSVgg",
        "outputId": "8bff003f-51ed-467c-fc75-679b98b5304c"
      },
      "execution_count": null,
      "outputs": [
        {
          "output_type": "stream",
          "name": "stdout",
          "text": [
            "enter a value:212\n",
            "palindrome\n"
          ]
        }
      ]
    },
    {
      "cell_type": "code",
      "source": [
        "#calculate the length of string\n",
        "str=\"beautiful\"\n",
        "print(len(str))"
      ],
      "metadata": {
        "colab": {
          "base_uri": "https://localhost:8080/"
        },
        "id": "NLw-DjLOb2J9",
        "outputId": "b0f48ed2-1aa6-4b79-8463-46593eb43677"
      },
      "execution_count": null,
      "outputs": [
        {
          "output_type": "stream",
          "name": "stdout",
          "text": [
            "9\n"
          ]
        }
      ]
    },
    {
      "cell_type": "code",
      "source": [
        "def str_len(str):\n",
        "  counter=0\n",
        "  for char in str:\n",
        "    counter+=1\n",
        "  return counter\n",
        "print(str_len(\"information\"))     "
      ],
      "metadata": {
        "colab": {
          "base_uri": "https://localhost:8080/"
        },
        "id": "ZAAZgUEicRRw",
        "outputId": "dba95e8e-f433-4b23-ed7f-aec3b3ef178c"
      },
      "execution_count": null,
      "outputs": [
        {
          "output_type": "stream",
          "name": "stdout",
          "text": [
            "11\n"
          ]
        }
      ]
    },
    {
      "cell_type": "code",
      "source": [
        "# wap to count the number of characters(charcater frequency) in a string -> python -> p-1,y-1....\n",
        "def char_freq(str):\n",
        "  dict={}\n",
        "  for n in str:\n",
        "    keys=dict.keys()\n",
        "    if n in keys:\n",
        "      dict[n]+=1\n",
        "    else:\n",
        "      dict[n]=1\n",
        "  return dict \n",
        "\n",
        "print(char_freq(\"mountains\"))       "
      ],
      "metadata": {
        "colab": {
          "base_uri": "https://localhost:8080/"
        },
        "id": "WsqQQQHudADm",
        "outputId": "4c30dc34-fba5-498f-90a7-8cd9b044afcf"
      },
      "execution_count": null,
      "outputs": [
        {
          "output_type": "stream",
          "name": "stdout",
          "text": [
            "{'m': 1, 'o': 1, 'u': 1, 'n': 2, 't': 1, 'a': 1, 'i': 1, 's': 1}\n"
          ]
        }
      ]
    },
    {
      "cell_type": "code",
      "source": [
        "# program to get a string from a given string where  all occurence of its first char have been changed to \"@\" except the first char itself\n",
        "def change(str):\n",
        "  char=str[0]\n",
        "  length=len(str)\n",
        "  str=str.replace(char,\"@\")\n",
        "  str=char + str[1:]\n",
        "\n",
        "  return str\n",
        "print(change(\"aeroplane\")) \n",
        "print(change(\"eroplane\")) "
      ],
      "metadata": {
        "colab": {
          "base_uri": "https://localhost:8080/"
        },
        "id": "0LuPVoV0fU2Z",
        "outputId": "893bc217-2deb-4c31-97a4-404e55a381d4"
      },
      "execution_count": null,
      "outputs": [
        {
          "output_type": "stream",
          "name": "stdout",
          "text": [
            "aeropl@ne\n",
            "eroplan@\n"
          ]
        }
      ]
    },
    {
      "cell_type": "code",
      "source": [
        "# wap to remove the character which are at the odd indexes value of a string \n",
        "def even_string(str):\n",
        "  ans=\"\"\n",
        "  for i in range(len(str)):\n",
        "    if i%2==0:\n",
        "      ans=ans + str[i]\n",
        "  return ans\n",
        "print(even_string(\"programming\"))      "
      ],
      "metadata": {
        "colab": {
          "base_uri": "https://localhost:8080/"
        },
        "id": "J2vgd0T-iabN",
        "outputId": "e72fe769-1992-4fbb-9648-6608453473ac"
      },
      "execution_count": null,
      "outputs": [
        {
          "output_type": "stream",
          "name": "stdout",
          "text": [
            "pormig\n"
          ]
        }
      ]
    }
  ]
}