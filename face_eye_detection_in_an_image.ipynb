{
  "cells": [
    {
      "cell_type": "markdown",
      "metadata": {
        "id": "view-in-github",
        "colab_type": "text"
      },
      "source": [
        "<a href=\"https://colab.research.google.com/github/ankit6102001/Python-Machine-learning-Deep-learning/blob/main/face_eye_detection_in_an_image.ipynb\" target=\"_parent\"><img src=\"https://colab.research.google.com/assets/colab-badge.svg\" alt=\"Open In Colab\"/></a>"
      ]
    },
    {
      "cell_type": "code",
      "execution_count": null,
      "id": "21fd19bd-874e-48d0-95b4-175a53e22349",
      "metadata": {
        "id": "21fd19bd-874e-48d0-95b4-175a53e22349"
      },
      "outputs": [],
      "source": [
        "import cv2"
      ]
    },
    {
      "cell_type": "code",
      "execution_count": null,
      "id": "b7856946-8650-48ae-9f97-cdbbc883bf57",
      "metadata": {
        "id": "b7856946-8650-48ae-9f97-cdbbc883bf57"
      },
      "outputs": [],
      "source": [
        "img=cv2.imread(\"d:/images/sachin.jpg\")\n",
        "cv2.rectangle(img,(150,150),(350,350),(0,0,255),2)#image,(x1,y1),(x2,y2),color,thickness\n",
        "cv2.rectangle(img,(180,120,150,120),(0,0,255),2)#image,(x1,y1,w,h),.......\n",
        "#cv2.rectangle(img,(150,150),(350,350),(0,0,255),-1)\n",
        "cv2.putText(img,\"Sachin\",(50,100),cv2.FONT_HERSHEY_PLAIN,3,(255,255,255),3)\n",
        "cv2.imshow(\"image\",img)\n",
        "cv2.waitKey()\n",
        "cv2.destroyAllWindows()"
      ]
    },
    {
      "cell_type": "code",
      "execution_count": null,
      "id": "72655328-0520-48ed-9528-e825daeebf27",
      "metadata": {
        "id": "72655328-0520-48ed-9528-e825daeebf27"
      },
      "outputs": [],
      "source": [
        "faceModel=cv2.CascadeClassifier(\"d:/dataset/haar/haarcascade_frontalface_default.xml\")\n",
        "img=cv2.imread(\"d:/images/cricketers/sachin.jpg\")\n",
        "gray=cv2.cvtColor(img,cv2.COLOR_BGR2GRAY)\n",
        "faces=faceModel.detectMultiScale(gray,maxSize=(200,150),minNeighbors=5,scaleFactor=1.2)\n",
        "for x,y,w,h in faces:\n",
        "    cv2.rectangle(img,(x,y,w,h),(0,0,255),2)\n",
        "cv2.imshow(\"iamge\",img)\n",
        "cv2.waitKey()\n",
        "cv2.destroyAllWindows()"
      ]
    },
    {
      "cell_type": "code",
      "execution_count": null,
      "id": "dd282065-52f7-4066-8f66-32100dba5f9e",
      "metadata": {
        "id": "dd282065-52f7-4066-8f66-32100dba5f9e"
      },
      "outputs": [],
      "source": [
        "faceModel=cv2.CascadeClassifier(\"d:/dataset/haar/haarcascade_frontalface_default.xml\")\n",
        "eyesModel=cv2.CascadeClassifier(\"d:/dataset/haar/haarcascade_eye.xml\")\n",
        "img=cv2.imread(\"d:/images/cricketers/dhoni.jpg\")\n",
        "gray=cv2.cvtColor(img,cv2.COLOR_BGR2GRAY)\n",
        "faces=faceModel.detectMultiScale(gray,maxSize=(200,150),minNeighbors=5,scaleFactor=1.2)\n",
        "\n",
        "for x,y,w,h in faces:\n",
        "    cv2.rectangle(img,(x,y,w,h),(0,0,255),2)\n",
        "    face=gray[y:y+h,x:x+w]\n",
        "    eyes=eyesModel.detectMultiScale(face,maxSize=(50,30))\n",
        "\n",
        "    for ex,ey,ew,eh in eyes:\n",
        "        cv2.rectangle(img,(x+ex,y+ey,ew,eh),(255,0,0),2)\n",
        "\n",
        "cv2.imshow(\"iamge\",img)\n",
        "cv2.waitKey()\n",
        "cv2.destroyAllWindows()"
      ]
    },
    {
      "cell_type": "code",
      "execution_count": null,
      "id": "eabcb3b0-ca8a-436d-88fc-de93bd0a5231",
      "metadata": {
        "id": "eabcb3b0-ca8a-436d-88fc-de93bd0a5231"
      },
      "outputs": [],
      "source": [
        ""
      ]
    }
  ],
  "metadata": {
    "kernelspec": {
      "display_name": "Python 3 (ipykernel)",
      "language": "python",
      "name": "python3"
    },
    "language_info": {
      "codemirror_mode": {
        "name": "ipython",
        "version": 3
      },
      "file_extension": ".py",
      "mimetype": "text/x-python",
      "name": "python",
      "nbconvert_exporter": "python",
      "pygments_lexer": "ipython3",
      "version": "3.9.7"
    },
    "colab": {
      "name": "face_eye_detection_in_an_image.ipynb",
      "provenance": [],
      "include_colab_link": true
    }
  },
  "nbformat": 4,
  "nbformat_minor": 5
}