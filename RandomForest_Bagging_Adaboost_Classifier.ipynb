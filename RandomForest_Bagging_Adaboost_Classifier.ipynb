{
  "cells": [
    {
      "cell_type": "markdown",
      "metadata": {
        "id": "view-in-github",
        "colab_type": "text"
      },
      "source": [
        "<a href=\"https://colab.research.google.com/github/ankit6102001/Python-Machine-learning-Deep-learning/blob/main/RandomForest_Bagging_Adaboost_Classifier.ipynb\" target=\"_parent\"><img src=\"https://colab.research.google.com/assets/colab-badge.svg\" alt=\"Open In Colab\"/></a>"
      ]
    },
    {
      "cell_type": "code",
      "execution_count": null,
      "id": "9127403d-e7ea-415b-b643-6b5e89491eff",
      "metadata": {
        "id": "9127403d-e7ea-415b-b643-6b5e89491eff"
      },
      "outputs": [],
      "source": [
        "import pandas as pd\n",
        "from sklearn.ensemble import RandomForestClassifier,BaggingClassifier,AdaBoostClassifier\n",
        "from sklearn.neighbors import KNeighborsClassifier\n",
        "from sklearn.linear_model import LogisticRegression"
      ]
    },
    {
      "cell_type": "code",
      "execution_count": null,
      "id": "11c062f0-18c6-45fa-a9a9-831f81544a19",
      "metadata": {
        "id": "11c062f0-18c6-45fa-a9a9-831f81544a19"
      },
      "outputs": [],
      "source": [
        "df=pd.read_csv(\"d:/dataset/classification/iris.csv\")\n",
        "X=df.iloc[:,:-1].values\n",
        "y=df.iloc[:,-1].values"
      ]
    },
    {
      "cell_type": "code",
      "execution_count": null,
      "id": "831ce523-0cc9-40db-a050-5b73bd3de1bb",
      "metadata": {
        "id": "831ce523-0cc9-40db-a050-5b73bd3de1bb",
        "outputId": "30951bab-56ec-4ff6-908c-319445f8eeba"
      },
      "outputs": [
        {
          "name": "stdout",
          "output_type": "stream",
          "text": [
            "[1]\n",
            "[[0.2 0.8 0. ]]\n"
          ]
        }
      ],
      "source": [
        "model=RandomForestClassifier(n_estimators=5)\n",
        "model.fit(X,y)\n",
        "sample=[1.9,.5,3.5,.8]\n",
        "print(model.predict([sample]))\n",
        "print(model.predict_proba([sample]))"
      ]
    },
    {
      "cell_type": "code",
      "execution_count": null,
      "id": "87c6fa94-eb99-4a25-b41d-ae009ad00c13",
      "metadata": {
        "id": "87c6fa94-eb99-4a25-b41d-ae009ad00c13",
        "outputId": "2c9bc52b-0d1f-46c6-99b0-c691ab15ffcd"
      },
      "outputs": [
        {
          "name": "stdout",
          "output_type": "stream",
          "text": [
            "[1]\n",
            "[[0.2159121  0.70269522 0.08139269]]\n"
          ]
        }
      ],
      "source": [
        "#weak_model=KNeighborsClassifier()\n",
        "weak_model=LogisticRegression(max_iter=500)\n",
        "model=BaggingClassifier(base_estimator=weak_model,n_estimators=5)\n",
        "model.fit(X,y)\n",
        "sample=[1.9,.5,3.5,.8]\n",
        "print(model.predict([sample]))\n",
        "print(model.predict_proba([sample]))"
      ]
    },
    {
      "cell_type": "code",
      "execution_count": null,
      "id": "56acca38-a0d9-4d7f-a04d-a31ac007c487",
      "metadata": {
        "id": "56acca38-a0d9-4d7f-a04d-a31ac007c487",
        "outputId": "362fc09d-20a1-40be-e8b4-3a4906eb63bd"
      },
      "outputs": [
        {
          "name": "stdout",
          "output_type": "stream",
          "text": [
            "[0]\n",
            "[[9.99999921e-01 5.36767571e-08 2.48518262e-08]]\n"
          ]
        }
      ],
      "source": [
        "model=AdaBoostClassifier(n_estimators=5) #decision tree\n",
        "model.fit(X,y)\n",
        "sample=[1.9,.5,3.5,.8]\n",
        "print(model.predict([sample]))\n",
        "print(model.predict_proba([sample]))"
      ]
    },
    {
      "cell_type": "code",
      "execution_count": null,
      "id": "5425dad4-f71e-4ae7-9825-9b1d4b310445",
      "metadata": {
        "id": "5425dad4-f71e-4ae7-9825-9b1d4b310445",
        "outputId": "e06d82c0-cfe0-4fb0-cc72-c701601eace9"
      },
      "outputs": [
        {
          "name": "stdout",
          "output_type": "stream",
          "text": [
            "[1]\n",
            "[[0.30060387 0.51024779 0.18914834]]\n"
          ]
        }
      ],
      "source": [
        "weak_model=LogisticRegression(max_iter=500)\n",
        "model=AdaBoostClassifier(base_estimator=weak_model,n_estimators=5) \n",
        "model.fit(X,y)\n",
        "sample=[1.9,.5,3.5,.8]\n",
        "print(model.predict([sample]))\n",
        "print(model.predict_proba([sample]))"
      ]
    },
    {
      "cell_type": "code",
      "execution_count": null,
      "id": "8600e34e-2bf6-4b6f-9276-2fb7ab6d5189",
      "metadata": {
        "id": "8600e34e-2bf6-4b6f-9276-2fb7ab6d5189",
        "outputId": "f7b4b78c-f1fc-496e-fcdf-a405f6c50244"
      },
      "outputs": [
        {
          "ename": "ValueError",
          "evalue": "KNeighborsClassifier doesn't support sample_weight.",
          "output_type": "error",
          "traceback": [
            "\u001b[1;31m---------------------------------------------------------------------------\u001b[0m",
            "\u001b[1;31mValueError\u001b[0m                                Traceback (most recent call last)",
            "\u001b[1;32mC:\\Users\\ADITYA~1\\AppData\\Local\\Temp/ipykernel_1576/2184987330.py\u001b[0m in \u001b[0;36m<module>\u001b[1;34m\u001b[0m\n\u001b[0;32m      1\u001b[0m \u001b[0mweak_model\u001b[0m\u001b[1;33m=\u001b[0m\u001b[0mKNeighborsClassifier\u001b[0m\u001b[1;33m(\u001b[0m\u001b[1;33m)\u001b[0m\u001b[1;33m\u001b[0m\u001b[1;33m\u001b[0m\u001b[0m\n\u001b[0;32m      2\u001b[0m \u001b[0mmodel\u001b[0m\u001b[1;33m=\u001b[0m\u001b[0mAdaBoostClassifier\u001b[0m\u001b[1;33m(\u001b[0m\u001b[0mbase_estimator\u001b[0m\u001b[1;33m=\u001b[0m\u001b[0mweak_model\u001b[0m\u001b[1;33m,\u001b[0m\u001b[0mn_estimators\u001b[0m\u001b[1;33m=\u001b[0m\u001b[1;36m5\u001b[0m\u001b[1;33m)\u001b[0m\u001b[1;33m\u001b[0m\u001b[1;33m\u001b[0m\u001b[0m\n\u001b[1;32m----> 3\u001b[1;33m \u001b[0mmodel\u001b[0m\u001b[1;33m.\u001b[0m\u001b[0mfit\u001b[0m\u001b[1;33m(\u001b[0m\u001b[0mX\u001b[0m\u001b[1;33m,\u001b[0m\u001b[0my\u001b[0m\u001b[1;33m)\u001b[0m\u001b[1;33m\u001b[0m\u001b[1;33m\u001b[0m\u001b[0m\n\u001b[0m\u001b[0;32m      4\u001b[0m \u001b[0msample\u001b[0m\u001b[1;33m=\u001b[0m\u001b[1;33m[\u001b[0m\u001b[1;36m1.9\u001b[0m\u001b[1;33m,\u001b[0m\u001b[1;36m.5\u001b[0m\u001b[1;33m,\u001b[0m\u001b[1;36m3.5\u001b[0m\u001b[1;33m,\u001b[0m\u001b[1;36m.8\u001b[0m\u001b[1;33m]\u001b[0m\u001b[1;33m\u001b[0m\u001b[1;33m\u001b[0m\u001b[0m\n\u001b[0;32m      5\u001b[0m \u001b[0mprint\u001b[0m\u001b[1;33m(\u001b[0m\u001b[0mmodel\u001b[0m\u001b[1;33m.\u001b[0m\u001b[0mpredict\u001b[0m\u001b[1;33m(\u001b[0m\u001b[1;33m[\u001b[0m\u001b[0msample\u001b[0m\u001b[1;33m]\u001b[0m\u001b[1;33m)\u001b[0m\u001b[1;33m)\u001b[0m\u001b[1;33m\u001b[0m\u001b[1;33m\u001b[0m\u001b[0m\n",
            "\u001b[1;32m~\\anaconda3\\lib\\site-packages\\sklearn\\ensemble\\_weight_boosting.py\u001b[0m in \u001b[0;36mfit\u001b[1;34m(self, X, y, sample_weight)\u001b[0m\n\u001b[0;32m    484\u001b[0m \u001b[1;33m\u001b[0m\u001b[0m\n\u001b[0;32m    485\u001b[0m         \u001b[1;31m# Fit\u001b[0m\u001b[1;33m\u001b[0m\u001b[1;33m\u001b[0m\u001b[0m\n\u001b[1;32m--> 486\u001b[1;33m         \u001b[1;32mreturn\u001b[0m \u001b[0msuper\u001b[0m\u001b[1;33m(\u001b[0m\u001b[1;33m)\u001b[0m\u001b[1;33m.\u001b[0m\u001b[0mfit\u001b[0m\u001b[1;33m(\u001b[0m\u001b[0mX\u001b[0m\u001b[1;33m,\u001b[0m \u001b[0my\u001b[0m\u001b[1;33m,\u001b[0m \u001b[0msample_weight\u001b[0m\u001b[1;33m)\u001b[0m\u001b[1;33m\u001b[0m\u001b[1;33m\u001b[0m\u001b[0m\n\u001b[0m\u001b[0;32m    487\u001b[0m \u001b[1;33m\u001b[0m\u001b[0m\n\u001b[0;32m    488\u001b[0m     \u001b[1;32mdef\u001b[0m \u001b[0m_validate_estimator\u001b[0m\u001b[1;33m(\u001b[0m\u001b[0mself\u001b[0m\u001b[1;33m)\u001b[0m\u001b[1;33m:\u001b[0m\u001b[1;33m\u001b[0m\u001b[1;33m\u001b[0m\u001b[0m\n",
            "\u001b[1;32m~\\anaconda3\\lib\\site-packages\\sklearn\\ensemble\\_weight_boosting.py\u001b[0m in \u001b[0;36mfit\u001b[1;34m(self, X, y, sample_weight)\u001b[0m\n\u001b[0;32m    130\u001b[0m \u001b[1;33m\u001b[0m\u001b[0m\n\u001b[0;32m    131\u001b[0m         \u001b[1;31m# Check parameters\u001b[0m\u001b[1;33m\u001b[0m\u001b[1;33m\u001b[0m\u001b[0m\n\u001b[1;32m--> 132\u001b[1;33m         \u001b[0mself\u001b[0m\u001b[1;33m.\u001b[0m\u001b[0m_validate_estimator\u001b[0m\u001b[1;33m(\u001b[0m\u001b[1;33m)\u001b[0m\u001b[1;33m\u001b[0m\u001b[1;33m\u001b[0m\u001b[0m\n\u001b[0m\u001b[0;32m    133\u001b[0m \u001b[1;33m\u001b[0m\u001b[0m\n\u001b[0;32m    134\u001b[0m         \u001b[1;31m# Clear any previous fit results\u001b[0m\u001b[1;33m\u001b[0m\u001b[1;33m\u001b[0m\u001b[0m\n",
            "\u001b[1;32m~\\anaconda3\\lib\\site-packages\\sklearn\\ensemble\\_weight_boosting.py\u001b[0m in \u001b[0;36m_validate_estimator\u001b[1;34m(self)\u001b[0m\n\u001b[0;32m    501\u001b[0m                 )\n\u001b[0;32m    502\u001b[0m         \u001b[1;32mif\u001b[0m \u001b[1;32mnot\u001b[0m \u001b[0mhas_fit_parameter\u001b[0m\u001b[1;33m(\u001b[0m\u001b[0mself\u001b[0m\u001b[1;33m.\u001b[0m\u001b[0mbase_estimator_\u001b[0m\u001b[1;33m,\u001b[0m \u001b[1;34m\"sample_weight\"\u001b[0m\u001b[1;33m)\u001b[0m\u001b[1;33m:\u001b[0m\u001b[1;33m\u001b[0m\u001b[1;33m\u001b[0m\u001b[0m\n\u001b[1;32m--> 503\u001b[1;33m             raise ValueError(\n\u001b[0m\u001b[0;32m    504\u001b[0m                 \u001b[1;34m\"%s doesn't support sample_weight.\"\u001b[0m\u001b[1;33m\u001b[0m\u001b[1;33m\u001b[0m\u001b[0m\n\u001b[0;32m    505\u001b[0m                 \u001b[1;33m%\u001b[0m \u001b[0mself\u001b[0m\u001b[1;33m.\u001b[0m\u001b[0mbase_estimator_\u001b[0m\u001b[1;33m.\u001b[0m\u001b[0m__class__\u001b[0m\u001b[1;33m.\u001b[0m\u001b[0m__name__\u001b[0m\u001b[1;33m\u001b[0m\u001b[1;33m\u001b[0m\u001b[0m\n",
            "\u001b[1;31mValueError\u001b[0m: KNeighborsClassifier doesn't support sample_weight."
          ]
        }
      ],
      "source": [
        "weak_model=KNeighborsClassifier()\n",
        "model=AdaBoostClassifier(base_estimator=weak_model,n_estimators=5)\n",
        "model.fit(X,y)\n",
        "sample=[1.9,.5,3.5,.8]\n",
        "print(model.predict([sample]))\n",
        "print(model.predict_proba([sample]))"
      ]
    },
    {
      "cell_type": "code",
      "execution_count": null,
      "id": "f54a751b-3991-4a09-8375-4ac305b74033",
      "metadata": {
        "id": "f54a751b-3991-4a09-8375-4ac305b74033"
      },
      "outputs": [],
      "source": [
        ""
      ]
    }
  ],
  "metadata": {
    "kernelspec": {
      "display_name": "Python 3 (ipykernel)",
      "language": "python",
      "name": "python3"
    },
    "language_info": {
      "codemirror_mode": {
        "name": "ipython",
        "version": 3
      },
      "file_extension": ".py",
      "mimetype": "text/x-python",
      "name": "python",
      "nbconvert_exporter": "python",
      "pygments_lexer": "ipython3",
      "version": "3.9.7"
    },
    "colab": {
      "name": "RandomForest-Bagging-Adaboost_Classifier.ipynb",
      "provenance": [],
      "include_colab_link": true
    }
  },
  "nbformat": 4,
  "nbformat_minor": 5
}