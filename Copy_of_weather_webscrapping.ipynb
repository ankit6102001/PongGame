{
  "nbformat": 4,
  "nbformat_minor": 0,
  "metadata": {
    "colab": {
      "name": "Copy of weather_webscrapping.ipynb",
      "provenance": [],
      "authorship_tag": "ABX9TyMTbjJRSQS9USz5WQdRoQca",
      "include_colab_link": true
    },
    "kernelspec": {
      "name": "python3",
      "display_name": "Python 3"
    },
    "language_info": {
      "name": "python"
    }
  },
  "cells": [
    {
      "cell_type": "markdown",
      "metadata": {
        "id": "view-in-github",
        "colab_type": "text"
      },
      "source": [
        "<a href=\"https://colab.research.google.com/github/ankit6102001/Python-Machine-learning-Deep-learning/blob/main/Copy_of_weather_webscrapping.ipynb\" target=\"_parent\"><img src=\"https://colab.research.google.com/assets/colab-badge.svg\" alt=\"Open In Colab\"/></a>"
      ]
    },
    {
      "cell_type": "code",
      "execution_count": null,
      "metadata": {
        "id": "lU6Sph6tGhwA"
      },
      "outputs": [],
      "source": [
        "import requests\n",
        "import bs4\n",
        "city=input(\"Enter the city name:\")\n",
        "url=f\"https://www.google.com/search?q={city}+weather\"\n",
        "http_con=requests.get(url)\n",
        "result_text=http_con.text\n",
        "soup=bs4.BeautifulSoup(result_text,'html.parser')\n",
        "print(\"Weather Report::\",soup.find(\"div\",{'class':\"BNeawe iBp4i AP7Wnd\"}).getText())\n",
        "print(soup.find(\"div\",{'class':\"BNeawe tAd8D AP7Wnd\"}).getText())"
      ]
    }
  ]
}