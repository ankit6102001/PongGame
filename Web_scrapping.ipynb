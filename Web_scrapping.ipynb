{
  "cells": [
    {
      "cell_type": "markdown",
      "metadata": {
        "id": "view-in-github",
        "colab_type": "text"
      },
      "source": [
        "<a href=\"https://colab.research.google.com/github/ankit6102001/Python-Machine-learning-Deep-learning/blob/main/Web_scrapping.ipynb\" target=\"_parent\"><img src=\"https://colab.research.google.com/assets/colab-badge.svg\" alt=\"Open In Colab\"/></a>"
      ]
    },
    {
      "cell_type": "code",
      "execution_count": null,
      "id": "795cdcef-1429-4e76-b932-bf9a1c50a09b",
      "metadata": {
        "id": "795cdcef-1429-4e76-b932-bf9a1c50a09b"
      },
      "outputs": [],
      "source": [
        "import bs4"
      ]
    },
    {
      "cell_type": "code",
      "execution_count": null,
      "id": "18f52187-fc81-48b5-9c4e-e47a70fd163d",
      "metadata": {
        "id": "18f52187-fc81-48b5-9c4e-e47a70fd163d",
        "outputId": "de30e9b6-de67-45c7-a125-3470118884b9"
      },
      "outputs": [
        {
          "name": "stdout",
          "output_type": "stream",
          "text": [
            "<html>\n",
            "\t<head>\n",
            "\t\t<title>Mypage</title>\n",
            "\t</head>\n",
            "\n",
            "\t<body bgcolor=\"yellow\">\n",
            "\t\t<marquee><h1><i><u>Python</u></i></h1></marquee>\n",
            "\t\t<label>India</label>\n",
            "\t\t\t<br><br>\n",
            "\t\t<label>bharat</label><br>\n",
            "\t\t<a href=\"http://www.google.com\">google</a> \n",
            "\n",
            "\t\t<form name=\"f1\">\n",
            "\t\t<label>Name:</label><input type=\"text\" placeholder=\"name\" value=\"python\">\n",
            "\t\t<br>\n",
            "\t\t<label>Pass:</label><input type=\"password\" placeholder=\"pass\">\n",
            "\t\t</form>\n",
            "\n",
            "\t\t<form name=\"f2\">\n",
            "\t\t<label>Age:</label><input type=\"text\" placeholder=\"age\">\n",
            "\t\t<br>\n",
            "\t\t<label>Address:</label><input type=\"text\" placeholder=\"adr\">\n",
            "\t\t</form>\n",
            "\t</body>\n",
            "</html>\n"
          ]
        }
      ],
      "source": [
        "file=open(\"a.html\")\n",
        "text=file.read()\n",
        "file.close()\n",
        "print(text)"
      ]
    },
    {
      "cell_type": "code",
      "execution_count": null,
      "id": "1ac10426-82c4-4fd2-9c8d-95119571736f",
      "metadata": {
        "id": "1ac10426-82c4-4fd2-9c8d-95119571736f"
      },
      "outputs": [],
      "source": [
        "soup=bs4.BeautifulSoup(text,\"html.parser\")"
      ]
    },
    {
      "cell_type": "code",
      "execution_count": null,
      "id": "bbc6ea3f-5cc0-41d9-8764-aa15d72f7657",
      "metadata": {
        "id": "bbc6ea3f-5cc0-41d9-8764-aa15d72f7657",
        "outputId": "c14cbaca-602f-4119-e2a5-399eec390701"
      },
      "outputs": [
        {
          "name": "stdout",
          "output_type": "stream",
          "text": [
            "<class 'bs4.element.Tag'>\n",
            "<title>Mypage</title>\n",
            "Mypage\n",
            "Mypage\n"
          ]
        }
      ],
      "source": [
        "title_tag=soup.find(\"title\")\n",
        "print(type(title_tag))\n",
        "print(title_tag)\n",
        "print(title_tag.getText())\n",
        "print(title_tag.get_text())"
      ]
    },
    {
      "cell_type": "code",
      "execution_count": null,
      "id": "ab9cfe4f-b852-4089-b895-5f84e95920a0",
      "metadata": {
        "id": "ab9cfe4f-b852-4089-b895-5f84e95920a0",
        "outputId": "096416b0-f73d-4a86-ba71-628e69e79df7"
      },
      "outputs": [
        {
          "name": "stdout",
          "output_type": "stream",
          "text": [
            "<a href=\"http://www.google.com\">google</a>\n",
            "google\n",
            "http://www.google.com\n"
          ]
        }
      ],
      "source": [
        "a_tag=soup.find(\"a\")\n",
        "print(a_tag)\n",
        "print(a_tag.getText())\n",
        "print(a_tag.get(\"href\"))"
      ]
    },
    {
      "cell_type": "code",
      "execution_count": null,
      "id": "854c26c3-6ddf-44cc-9cf9-ef5e677bd273",
      "metadata": {
        "id": "854c26c3-6ddf-44cc-9cf9-ef5e677bd273",
        "outputId": "a3497fb3-9b04-4294-9885-2cc607a95e04"
      },
      "outputs": [
        {
          "name": "stdout",
          "output_type": "stream",
          "text": [
            "<label>India</label>\n"
          ]
        }
      ],
      "source": [
        "lbl_tag=soup.find(\"label\")\n",
        "print(lbl_tag)"
      ]
    },
    {
      "cell_type": "code",
      "execution_count": null,
      "id": "a35e82f6-ca13-460c-94f1-ec00c2a83a6e",
      "metadata": {
        "id": "a35e82f6-ca13-460c-94f1-ec00c2a83a6e",
        "outputId": "17c4e478-7634-462a-c21e-876dad355ecc"
      },
      "outputs": [
        {
          "name": "stdout",
          "output_type": "stream",
          "text": [
            "<label>India</label>\n",
            "<label>bharat</label>\n",
            "<label>Name:</label>\n",
            "<label>Pass:</label>\n",
            "<label>Age:</label>\n",
            "<label>Address:</label>\n"
          ]
        }
      ],
      "source": [
        "list_lbl_tags=soup.findAll(\"label\")\n",
        "for lbl in list_lbl_tags:\n",
        "    print(lbl)"
      ]
    },
    {
      "cell_type": "code",
      "execution_count": null,
      "id": "e7b1b93a-f7e7-4d24-9bea-69ff91083e34",
      "metadata": {
        "id": "e7b1b93a-f7e7-4d24-9bea-69ff91083e34",
        "outputId": "ddb2285b-9357-4043-89c6-e947b2ce1b69"
      },
      "outputs": [
        {
          "name": "stdout",
          "output_type": "stream",
          "text": [
            "<input placeholder=\"name\" type=\"text\" value=\"python\"/>\n",
            "<input placeholder=\"pass\" type=\"password\"/>\n",
            "<input placeholder=\"age\" type=\"text\"/>\n",
            "<input placeholder=\"adr\" type=\"text\"/>\n"
          ]
        }
      ],
      "source": [
        "list_in_tags=soup.findAll(\"input\")\n",
        "for in_tag in list_in_tags:\n",
        "    print(in_tag)"
      ]
    },
    {
      "cell_type": "code",
      "execution_count": null,
      "id": "5495ccf0-92c4-47bf-9cd0-1d27034bfadb",
      "metadata": {
        "id": "5495ccf0-92c4-47bf-9cd0-1d27034bfadb",
        "outputId": "e78a294e-056b-4e25-f628-ddcc2a54e0d3"
      },
      "outputs": [
        {
          "name": "stdout",
          "output_type": "stream",
          "text": [
            "<input placeholder=\"name\" type=\"text\" value=\"python\"/>\n",
            "<input placeholder=\"age\" type=\"text\"/>\n",
            "<input placeholder=\"adr\" type=\"text\"/>\n"
          ]
        }
      ],
      "source": [
        "list_in_tags=soup.findAll(\"input\",{'type':\"text\"})\n",
        "for in_tag in list_in_tags:\n",
        "    print(in_tag)"
      ]
    },
    {
      "cell_type": "code",
      "execution_count": null,
      "id": "8acfac76-c8d6-4543-8629-774b407b2e71",
      "metadata": {
        "id": "8acfac76-c8d6-4543-8629-774b407b2e71",
        "outputId": "bb74f659-5a7a-4de6-8bcb-a8008b2fe4db"
      },
      "outputs": [
        {
          "name": "stdout",
          "output_type": "stream",
          "text": [
            "<input placeholder=\"name\" type=\"text\" value=\"python\"/>\n"
          ]
        }
      ],
      "source": [
        "in_tag=soup.find(\"input\")\n",
        "print(in_tag)"
      ]
    },
    {
      "cell_type": "code",
      "execution_count": null,
      "id": "1f136895-4c4b-4b1b-abed-13f902456095",
      "metadata": {
        "id": "1f136895-4c4b-4b1b-abed-13f902456095",
        "outputId": "7ad4339a-e9c2-41c5-bdec-6cecf1722d53"
      },
      "outputs": [
        {
          "name": "stdout",
          "output_type": "stream",
          "text": [
            "dict_keys(['type', 'placeholder', 'value'])\n",
            "dict_values(['text', 'name', 'python'])\n"
          ]
        }
      ],
      "source": [
        "print(in_tag.attrs.keys())\n",
        "print(in_tag.attrs.values())"
      ]
    },
    {
      "cell_type": "code",
      "execution_count": null,
      "id": "b87484be-3b99-4c67-83ba-5e5c81514399",
      "metadata": {
        "id": "b87484be-3b99-4c67-83ba-5e5c81514399",
        "outputId": "6c1e4e08-c5e9-4ae0-dd65-0ab24c9e8706"
      },
      "outputs": [
        {
          "name": "stdout",
          "output_type": "stream",
          "text": [
            "<form name=\"f2\">\n",
            "<label>Age:</label><input placeholder=\"age\" type=\"text\"/>\n",
            "<br/>\n",
            "<label>Address:</label><input placeholder=\"adr\" type=\"text\"/>\n",
            "</form>\n"
          ]
        }
      ],
      "source": [
        "f2_form=soup.find(\"form\",{'name':'f2'})\n",
        "print(f2_form)"
      ]
    },
    {
      "cell_type": "code",
      "execution_count": null,
      "id": "91769b14-afcf-422d-adaa-432e9d586d55",
      "metadata": {
        "id": "91769b14-afcf-422d-adaa-432e9d586d55",
        "outputId": "85b924e0-6baa-4411-f3e8-e95d75b34967"
      },
      "outputs": [
        {
          "data": {
            "text/plain": [
              "[<input placeholder=\"age\" type=\"text\"/>,\n",
              " <input placeholder=\"adr\" type=\"text\"/>]"
            ]
          },
          "execution_count": 30,
          "metadata": {},
          "output_type": "execute_result"
        }
      ],
      "source": [
        "f2_form.findAll('input')"
      ]
    },
    {
      "cell_type": "code",
      "execution_count": null,
      "id": "152aab21-803c-486f-a39e-28c6236ae25b",
      "metadata": {
        "id": "152aab21-803c-486f-a39e-28c6236ae25b",
        "outputId": "176759e5-9d68-448a-ed97-13c9f3bcf8a3"
      },
      "outputs": [
        {
          "data": {
            "text/plain": [
              "<label>Age:</label>"
            ]
          },
          "execution_count": 31,
          "metadata": {},
          "output_type": "execute_result"
        }
      ],
      "source": [
        "f2_form.findChild()"
      ]
    },
    {
      "cell_type": "code",
      "execution_count": null,
      "id": "015daf7c-682f-427c-b6a1-54909cb5a0fc",
      "metadata": {
        "id": "015daf7c-682f-427c-b6a1-54909cb5a0fc",
        "outputId": "ca0c7bc9-a933-46a2-8acd-44406ac493f9"
      },
      "outputs": [
        {
          "data": {
            "text/plain": [
              "[<label>Age:</label>,\n",
              " <input placeholder=\"age\" type=\"text\"/>,\n",
              " <br/>,\n",
              " <label>Address:</label>,\n",
              " <input placeholder=\"adr\" type=\"text\"/>]"
            ]
          },
          "execution_count": 32,
          "metadata": {},
          "output_type": "execute_result"
        }
      ],
      "source": [
        "f2_form.findChildren()"
      ]
    },
    {
      "cell_type": "code",
      "execution_count": null,
      "id": "eacf42ef-ff33-4aa1-abd7-0f7e4af01ffb",
      "metadata": {
        "id": "eacf42ef-ff33-4aa1-abd7-0f7e4af01ffb"
      },
      "outputs": [],
      "source": [
        ""
      ]
    }
  ],
  "metadata": {
    "kernelspec": {
      "display_name": "Python 3 (ipykernel)",
      "language": "python",
      "name": "python3"
    },
    "language_info": {
      "codemirror_mode": {
        "name": "ipython",
        "version": 3
      },
      "file_extension": ".py",
      "mimetype": "text/x-python",
      "name": "python",
      "nbconvert_exporter": "python",
      "pygments_lexer": "ipython3",
      "version": "3.9.7"
    },
    "colab": {
      "name": "Web_scrapping.ipynb",
      "provenance": [],
      "include_colab_link": true
    }
  },
  "nbformat": 4,
  "nbformat_minor": 5
}