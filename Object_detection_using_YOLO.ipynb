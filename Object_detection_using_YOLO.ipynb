{
  "cells": [
    {
      "cell_type": "markdown",
      "metadata": {
        "id": "view-in-github",
        "colab_type": "text"
      },
      "source": [
        "<a href=\"https://colab.research.google.com/github/ankit6102001/Python-Machine-learning-Deep-learning/blob/main/Object_detection_using_YOLO.ipynb\" target=\"_parent\"><img src=\"https://colab.research.google.com/assets/colab-badge.svg\" alt=\"Open In Colab\"/></a>"
      ]
    },
    {
      "cell_type": "code",
      "execution_count": null,
      "id": "b6ac8400-a4a8-480f-a705-9b1170f2295e",
      "metadata": {
        "id": "b6ac8400-a4a8-480f-a705-9b1170f2295e"
      },
      "outputs": [],
      "source": [
        "import cv2"
      ]
    },
    {
      "cell_type": "code",
      "execution_count": null,
      "id": "5994adb0-5458-4a66-aaa4-1e2161d1e8ca",
      "metadata": {
        "id": "5994adb0-5458-4a66-aaa4-1e2161d1e8ca"
      },
      "outputs": [],
      "source": [
        "model=cv2.dnn_DetectionModel(\"yolov4.cfg\",\"yolov4.weights\")\n",
        "model.setInputSize(416,416)\n",
        "model.setInputScale(1/255.0)"
      ]
    },
    {
      "cell_type": "code",
      "execution_count": null,
      "id": "3e4510f0-c6e3-4380-8c20-4046d9a001f2",
      "metadata": {
        "id": "3e4510f0-c6e3-4380-8c20-4046d9a001f2"
      },
      "outputs": [],
      "source": [
        "img=cv2.imread(\"d:/images/img5.jfif\")"
      ]
    },
    {
      "cell_type": "code",
      "execution_count": null,
      "id": "14687489-56bb-4788-bacf-bcc56179436a",
      "metadata": {
        "id": "14687489-56bb-4788-bacf-bcc56179436a"
      },
      "outputs": [],
      "source": [
        "classIds,probs,bboxes=model.detect(img,confThreshold=.7,nmsThreshold=.4)"
      ]
    },
    {
      "cell_type": "code",
      "execution_count": null,
      "id": "70515ecc-1ccc-4edc-92c5-211c99def9c6",
      "metadata": {
        "id": "70515ecc-1ccc-4edc-92c5-211c99def9c6"
      },
      "outputs": [],
      "source": [
        "print(classIds)"
      ]
    },
    {
      "cell_type": "code",
      "execution_count": null,
      "id": "762dbdf9-970f-45a8-8e28-d3a3c58b3b80",
      "metadata": {
        "id": "762dbdf9-970f-45a8-8e28-d3a3c58b3b80"
      },
      "outputs": [],
      "source": [
        "file=open(\"objects_list.txt\")\n",
        "list_class=file.read().split(\"\\n\")\n",
        "file.close()\n",
        "#print(list_class)\n",
        "for cid in classIds:\n",
        "    print(list_class[cid])"
      ]
    },
    {
      "cell_type": "code",
      "execution_count": null,
      "id": "92d64f6a-bbd2-4557-a72f-404fde9b6dfd",
      "metadata": {
        "id": "92d64f6a-bbd2-4557-a72f-404fde9b6dfd"
      },
      "outputs": [],
      "source": [
        "import cv2\n",
        "\n",
        "model=cv2.dnn_DetectionModel(\"yolov4.cfg\",\"yolov4.weights\")\n",
        "model.setInputSize(416,416)\n",
        "model.setInputScale(1/255.0)\n",
        "\n",
        "img=cv2.imread(\"d:/images/mix.png\")\n",
        "\n",
        "classIds,probs,bboxes=model.detect(img,confThreshold=.7,nmsThreshold=.4)\n",
        "\n",
        "file=open(\"objects_list.txt\")\n",
        "list_class=file.read().split(\"\\n\")\n",
        "file.close()\n",
        "\n",
        "for bbox,cid in zip(bboxes,classIds):\n",
        "    cv2.rectangle(img,bbox,(0,0,255),2)\n",
        "    cv2.putText(img,list_class[cid],(bbox[0]+10,bbox[1]+20),cv2.FONT_HERSHEY_PLAIN,1.5,(255,0,255),2)\n",
        "cv2.imshow(\"image\",img)\n",
        "cv2.waitKey()\n",
        "cv2.destroyAllWindows()"
      ]
    },
    {
      "cell_type": "code",
      "execution_count": null,
      "id": "6644da68-30d6-43b1-8c36-f616fe687ac6",
      "metadata": {
        "id": "6644da68-30d6-43b1-8c36-f616fe687ac6"
      },
      "outputs": [],
      "source": [
        "import cv2\n",
        "\n",
        "model=cv2.dnn_DetectionModel(\"yolov4.cfg\",\"yolov4.weights\")\n",
        "model.setInputSize(416,416)\n",
        "model.setInputScale(1/255.0)\n",
        "\n",
        "  \n",
        "vdo=cv2.VideoCapture(0)\n",
        "while(True):\n",
        "    flag,img=vdo.read()\n",
        "\n",
        "    classIds,probs,bboxes=model.detect(img,confThreshold=.7,nmsThreshold=.4)\n",
        "\n",
        "    file=open(\"objects_list.txt\")\n",
        "    list_class=file.read().split(\"\\n\")\n",
        "    file.close()\n",
        "\n",
        "    for bbox,cid in zip(bboxes,classIds):\n",
        "        cv2.rectangle(img,bbox,(0,0,255),2)\n",
        "        cv2.putText(img,list_class[cid],(bbox[0]+10,bbox[1]+20),cv2.FONT_HERSHEY_PLAIN,1.5,(255,0,255),2)\n",
        "    cv2.imshow(\"image\",img)\n",
        "    cv2.waitKey(10)\n",
        "    if(k==ord('q')):\n",
        "        break\n",
        "vdo.release()\n",
        "cv2.destroyAllWindows()"
      ]
    },
    {
      "cell_type": "code",
      "execution_count": null,
      "id": "e62d8f7e-92ad-44ee-b0f6-270d5b88888c",
      "metadata": {
        "id": "e62d8f7e-92ad-44ee-b0f6-270d5b88888c"
      },
      "outputs": [],
      "source": [
        ""
      ]
    }
  ],
  "metadata": {
    "kernelspec": {
      "display_name": "Python 3 (ipykernel)",
      "language": "python",
      "name": "python3"
    },
    "language_info": {
      "codemirror_mode": {
        "name": "ipython",
        "version": 3
      },
      "file_extension": ".py",
      "mimetype": "text/x-python",
      "name": "python",
      "nbconvert_exporter": "python",
      "pygments_lexer": "ipython3",
      "version": "3.9.7"
    },
    "colab": {
      "name": "Object_detection_using_YOLO.ipynb",
      "provenance": [],
      "include_colab_link": true
    }
  },
  "nbformat": 4,
  "nbformat_minor": 5
}