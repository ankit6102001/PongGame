{
  "cells": [
    {
      "cell_type": "markdown",
      "metadata": {
        "id": "view-in-github",
        "colab_type": "text"
      },
      "source": [
        "<a href=\"https://colab.research.google.com/github/ankit6102001/Python-Machine-learning-Deep-learning/blob/main/RNN(word_embedding%2CLSTM.ipynb\" target=\"_parent\"><img src=\"https://colab.research.google.com/assets/colab-badge.svg\" alt=\"Open In Colab\"/></a>"
      ]
    },
    {
      "cell_type": "code",
      "execution_count": null,
      "id": "c0e434d0-ebfa-4ae3-a407-b39d178aedac",
      "metadata": {
        "id": "c0e434d0-ebfa-4ae3-a407-b39d178aedac"
      },
      "outputs": [],
      "source": [
        "from tensorflow.keras.preprocessing.text import Tokenizer\n",
        "from tensorflow.keras.preprocessing.sequence import pad_sequences"
      ]
    },
    {
      "cell_type": "code",
      "execution_count": null,
      "id": "e367e062-7652-4bb8-94b6-5d7ea2bd5b4f",
      "metadata": {
        "id": "e367e062-7652-4bb8-94b6-5d7ea2bd5b4f"
      },
      "outputs": [],
      "source": [
        "import pandas as pd"
      ]
    },
    {
      "cell_type": "code",
      "execution_count": null,
      "id": "7fc0cc87-5754-4d8f-8afe-d0e30b232bbc",
      "metadata": {
        "id": "7fc0cc87-5754-4d8f-8afe-d0e30b232bbc",
        "outputId": "0e7ed96d-020b-4b8d-df6c-89f26bee359e"
      },
      "outputs": [
        {
          "data": {
            "text/html": [
              "<div>\n",
              "<style scoped>\n",
              "    .dataframe tbody tr th:only-of-type {\n",
              "        vertical-align: middle;\n",
              "    }\n",
              "\n",
              "    .dataframe tbody tr th {\n",
              "        vertical-align: top;\n",
              "    }\n",
              "\n",
              "    .dataframe thead th {\n",
              "        text-align: right;\n",
              "    }\n",
              "</style>\n",
              "<table border=\"1\" class=\"dataframe\">\n",
              "  <thead>\n",
              "    <tr style=\"text-align: right;\">\n",
              "      <th></th>\n",
              "      <th>Review</th>\n",
              "      <th>Liked</th>\n",
              "    </tr>\n",
              "  </thead>\n",
              "  <tbody>\n",
              "    <tr>\n",
              "      <th>0</th>\n",
              "      <td>Wow... Loved this place.</td>\n",
              "      <td>1</td>\n",
              "    </tr>\n",
              "    <tr>\n",
              "      <th>1</th>\n",
              "      <td>Crust is not good.</td>\n",
              "      <td>0</td>\n",
              "    </tr>\n",
              "    <tr>\n",
              "      <th>2</th>\n",
              "      <td>Not tasty and the texture was just nasty.</td>\n",
              "      <td>0</td>\n",
              "    </tr>\n",
              "    <tr>\n",
              "      <th>3</th>\n",
              "      <td>Stopped by during the late May bank holiday of...</td>\n",
              "      <td>1</td>\n",
              "    </tr>\n",
              "    <tr>\n",
              "      <th>4</th>\n",
              "      <td>The selection on the menu was great and so wer...</td>\n",
              "      <td>1</td>\n",
              "    </tr>\n",
              "    <tr>\n",
              "      <th>...</th>\n",
              "      <td>...</td>\n",
              "      <td>...</td>\n",
              "    </tr>\n",
              "    <tr>\n",
              "      <th>995</th>\n",
              "      <td>I think food should have flavor and texture an...</td>\n",
              "      <td>0</td>\n",
              "    </tr>\n",
              "    <tr>\n",
              "      <th>996</th>\n",
              "      <td>Appetite instantly gone.</td>\n",
              "      <td>0</td>\n",
              "    </tr>\n",
              "    <tr>\n",
              "      <th>997</th>\n",
              "      <td>Overall I was not impressed and would not go b...</td>\n",
              "      <td>0</td>\n",
              "    </tr>\n",
              "    <tr>\n",
              "      <th>998</th>\n",
              "      <td>The whole experience was underwhelming, and I ...</td>\n",
              "      <td>0</td>\n",
              "    </tr>\n",
              "    <tr>\n",
              "      <th>999</th>\n",
              "      <td>Then, as if I hadn't wasted enough of my life ...</td>\n",
              "      <td>0</td>\n",
              "    </tr>\n",
              "  </tbody>\n",
              "</table>\n",
              "<p>1000 rows × 2 columns</p>\n",
              "</div>"
            ],
            "text/plain": [
              "                                                Review  Liked\n",
              "0                             Wow... Loved this place.      1\n",
              "1                                   Crust is not good.      0\n",
              "2            Not tasty and the texture was just nasty.      0\n",
              "3    Stopped by during the late May bank holiday of...      1\n",
              "4    The selection on the menu was great and so wer...      1\n",
              "..                                                 ...    ...\n",
              "995  I think food should have flavor and texture an...      0\n",
              "996                           Appetite instantly gone.      0\n",
              "997  Overall I was not impressed and would not go b...      0\n",
              "998  The whole experience was underwhelming, and I ...      0\n",
              "999  Then, as if I hadn't wasted enough of my life ...      0\n",
              "\n",
              "[1000 rows x 2 columns]"
            ]
          },
          "execution_count": 6,
          "metadata": {},
          "output_type": "execute_result"
        }
      ],
      "source": [
        "df=pd.read_csv(\"d:/dataset/sentiment/Restaurant_Reviews.txt\",sep=\"\\t\")\n",
        "df"
      ]
    },
    {
      "cell_type": "code",
      "execution_count": null,
      "id": "e4df8e50-d8cc-4f68-9dfb-c1fb143fbc62",
      "metadata": {
        "id": "e4df8e50-d8cc-4f68-9dfb-c1fb143fbc62"
      },
      "outputs": [],
      "source": [
        "corpus=df.Review\n",
        "y=df.Liked"
      ]
    },
    {
      "cell_type": "code",
      "execution_count": null,
      "id": "70c44156-5d06-48a8-b6bc-96a2e6b623b8",
      "metadata": {
        "id": "70c44156-5d06-48a8-b6bc-96a2e6b623b8",
        "outputId": "cb58f30a-7d53-47d1-a535-daf28dceb84a"
      },
      "outputs": [
        {
          "name": "stdout",
          "output_type": "stream",
          "text": [
            "2071\n"
          ]
        }
      ],
      "source": [
        "tk=Tokenizer()\n",
        "tk.fit_on_texts(corpus)\n",
        "vocab_len=len(tk.word_index)\n",
        "print(vocab_len)"
      ]
    },
    {
      "cell_type": "code",
      "execution_count": null,
      "id": "8ef2999d-1dc1-40c2-85dd-7c057fcedd38",
      "metadata": {
        "id": "8ef2999d-1dc1-40c2-85dd-7c057fcedd38",
        "outputId": "45419b65-c11b-4e3f-cd38-ff6e7b8a0e25"
      },
      "outputs": [
        {
          "data": {
            "text/plain": [
              "(1000, 30)"
            ]
          },
          "execution_count": 32,
          "metadata": {},
          "output_type": "execute_result"
        }
      ],
      "source": [
        "seqs=tk.texts_to_sequences(corpus)\n",
        "seqs_samelen=pad_sequences(seqs,maxlen=30,padding='post',truncating='post')\n",
        "seqs_samelen.shape"
      ]
    },
    {
      "cell_type": "code",
      "execution_count": null,
      "id": "93ac56af-0fe6-4d6e-8b7c-3f18daaa007a",
      "metadata": {
        "id": "93ac56af-0fe6-4d6e-8b7c-3f18daaa007a"
      },
      "outputs": [],
      "source": [
        "from tensorflow.keras.models import Sequential\n",
        "from tensorflow.keras.layers import Dense,SimpleRNN,Dropout,Embedding,LSTM"
      ]
    },
    {
      "cell_type": "code",
      "execution_count": null,
      "id": "5ec476eb-c872-4276-9d8a-2a2c6c1d7f50",
      "metadata": {
        "id": "5ec476eb-c872-4276-9d8a-2a2c6c1d7f50",
        "outputId": "10de47e6-8bc3-4379-8c20-6522f429bcd9"
      },
      "outputs": [
        {
          "name": "stdout",
          "output_type": "stream",
          "text": [
            "Epoch 1/30\n",
            "32/32 [==============================] - 1s 7ms/step - loss: 0.6945 - accuracy: 0.4960\n",
            "Epoch 2/30\n",
            "32/32 [==============================] - 0s 7ms/step - loss: 0.6933 - accuracy: 0.4860\n",
            "Epoch 3/30\n",
            "32/32 [==============================] - 0s 6ms/step - loss: 0.6929 - accuracy: 0.5080\n",
            "Epoch 4/30\n",
            "32/32 [==============================] - 0s 6ms/step - loss: 0.6948 - accuracy: 0.4940\n",
            "Epoch 5/30\n",
            "32/32 [==============================] - 0s 6ms/step - loss: 0.6929 - accuracy: 0.5050\n",
            "Epoch 6/30\n",
            "32/32 [==============================] - 0s 7ms/step - loss: 0.6924 - accuracy: 0.5080\n",
            "Epoch 7/30\n",
            "32/32 [==============================] - 0s 6ms/step - loss: 0.6916 - accuracy: 0.4990\n",
            "Epoch 8/30\n",
            "32/32 [==============================] - 0s 6ms/step - loss: 0.6920 - accuracy: 0.5360\n",
            "Epoch 9/30\n",
            "32/32 [==============================] - 0s 6ms/step - loss: 0.6921 - accuracy: 0.4950\n",
            "Epoch 10/30\n",
            "32/32 [==============================] - 0s 6ms/step - loss: 0.6915 - accuracy: 0.5060\n",
            "Epoch 11/30\n",
            "32/32 [==============================] - 0s 6ms/step - loss: 0.6900 - accuracy: 0.5240\n",
            "Epoch 12/30\n",
            "32/32 [==============================] - 0s 6ms/step - loss: 0.6845 - accuracy: 0.5050\n",
            "Epoch 13/30\n",
            "32/32 [==============================] - 0s 6ms/step - loss: 0.6964 - accuracy: 0.5260\n",
            "Epoch 14/30\n",
            "32/32 [==============================] - 0s 6ms/step - loss: 0.6888 - accuracy: 0.5140\n",
            "Epoch 15/30\n",
            "32/32 [==============================] - 0s 6ms/step - loss: 0.6857 - accuracy: 0.5330\n",
            "Epoch 16/30\n",
            "32/32 [==============================] - 0s 6ms/step - loss: 0.6853 - accuracy: 0.5030\n",
            "Epoch 17/30\n",
            "32/32 [==============================] - 0s 6ms/step - loss: 0.6807 - accuracy: 0.5110\n",
            "Epoch 18/30\n",
            "32/32 [==============================] - 0s 6ms/step - loss: 0.6567 - accuracy: 0.5950\n",
            "Epoch 19/30\n",
            "32/32 [==============================] - 0s 6ms/step - loss: 0.6395 - accuracy: 0.6050\n",
            "Epoch 20/30\n",
            "32/32 [==============================] - 0s 6ms/step - loss: 0.6708 - accuracy: 0.5960\n",
            "Epoch 21/30\n",
            "32/32 [==============================] - 0s 5ms/step - loss: 0.6837 - accuracy: 0.5190\n",
            "Epoch 22/30\n",
            "32/32 [==============================] - 0s 6ms/step - loss: 0.6798 - accuracy: 0.5230\n",
            "Epoch 23/30\n",
            "32/32 [==============================] - 0s 6ms/step - loss: 0.6732 - accuracy: 0.5240\n",
            "Epoch 24/30\n",
            "32/32 [==============================] - 0s 6ms/step - loss: 0.6250 - accuracy: 0.6450\n",
            "Epoch 25/30\n",
            "32/32 [==============================] - 0s 6ms/step - loss: 0.5120 - accuracy: 0.7680\n",
            "Epoch 26/30\n",
            "32/32 [==============================] - 0s 6ms/step - loss: 0.4803 - accuracy: 0.7700\n",
            "Epoch 27/30\n",
            "32/32 [==============================] - 0s 6ms/step - loss: 0.3579 - accuracy: 0.8640\n",
            "Epoch 28/30\n",
            "32/32 [==============================] - 0s 6ms/step - loss: 0.2620 - accuracy: 0.9100\n",
            "Epoch 29/30\n",
            "32/32 [==============================] - 0s 6ms/step - loss: 0.1592 - accuracy: 0.9470\n",
            "Epoch 30/30\n",
            "32/32 [==============================] - 0s 6ms/step - loss: 0.1030 - accuracy: 0.9710\n"
          ]
        },
        {
          "data": {
            "text/plain": [
              "<keras.callbacks.History at 0x1b1ffa96d90>"
            ]
          },
          "execution_count": 34,
          "metadata": {},
          "output_type": "execute_result"
        }
      ],
      "source": [
        "model=Sequential()\n",
        "model.add(Embedding(input_dim=vocab_len+1,output_dim=20,input_length=30))\n",
        "model.add(SimpleRNN(100,activation='relu'))\n",
        "model.add(Dropout(.05))\n",
        "model.add(Dense(100,activation='relu'))\n",
        "model.add(Dense(2,activation='softmax'))\n",
        "model.compile(loss=\"sparse_categorical_crossentropy\",optimizer=\"adam\",metrics=['accuracy'])\n",
        "model.fit(seqs_samelen,y,epochs=30)"
      ]
    },
    {
      "cell_type": "code",
      "execution_count": null,
      "id": "94ab3e83-a5eb-48ef-82e9-2c05b83788fb",
      "metadata": {
        "id": "94ab3e83-a5eb-48ef-82e9-2c05b83788fb",
        "outputId": "aba0f8a4-bf6a-473b-ddde-ca1d9f5c2d47"
      },
      "outputs": [
        {
          "name": "stdout",
          "output_type": "stream",
          "text": [
            "Epoch 1/20\n",
            "32/32 [==============================] - 1s 14ms/step - loss: 0.6934 - accuracy: 0.4780\n",
            "Epoch 2/20\n",
            "32/32 [==============================] - 1s 19ms/step - loss: 0.6935 - accuracy: 0.4990\n",
            "Epoch 3/20\n",
            "32/32 [==============================] - 0s 14ms/step - loss: 0.7233 - accuracy: 0.5520\n",
            "Epoch 4/20\n",
            "32/32 [==============================] - 0s 13ms/step - loss: 0.6902 - accuracy: 0.5470\n",
            "Epoch 5/20\n",
            "32/32 [==============================] - 0s 13ms/step - loss: 0.6256 - accuracy: 0.6770\n",
            "Epoch 6/20\n",
            "32/32 [==============================] - 0s 13ms/step - loss: 0.5399 - accuracy: 0.7910\n",
            "Epoch 7/20\n",
            "32/32 [==============================] - 0s 13ms/step - loss: 0.3000 - accuracy: 0.9090\n",
            "Epoch 8/20\n",
            "32/32 [==============================] - 0s 14ms/step - loss: 0.1176 - accuracy: 0.9540\n",
            "Epoch 9/20\n",
            "32/32 [==============================] - 0s 14ms/step - loss: 0.0705 - accuracy: 0.9720\n",
            "Epoch 10/20\n",
            "32/32 [==============================] - 1s 16ms/step - loss: 0.0474 - accuracy: 0.9810\n",
            "Epoch 11/20\n",
            "32/32 [==============================] - 1s 17ms/step - loss: 0.0248 - accuracy: 0.9940\n",
            "Epoch 12/20\n",
            "32/32 [==============================] - 0s 15ms/step - loss: 0.0151 - accuracy: 0.9950\n",
            "Epoch 13/20\n",
            "32/32 [==============================] - 0s 14ms/step - loss: 0.0041 - accuracy: 0.9990\n",
            "Epoch 14/20\n",
            "32/32 [==============================] - 0s 14ms/step - loss: 0.0104 - accuracy: 0.9960\n",
            "Epoch 15/20\n",
            "32/32 [==============================] - 0s 14ms/step - loss: 0.0110 - accuracy: 0.9960\n",
            "Epoch 16/20\n",
            "32/32 [==============================] - 0s 15ms/step - loss: 0.0020 - accuracy: 0.9990\n",
            "Epoch 17/20\n",
            "32/32 [==============================] - 0s 15ms/step - loss: 2.9526e-04 - accuracy: 1.0000\n",
            "Epoch 18/20\n",
            "32/32 [==============================] - 1s 16ms/step - loss: 7.5901e-05 - accuracy: 1.0000\n",
            "Epoch 19/20\n",
            "32/32 [==============================] - 0s 14ms/step - loss: 3.6654e-05 - accuracy: 1.0000\n",
            "Epoch 20/20\n",
            "32/32 [==============================] - 0s 15ms/step - loss: 2.3123e-05 - accuracy: 1.0000\n"
          ]
        },
        {
          "data": {
            "text/plain": [
              "<keras.callbacks.History at 0x1b18814ffa0>"
            ]
          },
          "execution_count": 45,
          "metadata": {},
          "output_type": "execute_result"
        }
      ],
      "source": [
        "model=Sequential()\n",
        "model.add(Embedding(input_dim=vocab_len+1,output_dim=20,input_length=30))\n",
        "model.add(LSTM(100,activation='relu'))\n",
        "model.add(Dropout(.05))\n",
        "model.add(Dense(100,activation='relu'))\n",
        "model.add(Dense(2,activation='softmax'))\n",
        "model.compile(loss=\"sparse_categorical_crossentropy\",optimizer=\"adam\",metrics=['accuracy'])\n",
        "model.fit(seqs_samelen,y,epochs=20)"
      ]
    },
    {
      "cell_type": "code",
      "execution_count": null,
      "id": "05e780e3-387b-4a02-b4fe-cb735ec80f02",
      "metadata": {
        "id": "05e780e3-387b-4a02-b4fe-cb735ec80f02",
        "outputId": "b72d6a1c-3dd0-4e89-c943-f91a7a58528f"
      },
      "outputs": [
        {
          "name": "stdout",
          "output_type": "stream",
          "text": [
            "WARNING:tensorflow:5 out of the last 17 calls to <function Model.make_predict_function.<locals>.predict_function at 0x000001B188162AF0> triggered tf.function retracing. Tracing is expensive and the excessive number of tracings could be due to (1) creating @tf.function repeatedly in a loop, (2) passing tensors with different shapes, (3) passing Python objects instead of tensors. For (1), please define your @tf.function outside of the loop. For (2), @tf.function has experimental_relax_shapes=True option that relaxes argument shapes that can avoid unnecessary retracing. For (3), please refer to https://www.tensorflow.org/guide/function#controlling_retracing and https://www.tensorflow.org/api_docs/python/tf/function for  more details.\n"
          ]
        },
        {
          "data": {
            "text/plain": [
              "array([[2.077099e-15, 1.000000e+00]], dtype=float32)"
            ]
          },
          "execution_count": 46,
          "metadata": {},
          "output_type": "execute_result"
        }
      ],
      "source": [
        "sample=\"food was very awesome\"\n",
        "sample_seq=tk.texts_to_sequences([sample])\n",
        "sample_pad_seq=pad_sequences(sample_seq,maxlen=30,padding='post',truncating='post')\n",
        "model.predict(sample_pad_seq)"
      ]
    },
    {
      "cell_type": "code",
      "execution_count": null,
      "id": "76371532-c50d-4419-b058-7ce6ad9a38aa",
      "metadata": {
        "id": "76371532-c50d-4419-b058-7ce6ad9a38aa"
      },
      "outputs": [],
      "source": [
        ""
      ]
    }
  ],
  "metadata": {
    "kernelspec": {
      "display_name": "Python 3 (ipykernel)",
      "language": "python",
      "name": "python3"
    },
    "language_info": {
      "codemirror_mode": {
        "name": "ipython",
        "version": 3
      },
      "file_extension": ".py",
      "mimetype": "text/x-python",
      "name": "python",
      "nbconvert_exporter": "python",
      "pygments_lexer": "ipython3",
      "version": "3.9.7"
    },
    "colab": {
      "name": "RNN(word_embedding,LSTM.ipynb",
      "provenance": [],
      "include_colab_link": true
    }
  },
  "nbformat": 4,
  "nbformat_minor": 5
}