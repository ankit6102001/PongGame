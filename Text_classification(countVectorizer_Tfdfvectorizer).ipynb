{
  "cells": [
    {
      "cell_type": "markdown",
      "metadata": {
        "id": "view-in-github",
        "colab_type": "text"
      },
      "source": [
        "<a href=\"https://colab.research.google.com/github/ankit6102001/Python-Machine-learning-Deep-learning/blob/main/Text_classification(countVectorizer_Tfdfvectorizer).ipynb\" target=\"_parent\"><img src=\"https://colab.research.google.com/assets/colab-badge.svg\" alt=\"Open In Colab\"/></a>"
      ]
    },
    {
      "cell_type": "code",
      "execution_count": null,
      "id": "f6e7b821-83e0-40d3-94bc-8301fa82cabd",
      "metadata": {
        "id": "f6e7b821-83e0-40d3-94bc-8301fa82cabd"
      },
      "outputs": [],
      "source": [
        "import re\n",
        "from nltk.corpus import stopwords\n",
        "from nltk.tokenize import word_tokenize"
      ]
    },
    {
      "cell_type": "code",
      "execution_count": null,
      "id": "717218d6-7e49-4e20-a38d-f5423e63fc3a",
      "metadata": {
        "id": "717218d6-7e49-4e20-a38d-f5423e63fc3a"
      },
      "outputs": [],
      "source": [
        "#document->it is simply a string representing a text.\n",
        "#corpus->it is a group of documents as list/array.\n",
        "\n",
        "doc1='food is # good! _@ 2019'\n",
        "doc2='& Food # is * tasty'\n",
        "doc3='quality is Good'\n",
        "doc4='service is Poor poor means very poor'\n",
        "doc5='food is not good'\n",
        "doc6='cheap quality'\n",
        "\n",
        "target=['pos','pos','pos','neg','neg','neg']\n",
        "\n",
        "sw=stopwords.words(\"english\")\n",
        "sw.remove('not')\n",
        "\n",
        "def remove_punch(doc):\n",
        "    return re.sub(\"[^a-z ]\",\"\",doc).strip()\n",
        "\n",
        "def remove_sp(doc):\n",
        "    tokens=word_tokenize(doc)\n",
        "    s2=\"\"\n",
        "    for i in tokens:\n",
        "        if(i not in sw):\n",
        "            s2=s2+i+\" \"\n",
        "    return s2.strip()\n",
        "\n",
        "corpus=[doc1,doc2,doc3,doc4,doc5,doc6]\n",
        "corpus1=list(map(str.lower,corpus))\n",
        "corpus2=list(map(remove_punch,corpus1))\n",
        "corpus3=list(map(remove_sp,corpus2))"
      ]
    },
    {
      "cell_type": "code",
      "execution_count": null,
      "id": "deb406b5-0c53-408b-94bb-1b8d6ca5cb38",
      "metadata": {
        "id": "deb406b5-0c53-408b-94bb-1b8d6ca5cb38",
        "outputId": "cceb0284-cdb8-4387-e20d-6cdf93d42fbc"
      },
      "outputs": [
        {
          "data": {
            "text/plain": [
              "['food good',\n",
              " 'food tasty',\n",
              " 'quality good',\n",
              " 'service poor poor means poor',\n",
              " 'food not good',\n",
              " 'cheap quality']"
            ]
          },
          "execution_count": 14,
          "metadata": {},
          "output_type": "execute_result"
        }
      ],
      "source": [
        "corpus3"
      ]
    },
    {
      "cell_type": "code",
      "execution_count": null,
      "id": "8449b0de-a1ab-48b8-89ee-737fdfc0f57f",
      "metadata": {
        "id": "8449b0de-a1ab-48b8-89ee-737fdfc0f57f"
      },
      "outputs": [],
      "source": [
        "from sklearn.feature_extraction.text import CountVectorizer"
      ]
    },
    {
      "cell_type": "code",
      "execution_count": null,
      "id": "010db000-2390-4f5b-8fad-65a43ea6723b",
      "metadata": {
        "id": "010db000-2390-4f5b-8fad-65a43ea6723b",
        "outputId": "8d12fdf8-fd60-484e-f398-f467badf72f8"
      },
      "outputs": [
        {
          "data": {
            "text/plain": [
              "array([[0, 1, 1, 0, 0, 0, 0, 0, 0],\n",
              "       [0, 1, 0, 0, 0, 0, 0, 0, 1],\n",
              "       [0, 0, 1, 0, 0, 0, 1, 0, 0],\n",
              "       [0, 0, 0, 1, 0, 3, 0, 1, 0],\n",
              "       [0, 1, 1, 0, 1, 0, 0, 0, 0],\n",
              "       [1, 0, 0, 0, 0, 0, 1, 0, 0]], dtype=int64)"
            ]
          },
          "execution_count": 19,
          "metadata": {},
          "output_type": "execute_result"
        }
      ],
      "source": [
        "cv=CountVectorizer()\n",
        "sp_matrix=cv.fit_transform(corpus3) #returns sparse matrix\n",
        "dense_matrix=sp_matrix.toarray()\n",
        "dense_matrix"
      ]
    },
    {
      "cell_type": "code",
      "execution_count": null,
      "id": "f39c4739-1dda-4ede-8abe-2151767b486d",
      "metadata": {
        "id": "f39c4739-1dda-4ede-8abe-2151767b486d",
        "outputId": "ce49e7e2-9041-4443-af82-c20a0bd50d34"
      },
      "outputs": [
        {
          "name": "stdout",
          "output_type": "stream",
          "text": [
            "['cheap', 'food', 'good', 'means', 'not', 'poor', 'quality', 'service', 'tasty']\n"
          ]
        }
      ],
      "source": [
        "print(cv.get_feature_names())"
      ]
    },
    {
      "cell_type": "code",
      "execution_count": null,
      "id": "e66ccf5a-2361-45b8-bf13-13b9bda4e55e",
      "metadata": {
        "id": "e66ccf5a-2361-45b8-bf13-13b9bda4e55e",
        "outputId": "5f976935-baaa-4244-e572-bfb52f2dca31"
      },
      "outputs": [
        {
          "name": "stdout",
          "output_type": "stream",
          "text": [
            "  (0, 1)\t1\n",
            "  (0, 2)\t1\n",
            "  (1, 1)\t1\n",
            "  (1, 8)\t1\n",
            "  (2, 2)\t1\n",
            "  (2, 6)\t1\n",
            "  (3, 7)\t1\n",
            "  (3, 5)\t3\n",
            "  (3, 3)\t1\n",
            "  (4, 1)\t1\n",
            "  (4, 2)\t1\n",
            "  (4, 4)\t1\n",
            "  (5, 6)\t1\n",
            "  (5, 0)\t1\n"
          ]
        }
      ],
      "source": [
        "print(sp_matrix)"
      ]
    },
    {
      "cell_type": "code",
      "execution_count": null,
      "id": "72b3aef3-f0f5-47d0-87c3-580de9378fbd",
      "metadata": {
        "id": "72b3aef3-f0f5-47d0-87c3-580de9378fbd",
        "outputId": "ea84ac16-0da9-4a2f-86e8-8af265b1ac88"
      },
      "outputs": [
        {
          "data": {
            "text/plain": [
              "array([[0, 1, 1, 0, 0, 0, 0, 0, 0],\n",
              "       [0, 1, 0, 0, 0, 0, 0, 0, 1],\n",
              "       [0, 0, 1, 0, 0, 0, 1, 0, 0],\n",
              "       [0, 0, 0, 1, 0, 1, 0, 1, 0],\n",
              "       [0, 1, 1, 0, 1, 0, 0, 0, 0],\n",
              "       [1, 0, 0, 0, 0, 0, 1, 0, 0]], dtype=int64)"
            ]
          },
          "execution_count": 23,
          "metadata": {},
          "output_type": "execute_result"
        }
      ],
      "source": [
        "cv=CountVectorizer(binary=True)\n",
        "sp_matrix=cv.fit_transform(corpus3) #returns sparse matrix\n",
        "dense_matrix=sp_matrix.toarray()\n",
        "dense_matrix"
      ]
    },
    {
      "cell_type": "code",
      "execution_count": null,
      "id": "a8dd5858-812d-4189-9d3e-b15b884d4568",
      "metadata": {
        "id": "a8dd5858-812d-4189-9d3e-b15b884d4568",
        "outputId": "0df01c99-7f34-4699-8704-f82b17e44500"
      },
      "outputs": [
        {
          "name": "stdout",
          "output_type": "stream",
          "text": [
            "['cheap', 'food', 'good', 'means', 'not', 'poor', 'quality', 'service', 'tasty']\n"
          ]
        }
      ],
      "source": [
        "cv=CountVectorizer(binary=True,ngram_range=(1,1))\n",
        "sp_matrix=cv.fit_transform(corpus3) #returns sparse matrix\n",
        "dense_matrix=sp_matrix.toarray()\n",
        "print(cv.get_feature_names())"
      ]
    },
    {
      "cell_type": "code",
      "execution_count": null,
      "id": "07a39e01-df2d-4e5a-8efd-b841aae315fe",
      "metadata": {
        "id": "07a39e01-df2d-4e5a-8efd-b841aae315fe",
        "outputId": "fe17c4fa-0b00-4b4d-b183-9f3d6c9f9fec"
      },
      "outputs": [
        {
          "name": "stdout",
          "output_type": "stream",
          "text": [
            "['cheap', 'cheap quality', 'food', 'food good', 'food not', 'food tasty', 'good', 'means', 'means poor', 'not', 'not good', 'poor', 'poor means', 'poor poor', 'quality', 'quality good', 'service', 'service poor', 'tasty']\n"
          ]
        }
      ],
      "source": [
        "cv=CountVectorizer(binary=True,ngram_range=(1,2))\n",
        "sp_matrix=cv.fit_transform(corpus3) #returns sparse matrix\n",
        "dense_matrix=sp_matrix.toarray()\n",
        "print(cv.get_feature_names())"
      ]
    },
    {
      "cell_type": "code",
      "execution_count": null,
      "id": "a798e3b6-5358-4bb8-b15f-582767c813e8",
      "metadata": {
        "id": "a798e3b6-5358-4bb8-b15f-582767c813e8",
        "outputId": "2fc2d939-0bb8-4cea-a20e-b24f8ebfb83b"
      },
      "outputs": [
        {
          "name": "stdout",
          "output_type": "stream",
          "text": [
            "['cheap', 'food', 'good', 'poor', 'poor poor', 'poor poor means', 'quality', 'quality good', 'service', 'service poor']\n"
          ]
        }
      ],
      "source": [
        "cv=CountVectorizer(binary=False,ngram_range=(1,3),max_features=10)\n",
        "sp_matrix=cv.fit_transform(corpus3) #returns sparse matrix\n",
        "dense_matrix=sp_matrix.toarray()\n",
        "print(cv.get_feature_names())"
      ]
    },
    {
      "cell_type": "code",
      "execution_count": null,
      "id": "07d47df0-2a76-4d15-ba5a-5096f1e1e198",
      "metadata": {
        "id": "07d47df0-2a76-4d15-ba5a-5096f1e1e198",
        "outputId": "e3401a60-e388-40db-9f61-93642a726728"
      },
      "outputs": [
        {
          "data": {
            "text/plain": [
              "array([[0, 1, 1, 0, 0, 0, 0, 0, 0, 0],\n",
              "       [0, 1, 0, 0, 0, 0, 0, 0, 0, 0],\n",
              "       [0, 0, 1, 0, 0, 0, 1, 1, 0, 0],\n",
              "       [0, 0, 0, 3, 1, 1, 0, 0, 1, 1],\n",
              "       [0, 1, 1, 0, 0, 0, 0, 0, 0, 0],\n",
              "       [1, 0, 0, 0, 0, 0, 1, 0, 0, 0]], dtype=int64)"
            ]
          },
          "execution_count": 34,
          "metadata": {},
          "output_type": "execute_result"
        }
      ],
      "source": [
        "dense_matrix"
      ]
    },
    {
      "cell_type": "code",
      "execution_count": null,
      "id": "4ba2db73-a29b-467f-b116-048720cfaae8",
      "metadata": {
        "id": "4ba2db73-a29b-467f-b116-048720cfaae8",
        "outputId": "fb921b0d-e056-4bf3-8430-8f8cc98cf5e1"
      },
      "outputs": [
        {
          "data": {
            "text/plain": [
              "['food good',\n",
              " 'food tasty',\n",
              " 'quality good',\n",
              " 'service poor poor means poor',\n",
              " 'food not good',\n",
              " 'cheap quality']"
            ]
          },
          "execution_count": 37,
          "metadata": {},
          "output_type": "execute_result"
        }
      ],
      "source": [
        "corpus3"
      ]
    },
    {
      "cell_type": "code",
      "execution_count": null,
      "id": "8bf89a4c-1ca1-4a89-9610-3d2ddf0080c8",
      "metadata": {
        "id": "8bf89a4c-1ca1-4a89-9610-3d2ddf0080c8"
      },
      "outputs": [],
      "source": [
        "from sklearn.feature_extraction.text import TfidfVectorizer"
      ]
    },
    {
      "cell_type": "code",
      "execution_count": null,
      "id": "3ad141d2-8575-40f8-992c-83003d096b3f",
      "metadata": {
        "id": "3ad141d2-8575-40f8-992c-83003d096b3f",
        "outputId": "63f3c623-6ee5-421b-b26f-6d886abe5e80"
      },
      "outputs": [
        {
          "name": "stdout",
          "output_type": "stream",
          "text": [
            "['cheap', 'food', 'good', 'means', 'not', 'poor', 'quality', 'service', 'tasty']\n"
          ]
        },
        {
          "data": {
            "text/plain": [
              "array([[0.        , 0.70710678, 0.70710678, 0.        , 0.        ,\n",
              "        0.        , 0.        , 0.        , 0.        ],\n",
              "       [0.        , 0.56921261, 0.        , 0.        , 0.        ,\n",
              "        0.        , 0.        , 0.        , 0.82219037],\n",
              "       [0.        , 0.        , 0.64510243, 0.        , 0.        ,\n",
              "        0.        , 0.7640961 , 0.        , 0.        ],\n",
              "       [0.        , 0.        , 0.        , 0.30151134, 0.        ,\n",
              "        0.90453403, 0.        , 0.30151134, 0.        ],\n",
              "       [0.        , 0.49468646, 0.49468646, 0.        , 0.71454223,\n",
              "        0.        , 0.        , 0.        , 0.        ],\n",
              "       [0.77326237, 0.        , 0.        , 0.        , 0.        ,\n",
              "        0.        , 0.6340862 , 0.        , 0.        ]])"
            ]
          },
          "execution_count": 39,
          "metadata": {},
          "output_type": "execute_result"
        }
      ],
      "source": [
        "tv=TfidfVectorizer(binary=False,ngram_range=(1,1))\n",
        "dense_matrix=tv.fit_transform(corpus3).toarray()\n",
        "print(tv.get_feature_names())\n",
        "dense_matrix"
      ]
    },
    {
      "cell_type": "code",
      "execution_count": null,
      "id": "b31e0205-0fcb-416b-8ea8-2553e3ea9441",
      "metadata": {
        "id": "b31e0205-0fcb-416b-8ea8-2553e3ea9441",
        "outputId": "4bbad151-d750-4ad0-f96b-87e9bb154553"
      },
      "outputs": [
        {
          "data": {
            "text/plain": [
              "2.2056074718770793"
            ]
          },
          "execution_count": 42,
          "metadata": {},
          "output_type": "execute_result"
        }
      ],
      "source": [
        "import numpy as np\n",
        "\n",
        "np.sqrt((1.5596*1.5596)*2)"
      ]
    },
    {
      "cell_type": "code",
      "execution_count": null,
      "id": "c4bc2b8e-9567-4f21-b388-6edf56c365ac",
      "metadata": {
        "id": "c4bc2b8e-9567-4f21-b388-6edf56c365ac",
        "outputId": "b83340e5-c0ac-4dd6-9c61-6866fcb46834"
      },
      "outputs": [
        {
          "data": {
            "text/plain": [
              "0.7071091766412768"
            ]
          },
          "execution_count": 43,
          "metadata": {},
          "output_type": "execute_result"
        }
      ],
      "source": [
        "1.5596/2.2056"
      ]
    },
    {
      "cell_type": "code",
      "execution_count": null,
      "id": "f04f6c19-174f-419a-9eba-ece6b592a395",
      "metadata": {
        "id": "f04f6c19-174f-419a-9eba-ece6b592a395",
        "outputId": "1be3b0eb-0073-43e1-b220-ffdfce9bd8cb"
      },
      "outputs": [
        {
          "name": "stdout",
          "output_type": "stream",
          "text": [
            "0.8333333333333334\n"
          ]
        },
        {
          "data": {
            "text/plain": [
              "array(['pos'], dtype='<U3')"
            ]
          },
          "execution_count": 49,
          "metadata": {},
          "output_type": "execute_result"
        }
      ],
      "source": [
        "from sklearn.linear_model import LogisticRegression\n",
        "cv=CountVectorizer()\n",
        "sp_matrix=cv.fit_transform(corpus3) #returns sparse matrix\n",
        "dense_matrix=sp_matrix.toarray()\n",
        "model=LogisticRegression()\n",
        "model.fit(dense_matrix,target)\n",
        "print(model.score(dense_matrix,target))\n",
        "sample=\"Food quality was not G_ood\"\n",
        "sample1=sample.lower()\n",
        "sample2=remove_punch(sample1)\n",
        "sample3=remove_sp(sample2)\n",
        "sample4=cv.transform([sample3]).toarray()\n",
        "model.predict(sample4)"
      ]
    },
    {
      "cell_type": "code",
      "execution_count": null,
      "id": "e7253171-417d-4b2b-93cd-358547b0ca1b",
      "metadata": {
        "id": "e7253171-417d-4b2b-93cd-358547b0ca1b",
        "outputId": "26676be3-c232-41c9-b3a2-ecff3da57e2f"
      },
      "outputs": [
        {
          "name": "stdout",
          "output_type": "stream",
          "text": [
            "1.0\n"
          ]
        },
        {
          "data": {
            "text/plain": [
              "array(['neg'], dtype='<U3')"
            ]
          },
          "execution_count": 50,
          "metadata": {},
          "output_type": "execute_result"
        }
      ],
      "source": [
        "from sklearn.linear_model import LogisticRegression\n",
        "cv=CountVectorizer(ngram_range=(1,2))\n",
        "sp_matrix=cv.fit_transform(corpus3) #returns sparse matrix\n",
        "dense_matrix=sp_matrix.toarray()\n",
        "model=LogisticRegression()\n",
        "model.fit(dense_matrix,target)\n",
        "print(model.score(dense_matrix,target))\n",
        "sample=\"Food quality was not G_ood\"\n",
        "sample1=sample.lower()\n",
        "sample2=remove_punch(sample1)\n",
        "sample3=remove_sp(sample2)\n",
        "sample4=cv.transform([sample3]).toarray()\n",
        "model.predict(sample4)"
      ]
    },
    {
      "cell_type": "code",
      "execution_count": null,
      "id": "a0290dcc-6444-442a-a5a1-befabc91ca03",
      "metadata": {
        "id": "a0290dcc-6444-442a-a5a1-befabc91ca03",
        "outputId": "54fd0ccb-c9bb-407e-b76d-997b8ef10ff1"
      },
      "outputs": [
        {
          "name": "stdout",
          "output_type": "stream",
          "text": [
            "1.0\n"
          ]
        },
        {
          "data": {
            "text/plain": [
              "array(['pos'], dtype='<U3')"
            ]
          },
          "execution_count": 51,
          "metadata": {},
          "output_type": "execute_result"
        }
      ],
      "source": [
        "from sklearn.linear_model import LogisticRegression\n",
        "cv=CountVectorizer(binary=True)\n",
        "sp_matrix=cv.fit_transform(corpus3) #returns sparse matrix\n",
        "dense_matrix=sp_matrix.toarray()\n",
        "model=LogisticRegression()\n",
        "model.fit(dense_matrix,target)\n",
        "print(model.score(dense_matrix,target))\n",
        "sample=\"Food quality was not G_ood\"\n",
        "sample1=sample.lower()\n",
        "sample2=remove_punch(sample1)\n",
        "sample3=remove_sp(sample2)\n",
        "sample4=cv.transform([sample3]).toarray()\n",
        "model.predict(sample4)"
      ]
    },
    {
      "cell_type": "code",
      "execution_count": null,
      "id": "033ea131-a6df-43f6-a892-121acab77f3f",
      "metadata": {
        "id": "033ea131-a6df-43f6-a892-121acab77f3f",
        "outputId": "5c8be6bb-8189-46c2-e74e-dc4a700cbbdb"
      },
      "outputs": [
        {
          "name": "stdout",
          "output_type": "stream",
          "text": [
            "1.0\n"
          ]
        },
        {
          "data": {
            "text/plain": [
              "array(['neg'], dtype='<U3')"
            ]
          },
          "execution_count": 52,
          "metadata": {},
          "output_type": "execute_result"
        }
      ],
      "source": [
        "from sklearn.linear_model import LogisticRegression\n",
        "cv=CountVectorizer(binary=True,ngram_range=(1,2))\n",
        "sp_matrix=cv.fit_transform(corpus3) #returns sparse matrix\n",
        "dense_matrix=sp_matrix.toarray()\n",
        "model=LogisticRegression()\n",
        "model.fit(dense_matrix,target)\n",
        "print(model.score(dense_matrix,target))\n",
        "sample=\"Food quality was not G_ood\"\n",
        "sample1=sample.lower()\n",
        "sample2=remove_punch(sample1)\n",
        "sample3=remove_sp(sample2)\n",
        "sample4=cv.transform([sample3]).toarray()\n",
        "model.predict(sample4)"
      ]
    },
    {
      "cell_type": "code",
      "execution_count": null,
      "id": "e3f6b26d-c128-448f-9a8c-44e7c6a24c0d",
      "metadata": {
        "id": "e3f6b26d-c128-448f-9a8c-44e7c6a24c0d",
        "outputId": "343a213d-fc78-42a8-9b0f-b1fa5f0a4443"
      },
      "outputs": [
        {
          "name": "stdout",
          "output_type": "stream",
          "text": [
            "1.0\n"
          ]
        },
        {
          "data": {
            "text/plain": [
              "array(['neg'], dtype='<U3')"
            ]
          },
          "execution_count": 53,
          "metadata": {},
          "output_type": "execute_result"
        }
      ],
      "source": [
        "from sklearn.linear_model import LogisticRegression\n",
        "cv=TfidfVectorizer()\n",
        "sp_matrix=cv.fit_transform(corpus3) #returns sparse matrix\n",
        "dense_matrix=sp_matrix.toarray()\n",
        "model=LogisticRegression()\n",
        "model.fit(dense_matrix,target)\n",
        "print(model.score(dense_matrix,target))\n",
        "sample=\"Food quality was not G_ood\"\n",
        "sample1=sample.lower()\n",
        "sample2=remove_punch(sample1)\n",
        "sample3=remove_sp(sample2)\n",
        "sample4=cv.transform([sample3]).toarray()\n",
        "model.predict(sample4)"
      ]
    },
    {
      "cell_type": "code",
      "execution_count": null,
      "id": "f9966ad0-b15c-4312-8cad-f25fb4ac01b6",
      "metadata": {
        "id": "f9966ad0-b15c-4312-8cad-f25fb4ac01b6"
      },
      "outputs": [],
      "source": [
        "import pandas as pd"
      ]
    },
    {
      "cell_type": "code",
      "execution_count": null,
      "id": "b465852c-7842-4832-bb63-762e77aa11de",
      "metadata": {
        "id": "b465852c-7842-4832-bb63-762e77aa11de"
      },
      "outputs": [],
      "source": [
        ""
      ]
    }
  ],
  "metadata": {
    "kernelspec": {
      "display_name": "Python 3 (ipykernel)",
      "language": "python",
      "name": "python3"
    },
    "language_info": {
      "codemirror_mode": {
        "name": "ipython",
        "version": 3
      },
      "file_extension": ".py",
      "mimetype": "text/x-python",
      "name": "python",
      "nbconvert_exporter": "python",
      "pygments_lexer": "ipython3",
      "version": "3.9.7"
    },
    "colab": {
      "name": "Text_classification(countVectorizer_Tfdfvectorizer).ipynb",
      "provenance": [],
      "include_colab_link": true
    }
  },
  "nbformat": 4,
  "nbformat_minor": 5
}