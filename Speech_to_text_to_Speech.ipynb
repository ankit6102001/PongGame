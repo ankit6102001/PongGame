{
  "cells": [
    {
      "cell_type": "markdown",
      "metadata": {
        "id": "view-in-github",
        "colab_type": "text"
      },
      "source": [
        "<a href=\"https://colab.research.google.com/github/ankit6102001/Python-Machine-learning-Deep-learning/blob/main/Speech_to_text_to_Speech.ipynb\" target=\"_parent\"><img src=\"https://colab.research.google.com/assets/colab-badge.svg\" alt=\"Open In Colab\"/></a>"
      ]
    },
    {
      "cell_type": "code",
      "execution_count": null,
      "metadata": {
        "id": "hcVN6NREuJZA"
      },
      "outputs": [],
      "source": [
        "#Speech to Text:--"
      ]
    },
    {
      "cell_type": "code",
      "execution_count": null,
      "metadata": {
        "id": "9lw_WA9KuJZS"
      },
      "outputs": [],
      "source": [
        "#pip install pypiwin32"
      ]
    },
    {
      "cell_type": "code",
      "execution_count": null,
      "metadata": {
        "id": "V6-O7J8XuJZV"
      },
      "outputs": [],
      "source": [
        "#pip install pyttsx3"
      ]
    },
    {
      "cell_type": "code",
      "execution_count": null,
      "metadata": {
        "id": "Jr7RqApauJZY"
      },
      "outputs": [],
      "source": [
        "import pyttsx3\n",
        "engine=pyttsx3.init()\n",
        "engine.say(\"Python is a funny language\")\n",
        "engine.runAndWait()"
      ]
    },
    {
      "cell_type": "code",
      "execution_count": null,
      "metadata": {
        "id": "_Xb-qC3KuJZb"
      },
      "outputs": [],
      "source": [
        "#Slow\n",
        "import pyttsx3\n",
        "engine=pyttsx3.init()\n",
        "engine.setProperty(\"rate\",200)# word in a minute\n",
        "engine.say(\"Python is a funny language\")\n",
        "engine.runAndWait()"
      ]
    },
    {
      "cell_type": "code",
      "execution_count": null,
      "metadata": {
        "id": "2bGMSlBfuJZi"
      },
      "outputs": [],
      "source": [
        "#Volume\n",
        "import pyttsx3\n",
        "engine=pyttsx3.init()\n",
        "engine.setProperty(\"rate\",150)\n",
        "engine.setProperty(\"volume\",1)# word in a minute\n",
        "engine.say(\"Python is a funny language\")\n",
        "engine.runAndWait()"
      ]
    },
    {
      "cell_type": "code",
      "execution_count": null,
      "metadata": {
        "id": "xRB1TuRkuJZl"
      },
      "outputs": [],
      "source": [
        "#Set voice:\n",
        "\n",
        "import pyttsx3\n",
        "engine=pyttsx3.init()\n",
        "engine.setProperty(\"rate\",150)\n",
        "engine.setProperty(\"volume\",1)# word in a minute\n",
        "voices=engine.getProperty(\"voices\")\n",
        "engine.setProperty(\"voice\",voices[1].id) #Female voice\n",
        "engine.say(\"Python is a funny language\")\n",
        "engine.runAndWait()"
      ]
    },
    {
      "cell_type": "code",
      "execution_count": null,
      "metadata": {
        "id": "Q1OkTK7suJZp"
      },
      "outputs": [],
      "source": [
        "#Massege from user\n",
        "import pyttsx3\n",
        "engine=pyttsx3.init()\n",
        "msg=input(\"Enter a Massage:\")\n",
        "engine.say(msg)\n",
        "engine.runAndWait()"
      ]
    },
    {
      "cell_type": "code",
      "execution_count": null,
      "metadata": {
        "id": "xqp__ax5uJZu"
      },
      "outputs": [],
      "source": [
        "pip install SpeechRecognition"
      ]
    },
    {
      "cell_type": "code",
      "execution_count": null,
      "metadata": {
        "id": "BSC8rLA8uJZ3"
      },
      "outputs": [],
      "source": [
        "conda install pyaudio"
      ]
    },
    {
      "cell_type": "code",
      "execution_count": null,
      "metadata": {
        "id": "i-FUCkUGuJZ6"
      },
      "outputs": [],
      "source": [
        "pip install pyaudio"
      ]
    },
    {
      "cell_type": "code",
      "execution_count": null,
      "metadata": {
        "id": "ZlV9TUe1uJZ8"
      },
      "outputs": [],
      "source": [
        "import speech_recognition as sr\n",
        "r=sr.Recognizer()\n",
        "print(\"Recognizer initialized\")\n",
        "with sr.Microphone(device_index=1) as mic:\n",
        "    print(\"speack\")\n",
        "    r.adjust_for_ambient_noise(mic)\n",
        "    audio=r.listen(mic)\n",
        "    try:\n",
        "        text=r.recognize_google(audio)\n",
        "        print(text)\n",
        "    except Exception as e:\n",
        "        print(str(e))"
      ]
    },
    {
      "cell_type": "code",
      "execution_count": null,
      "metadata": {
        "id": "zmusXQdWuJaE"
      },
      "outputs": [],
      "source": [
        ""
      ]
    }
  ],
  "metadata": {
    "kernelspec": {
      "display_name": "Python 3",
      "language": "python",
      "name": "python3"
    },
    "language_info": {
      "codemirror_mode": {
        "name": "ipython",
        "version": 3
      },
      "file_extension": ".py",
      "mimetype": "text/x-python",
      "name": "python",
      "nbconvert_exporter": "python",
      "pygments_lexer": "ipython3",
      "version": "3.7.4"
    },
    "colab": {
      "name": "Speech to text to Speech.ipynb",
      "provenance": [],
      "include_colab_link": true
    }
  },
  "nbformat": 4,
  "nbformat_minor": 0
}