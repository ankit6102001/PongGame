{
  "cells": [
    {
      "cell_type": "markdown",
      "metadata": {
        "id": "view-in-github",
        "colab_type": "text"
      },
      "source": [
        "<a href=\"https://colab.research.google.com/github/ankit6102001/Python-Machine-learning-Deep-learning/blob/main/CNN_and_data_augmentation.ipynb\" target=\"_parent\"><img src=\"https://colab.research.google.com/assets/colab-badge.svg\" alt=\"Open In Colab\"/></a>"
      ]
    },
    {
      "cell_type": "code",
      "execution_count": null,
      "id": "b45841af-9e9c-4fc6-9d25-ef9605b0117b",
      "metadata": {
        "id": "b45841af-9e9c-4fc6-9d25-ef9605b0117b"
      },
      "outputs": [],
      "source": [
        "from tensorflow.keras.datasets import mnist "
      ]
    },
    {
      "cell_type": "code",
      "execution_count": null,
      "id": "90107255-8cc0-451d-a428-ead2470b5abb",
      "metadata": {
        "id": "90107255-8cc0-451d-a428-ead2470b5abb"
      },
      "outputs": [],
      "source": [
        "(X_train,y_train),(X_test,y_test)=mnist.load_data()"
      ]
    },
    {
      "cell_type": "code",
      "execution_count": null,
      "id": "028f2ce2-82c4-4444-97aa-5f4b72b232be",
      "metadata": {
        "id": "028f2ce2-82c4-4444-97aa-5f4b72b232be",
        "outputId": "2939e357-de58-46d3-fc1d-9236014da067"
      },
      "outputs": [
        {
          "data": {
            "text/plain": [
              "'2.8.0'"
            ]
          },
          "execution_count": 12,
          "metadata": {},
          "output_type": "execute_result"
        }
      ],
      "source": [
        "import tensorflow as tf\n",
        "tf.__version__"
      ]
    },
    {
      "cell_type": "code",
      "execution_count": null,
      "id": "dd5a95b4-7542-42c8-af78-164bf4509d5b",
      "metadata": {
        "id": "dd5a95b4-7542-42c8-af78-164bf4509d5b"
      },
      "outputs": [],
      "source": [
        "from tensorflow.keras.models import Sequential\n",
        "from tensorflow.keras.layers import Dense,Flatten,Conv2D,MaxPooling2D\n",
        "import cv2\n",
        "import numpy as np"
      ]
    },
    {
      "cell_type": "code",
      "execution_count": null,
      "id": "8e2ba55d-0c04-47dc-8b14-c2a992e1877e",
      "metadata": {
        "id": "8e2ba55d-0c04-47dc-8b14-c2a992e1877e"
      },
      "outputs": [],
      "source": [
        "X_train=X_train/255.0\n",
        "X_test=X_test/255.0"
      ]
    },
    {
      "cell_type": "code",
      "execution_count": null,
      "id": "647965ee-001b-4742-bb6f-ce5180faef1a",
      "metadata": {
        "id": "647965ee-001b-4742-bb6f-ce5180faef1a",
        "outputId": "c3f13239-c0d3-4fd6-f766-28214ae6cd77"
      },
      "outputs": [
        {
          "name": "stdout",
          "output_type": "stream",
          "text": [
            "Epoch 1/5\n",
            "600/600 [==============================] - 32s 53ms/step - loss: 1.1870 - accuracy: 0.6155\n",
            "Epoch 2/5\n",
            "600/600 [==============================] - 31s 52ms/step - loss: 0.4056 - accuracy: 0.8791\n",
            "Epoch 3/5\n",
            "600/600 [==============================] - 32s 53ms/step - loss: 0.3291 - accuracy: 0.9015\n",
            "Epoch 4/5\n",
            "600/600 [==============================] - 32s 54ms/step - loss: 0.2871 - accuracy: 0.9151\n",
            "Epoch 5/5\n",
            "600/600 [==============================] - 31s 52ms/step - loss: 0.2535 - accuracy: 0.9255\n"
          ]
        },
        {
          "data": {
            "text/plain": [
              "<keras.callbacks.History at 0x20450b85ca0>"
            ]
          },
          "execution_count": 23,
          "metadata": {},
          "output_type": "execute_result"
        }
      ],
      "source": [
        "model=Sequential()\n",
        "model.add(Conv2D(64,kernel_size=(3,3),strides=(1,1),activation='relu',padding='same',input_shape=(28,28,1)))\n",
        "model.add(MaxPooling2D(pool_size=(2,2)))\n",
        "model.add(Flatten())\n",
        "model.add(Dense(100,activation='relu'))\n",
        "model.add(Dense(50,activation='relu'))\n",
        "model.add(Dense(10,activation='softmax'))\n",
        "model.compile(optimizer='adam',loss='sparse_categorical_crossentropy',metrics=['accuracy'])\n",
        "model.fit(X_train,y_train,epochs=5,batch_size=100)"
      ]
    },
    {
      "cell_type": "code",
      "execution_count": null,
      "id": "8279054c-5b25-499e-bac4-72933eb83f41",
      "metadata": {
        "id": "8279054c-5b25-499e-bac4-72933eb83f41",
        "outputId": "4b80ce10-41eb-4155-fee2-3e018536cfd4"
      },
      "outputs": [
        {
          "name": "stdout",
          "output_type": "stream",
          "text": [
            "313/313 [==============================] - 2s 7ms/step - loss: 0.2344 - accuracy: 0.9304\n"
          ]
        },
        {
          "data": {
            "text/plain": [
              "[0.23436854779720306, 0.930400013923645]"
            ]
          },
          "execution_count": 24,
          "metadata": {},
          "output_type": "execute_result"
        }
      ],
      "source": [
        "model.evaluate(X_test,y_test)"
      ]
    },
    {
      "cell_type": "code",
      "execution_count": null,
      "id": "bdfeba37-b5a2-4c65-8a29-a5d6f03d9409",
      "metadata": {
        "id": "bdfeba37-b5a2-4c65-8a29-a5d6f03d9409",
        "outputId": "f4cf0278-da26-4495-88c0-0315cfc4ae48"
      },
      "outputs": [
        {
          "data": {
            "text/plain": [
              "3"
            ]
          },
          "execution_count": 25,
          "metadata": {},
          "output_type": "execute_result"
        }
      ],
      "source": [
        "img=cv2.imread(\"d:/hand_digits/3.png\")\n",
        "gray=cv2.cvtColor(img,cv2.COLOR_BGR2GRAY)\n",
        "gray=gray/255.0\n",
        "probs=model.predict(gray.reshape(1,28,28))\n",
        "np.argmax(probs)"
      ]
    },
    {
      "cell_type": "code",
      "execution_count": null,
      "id": "fc2de1a7-0c50-44ab-8e86-79cd1abacbf3",
      "metadata": {
        "id": "fc2de1a7-0c50-44ab-8e86-79cd1abacbf3",
        "outputId": "a774f79f-42bb-4cb1-f9cd-8eac7f030c52"
      },
      "outputs": [
        {
          "data": {
            "text/plain": [
              "2"
            ]
          },
          "execution_count": 26,
          "metadata": {},
          "output_type": "execute_result"
        }
      ],
      "source": [
        "img=cv2.imread(\"d:/hand_digits/7.png\")\n",
        "gray=cv2.cvtColor(img,cv2.COLOR_BGR2GRAY)\n",
        "gray=gray/255.0\n",
        "probs=model.predict(gray.reshape(1,28,28))\n",
        "np.argmax(probs)"
      ]
    },
    {
      "cell_type": "code",
      "execution_count": null,
      "id": "4b45a660-e839-4bc2-8765-b647bdcb3d16",
      "metadata": {
        "id": "4b45a660-e839-4bc2-8765-b647bdcb3d16"
      },
      "outputs": [],
      "source": [
        "layers=model.layers"
      ]
    },
    {
      "cell_type": "code",
      "execution_count": null,
      "id": "802ec532-2b47-499c-8cd2-bb865f7cea74",
      "metadata": {
        "id": "802ec532-2b47-499c-8cd2-bb865f7cea74",
        "outputId": "6f78ef7e-4285-480e-95d7-9a6acdffa566"
      },
      "outputs": [
        {
          "name": "stdout",
          "output_type": "stream",
          "text": [
            "<keras.layers.convolutional.Conv2D object at 0x000002044F1BB940> 640\n",
            "<keras.layers.pooling.MaxPooling2D object at 0x000002044F3C9700> 0\n",
            "<keras.layers.core.flatten.Flatten object at 0x000002044F097070> 0\n",
            "<keras.layers.core.dense.Dense object at 0x000002043347BB20> 1254500\n",
            "<keras.layers.core.dense.Dense object at 0x000002044F3C9670> 5050\n",
            "<keras.layers.core.dense.Dense object at 0x0000020450B7A5B0> 510\n"
          ]
        }
      ],
      "source": [
        "for l in layers:\n",
        "    print(l,l.count_params())"
      ]
    },
    {
      "cell_type": "code",
      "execution_count": null,
      "id": "ac61a690-70c9-462a-b953-0b0a94677027",
      "metadata": {
        "id": "ac61a690-70c9-462a-b953-0b0a94677027"
      },
      "outputs": [],
      "source": [
        "from tensorflow.keras.preprocessing.image import ImageDataGenerator"
      ]
    },
    {
      "cell_type": "code",
      "execution_count": null,
      "id": "a0d754e7-d5e8-4b0a-abe5-82f500fe910b",
      "metadata": {
        "id": "a0d754e7-d5e8-4b0a-abe5-82f500fe910b"
      },
      "outputs": [],
      "source": [
        "gen=ImageDataGenerator(vertical_flip=True,horizontal_flip=True,rotation_range=20,zoom_range=3)"
      ]
    },
    {
      "cell_type": "code",
      "execution_count": null,
      "id": "ad52ec9e-9f35-4673-aef8-024b7fbd5b8b",
      "metadata": {
        "id": "ad52ec9e-9f35-4673-aef8-024b7fbd5b8b",
        "outputId": "eee16f7a-1bb3-42fe-fb51-20235865f833"
      },
      "outputs": [
        {
          "name": "stdout",
          "output_type": "stream",
          "text": [
            "Found 2 images belonging to 2 classes.\n"
          ]
        }
      ],
      "source": [
        "itr=gen.flow_from_directory(\"d:/images/animals/\",save_to_dir=\"d:/images/aug_imgs/\",save_format='png',save_prefix='myimg')"
      ]
    },
    {
      "cell_type": "code",
      "execution_count": null,
      "id": "77946a0d-3eb2-40f3-8714-2b26473f8f86",
      "metadata": {
        "id": "77946a0d-3eb2-40f3-8714-2b26473f8f86"
      },
      "outputs": [],
      "source": [
        "for i in range(20):\n",
        "    itr.next()"
      ]
    },
    {
      "cell_type": "code",
      "execution_count": null,
      "id": "c43c0b3a-f7a2-407d-b380-c805efaee591",
      "metadata": {
        "id": "c43c0b3a-f7a2-407d-b380-c805efaee591"
      },
      "outputs": [],
      "source": [
        ""
      ]
    }
  ],
  "metadata": {
    "kernelspec": {
      "display_name": "Python 3 (ipykernel)",
      "language": "python",
      "name": "python3"
    },
    "language_info": {
      "codemirror_mode": {
        "name": "ipython",
        "version": 3
      },
      "file_extension": ".py",
      "mimetype": "text/x-python",
      "name": "python",
      "nbconvert_exporter": "python",
      "pygments_lexer": "ipython3",
      "version": "3.9.7"
    },
    "colab": {
      "name": "CNN and data augmentation.ipynb",
      "provenance": [],
      "include_colab_link": true
    }
  },
  "nbformat": 4,
  "nbformat_minor": 5
}