{
  "cells": [
    {
      "cell_type": "markdown",
      "metadata": {
        "id": "view-in-github",
        "colab_type": "text"
      },
      "source": [
        "<a href=\"https://colab.research.google.com/github/ankit6102001/Python-Machine-learning-Deep-learning/blob/main/Naive_bayes.ipynb\" target=\"_parent\"><img src=\"https://colab.research.google.com/assets/colab-badge.svg\" alt=\"Open In Colab\"/></a>"
      ]
    },
    {
      "cell_type": "code",
      "execution_count": null,
      "id": "f6e7b821-83e0-40d3-94bc-8301fa82cabd",
      "metadata": {
        "id": "f6e7b821-83e0-40d3-94bc-8301fa82cabd"
      },
      "outputs": [],
      "source": [
        "import re\n",
        "from nltk.corpus import stopwords\n",
        "from nltk.tokenize import word_tokenize\n",
        "import pandas as pd\n",
        "from sklearn.feature_extraction.text import CountVectorizer\n",
        "from sklearn.feature_extraction.text import TfidfVectorizer\n",
        "from sklearn.linear_model import LogisticRegression\n",
        "from sklearn.model_selection import train_test_split"
      ]
    },
    {
      "cell_type": "code",
      "execution_count": null,
      "id": "1878676c-8562-4592-bf99-ae8cf3bca87f",
      "metadata": {
        "id": "1878676c-8562-4592-bf99-ae8cf3bca87f"
      },
      "outputs": [],
      "source": [
        "df=pd.read_csv(\"d:/dataset/sentiment/Restaurant_Reviews.txt\",sep=\"\\t\")\n",
        "corpus=df.Review\n",
        "target=df.Liked"
      ]
    },
    {
      "cell_type": "code",
      "execution_count": null,
      "id": "717218d6-7e49-4e20-a38d-f5423e63fc3a",
      "metadata": {
        "id": "717218d6-7e49-4e20-a38d-f5423e63fc3a"
      },
      "outputs": [],
      "source": [
        "sw=stopwords.words(\"english\")\n",
        "sw.remove('not')\n",
        "\n",
        "def remove_punch(doc):\n",
        "    return re.sub(\"[^a-z ]\",\"\",doc).strip()\n",
        "\n",
        "def remove_sp(doc):\n",
        "    tokens=word_tokenize(doc)\n",
        "    s2=\"\"\n",
        "    for i in tokens:\n",
        "        if(i not in sw):\n",
        "            s2=s2+i+\" \"\n",
        "    return s2.strip()\n",
        "\n",
        "def text_cleaning(doc):\n",
        "    doc=doc.lower()\n",
        "    doc=remove_punch(doc)\n",
        "    doc=remove_sp(doc)\n",
        "    return doc\n",
        "\n",
        "cleaned_corpus=list(map(text_cleaning,corpus))\n",
        "X_train,X_test,y_train,y_test=train_test_split(cleaned_corpus,target,random_state=10)"
      ]
    },
    {
      "cell_type": "code",
      "execution_count": null,
      "id": "e7253171-417d-4b2b-93cd-358547b0ca1b",
      "metadata": {
        "id": "e7253171-417d-4b2b-93cd-358547b0ca1b",
        "outputId": "bf1e0403-d19e-47c2-96d7-df4810c26ff2"
      },
      "outputs": [
        {
          "name": "stdout",
          "output_type": "stream",
          "text": [
            "Total features: 4919\n",
            "Training Score: 0.9986666666666667\n",
            "Testing Score: 0.868\n"
          ]
        }
      ],
      "source": [
        "cv=CountVectorizer(binary=False,ngram_range=(1,2))\n",
        "X_train_new=cv.fit_transform(X_train).toarray() \n",
        "X_test_new=cv.transform(X_test)\n",
        "print(\"Total features:\",len(cv.get_feature_names()))\n",
        "model=LogisticRegression()\n",
        "model.fit(X_train_new,y_train)\n",
        "print(\"Training Score:\",model.score(X_train_new,y_train))\n",
        "print(\"Testing Score:\",model.score(X_test_new,y_test))"
      ]
    },
    {
      "cell_type": "code",
      "execution_count": null,
      "id": "f5423835-5d61-4111-893b-a3fadd2d5344",
      "metadata": {
        "id": "f5423835-5d61-4111-893b-a3fadd2d5344",
        "outputId": "9880b4fc-19c8-41a6-b815-ccfcda7f8cf9"
      },
      "outputs": [
        {
          "name": "stdin",
          "output_type": "stream",
          "text": [
            "enter review: good taste\n"
          ]
        },
        {
          "name": "stdout",
          "output_type": "stream",
          "text": [
            "pos?\n"
          ]
        }
      ],
      "source": [
        "review=input(\"enter review:\")\n",
        "cleaned_review=text_cleaning(review)\n",
        "test=cv.transform([cleaned_review])\n",
        "pred=model.predict(test)\n",
        "if(pred[0]==0):\n",
        "    print(\"neg\")\n",
        "else:\n",
        "    print(\"pos\")"
      ]
    },
    {
      "cell_type": "code",
      "execution_count": null,
      "id": "e5da7d41-ad7d-4533-b1aa-b0a923ba134d",
      "metadata": {
        "id": "e5da7d41-ad7d-4533-b1aa-b0a923ba134d"
      },
      "outputs": [],
      "source": [
        "from sklearn.naive_bayes import BernoulliNB,MultinomialNB,GaussianNB"
      ]
    },
    {
      "cell_type": "code",
      "execution_count": null,
      "id": "0e9c7862-6d0d-4d1d-9908-5643f7c7cde4",
      "metadata": {
        "id": "0e9c7862-6d0d-4d1d-9908-5643f7c7cde4",
        "outputId": "5b9d9d80-9af5-4932-834d-e86749873f85"
      },
      "outputs": [
        {
          "name": "stdout",
          "output_type": "stream",
          "text": [
            "Training Score: 0.9653333333333334\n",
            "Testing Score: 0.764\n"
          ]
        }
      ],
      "source": [
        "cv=CountVectorizer(binary=True,ngram_range=(1,1))\n",
        "X_train_new=cv.fit_transform(X_train).toarray() \n",
        "X_test_new=cv.transform(X_test)\n",
        "model=BernoulliNB()\n",
        "model.fit(X_train_new,y_train)\n",
        "print(\"Training Score:\",model.score(X_train_new,y_train))\n",
        "print(\"Testing Score:\",model.score(X_test_new,y_test))"
      ]
    },
    {
      "cell_type": "code",
      "execution_count": null,
      "id": "9eb2f08a-33c8-44fe-a670-e63dacffa9f7",
      "metadata": {
        "id": "9eb2f08a-33c8-44fe-a670-e63dacffa9f7",
        "outputId": "62094a66-73d9-4cb6-8881-2a3936fbb056"
      },
      "outputs": [
        {
          "name": "stdout",
          "output_type": "stream",
          "text": [
            "Training Score: 0.992\n",
            "Testing Score: 0.82\n"
          ]
        }
      ],
      "source": [
        "cv=CountVectorizer(binary=False,ngram_range=(1,2))\n",
        "X_train_new=cv.fit_transform(X_train).toarray() \n",
        "X_test_new=cv.transform(X_test)\n",
        "model=MultinomialNB()\n",
        "model.fit(X_train_new,y_train)\n",
        "print(\"Training Score:\",model.score(X_train_new,y_train))\n",
        "print(\"Testing Score:\",model.score(X_test_new,y_test))"
      ]
    },
    {
      "cell_type": "code",
      "execution_count": null,
      "id": "b52be2c0-56b0-4bd4-8992-95e9277cc23e",
      "metadata": {
        "id": "b52be2c0-56b0-4bd4-8992-95e9277cc23e",
        "outputId": "bb57b7a2-2657-4f7d-c0ef-6c8789e37c01"
      },
      "outputs": [
        {
          "name": "stdout",
          "output_type": "stream",
          "text": [
            "Training Score: 0.9986666666666667\n",
            "Testing Score: 0.692\n"
          ]
        }
      ],
      "source": [
        "tv=TfidfVectorizer(ngram_range=(1,2))\n",
        "X_train_new=tv.fit_transform(X_train).toarray() \n",
        "X_test_new=tv.transform(X_test).toarray()\n",
        "model=GaussianNB()\n",
        "model.fit(X_train_new,y_train)\n",
        "print(\"Training Score:\",model.score(X_train_new,y_train))\n",
        "print(\"Testing Score:\",model.score(X_test_new,y_test))"
      ]
    },
    {
      "cell_type": "code",
      "execution_count": null,
      "id": "2b5b8867-aad2-48bb-b18c-2a247296427d",
      "metadata": {
        "id": "2b5b8867-aad2-48bb-b18c-2a247296427d"
      },
      "outputs": [],
      "source": [
        ""
      ]
    }
  ],
  "metadata": {
    "kernelspec": {
      "display_name": "Python 3 (ipykernel)",
      "language": "python",
      "name": "python3"
    },
    "language_info": {
      "codemirror_mode": {
        "name": "ipython",
        "version": 3
      },
      "file_extension": ".py",
      "mimetype": "text/x-python",
      "name": "python",
      "nbconvert_exporter": "python",
      "pygments_lexer": "ipython3",
      "version": "3.9.7"
    },
    "colab": {
      "name": "Naive_bayes.ipynb",
      "provenance": [],
      "include_colab_link": true
    }
  },
  "nbformat": 4,
  "nbformat_minor": 5
}