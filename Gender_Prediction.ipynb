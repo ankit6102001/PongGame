{
  "cells": [
    {
      "cell_type": "markdown",
      "metadata": {
        "id": "view-in-github",
        "colab_type": "text"
      },
      "source": [
        "<a href=\"https://colab.research.google.com/github/ankit6102001/Python-Machine-learning-Deep-learning/blob/main/Gender_Prediction.ipynb\" target=\"_parent\"><img src=\"https://colab.research.google.com/assets/colab-badge.svg\" alt=\"Open In Colab\"/></a>"
      ]
    },
    {
      "cell_type": "code",
      "execution_count": null,
      "id": "21fd19bd-874e-48d0-95b4-175a53e22349",
      "metadata": {
        "id": "21fd19bd-874e-48d0-95b4-175a53e22349"
      },
      "outputs": [],
      "source": [
        "import cv2\n",
        "import numpy as np\n",
        "import glob"
      ]
    },
    {
      "cell_type": "code",
      "execution_count": null,
      "id": "6ff073f6-c5a6-41d5-b81a-8bda6405b49e",
      "metadata": {
        "id": "6ff073f6-c5a6-41d5-b81a-8bda6405b49e"
      },
      "outputs": [],
      "source": [
        "X=[]\n",
        "y=[]\n",
        "female_imgs=glob.glob(\"gender_images/female/*.*\")\n",
        "for img in female_imgs:\n",
        "    img_3d=cv2.imread(img)\n",
        "    gray_2d=cv2.cvtColor(img_3d,cv2.COLOR_BGR2GRAY)\n",
        "    gray_2d=cv2.resize(gray_2d,(90,90))\n",
        "    X.append(gray_2d.flatten())\n",
        "    y.append('female')"
      ]
    },
    {
      "cell_type": "code",
      "execution_count": null,
      "id": "a137ec42-c739-47c1-a68c-3a816f862d17",
      "metadata": {
        "id": "a137ec42-c739-47c1-a68c-3a816f862d17"
      },
      "outputs": [],
      "source": [
        "male_imgs=glob.glob(\"gender_images/male/*.*\")\n",
        "for img in male_imgs:\n",
        "    img_3d=cv2.imread(img)\n",
        "    gray_2d=cv2.cvtColor(img_3d,cv2.COLOR_BGR2GRAY)\n",
        "    gray_2d=cv2.resize(gray_2d,(90,90))\n",
        "    X.append(gray_2d.flatten())\n",
        "    y.append('male')"
      ]
    },
    {
      "cell_type": "code",
      "execution_count": null,
      "id": "88c86600-0d6d-4d47-a496-f53e40a88833",
      "metadata": {
        "id": "88c86600-0d6d-4d47-a496-f53e40a88833"
      },
      "outputs": [],
      "source": [
        "X_new=np.array(X)"
      ]
    },
    {
      "cell_type": "code",
      "execution_count": null,
      "id": "bba17eb0-16fc-4e51-aa26-a77ad3ad154d",
      "metadata": {
        "id": "bba17eb0-16fc-4e51-aa26-a77ad3ad154d",
        "outputId": "62cf4f6a-cca4-4370-914f-58f827006065"
      },
      "outputs": [
        {
          "data": {
            "text/plain": [
              "(300, 8100)"
            ]
          },
          "execution_count": 56,
          "metadata": {},
          "output_type": "execute_result"
        }
      ],
      "source": [
        "X_new.shape"
      ]
    },
    {
      "cell_type": "code",
      "execution_count": null,
      "id": "09b00962-1c59-4b1c-a0d0-e74cb46f4d01",
      "metadata": {
        "id": "09b00962-1c59-4b1c-a0d0-e74cb46f4d01",
        "outputId": "1d60e7d5-9fcc-4be1-a561-3feecfc69481"
      },
      "outputs": [
        {
          "data": {
            "text/plain": [
              "array([[138, 112,  91, ...,  29,  26,  27],\n",
              "       [150, 144, 149, ...,  89,  62,  46],\n",
              "       [ 84,  51,  53, ..., 243, 243, 239],\n",
              "       ...,\n",
              "       [139, 157, 114, ..., 117, 124,  55],\n",
              "       [138, 137, 136, ..., 108,  50,   7],\n",
              "       [ 36,  22,  39, ...,  35,  33,  27]], dtype=uint8)"
            ]
          },
          "execution_count": 10,
          "metadata": {},
          "output_type": "execute_result"
        }
      ],
      "source": [
        "X_new"
      ]
    },
    {
      "cell_type": "code",
      "execution_count": null,
      "id": "a0dfcf62-0736-451b-a31b-a9c5ea0c1c3c",
      "metadata": {
        "id": "a0dfcf62-0736-451b-a31b-a9c5ea0c1c3c"
      },
      "outputs": [],
      "source": [
        "X_new=X_new/255"
      ]
    },
    {
      "cell_type": "code",
      "execution_count": null,
      "id": "a17f2ee9-b07b-4efb-93b9-bd981c7fbd43",
      "metadata": {
        "id": "a17f2ee9-b07b-4efb-93b9-bd981c7fbd43",
        "outputId": "bdcf5e9f-4402-41f3-bda0-ad7c68fffed1"
      },
      "outputs": [
        {
          "data": {
            "text/plain": [
              "(300, 8100)"
            ]
          },
          "execution_count": 58,
          "metadata": {},
          "output_type": "execute_result"
        }
      ],
      "source": [
        "X_new.shape"
      ]
    },
    {
      "cell_type": "code",
      "execution_count": null,
      "id": "cc353e8f-bc82-43eb-873a-09f92b6300fa",
      "metadata": {
        "id": "cc353e8f-bc82-43eb-873a-09f92b6300fa"
      },
      "outputs": [],
      "source": [
        "from sklearn.decomposition import PCA"
      ]
    },
    {
      "cell_type": "code",
      "execution_count": null,
      "id": "f0989c88-d681-4ac5-962e-89b6a7e4b489",
      "metadata": {
        "id": "f0989c88-d681-4ac5-962e-89b6a7e4b489"
      },
      "outputs": [],
      "source": [
        "pca=PCA(.99)\n",
        "X_new_pca=pca.fit_transform(X_new)"
      ]
    },
    {
      "cell_type": "code",
      "execution_count": null,
      "id": "4b71fab9-095e-45d4-804a-98d78b1fd16b",
      "metadata": {
        "id": "4b71fab9-095e-45d4-804a-98d78b1fd16b",
        "outputId": "1652cecd-5a8a-4acf-def7-49ab8babaaf8"
      },
      "outputs": [
        {
          "data": {
            "text/plain": [
              "(300, 230)"
            ]
          },
          "execution_count": 61,
          "metadata": {},
          "output_type": "execute_result"
        }
      ],
      "source": [
        "X_new_pca.shape"
      ]
    },
    {
      "cell_type": "code",
      "execution_count": null,
      "id": "f3521679-d5ee-43a7-8a07-e3f2189c2a40",
      "metadata": {
        "id": "f3521679-d5ee-43a7-8a07-e3f2189c2a40"
      },
      "outputs": [],
      "source": [
        "from sklearn.linear_model import LogisticRegression"
      ]
    },
    {
      "cell_type": "code",
      "execution_count": null,
      "id": "0f404a9f-e493-45fa-8771-de0708933930",
      "metadata": {
        "id": "0f404a9f-e493-45fa-8771-de0708933930",
        "outputId": "223eed66-55b6-49f5-b668-022daf783970"
      },
      "outputs": [
        {
          "data": {
            "text/plain": [
              "LogisticRegression()"
            ]
          },
          "execution_count": 63,
          "metadata": {},
          "output_type": "execute_result"
        }
      ],
      "source": [
        "genderModel=LogisticRegression()\n",
        "genderModel.fit(X_new_pca,y)"
      ]
    },
    {
      "cell_type": "code",
      "execution_count": null,
      "id": "f805e56b-ef3a-4da5-a9b4-8e519b5b0618",
      "metadata": {
        "id": "f805e56b-ef3a-4da5-a9b4-8e519b5b0618",
        "outputId": "a1cb61ed-b7d0-4124-f929-8211fa813b92"
      },
      "outputs": [
        {
          "name": "stdout",
          "output_type": "stream",
          "text": [
            "['female'] [[0.82264466 0.17735534]]\n"
          ]
        }
      ],
      "source": [
        "img=cv2.imread(\"d:/m2.jpg\")\n",
        "gray=cv2.cvtColor(img,cv2.COLOR_BGR2GRAY)\n",
        "faceModel=cv2.CascadeClassifier(\"d:/dataset/haar/haarcascade_frontalface_default.xml\")\n",
        "faces=faceModel.detectMultiScale(gray)\n",
        "for x,y,w,h in faces:\n",
        "    face=gray[y:y+h,x:x+w]\n",
        "    #cv2.imwrite(\"face.png\",face)\n",
        "    face=cv2.resize(face,(90,90))\n",
        "    #print(face.shape)\n",
        "    face=face.flatten()\n",
        "    #print(face.shape)\n",
        "    face=face/255\n",
        "    face_pca=pca.transform([face])\n",
        "    #print(face_pca.shape)\n",
        "    print(genderModel.predict(face_pca),genderModel.predict_proba(face_pca))"
      ]
    },
    {
      "cell_type": "code",
      "execution_count": null,
      "id": "53e0dcc3-918d-47d5-9dae-f8fb45e7885b",
      "metadata": {
        "id": "53e0dcc3-918d-47d5-9dae-f8fb45e7885b"
      },
      "outputs": [],
      "source": [
        "vdo=cv2.VideoCapture(0)\n",
        "while(True):\n",
        "    flag,img=vdo.read()\n",
        "    if(flag==False):\n",
        "        break\n",
        "    cv2.putText(img,\"Press 'c' to cancel..\",(10,40),cv2.FONT_HERSHEY_PLAIN,2,(255,0,0),2)\n",
        "    cv2.imshow(\"image\",img)\n",
        "    key=cv2.waitKey(50)\n",
        "    if(key==ord('c')):\n",
        "        break\n",
        "cv2.destroyAllWindows()\n",
        "vdo.release()"
      ]
    },
    {
      "cell_type": "code",
      "execution_count": null,
      "id": "49b6f413-096e-4e83-8b03-9f025493cd65",
      "metadata": {
        "id": "49b6f413-096e-4e83-8b03-9f025493cd65"
      },
      "outputs": [],
      "source": [
        "vdo=cv2.VideoCapture(0)\n",
        "faceModel=cv2.CascadeClassifier(\"d:/dataset/haar/haarcascade_frontalface_default.xml\")\n",
        "i=1\n",
        "while(True):\n",
        "    flag,img=vdo.read()\n",
        "    if(flag==False):\n",
        "        break\n",
        "    cv2.putText(img,\"Press 'c' to cancel..\",(10,40),cv2.FONT_HERSHEY_PLAIN,2,(255,0,0),2)\n",
        "    gray=cv2.cvtColor(img,cv2.COLOR_BGR2GRAY)\n",
        "    faces=faceModel.detectMultiScale(gray)\n",
        "    for x,y,w,h in faces:\n",
        "        cv2.rectangle(img,(x,y,w,h),(0,0,255),2)   \n",
        "        face=gray[y:y+h,x:x+w]\n",
        "        cv2.imwrite(f\"Anmol/img{i}.png\",face)\n",
        "        i+=1\n",
        "    cv2.imshow(\"image\",img)\n",
        "    key=cv2.waitKey(50)\n",
        "    if(key==ord('c')):\n",
        "        break\n",
        "cv2.destroyAllWindows()\n",
        "vdo.release()"
      ]
    },
    {
      "cell_type": "code",
      "execution_count": null,
      "id": "4ddf9ddb-edf5-4041-8963-130286725367",
      "metadata": {
        "id": "4ddf9ddb-edf5-4041-8963-130286725367"
      },
      "outputs": [],
      "source": [
        ""
      ]
    }
  ],
  "metadata": {
    "kernelspec": {
      "display_name": "Python 3 (ipykernel)",
      "language": "python",
      "name": "python3"
    },
    "language_info": {
      "codemirror_mode": {
        "name": "ipython",
        "version": 3
      },
      "file_extension": ".py",
      "mimetype": "text/x-python",
      "name": "python",
      "nbconvert_exporter": "python",
      "pygments_lexer": "ipython3",
      "version": "3.9.7"
    },
    "colab": {
      "name": "Gender_Prediction.ipynb",
      "provenance": [],
      "include_colab_link": true
    }
  },
  "nbformat": 4,
  "nbformat_minor": 5
}