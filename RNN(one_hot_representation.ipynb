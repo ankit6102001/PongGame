{
  "cells": [
    {
      "cell_type": "markdown",
      "metadata": {
        "id": "view-in-github",
        "colab_type": "text"
      },
      "source": [
        "<a href=\"https://colab.research.google.com/github/ankit6102001/Python-Machine-learning-Deep-learning/blob/main/RNN(one_hot_representation.ipynb\" target=\"_parent\"><img src=\"https://colab.research.google.com/assets/colab-badge.svg\" alt=\"Open In Colab\"/></a>"
      ]
    },
    {
      "cell_type": "code",
      "execution_count": null,
      "id": "5de6c03f-446d-43c7-95a4-6d5c4c334a99",
      "metadata": {
        "id": "5de6c03f-446d-43c7-95a4-6d5c4c334a99"
      },
      "outputs": [],
      "source": [
        "corpus=['food is very good','food is tasty','awesome food']"
      ]
    },
    {
      "cell_type": "code",
      "execution_count": null,
      "id": "c0e434d0-ebfa-4ae3-a407-b39d178aedac",
      "metadata": {
        "id": "c0e434d0-ebfa-4ae3-a407-b39d178aedac"
      },
      "outputs": [],
      "source": [
        "from tensorflow.keras.preprocessing.text import Tokenizer"
      ]
    },
    {
      "cell_type": "code",
      "execution_count": null,
      "id": "e4e832a2-c549-4df6-9e3f-42d42e93b11f",
      "metadata": {
        "id": "e4e832a2-c549-4df6-9e3f-42d42e93b11f"
      },
      "outputs": [],
      "source": [
        "tk=Tokenizer()\n",
        "tk.fit_on_texts(corpus)"
      ]
    },
    {
      "cell_type": "code",
      "execution_count": null,
      "id": "906e37c5-0914-4bfc-b885-6207251791cd",
      "metadata": {
        "id": "906e37c5-0914-4bfc-b885-6207251791cd",
        "outputId": "58da485c-b10e-43c1-e463-e6d13f27d319"
      },
      "outputs": [
        {
          "name": "stdout",
          "output_type": "stream",
          "text": [
            "{'food': 1, 'is': 2, 'very': 3, 'good': 4, 'tasty': 5, 'awesome': 6}\n"
          ]
        }
      ],
      "source": [
        "print(tk.word_index)"
      ]
    },
    {
      "cell_type": "code",
      "execution_count": null,
      "id": "6401724e-8777-4c5c-b443-f2e7529f88e6",
      "metadata": {
        "id": "6401724e-8777-4c5c-b443-f2e7529f88e6"
      },
      "outputs": [],
      "source": [
        "seqs=tk.texts_to_sequences(corpus)"
      ]
    },
    {
      "cell_type": "code",
      "execution_count": null,
      "id": "96eb5df8-da11-4369-910d-62c93f233832",
      "metadata": {
        "id": "96eb5df8-da11-4369-910d-62c93f233832",
        "outputId": "6aef5643-ecab-404f-a904-92fb21763ab5"
      },
      "outputs": [
        {
          "data": {
            "text/plain": [
              "[[1, 2, 3, 4], [1, 2, 5], [6, 1]]"
            ]
          },
          "execution_count": 8,
          "metadata": {},
          "output_type": "execute_result"
        }
      ],
      "source": [
        "seqs"
      ]
    },
    {
      "cell_type": "code",
      "execution_count": null,
      "id": "36058f07-58a7-4362-be08-7fec027a74ab",
      "metadata": {
        "id": "36058f07-58a7-4362-be08-7fec027a74ab"
      },
      "outputs": [],
      "source": [
        "from tensorflow.keras.preprocessing.sequence import pad_sequences"
      ]
    },
    {
      "cell_type": "code",
      "execution_count": null,
      "id": "6d27ce6b-3931-4f13-83b2-20d03faa71bd",
      "metadata": {
        "id": "6d27ce6b-3931-4f13-83b2-20d03faa71bd"
      },
      "outputs": [],
      "source": [
        "seqs_samelen=pad_sequences(seqs,maxlen=3,padding='post',truncating='post')"
      ]
    },
    {
      "cell_type": "code",
      "execution_count": null,
      "id": "1ec2f611-3685-4a69-8c3a-f8b8517bfb13",
      "metadata": {
        "id": "1ec2f611-3685-4a69-8c3a-f8b8517bfb13",
        "outputId": "5ae370c5-77b4-437d-a198-c269dd5cb9c5"
      },
      "outputs": [
        {
          "data": {
            "text/plain": [
              "array([[1, 2, 3],\n",
              "       [1, 2, 5],\n",
              "       [6, 1, 0]])"
            ]
          },
          "execution_count": 11,
          "metadata": {},
          "output_type": "execute_result"
        }
      ],
      "source": [
        "seqs_samelen"
      ]
    },
    {
      "cell_type": "code",
      "execution_count": null,
      "id": "e97f1ddc-e2af-48b4-bd5d-c36b168294d6",
      "metadata": {
        "id": "e97f1ddc-e2af-48b4-bd5d-c36b168294d6"
      },
      "outputs": [],
      "source": [
        "from tensorflow.keras.utils import to_categorical"
      ]
    },
    {
      "cell_type": "code",
      "execution_count": null,
      "id": "8bc6a2ba-67d4-4c32-9cf7-c5d14b0d23b0",
      "metadata": {
        "id": "8bc6a2ba-67d4-4c32-9cf7-c5d14b0d23b0"
      },
      "outputs": [],
      "source": [
        "one_hot=to_categorical(seqs_samelen)"
      ]
    },
    {
      "cell_type": "code",
      "execution_count": null,
      "id": "8a3f478b-59e1-40f8-9720-b17a8375569e",
      "metadata": {
        "id": "8a3f478b-59e1-40f8-9720-b17a8375569e",
        "outputId": "d32009cb-3b88-493d-87a4-f63cdf90fbfb"
      },
      "outputs": [
        {
          "data": {
            "text/plain": [
              "array([[[0., 1., 0., 0., 0., 0., 0.],\n",
              "        [0., 0., 1., 0., 0., 0., 0.],\n",
              "        [0., 0., 0., 1., 0., 0., 0.]],\n",
              "\n",
              "       [[0., 1., 0., 0., 0., 0., 0.],\n",
              "        [0., 0., 1., 0., 0., 0., 0.],\n",
              "        [0., 0., 0., 0., 0., 1., 0.]],\n",
              "\n",
              "       [[0., 0., 0., 0., 0., 0., 1.],\n",
              "        [0., 1., 0., 0., 0., 0., 0.],\n",
              "        [1., 0., 0., 0., 0., 0., 0.]]], dtype=float32)"
            ]
          },
          "execution_count": 14,
          "metadata": {},
          "output_type": "execute_result"
        }
      ],
      "source": [
        "one_hot"
      ]
    },
    {
      "cell_type": "code",
      "execution_count": null,
      "id": "503ee115-f033-4512-8876-8508785874f2",
      "metadata": {
        "id": "503ee115-f033-4512-8876-8508785874f2",
        "outputId": "df3a8382-ed52-482b-fc35-70c12cbd00b8"
      },
      "outputs": [
        {
          "data": {
            "text/plain": [
              "(3, 3, 7)"
            ]
          },
          "execution_count": 15,
          "metadata": {},
          "output_type": "execute_result"
        }
      ],
      "source": [
        "one_hot.shape"
      ]
    },
    {
      "cell_type": "code",
      "execution_count": null,
      "id": "e367e062-7652-4bb8-94b6-5d7ea2bd5b4f",
      "metadata": {
        "id": "e367e062-7652-4bb8-94b6-5d7ea2bd5b4f"
      },
      "outputs": [],
      "source": [
        "import pandas as pd"
      ]
    },
    {
      "cell_type": "code",
      "execution_count": null,
      "id": "7fc0cc87-5754-4d8f-8afe-d0e30b232bbc",
      "metadata": {
        "id": "7fc0cc87-5754-4d8f-8afe-d0e30b232bbc",
        "outputId": "8dca098f-eae8-4a77-e08b-95e204036e17"
      },
      "outputs": [
        {
          "data": {
            "text/html": [
              "<div>\n",
              "<style scoped>\n",
              "    .dataframe tbody tr th:only-of-type {\n",
              "        vertical-align: middle;\n",
              "    }\n",
              "\n",
              "    .dataframe tbody tr th {\n",
              "        vertical-align: top;\n",
              "    }\n",
              "\n",
              "    .dataframe thead th {\n",
              "        text-align: right;\n",
              "    }\n",
              "</style>\n",
              "<table border=\"1\" class=\"dataframe\">\n",
              "  <thead>\n",
              "    <tr style=\"text-align: right;\">\n",
              "      <th></th>\n",
              "      <th>Review</th>\n",
              "      <th>Liked</th>\n",
              "    </tr>\n",
              "  </thead>\n",
              "  <tbody>\n",
              "    <tr>\n",
              "      <th>0</th>\n",
              "      <td>Wow... Loved this place.</td>\n",
              "      <td>1</td>\n",
              "    </tr>\n",
              "    <tr>\n",
              "      <th>1</th>\n",
              "      <td>Crust is not good.</td>\n",
              "      <td>0</td>\n",
              "    </tr>\n",
              "    <tr>\n",
              "      <th>2</th>\n",
              "      <td>Not tasty and the texture was just nasty.</td>\n",
              "      <td>0</td>\n",
              "    </tr>\n",
              "    <tr>\n",
              "      <th>3</th>\n",
              "      <td>Stopped by during the late May bank holiday of...</td>\n",
              "      <td>1</td>\n",
              "    </tr>\n",
              "    <tr>\n",
              "      <th>4</th>\n",
              "      <td>The selection on the menu was great and so wer...</td>\n",
              "      <td>1</td>\n",
              "    </tr>\n",
              "    <tr>\n",
              "      <th>...</th>\n",
              "      <td>...</td>\n",
              "      <td>...</td>\n",
              "    </tr>\n",
              "    <tr>\n",
              "      <th>995</th>\n",
              "      <td>I think food should have flavor and texture an...</td>\n",
              "      <td>0</td>\n",
              "    </tr>\n",
              "    <tr>\n",
              "      <th>996</th>\n",
              "      <td>Appetite instantly gone.</td>\n",
              "      <td>0</td>\n",
              "    </tr>\n",
              "    <tr>\n",
              "      <th>997</th>\n",
              "      <td>Overall I was not impressed and would not go b...</td>\n",
              "      <td>0</td>\n",
              "    </tr>\n",
              "    <tr>\n",
              "      <th>998</th>\n",
              "      <td>The whole experience was underwhelming, and I ...</td>\n",
              "      <td>0</td>\n",
              "    </tr>\n",
              "    <tr>\n",
              "      <th>999</th>\n",
              "      <td>Then, as if I hadn't wasted enough of my life ...</td>\n",
              "      <td>0</td>\n",
              "    </tr>\n",
              "  </tbody>\n",
              "</table>\n",
              "<p>1000 rows × 2 columns</p>\n",
              "</div>"
            ],
            "text/plain": [
              "                                                Review  Liked\n",
              "0                             Wow... Loved this place.      1\n",
              "1                                   Crust is not good.      0\n",
              "2            Not tasty and the texture was just nasty.      0\n",
              "3    Stopped by during the late May bank holiday of...      1\n",
              "4    The selection on the menu was great and so wer...      1\n",
              "..                                                 ...    ...\n",
              "995  I think food should have flavor and texture an...      0\n",
              "996                           Appetite instantly gone.      0\n",
              "997  Overall I was not impressed and would not go b...      0\n",
              "998  The whole experience was underwhelming, and I ...      0\n",
              "999  Then, as if I hadn't wasted enough of my life ...      0\n",
              "\n",
              "[1000 rows x 2 columns]"
            ]
          },
          "execution_count": 18,
          "metadata": {},
          "output_type": "execute_result"
        }
      ],
      "source": [
        "df=pd.read_csv(\"d:/dataset/sentiment/Restaurant_Reviews.txt\",sep=\"\\t\")\n",
        "df"
      ]
    },
    {
      "cell_type": "code",
      "execution_count": null,
      "id": "e4df8e50-d8cc-4f68-9dfb-c1fb143fbc62",
      "metadata": {
        "id": "e4df8e50-d8cc-4f68-9dfb-c1fb143fbc62"
      },
      "outputs": [],
      "source": [
        "corpus=df.Review\n",
        "y=df.Liked"
      ]
    },
    {
      "cell_type": "code",
      "execution_count": null,
      "id": "70c44156-5d06-48a8-b6bc-96a2e6b623b8",
      "metadata": {
        "id": "70c44156-5d06-48a8-b6bc-96a2e6b623b8",
        "outputId": "dde3656d-5e1d-49ff-cfcd-2e8f8f39cf08"
      },
      "outputs": [
        {
          "name": "stdout",
          "output_type": "stream",
          "text": [
            "2071\n"
          ]
        }
      ],
      "source": [
        "tk=Tokenizer()\n",
        "tk.fit_on_texts(corpus)\n",
        "vocab_len=len(tk.word_index)\n",
        "print(vocab_len)"
      ]
    },
    {
      "cell_type": "code",
      "execution_count": null,
      "id": "8ef2999d-1dc1-40c2-85dd-7c057fcedd38",
      "metadata": {
        "id": "8ef2999d-1dc1-40c2-85dd-7c057fcedd38"
      },
      "outputs": [],
      "source": [
        "seqs=tk.texts_to_sequences(corpus)\n",
        "seqs_samelen=pad_sequences(seqs,maxlen=30,padding='post',truncating='post')\n",
        "one_hot=to_categorical(seqs_samelen)"
      ]
    },
    {
      "cell_type": "code",
      "execution_count": null,
      "id": "99669047-dccc-4af9-9f1d-9f912183c468",
      "metadata": {
        "id": "99669047-dccc-4af9-9f1d-9f912183c468",
        "outputId": "88fff9e1-45e7-4204-fd20-977146dd96f7"
      },
      "outputs": [
        {
          "data": {
            "text/plain": [
              "(1000, 30, 2072)"
            ]
          },
          "execution_count": 25,
          "metadata": {},
          "output_type": "execute_result"
        }
      ],
      "source": [
        "one_hot.shape"
      ]
    },
    {
      "cell_type": "code",
      "execution_count": null,
      "id": "93ac56af-0fe6-4d6e-8b7c-3f18daaa007a",
      "metadata": {
        "id": "93ac56af-0fe6-4d6e-8b7c-3f18daaa007a"
      },
      "outputs": [],
      "source": [
        "from tensorflow.keras.models import Sequential\n",
        "from tensorflow.keras.layers import Dense,SimpleRNN,Dropout"
      ]
    },
    {
      "cell_type": "code",
      "execution_count": null,
      "id": "5ec476eb-c872-4276-9d8a-2a2c6c1d7f50",
      "metadata": {
        "id": "5ec476eb-c872-4276-9d8a-2a2c6c1d7f50",
        "outputId": "a5a8edcd-c5e8-4327-ea95-4a54b1a2b491"
      },
      "outputs": [
        {
          "name": "stdout",
          "output_type": "stream",
          "text": [
            "Epoch 1/30\n",
            "32/32 [==============================] - 2s 37ms/step - loss: 0.6935 - accuracy: 0.4930\n",
            "Epoch 2/30\n",
            "32/32 [==============================] - 1s 37ms/step - loss: 0.6916 - accuracy: 0.5370\n",
            "Epoch 3/30\n",
            "32/32 [==============================] - 1s 36ms/step - loss: 0.6863 - accuracy: 0.5440\n",
            "Epoch 4/30\n",
            "32/32 [==============================] - 1s 34ms/step - loss: 0.6936 - accuracy: 0.4980\n",
            "Epoch 5/30\n",
            "32/32 [==============================] - 1s 32ms/step - loss: 0.6927 - accuracy: 0.4990\n",
            "Epoch 6/30\n",
            "32/32 [==============================] - 1s 33ms/step - loss: 0.6918 - accuracy: 0.5210\n",
            "Epoch 7/30\n",
            "32/32 [==============================] - 1s 32ms/step - loss: 0.6924 - accuracy: 0.4850\n",
            "Epoch 8/30\n",
            "32/32 [==============================] - 1s 34ms/step - loss: 0.6887 - accuracy: 0.5240\n",
            "Epoch 9/30\n",
            "32/32 [==============================] - 1s 34ms/step - loss: 0.6720 - accuracy: 0.5430\n",
            "Epoch 10/30\n",
            "32/32 [==============================] - 1s 33ms/step - loss: 1.9196 - accuracy: 0.5080\n",
            "Epoch 11/30\n",
            "32/32 [==============================] - 1s 33ms/step - loss: 0.6986 - accuracy: 0.4810\n",
            "Epoch 12/30\n",
            "32/32 [==============================] - 1s 33ms/step - loss: 0.6930 - accuracy: 0.5040\n",
            "Epoch 13/30\n",
            "32/32 [==============================] - 1s 34ms/step - loss: 0.6924 - accuracy: 0.5090\n",
            "Epoch 14/30\n",
            "32/32 [==============================] - 1s 34ms/step - loss: 0.6923 - accuracy: 0.5140\n",
            "Epoch 15/30\n",
            "32/32 [==============================] - 1s 33ms/step - loss: 0.6883 - accuracy: 0.5350\n",
            "Epoch 16/30\n",
            "32/32 [==============================] - 1s 34ms/step - loss: 0.6960 - accuracy: 0.5060\n",
            "Epoch 17/30\n",
            "32/32 [==============================] - 1s 33ms/step - loss: 0.6841 - accuracy: 0.5710\n",
            "Epoch 18/30\n",
            "32/32 [==============================] - 1s 34ms/step - loss: 0.6837 - accuracy: 0.5670\n",
            "Epoch 19/30\n",
            "32/32 [==============================] - 1s 34ms/step - loss: 0.6218 - accuracy: 0.6460\n",
            "Epoch 20/30\n",
            "32/32 [==============================] - 1s 33ms/step - loss: 0.3465 - accuracy: 0.8650\n",
            "Epoch 21/30\n",
            "32/32 [==============================] - 1s 34ms/step - loss: 0.2343 - accuracy: 0.9210\n",
            "Epoch 22/30\n",
            "32/32 [==============================] - 1s 32ms/step - loss: 0.1742 - accuracy: 0.9540\n",
            "Epoch 23/30\n",
            "32/32 [==============================] - 1s 35ms/step - loss: 0.1477 - accuracy: 0.9570\n",
            "Epoch 24/30\n",
            "32/32 [==============================] - 1s 35ms/step - loss: 0.1068 - accuracy: 0.9730\n",
            "Epoch 25/30\n",
            "32/32 [==============================] - 1s 32ms/step - loss: 0.0900 - accuracy: 0.9770\n",
            "Epoch 26/30\n",
            "32/32 [==============================] - 1s 33ms/step - loss: 0.1022 - accuracy: 0.9730\n",
            "Epoch 27/30\n",
            "32/32 [==============================] - 1s 34ms/step - loss: 0.0837 - accuracy: 0.9810\n",
            "Epoch 28/30\n",
            "32/32 [==============================] - 1s 34ms/step - loss: 0.0775 - accuracy: 0.9830\n",
            "Epoch 29/30\n",
            "32/32 [==============================] - 1s 35ms/step - loss: 0.0707 - accuracy: 0.9850\n",
            "Epoch 30/30\n",
            "32/32 [==============================] - 1s 31ms/step - loss: 0.1298 - accuracy: 0.9690\n"
          ]
        },
        {
          "data": {
            "text/plain": [
              "<keras.callbacks.History at 0x155aa27bdc0>"
            ]
          },
          "execution_count": 33,
          "metadata": {},
          "output_type": "execute_result"
        }
      ],
      "source": [
        "model=Sequential()\n",
        "model.add(SimpleRNN(100,activation='relu'))\n",
        "model.add(Dropout(.05))\n",
        "model.add(Dense(100,activation='relu'))\n",
        "model.add(Dense(2,activation='softmax'))\n",
        "model.compile(loss=\"sparse_categorical_crossentropy\",optimizer=\"adam\",metrics=['accuracy'])\n",
        "model.fit(one_hot,y,epochs=30)"
      ]
    },
    {
      "cell_type": "code",
      "execution_count": null,
      "id": "05e780e3-387b-4a02-b4fe-cb735ec80f02",
      "metadata": {
        "id": "05e780e3-387b-4a02-b4fe-cb735ec80f02"
      },
      "outputs": [],
      "source": [
        "sample=\"food quality was very bad\"\n",
        "sample_seq=tk.texts_to_sequences([sample])\n",
        "sample_pad_seq=pad_sequences(sample_seq,maxlen=30,padding='post',truncating='post')\n",
        "sample_one_hot=to_categorical(sample_pad_seq,num_classes=2072)"
      ]
    },
    {
      "cell_type": "code",
      "execution_count": null,
      "id": "72eace12-0bac-47f3-b419-ddf8676e0c22",
      "metadata": {
        "id": "72eace12-0bac-47f3-b419-ddf8676e0c22",
        "outputId": "49304fc6-dbd8-4fe1-90d1-76d23dea8e84"
      },
      "outputs": [
        {
          "data": {
            "text/plain": [
              "(1, 30, 2072)"
            ]
          },
          "execution_count": 49,
          "metadata": {},
          "output_type": "execute_result"
        }
      ],
      "source": [
        "sample_one_hot.shape"
      ]
    },
    {
      "cell_type": "code",
      "execution_count": null,
      "id": "748fe365-190e-4aae-bfe7-3241ffad3b3d",
      "metadata": {
        "id": "748fe365-190e-4aae-bfe7-3241ffad3b3d",
        "outputId": "50ae179e-1546-484a-e2af-9533cae230ca"
      },
      "outputs": [
        {
          "data": {
            "text/plain": [
              "array([[0.95881116, 0.04118881]], dtype=float32)"
            ]
          },
          "execution_count": 50,
          "metadata": {},
          "output_type": "execute_result"
        }
      ],
      "source": [
        "model.predict(sample_one_hot)"
      ]
    },
    {
      "cell_type": "code",
      "execution_count": null,
      "id": "76371532-c50d-4419-b058-7ce6ad9a38aa",
      "metadata": {
        "id": "76371532-c50d-4419-b058-7ce6ad9a38aa"
      },
      "outputs": [],
      "source": [
        ""
      ]
    }
  ],
  "metadata": {
    "kernelspec": {
      "display_name": "Python 3 (ipykernel)",
      "language": "python",
      "name": "python3"
    },
    "language_info": {
      "codemirror_mode": {
        "name": "ipython",
        "version": 3
      },
      "file_extension": ".py",
      "mimetype": "text/x-python",
      "name": "python",
      "nbconvert_exporter": "python",
      "pygments_lexer": "ipython3",
      "version": "3.9.7"
    },
    "colab": {
      "name": "RNN(one-hot_representation.ipynb",
      "provenance": [],
      "include_colab_link": true
    }
  },
  "nbformat": 4,
  "nbformat_minor": 5
}