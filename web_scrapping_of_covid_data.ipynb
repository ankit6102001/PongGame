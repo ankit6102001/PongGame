{
  "cells": [
    {
      "cell_type": "markdown",
      "metadata": {
        "id": "view-in-github",
        "colab_type": "text"
      },
      "source": [
        "<a href=\"https://colab.research.google.com/github/ankit6102001/Python-Machine-learning-Deep-learning/blob/main/web_scrapping_of_covid_data.ipynb\" target=\"_parent\"><img src=\"https://colab.research.google.com/assets/colab-badge.svg\" alt=\"Open In Colab\"/></a>"
      ]
    },
    {
      "cell_type": "code",
      "execution_count": null,
      "id": "38a98018-8337-48ae-9e4a-fdf6ecfc575a",
      "metadata": {
        "id": "38a98018-8337-48ae-9e4a-fdf6ecfc575a"
      },
      "outputs": [],
      "source": [
        "import requests"
      ]
    },
    {
      "cell_type": "code",
      "execution_count": null,
      "id": "b89c763e-abbe-468b-8f1c-fe752e5180d6",
      "metadata": {
        "id": "b89c763e-abbe-468b-8f1c-fe752e5180d6"
      },
      "outputs": [],
      "source": [
        "http_con=requests.get(\"https://www.mohfw.gov.in/\")"
      ]
    },
    {
      "cell_type": "code",
      "execution_count": null,
      "id": "0a10f66f-48f4-4d5e-b2ae-0383228fc590",
      "metadata": {
        "id": "0a10f66f-48f4-4d5e-b2ae-0383228fc590"
      },
      "outputs": [],
      "source": [
        "page=http_con.text"
      ]
    },
    {
      "cell_type": "code",
      "execution_count": null,
      "id": "d7a5cd0f-1bbb-49e2-8dea-d095a02b8645",
      "metadata": {
        "id": "d7a5cd0f-1bbb-49e2-8dea-d095a02b8645"
      },
      "outputs": [],
      "source": [
        "#print(page)"
      ]
    },
    {
      "cell_type": "code",
      "execution_count": null,
      "id": "6c1a0341-5be3-4862-b57c-2ea60b7ff881",
      "metadata": {
        "id": "6c1a0341-5be3-4862-b57c-2ea60b7ff881"
      },
      "outputs": [],
      "source": [
        "import bs4"
      ]
    },
    {
      "cell_type": "code",
      "execution_count": null,
      "id": "ba23649e-0628-4c53-a5af-88954f5e7e4a",
      "metadata": {
        "id": "ba23649e-0628-4c53-a5af-88954f5e7e4a"
      },
      "outputs": [],
      "source": [
        "soup=bs4.BeautifulSoup(page,\"html.parser\")"
      ]
    },
    {
      "cell_type": "code",
      "execution_count": null,
      "id": "b40d4e31-f904-4981-9c19-97b777966e3b",
      "metadata": {
        "id": "b40d4e31-f904-4981-9c19-97b777966e3b",
        "outputId": "4d83014c-eee0-4847-fef5-e7aa1bb83fe1"
      },
      "outputs": [
        {
          "name": "stdout",
          "output_type": "stream",
          "text": [
            "<title>MoHFW | Home</title>\n"
          ]
        }
      ],
      "source": [
        "print(soup.find(\"title\"))"
      ]
    },
    {
      "cell_type": "code",
      "execution_count": null,
      "id": "01a3cb64-5734-4179-bd43-5a3ff35ac181",
      "metadata": {
        "id": "01a3cb64-5734-4179-bd43-5a3ff35ac181",
        "outputId": "4d5f54ae-9966-49e5-fee1-1f53fca7a2e0"
      },
      "outputs": [
        {
          "data": {
            "text/plain": [
              "'Total number of tests done during the previous day 8,55,692'"
            ]
          },
          "execution_count": 15,
          "metadata": {},
          "output_type": "execute_result"
        }
      ],
      "source": [
        "marq_tag=soup.find(\"marquee\")\n",
        "marq_tag.getText()"
      ]
    },
    {
      "cell_type": "code",
      "execution_count": null,
      "id": "719f77da-f31f-48f7-ba97-cf0d91ddb7c2",
      "metadata": {
        "id": "719f77da-f31f-48f7-ba97-cf0d91ddb7c2"
      },
      "outputs": [],
      "source": [
        "lbl=soup.find(\"span\",{'class':'totalvac'}).getText()"
      ]
    },
    {
      "cell_type": "code",
      "execution_count": null,
      "id": "88265190-c032-495e-b9cf-91d07085bfae",
      "metadata": {
        "id": "88265190-c032-495e-b9cf-91d07085bfae"
      },
      "outputs": [],
      "source": [
        "vaccount=soup.find(\"span\",{'class':'coviddata'}).getText()"
      ]
    },
    {
      "cell_type": "code",
      "execution_count": null,
      "id": "8a830579-ba23-40b9-8f63-f928ecff9da0",
      "metadata": {
        "id": "8a830579-ba23-40b9-8f63-f928ecff9da0",
        "outputId": "6a1be423-031d-427e-8af6-b18f6e4fff60"
      },
      "outputs": [
        {
          "name": "stdout",
          "output_type": "stream",
          "text": [
            "Total Vaccination :  1,33,17,84,462\n"
          ]
        }
      ],
      "source": [
        "print(lbl,vaccount)"
      ]
    },
    {
      "cell_type": "code",
      "execution_count": null,
      "id": "e5ae5d0b-7868-4c22-b5dc-e8690a139860",
      "metadata": {
        "id": "e5ae5d0b-7868-4c22-b5dc-e8690a139860",
        "outputId": "6215610c-967b-45a0-81d2-433ba2bdf56c"
      },
      "outputs": [
        {
          "name": "stdout",
          "output_type": "stream",
          "text": [
            "475636     (202)\n"
          ]
        }
      ],
      "source": [
        "print(soup.findAll(\"strong\",{'class':\"mob-hide\"})[5].getText())"
      ]
    },
    {
      "cell_type": "code",
      "execution_count": null,
      "id": "10eb96b6-116f-4f00-8ff6-a56cedc533f8",
      "metadata": {
        "id": "10eb96b6-116f-4f00-8ff6-a56cedc533f8"
      },
      "outputs": [],
      "source": [
        "img_tag=soup.find(\"img\")\n",
        "img_url=img_tag.get(\"src\")\n",
        "if(img_url.startswith(\"https\")):\n",
        "    pass\n",
        "else:\n",
        "    img_url=\"https://www.mohfw.gov.in/\"+img_url"
      ]
    },
    {
      "cell_type": "code",
      "execution_count": null,
      "id": "04f50450-df76-403c-8017-d0f74e30224e",
      "metadata": {
        "id": "04f50450-df76-403c-8017-d0f74e30224e",
        "outputId": "800b02ec-0dcd-4f98-fb71-b661dc599e28"
      },
      "outputs": [
        {
          "data": {
            "text/plain": [
              "'https://www.mohfw.gov.in/assets/images/logo-flag.png'"
            ]
          },
          "execution_count": 37,
          "metadata": {},
          "output_type": "execute_result"
        }
      ],
      "source": [
        "img_url"
      ]
    },
    {
      "cell_type": "code",
      "execution_count": null,
      "id": "133f68a2-3dfe-4e87-976d-661010e5e04f",
      "metadata": {
        "id": "133f68a2-3dfe-4e87-976d-661010e5e04f"
      },
      "outputs": [],
      "source": [
        "index=img_url.rindex(\"/\")\n",
        "img_name=img_url[index+1:]"
      ]
    },
    {
      "cell_type": "code",
      "execution_count": null,
      "id": "79a91023-4e7e-4582-9b1c-4ea692fc4d11",
      "metadata": {
        "id": "79a91023-4e7e-4582-9b1c-4ea692fc4d11"
      },
      "outputs": [],
      "source": [
        "img_con=requests.get(img_url)"
      ]
    },
    {
      "cell_type": "code",
      "execution_count": null,
      "id": "8d14538a-8bf0-4407-8344-ccdc5e1cea17",
      "metadata": {
        "id": "8d14538a-8bf0-4407-8344-ccdc5e1cea17"
      },
      "outputs": [],
      "source": [
        "img_bytes=img_con.content"
      ]
    },
    {
      "cell_type": "code",
      "execution_count": null,
      "id": "c74f6bf6-e3e5-4bf9-baaa-6f39e00aba61",
      "metadata": {
        "id": "c74f6bf6-e3e5-4bf9-baaa-6f39e00aba61"
      },
      "outputs": [],
      "source": [
        "file=open(f\"d:/{img_name}\",\"wb\")\n",
        "file.write(img_bytes)\n",
        "file.close()"
      ]
    },
    {
      "cell_type": "code",
      "execution_count": null,
      "id": "5b59c6fb-ade2-46d4-a46b-e5e437ff67ea",
      "metadata": {
        "id": "5b59c6fb-ade2-46d4-a46b-e5e437ff67ea",
        "outputId": "ff6cdd06-80df-45f5-e0db-f882e91ef154"
      },
      "outputs": [
        {
          "name": "stdout",
          "output_type": "stream",
          "text": [
            "Done\n"
          ]
        }
      ],
      "source": [
        "http_con=requests.get(\"https://www.mohfw.gov.in/\")\n",
        "allimg_tags=soup.findAll(\"img\")\n",
        "for img_tag in allimg_tags:\n",
        "    img_url=img_tag.get(\"src\")\n",
        "    if(img_url.startswith(\"https\")):\n",
        "        pass\n",
        "    else:\n",
        "        img_url=\"https://www.mohfw.gov.in/\"+img_url\n",
        "    index=img_url.rindex(\"/\")\n",
        "    img_name=img_url[index+1:]\n",
        "    img_con=requests.get(img_url)\n",
        "    img_bytes=img_con.content\n",
        "    file=open(f\"d:/mohfw-images/{img_name}\",\"wb\")\n",
        "    file.write(img_bytes)\n",
        "    file.close()\n",
        "print(\"Done\")"
      ]
    },
    {
      "cell_type": "code",
      "execution_count": null,
      "id": "57931034-fea0-4f9e-b7f7-8c6ef4e8870d",
      "metadata": {
        "id": "57931034-fea0-4f9e-b7f7-8c6ef4e8870d"
      },
      "outputs": [],
      "source": [
        "google_con=requests.get(\"https://www.google.com/search?q=jammuweather\")"
      ]
    },
    {
      "cell_type": "code",
      "execution_count": null,
      "id": "f20b8a1f-b2cf-49a3-aeee-9722a6646f69",
      "metadata": {
        "id": "f20b8a1f-b2cf-49a3-aeee-9722a6646f69",
        "outputId": "e2e75153-d3cc-4f23-b1ea-6cc2b6ed9ece"
      },
      "outputs": [
        {
          "name": "stdout",
          "output_type": "stream",
          "text": [
            "<!doctype html><html lang=\"en-IN\"><head><meta charset=\"UTF-8\"><meta content=\"/images/branding/googleg/1x/googleg_standard_color_128dp.png\" itemprop=\"image\"><title>jammuweather - Google Search</title><script nonce=\"OsKHRwY2oLntm/WOHYmkmQ==\">(function(){\n",
            "document.documentElement.addEventListener(\"submit\",function(b){var a;if(a=b.target){var c=a.getAttribute(\"data-submitfalse\");a=\"1\"===c||\"q\"===c&&!a.elements.q.value?!0:!1}else a=!1;a&&(b.preventDefault(),b.stopPropagation())},!0);document.documentElement.addEventListener(\"click\",function(b){var a;a:{for(a=b.target;a&&a!==document.documentElement;a=a.parentElement)if(\"A\"===a.tagName){a=\"1\"===a.getAttribute(\"data-nohref\");break a}a=!1}a&&b.preventDefault()},!0);}).call(this);(function(){\n",
            "var a=window.performance;window.start=Date.now();a:{var b=window;if(a){var c=a.timing;if(c){var d=c.navigationStart,f=c.responseStart;if(f>d&&f<=window.start){window.start=f;b.wsrt=f-d;break a}}a.now&&(b.wsrt=Math.floor(a.now()))}}window.google=window.google||{};var h=function(g){g&&g.target.setAttribute(\"data-iml\",Date.now())};document.documentElement.addEventListener(\"load\",h,!0);google.rglh=function(){document.documentElement.removeEventListener(\"load\",h,!0)};}).call(this);(function(){window.google.erd={jsr:0,bv:1493,de:true};})();(function(){\n",
            "var c=[],e=0;window.ping=function(b){-1==b.indexOf(\"&zx\")&&(b+=\"&zx=\"+Date.now());var a=new Image,d=e++;c[d]=a;a.onerror=a.onload=a.onabort=function(){delete c[d]};a.src=b};}).call(this);</script><style>body{margin:0 auto;max-width:736px;padding:0 8px;}a{color:#1967D2;text-decoration:none;tap-highlight-color:rgba(0,0,0,.10)}a:visited{color:#4B11A8}a:hover{text-decoration:underline}img{border:0}html{font-family:Roboto,Helvetica Neue,Arial,sans-serif;font-size:14px;line-height:20px;text-size-adjust:100%;color:#3c4043;word-wrap:break-word;background-color:#fff}.bRsWnc{background-color:#fff;border-top:1px solid #dadce0;height:39px;overflow:hidden}.N6RWV{height:51px;overflow-scrolling:touch;overflow-x:auto;overflow-y:hidden}.Uv67qb{box-pack:justify;font-size:12px;line-height:37px;justify-content:space-between;justify-content:space-between}.Uv67qb a,.Uv67qb span{color:#70757a;display:block;flex:none;padding:0 16px;text-align:center;text-transform:uppercase;}span.OXXup{border-bottom:2px solid #4285f4;color:#4285f4;font-weight:bold}a.eZt8xd:visited{color:#70757a}.FElbsf{border-left:1px solid rgba(0,0,0,.12)}header article{overflow:visible}.Pg70bf{height:39px;display:box;display:flex;display:flex;width:100%}.H0PQec{position:relative;flex:1}.sbc{display:flex;width:100%}.Pg70bf input{margin:2px 4px 2px 8px;}.x{width:26px;color:#70757a;font:27px/38px arial, sans-serif;line-height:40px;}#qdClwb{flex:0 0 auto;width:39px;height:39px;border-bottom:0;padding:0;border-top-right-radius:8px;background-color:#1a73e8;border:1px solid #1558d6;background-image:url(data:image/gif;base64,R0lGODdhJAAjAPIHAODr/nCk+MPZ/FmV96zK+/7+/5K5+kqL9iwAAAAAJAAjAEADani63P4wykmbKcQRXDscQAEMXmmeaLQVLCukzyC09AjfeK7v/MAajACLhPMVAgwjsUcEiZa8xgAYrVqv2Kx2iwsIAAABknfBBAKrTE4IcMyot8ur8datqIbQfJdnAfo2WE6BV05wXIiJigkAOw==);}.sc{font-size:16px;position:absolute;top:39px;left:0;right:0;box-shadow:0px 2px 5px rgba(0,0,0,.2);z-index:2;background-color:#fff}.sc>div{padding:10px 10px;padding-left:16px;padding-left:14px;border-top:1px solid #dfe1e5}.scs{background-color:#f8f9fa;}.noHIxc{display:block;font-size:16px;padding:0 0 0 8px;flex:1;height:35px;outline:none;border:none;width:100%;-webkit-tap-highlight-color:rgba(0,0,0,.00);overflow:hidden;}.sbc input[type=text]{background:none}.sml .cOl4Id{display:none}.l{display:none}.sml header{background:none}.sml .l{display:block;padding:0 8px}.sml .l{letter-spacing:-1px;text-align:center;border-radius:2px 0 0 0;font:22px/36px Futura, Arial, sans-serif;font-smoothing:antialiased}.bz1lBb{background:#fff;border-radius:8px 8px 0 0;box-shadow:0 1px 6px rgba(32, 33, 36, 0.18);margin-top:10px}.KP7LCb{border-radius:0 0 8px 8px;box-shadow:0 2px 3px rgba(32, 33, 36, 0.18);margin-bottom:10px;overflow:hidden}.cOl4Id{letter-spacing:-1px;text-align:center;font:22pt Futura, Arial, sans-serif;height:37px;font-smoothing:antialiased;padding:10px 0 5px 0;}.cOl4Id span{display:inline-block}.V6gwVd{color:#4285f4}.iWkuvd{color:#ea4335}.cDrQ7{color:#fcc934}.ntlR9{color:#34a853}.tJ3Myc{-webkit-transform:rotate(-20deg);position:relative;left:-1px;display:inline-block}footer{text-align:center;margin-top:18px}footer a,footer a:visited,.smiUbb{color:#70757a}.xeDNfc{margin:0 13px}#EOlPnc{margin-top:36px}#EOlPnc>div{margin:20px}.Srfpq{color:#70757a}</style></head><body jsmodel=\"hspDDf\"><header id=\"hdr\"><script nonce=\"OsKHRwY2oLntm/WOHYmkmQ==\">(function(){\n",
            "var k=this||self,l=function(){},m=function(a){var b=typeof a;return\"object\"==b&&null!=a||\"function\"==b},n=function(a,b){function c(){}c.prototype=b.prototype;a.j=b.prototype;a.prototype=new c;a.prototype.constructor=a;a.l=function(d,e,f){for(var g=Array(arguments.length-2),h=2;h<arguments.length;h++)g[h-2]=arguments[h];return b.prototype[e].apply(d,g)}};var p=Array.prototype.indexOf?function(a,b){return Array.prototype.indexOf.call(a,b,void 0)}:function(a,b){if(\"string\"===typeof a)return\"string\"!==typeof b||1!=b.length?-1:a.indexOf(b,0);for(var c=0;c<a.length;c++)if(c in a&&a[c]===b)return c;return-1};var q=function(a){return\"string\"==typeof a.className?a.className:a.getAttribute&&a.getAttribute(\"class\")||\"\"},r=function(a,b){\"string\"==typeof a.className?a.className=b:a.setAttribute&&a.setAttribute(\"class\",b)},t=function(a,b){a.classList?b=a.classList.contains(b):(a=a.classList?a.classList:q(a).match(/\\S+/g)||[],b=0<=p(a,b));return b},w=function(){var a=u,b=v;a.classList?a.classList.remove(b):t(a,b)&&r(a,Array.prototype.filter.call(a.classList?a.classList:q(a).match(/\\S+/g)||[],function(c){return c!=\n",
            "b}).join(\" \"))};function x(){var a=k.navigator;return a&&(a=a.userAgent)?a:\"\"};var y=function(a){y[\" \"](a);return a};y[\" \"]=l;var z=-1!=x().indexOf(\"Gecko\")&&!(-1!=x().toLowerCase().indexOf(\"webkit\")&&-1==x().indexOf(\"Edge\"))&&!(-1!=x().indexOf(\"Trident\")||-1!=x().indexOf(\"MSIE\"))&&-1==x().indexOf(\"Edge\");var A=function(a,b){this.type=a;this.target=b};A.prototype.g=function(){};var B=function(){if(!k.addEventListener||!Object.defineProperty)return!1;var a=!1,b=Object.defineProperty({},\"passive\",{get:function(){a=!0}});try{k.addEventListener(\"test\",l,b),k.removeEventListener(\"test\",l,b)}catch(c){}return a}();var D=function(a){A.call(this,a?a.type:\"\");this.relatedTarget=this.target=null;this.button=this.screenY=this.screenX=this.clientY=this.clientX=0;this.key=\"\";this.keyCode=0;this.metaKey=this.shiftKey=this.altKey=this.ctrlKey=!1;this.state=null;this.pointerId=0;this.pointerType=\"\";this.h=null;if(a){var b=this.type=a.type,c=a.changedTouches&&a.changedTouches.length?a.changedTouches[0]:null;this.target=a.target||a.srcElement;var d=a.relatedTarget;if(d){if(z){a:{try{y(d.nodeName);var e=!0;break a}catch(f){}e=\n",
            "!1}e||(d=null)}}else\"mouseover\"==b?d=a.fromElement:\"mouseout\"==b&&(d=a.toElement);this.relatedTarget=d;c?(this.clientX=void 0!==c.clientX?c.clientX:c.pageX,this.clientY=void 0!==c.clientY?c.clientY:c.pageY,this.screenX=c.screenX||0,this.screenY=c.screenY||0):(this.clientX=void 0!==a.clientX?a.clientX:a.pageX,this.clientY=void 0!==a.clientY?a.clientY:a.pageY,this.screenX=a.screenX||0,this.screenY=a.screenY||0);this.button=a.button;this.keyCode=a.keyCode||0;this.key=a.key||\"\";this.ctrlKey=a.ctrlKey;this.altKey=a.altKey;this.shiftKey=a.shiftKey;this.metaKey=a.metaKey;this.pointerId=a.pointerId||0;this.pointerType=\"string\"===typeof a.pointerType?a.pointerType:C[a.pointerType]||\"\";this.state=a.state;this.h=a;a.defaultPrevented&&D.j.g.call(this)}};n(D,A);var C={2:\"touch\",3:\"pen\",4:\"mouse\"};D.prototype.g=function(){D.j.g.call(this);var a=this.h;a.preventDefault?a.preventDefault():a.returnValue=!1};var E=\"closure_listenable_\"+(1E6*Math.random()|0);var F=0;var G=function(a,b,c,d,e){this.listener=a;this.proxy=null;this.src=b;this.type=c;this.capture=!!d;this.h=e;this.key=++F;this.g=this.i=!1},H=function(a){a.g=!0;a.listener=null;a.proxy=null;a.src=null;a.h=null};var I=function(a){this.src=a;this.g={};this.h=0};I.prototype.add=function(a,b,c,d,e){var f=a.toString();a=this.g[f];a||(a=this.g[f]=[],this.h++);var g;a:{for(g=0;g<a.length;++g){var h=a[g];if(!h.g&&h.listener==b&&h.capture==!!d&&h.h==e)break a}g=-1}-1<g?(b=a[g],c||(b.i=!1)):(b=new G(b,this.src,f,!!d,e),b.i=c,a.push(b));return b};var J=\"closure_lm_\"+(1E6*Math.random()|0),K={},L=0,N=function(a,b,c,d,e){if(d&&d.once)return M(a,b,c,d,e);if(Array.isArray(b)){for(var f=0;f<b.length;f++)N(a,b[f],c,d,e);return null}c=O(c);return a&&a[E]?a.g(b,c,m(d)?!!d.capture:!!d,e):P(a,b,c,!1,d,e)},P=function(a,b,c,d,e,f){if(!b)throw Error(\"a\");var g=m(e)?!!e.capture:!!e,h=Q(a);h||(a[J]=h=new I(a));c=h.add(b,c,d,g,f);if(c.proxy)return c;d=R();c.proxy=d;d.src=a;d.listener=c;if(a.addEventListener)B||(e=g),void 0===e&&(e=!1),a.addEventListener(b.toString(),d,e);else if(a.attachEvent)a.attachEvent(S(b.toString()),d);else if(a.addListener&&a.removeListener)a.addListener(d);else throw Error(\"b\");L++;return c},R=function(){var a=T,b=function(c){return a.call(b.src,b.listener,c)};return b},M=function(a,b,c,d,e){if(Array.isArray(b)){for(var f=0;f<b.length;f++)M(a,b[f],c,d,e);return null}c=O(c);return a&&a[E]?a.h(b,c,m(d)?!!d.capture:!!d,e):P(a,b,c,!0,d,e)},U=function(a){if(\"number\"!==typeof a&&a&&!a.g){var b=a.src;if(b&&b[E])b.o(a);else{var c=a.type,d=a.proxy;b.removeEventListener?b.removeEventListener(c,d,a.capture):b.detachEvent?b.detachEvent(S(c),d):b.addListener&&b.removeListener&&b.removeListener(d);L--;if(c=Q(b)){d=a.type;if(d in c.g){var e=c.g[d],f=p(e,a),g;(g=0<=f)&&Array.prototype.splice.call(e,f,1);g&&(H(a),0==c.g[d].length&&(delete c.g[d],c.h--))}0==c.h&&(c.src=null,b[J]=null)}else H(a)}}},S=function(a){return a in K?K[a]:K[a]=\"on\"+a},T=function(a,b){if(a.g)a=!0;else{b=new D(b,this);var c=a.listener,d=a.h||a.src;a.i&&U(a);a=c.call(d,b)}return a},Q=function(a){a=a[J];return a instanceof I?a:null},V=\"__closure_events_fn_\"+(1E9*Math.random()>>>0),O=function(a){if(\"function\"===typeof a)return a;a[V]||(a[V]=function(b){return a.handleEvent(b)});return a[V]};var v,u=document.documentElement,W;function X(){U(W);W=M(u,\"mousedown\",function(){w();Y()},{capture:!0})}function Y(){U(W);W=N(u,\"keydown\",function(a){if(9===a.keyCode){a=u;var b=v;if(a.classList)a.classList.add(b);else if(!t(a,b)){var c=q(a);r(a,c+(0<c.length?\" \"+b:b))}X()}})};v=\"zAoYTe\";Y();}).call(this);(function(){var c=500;(function(){\n",
            "window.screen&&window.screen.width<=c&&window.screen.height<=c&&document.getElementById(\"hdr\").classList.add(\"sml\");}).call(this);})();</script><div class=\"cOl4Id\"><a href=\"/?sa=X&amp;ved=0ahUKEwjIvo-Cu-L0AhVNR_EDHaCED_EQOwgC\"><span class=\"V6gwVd\">G</span><span class=\"iWkuvd\">o</span><span class=\"cDrQ7\">o</span><span class=\"V6gwVd\">g</span><span class=\"ntlR9\">l</span><span class=\"iWkuvd tJ3Myc\">e</span></a></div><div class=\"bz1lBb\"><form class=\"Pg70bf\" id=\"sf\"><a class=\"l\" href=\"/?output=search&amp;ie=UTF-8&amp;sa=X&amp;ved=0ahUKEwjIvo-Cu-L0AhVNR_EDHaCED_EQPAgE\"><span class=\"V6gwVd\">G</span><span class=\"iWkuvd\">o</span><span class=\"cDrQ7\">o</span><span class=\"V6gwVd\">g</span><span class=\"ntlR9\">l</span><span class=\"iWkuvd tJ3Myc\">e</span></a><input name=\"ie\" value=\"ISO-8859-1\" type=\"hidden\"><div class=\"H0PQec\"><div class=\"sbc esbc\"><input class=\"noHIxc\" value=\"jammuweather\" autocapitalize=\"none\" autocomplete=\"off\" name=\"q\" spellcheck=\"false\" type=\"text\"><input name=\"oq\" type=\"hidden\"><input name=\"aqs\" type=\"hidden\"><div class=\"x\">×</div><div class=\"sc\"></div></div></div><button id=\"qdClwb\" type=\"submit\"></button></form></div><noscript><meta content=\"0;url=/search?q=jammuweather&amp;ie=UTF-8&amp;gbv=1&amp;sei=jh64Yci_Js2Oxc8PoIm-iA8\" http-equiv=\"refresh\"><style>table,div,span,p{display:none}</style><div style=\"display:block\">Please click <a href=\"/search?q=jammuweather&amp;ie=UTF-8&amp;gbv=1&amp;sei=jh64Yci_Js2Oxc8PoIm-iA8\">here</a> if you are not redirected within a few seconds.</div></noscript></header><div id=\"main\"><div><div class=\"KP7LCb\"> <div class=\"bRsWnc\"> <div class=\"N6RWV\"> <div class=\"Pg70bf Uv67qb\"> <span class=\"OXXup\">All</span><a class=\"eZt8xd\" href=\"https://maps.google.com/maps?q=jammuweather&amp;um=1&amp;ie=UTF-8&amp;sa=X&amp;ved=0ahUKEwjIvo-Cu-L0AhVNR_EDHaCED_EQ_AUICCgB\">Maps</a><a class=\"eZt8xd\" href=\"/search?q=jammuweather&amp;ie=UTF-8&amp;source=lnms&amp;tbm=vid&amp;sa=X&amp;ved=0ahUKEwjIvo-Cu-L0AhVNR_EDHaCED_EQ_AUICSgC\">Videos</a><a class=\"eZt8xd\" href=\"/search?q=jammuweather&amp;ie=UTF-8&amp;source=lnms&amp;tbm=nws&amp;sa=X&amp;ved=0ahUKEwjIvo-Cu-L0AhVNR_EDHaCED_EQ_AUICigD\">News</a>  <a href=\"/search?q=jammuweather&amp;ie=UTF-8&amp;source=lnms&amp;tbm=isch&amp;sa=X&amp;ved=0ahUKEwjIvo-Cu-L0AhVNR_EDHaCED_EQ_AUICygE\">Images</a>  <a href=\"/search?q=jammuweather&amp;ie=UTF-8&amp;source=lnms&amp;tbm=shop&amp;sa=X&amp;ved=0ahUKEwjIvo-Cu-L0AhVNR_EDHaCED_EQ_AUIDCgF\">Shopping</a>  <a href=\"/search?q=jammuweather&amp;ie=UTF-8&amp;source=lnms&amp;tbm=bks&amp;sa=X&amp;ved=0ahUKEwjIvo-Cu-L0AhVNR_EDHaCED_EQ_AUIDSgG\">Books</a>  <div class=\"FElbsf\"><a href=\"/advanced_search\" style=\"white-space:nowrap\" id=\"st-toggle\" role=\"button\">Search tools</a></div> </div> </div> </div> </div><div class=\"Pg70bf wEsjbd ZINbbc xpd O9g5cc uUPGi\" style=\"display:none\" id=\"st-card\"><style>.wEsjbd{background-color:#fff;height:44px;white-space:nowrap}.coPU8c{height:60px;overflow-scrolling:touch;overflow-x:auto;overflow-y:hidden}.Xj2aue{height:44px;overflow:hidden}.RnNGze{margin:11px 16px}.wEsjbd div,.wEsjbd a,.wEsjbd li{outline-width:0;outline:none}</style><div class=\"Xj2aue\"><div class=\"coPU8c\"><div class=\"RnNGze\"><style>.PA9J5{display:inline-block}.RXaOfd{display:inline-block;height:22px;position:relative;padding-top:0;padding-bottom:0;padding-right:16px;padding-left:0;line-height:22px;cursor:pointer;text-transform:uppercase;font-size:12px;color:#70757a}.sa1toc{display:none;position:absolute;background:#fff;border:1px solid #d6d6d6;box-shadow:0 2px 4px rgba(0,0,0,0.3);margin:0;white-space:nowrap;z-index:103;line-height:17px;padding-top:5px;padding-bottom:5px;padding-left:0}.PA9J5:hover .sa1toc{display:block}.mGSy8d a:active,.RXaOfd:active{color:#4285f4}</style><div class=\"PA9J5\"><div class=\"RXaOfd\" role=\"button\" tabindex=\"0\"><style>.TWMOUc{display:inline-block;padding-right:14px;white-space:nowrap}.vQYuGf{font-weight:bold}.OmTIzf{border-color:#909090 transparent;border-style:solid;border-width:4px 4px 0 4px;width:0;height:0;margin-left:-10px;top:50%;margin-top:-2px;position:absolute}.RXaOfd:active .OmTIzf{border-color:#4285f4 transparent}</style><div class=\"TWMOUc\">Any time</div><span class=\"OmTIzf\"></span></div><ul class=\"sa1toc ozatM\"><style>.ozatM{font-size:12px;text-transform:uppercase}.ozatM .yNFsl,.ozatM li{list-style-type:none;list-style-position:outside;list-style-image:none}.yNFsl.SkUj4c,.yNFsl a{color:rgba(0,0,0,0.54);text-decoration:none;padding:6px 44px 6px 14px;line-height:17px;display:block}.SkUj4c{background-image:url(//ssl.gstatic.com/ui/v1/menu/checkmark2.png);background-position:right center;background-repeat:no-repeat}.SkUj4c:active{background-color:#f8f9fa}</style><li class=\"yNFsl SkUj4c\">Any time</li><li class=\"yNFsl\"><a href=\"/search?q=jammuweather&amp;ie=UTF-8&amp;source=lnt&amp;tbs=qdr:h&amp;sa=X&amp;ved=0ahUKEwjIvo-Cu-L0AhVNR_EDHaCED_EQpwUIDw\">Past hour</a></li><li class=\"yNFsl\"><a href=\"/search?q=jammuweather&amp;ie=UTF-8&amp;source=lnt&amp;tbs=qdr:d&amp;sa=X&amp;ved=0ahUKEwjIvo-Cu-L0AhVNR_EDHaCED_EQpwUIEA\">Past 24 hours</a></li><li class=\"yNFsl\"><a href=\"/search?q=jammuweather&amp;ie=UTF-8&amp;source=lnt&amp;tbs=qdr:w&amp;sa=X&amp;ved=0ahUKEwjIvo-Cu-L0AhVNR_EDHaCED_EQpwUIEQ\">Past week</a></li><li class=\"yNFsl\"><a href=\"/search?q=jammuweather&amp;ie=UTF-8&amp;source=lnt&amp;tbs=qdr:m&amp;sa=X&amp;ved=0ahUKEwjIvo-Cu-L0AhVNR_EDHaCED_EQpwUIEg\">Past month</a></li><li class=\"yNFsl\"><a href=\"/search?q=jammuweather&amp;ie=UTF-8&amp;source=lnt&amp;tbs=qdr:y&amp;sa=X&amp;ved=0ahUKEwjIvo-Cu-L0AhVNR_EDHaCED_EQpwUIEw\">Past year</a></li></ul></div><div class=\"PA9J5\"><div class=\"RXaOfd\" role=\"button\" tabindex=\"0\"><div class=\"TWMOUc\">All results</div><span class=\"OmTIzf\"></span></div><ul class=\"sa1toc ozatM\"><li class=\"yNFsl SkUj4c\">All results</li><li class=\"yNFsl\"><a href=\"/search?q=jammuweather&amp;ie=UTF-8&amp;source=lnt&amp;tbs=li:1&amp;sa=X&amp;ved=0ahUKEwjIvo-Cu-L0AhVNR_EDHaCED_EQpwUIFQ\">Verbatim</a></li></ul></div></div></div></div><script nonce=\"OsKHRwY2oLntm/WOHYmkmQ==\">(function(){\n",
            "var a=document.getElementById(\"st-toggle\"),b=document.getElementById(\"st-card\");a&&b&&a.addEventListener(\"click\",function(c){b.style.display=b.style.display?\"\":\"none\";c.preventDefault()},!1);}).call(this);</script></div></div><style>.ZINbbc{background-color:#fff;margin-bottom:10px;box-shadow:0 1px 6px rgba(32, 33, 36, 0.28);border-radius:8px}.uUPGi{font-size:14px;line-height:20px;}.O9g5cc>*:first-child{border-top-left-radius:8px;border-top-right-radius:8px}.O9g5cc>*:last-child{border-bottom-left-radius:8px;border-bottom-right-radius:8px}.O9g5cc>.qxDOhb>*:first-child{border-top-left-radius:8px;border-top-right-radius:8px}.O9g5cc>.qxDOhb>*:last-child{border-bottom-left-radius:8px;border-bottom-right-radius:8px}.rLshyf,.BmP5tf{padding-top:12px;padding-bottom:12px}.YOx3Ab{padding-left:16px;}.w1C3Le,.BmP5tf,.G5NbBd,.CS4w5b{padding-left:16px;padding-right:16px;}.G5NbBd{padding-bottom:12px}.CS4w5b{padding-top:12px}.MUxGbd{font-size:14px;font-family:Roboto,Helvetica Neue,Arial,sans-serif;line-height:20px;padding-top:1px;margin-bottom:-1px}.MUxGbd.v0nnCb{font-size:16px;line-height:20px;padding-top:1px;margin-bottom:-1px}.lyLwlc{color:#202124}a.fdYsqf{color:#4b11a8}.oTWEpb{padding-top:12px}.n1Qedd{overflow:hidden;text-align:center}.KMAGC{margin:0 auto;display:block}.ho0sdc{margin:0 -50%;display:inline-block}.kCrYT{padding:12px 16px 12px}.Ey4n2{padding-bottom:12px}.BNeawe{white-space:pre-line;word-wrap:break-word}.s3v9rd{font-size:14px;line-height:20px}.s3v9rd.HrGdeb{color:#fff}.s3v9rd.AP7Wnd{color:#202124}.atOwb{font-weight:bold}.Y6v1e{line-height:0}.x54gtf{height:1px;background-color:#dfe1e5;margin:0 16px}.Q0HXG{height:1px;background-color:#dfe1e5}.vvjwJb{color:#1967D2;font-size:16px;line-height:20px}a:visited .vvjwJb,.vvjwJb a:visited{color:#4B11A8}.vvjwJb.HrGdeb{color:#fff}a:visited .vvjwJb.HrGdeb,.vvjwJb.HrGdeb a:visited{color:rgba(255,255,255,.70)}.EDgFbc{color:#1967D2}a:visited .EDgFbc{color:#4B11A8}.EDgFbc.VyZZLb{color:#fff}a:visited .EDgFbc.VyZZLb{color:rgba(255,255,255,.70)}.UPmit{font-size:14px;line-height:20px}.UPmit.HrGdeb{color:rgba(255,255,255,.70)}.UPmit.AP7Wnd{color:#0d652d}.uEec3{font-size:12px;line-height:16px}.uEec3.HrGdeb{color:rgba(255,255,255,.70)}.uEec3.AP7Wnd{color:#70757a}.xUrNXd.VyZZLb{color:rgba(255,255,255,.70)}.xUrNXd.UMOHqf{color:#70757a}.rl7ilb{display:block;clear:both}.l97dzf{font-weight:400}.zBAuLc{line-height:normal;margin:0;padding:0}.yRG22b{padding-left:48px;margin:0}.MSiauf{padding-bottom:8px}.mEUgP{font-weight:bold;font-size:16px;color:#000;margin:0;padding:12px 16px 12px}.C7GS5b{margin-left:12px;display:table-cell;vertical-align:middle}.rkGIWe{padding:14px}.xpc .hwc,.xpx .hwx{display:none}.iIWm4b{box-sizing:border-box;min-height:48px}.fLtXsc{padding:14px;position:relative}.NtmAdb{width:40px;height:40px;overflow:hidden;margin-top:-10px;margin-bottom:-16px;margin-right:8px;border-radius:4px}.xpc .NtmAdb{display:inline-block}.xpx .NtmAdb{display:none}.Lt3Tzc{display:inline-block;padding-right:26px}.Lym8W{width:14px;height:20px;position:relative;margin:0 auto}.xCgLUe{position:absolute;right:16px;margin-top:-10px;top:50%}.Lym8W div{position:absolute;border-left:7px solid transparent;border-right:7px solid transparent;width:0;height:0;left:0}.IyYaEd{top:7px;border-top:7px solid #70757a}.ECUHQe{top:4px;border-top:7px solid #fff}.AeQQub{bottom:7px;border-bottom:7px solid #70757a}.YCU7eb{bottom:4px;border-bottom:7px solid #fff}.qxDOhb{border-radius:0}.yStFkb .xpd{border-radius:8px;box-shadow:none;border:1px solid #dadce0;margin-bottom:0}.ZTv9Bb{display:block}.nVTMpe{border-radius:8px}.deIvCb{font-size:16px;line-height:20px;font-weight:400}.deIvCb.HrGdeb{color:#fff}.deIvCb.AP7Wnd{color:#202124}.X7NTVe{display:table;width:100%;padding-right:16px;box-sizing:border-box}.tHmfQe{display:table-cell;padding:12px 0 12px 16px}.UHtrk{width:72px}.HBTM6d{width:30px}.XS7yGd{display:table-cell;text-align:center;vertical-align:middle;padding:12px 0 12px 8px}.am3QBf{display:table;vertical-align:top}.pkr8ib{display:table-cell;min-width:40px;padding-right:8px}.VbKY9d{color:#006621}.P1NWSe{display:table;width:100%;padding-top:16px;padding-bottom:16px;margin-bottom:-12px}.wOMIed{display:table-cell;vertical-align:top}.nkPlDb{vertical-align:middle}.JhFlyf{color:#3c4043;font-size:14px;text-align:center}.VQFmSd{display:block;white-space:pre-line;word-wrap:break-word}.JhFlyf.VQFmSd{line-height:20px}.f4J0H{padding:18px}.hfgVwf{margin-top:12px}.IxZjcf .hfgVwf{margin-bottom:12px}.OdF8Fd{float:right;padding-left:16px}.p1vimb{border-radius:8px;display:block}.rkvY3c{clear:both}.CgE3Ac{margin:0 16px}.I9mEQ{padding-bottom:12px}.LnMnt{border-collapse:collapse;border-spacing:0;width:100%}.LnMnt td{padding-top:0;padding-bottom:0;padding-right:8px}.LnMnt .s5aIid{padding-right:0}.IxZjcf{border-bottom:1px solid #dfe1e5}.sjsZvd{vertical-align:top}.OE1use{text-align:left}.BSv1qf{text-align:center}.HlHBvc{text-align:right}.IfyLsd{float:left;margin-right:8px}.gGQDvd{padding:14px;position:relative}.Q71vJc{display:block;position:relative;width:100%}.kjGX2{position:absolute;left:48px;right:0;vertical-align:bottom;display:inline-block;color:#3c4043}.ieB2Dd{width:40px;height:40px;overflow:hidden;margin-top:-10px;margin-bottom:-16px;margin-right:8px;border-radius:4px;display:inline-block;border-radius:50%;}.LsF2v span{color:#fff;mask-image:url(data:image/png;base64,iVBORw0KGgoAAAANSUhEUgAAADAAAAAwCAQAAAD9CzEMAAABa0lEQVR4AeyWtUIYQRBAX6yLu0uH08Q9ZfInNHF36UKFlHwHNLi7u2uNN9hgg3PsCVtx753fzOkalgkJieErOXQwsWAHOXwjZjcvXohsYy7xBOYgycwhDs6RzEECcJZyxGA5Z/HJIUoQVAp4z22OL3ibdxs+WgmH8EUqorZzl83cpR1RU/FBDKI2cMrhAzYgaiyeydDUQc7hxDkGNSoDj1xH1CfsxDNEvYEnXmtaNiayNPK1vw+UgIkEfx+pRdOiMRGlkS14YlLTjmHimEZO4IlxTTuCiSMaOYkn2jQtChORGtlr+ycX4YlXrotptkb+wxM3XFa0J4j60E5TMaRRNXgmHlEbOevQ2DUi6gt8kGJorjsQNW23OpxbnOQEt3lPMYLKNJdsdpkjuv5lo9MX/nMBUT/jk3iHYUs9zwGQ4LeAaHTgxTgtpPOLpyj8Dn4LE4l79RbhLV7bvsVnsHmLz1gk0e7lQ0LmRzMAAAU5VLMEuZJZAAAAAElFTkSuQmCC)}.lRVwie{text-overflow:ellipsis;white-space:nowrap;overflow:hidden}.nMymef{display:flex}.G5eFlf{flex:1;display:block}.nMymef span{text-align:center}</style><div><!--SW_C_X--></div><div></div><div class=\"ZINbbc xpd O9g5cc uUPGi\"><div id=\"scc\" class=\"BmP5tf\"><div class=\"MUxGbd v0nnCb lyLwlc\">Did you mean: <a href=\"/search?ie=UTF-8&amp;q=jammu+weather&amp;spell=1&amp;sa=X&amp;ved=2ahUKEwjIvo-Cu-L0AhVNR_EDHaCED_EQBXoECAwQAQ\"><span><b><i>jammu weather</i></b></span></a></div></div></div><div><div class=\"ZINbbc xpd O9g5cc uUPGi\"><div class=\"kCrYT\"><div><div class=\"BNeawe s3v9rd AP7Wnd\"><div><div class=\"BNeawe s3v9rd AP7Wnd\">Today's temperature in Jammu <span class=\"atOwb UMOHqf\">is 17</span><sup class=\"atOwb Y6v1e UMOHqf\">°</sup><sup class=\"atOwb Y6v1e UMOHqf\">c</sup>. Day's maximum temperature would hover at 19<sup class=\"Y6v1e UMOHqf\">°</sup><sup class=\"Y6v1e UMOHqf\">c</sup>, while minimum temperature is predicted to be 7<sup class=\"Y6v1e UMOHqf\">°</sup><sup class=\"Y6v1e UMOHqf\">c</sup>.</div></div></div></div></div><div class=\"x54gtf\"></div><div class=\"kCrYT\"><a href=\"/url?q=https://timesofindia.indiatimes.com/travel/jammu/weather&amp;sa=U&amp;ved=2ahUKEwjIvo-Cu-L0AhVNR_EDHaCED_EQFXoECAMQAg&amp;usg=AOvVaw0FnWv2jfFExzl3cQAXKm2m\"><span><div class=\"BNeawe vvjwJb AP7Wnd\"><span class=\"UMOHqf EDgFbc\">Jammu Weather | Jammu Temperature Today - Times of India</span></div></span><span><div class=\"BNeawe UPmit AP7Wnd\">timesofindia.indiatimes.com &#8250; Travel &#8250; Travel Guide</div></span></a><div class=\"oTWEpb\"><span><div class=\"BNeawe uEec3 AP7Wnd\"><span class=\"BNeawe\"><a href=\"https://www.google.com/url?q=https://support.google.com/websearch%3Fp%3Dfeatured_snippets%26hl%3Den-IN&amp;usg=AOvVaw1lVClPxAkMXTKuxQxgb55o\"><span class=\"uEec3 AP7Wnd\"><span class=\"xUrNXd UMOHqf\">About featured snippets</span></span></a></span></div></span></div></div></div></div><div><div class=\"ZINbbc xpd O9g5cc uUPGi\"><div class=\"kCrYT\"><a href=\"/url?q=https://www.accuweather.com/en/in/jammu/361708/weather-forecast/361708&amp;sa=U&amp;ved=2ahUKEwjIvo-Cu-L0AhVNR_EDHaCED_EQFnoECAgQAg&amp;usg=AOvVaw2HUPb3jAuygtzi_MzllN3I\"><h3 class=\"zBAuLc l97dzf\"><div class=\"BNeawe vvjwJb AP7Wnd\">Jammu, Jammu and Kashmir, India Today, Tonight &amp; Tomorrow's</div></h3><div class=\"BNeawe UPmit AP7Wnd\">www.accuweather.com &#8250; World &#8250; Asia &#8250; India &#8250; Jammu and Kashmir</div></a></div><div class=\"x54gtf\"></div><div class=\"kCrYT\"><div><div class=\"BNeawe s3v9rd AP7Wnd\"><div><div><div class=\"BNeawe s3v9rd AP7Wnd\">Jammu Weather Radar. See Interactive Map. Jammu Weather Radar. Static Radar Temporarily Unavailable. Thank you for your patience as we work to get ...</div></div></div></div></div></div></div></div><div><div class=\"ZINbbc xpd O9g5cc uUPGi\"><div class=\"kCrYT\"><a href=\"/url?q=https://www.weather-forecast.com/locations/Jammu/forecasts/latest&amp;sa=U&amp;ved=2ahUKEwjIvo-Cu-L0AhVNR_EDHaCED_EQFnoECAoQAg&amp;usg=AOvVaw2OVqwcQxAlcT3I00LSX6Nt\"><h3 class=\"zBAuLc l97dzf\"><div class=\"BNeawe vvjwJb AP7Wnd\">Jammu Weather Forecast</div></h3><div class=\"BNeawe UPmit AP7Wnd\">www.weather-forecast.com &#8250; locations &#8250; Jammu &#8250; forecasts &#8250; latest</div></a></div><div class=\"x54gtf\"></div><div class=\"kCrYT\"><div><div class=\"BNeawe s3v9rd AP7Wnd\"><div><div><div class=\"BNeawe s3v9rd AP7Wnd\">Jammu Weather Today ... (1&#8211;3 days):. Mostly dry. Very mild (max 19°C on Mon afternoon, min 11°C on Wed night). Wind will be generally light.</div></div></div></div></div></div></div></div><div><div class=\"ZINbbc xpd O9g5cc uUPGi\"><div class=\"kCrYT\"><a href=\"/url?q=https://weather.com/en-IN/weather/tenday/l/Jammu%2BJammu%2Band%2BKashmir%3FcanonicalCityId%3Ddda5d618b76d8480ec6a0736da19a101de3ee3e17c24286c9f66b681ff0643a8&amp;sa=U&amp;ved=2ahUKEwjIvo-Cu-L0AhVNR_EDHaCED_EQFnoECAkQAg&amp;usg=AOvVaw1pP9VF8PeLAFhyM5Rga_Te\"><h3 class=\"zBAuLc l97dzf\"><div class=\"BNeawe vvjwJb AP7Wnd\">Jammu, Jammu and Kashmir 10-Day Weather Forecast</div></h3><div class=\"BNeawe UPmit AP7Wnd\">weather.com &#8250; en-IN &#8250; weather &#8250; tenday &#8250; Jammu+Jammu+and+Kashmir</div></a></div><div class=\"x54gtf\"></div><div class=\"kCrYT\"><div><div class=\"BNeawe s3v9rd AP7Wnd\"><div><div><div class=\"BNeawe s3v9rd AP7Wnd\">Be prepared with the most accurate 10-day forecast for Jammu, Jammu and Kashmir with highs, lows, chance of precipitation from The Weather Channel and ...</div></div></div></div></div></div></div></div><div><div class=\"ZINbbc xpd O9g5cc uUPGi\"><div></div><div class=\"mEUgP\"><span><div class=\"BNeawe\"><span class=\"atOwb UMOHqf\">People also ask</span></div></span></div><div class=\"x54gtf\"></div><div><div class=\"xpc\"><div class=\"duf-h\"><div class=\"fLtXsc iIWm4b\" aria-expanded=\"false\" id=\"tsuid1\" role=\"button\" tabindex=\"0\" data-ved=\"2ahUKEwjIvo-Cu-L0AhVNR_EDHaCED_EQuk56BAgGEAI\"><div class=\"Lt3Tzc\">How is the weather in Jammu?</div><div class=\"Lym8W xCgLUe\"><div class=\"AeQQub hwc\"></div><div class=\"YCU7eb hwc\"></div><div class=\"IyYaEd hwx\"></div><div class=\"ECUHQe hwx\"></div></div></div></div><div class=\"qxDOhb\" id=\"accdef_2\"></div></div></div><div class=\"x54gtf\"></div><div><div class=\"xpc\"><div class=\"duf-h\"><div class=\"fLtXsc iIWm4b\" aria-expanded=\"false\" id=\"tsuid4\" role=\"button\" tabindex=\"0\" data-ved=\"2ahUKEwjIvo-Cu-L0AhVNR_EDHaCED_EQuk56BAgGEAk\"><div class=\"Lt3Tzc\">Is Jammu hot or cold?</div><div class=\"Lym8W xCgLUe\"><div class=\"AeQQub hwc\"></div><div class=\"YCU7eb hwc\"></div><div class=\"IyYaEd hwx\"></div><div class=\"ECUHQe hwx\"></div></div></div></div><div class=\"qxDOhb\" id=\"accdef_5\"></div></div></div><div class=\"x54gtf\"></div><div><div class=\"xpc\"><div class=\"duf-h\"><div class=\"fLtXsc iIWm4b\" aria-expanded=\"false\" id=\"tsuid7\" role=\"button\" tabindex=\"0\" data-ved=\"2ahUKEwjIvo-Cu-L0AhVNR_EDHaCED_EQuk56BAgGEBA\"><div class=\"Lt3Tzc\">When rain is expected in Jammu?</div><div class=\"Lym8W xCgLUe\"><div class=\"AeQQub hwc\"></div><div class=\"YCU7eb hwc\"></div><div class=\"IyYaEd hwx\"></div><div class=\"ECUHQe hwx\"></div></div></div></div><div class=\"qxDOhb\" id=\"accdef_8\"></div></div></div><div class=\"x54gtf\"></div><div><div class=\"xpc\"><div class=\"duf-h\"><div class=\"fLtXsc iIWm4b\" aria-expanded=\"false\" id=\"tsuid10\" role=\"button\" tabindex=\"0\" data-ved=\"2ahUKEwjIvo-Cu-L0AhVNR_EDHaCED_EQuk56BAgGEBg\"><div class=\"Lt3Tzc\">When monsoon will come in Jammu and Kashmir?</div><div class=\"Lym8W xCgLUe\"><div class=\"AeQQub hwc\"></div><div class=\"YCU7eb hwc\"></div><div class=\"IyYaEd hwx\"></div><div class=\"ECUHQe hwx\"></div></div></div></div><div class=\"qxDOhb\" id=\"accdef_11\"></div></div></div></div></div><div><div class=\"ZINbbc xpd O9g5cc uUPGi\"><div class=\"kCrYT\"><a href=\"/url?q=https://weather.com/en-IN/weather/today/l/INXX0222:1:IN&amp;sa=U&amp;ved=2ahUKEwjIvo-Cu-L0AhVNR_EDHaCED_EQFnoECAcQAg&amp;usg=AOvVaw1iO5t52Hjb_SeLo79DkrSB\"><h3 class=\"zBAuLc l97dzf\"><div class=\"BNeawe vvjwJb AP7Wnd\">JammuWeather Forecast and Conditions | Weather.com</div></h3><div class=\"BNeawe UPmit AP7Wnd\">weather.com &#8250; en-IN &#8250; weather &#8250; today &#8250; INXX0222:1:IN</div></a></div><div class=\"x54gtf\"></div><div class=\"kCrYT\"><div><div class=\"BNeawe s3v9rd AP7Wnd\"><div><div><div class=\"BNeawe s3v9rd AP7Wnd\">Today's and tonight's Jammuweather forecast, weather conditions and Doppler radar from The Weather Channel and Weather.com.</div></div></div></div></div></div></div></div><div><div class=\"ZINbbc xpd O9g5cc uUPGi\"><div class=\"kCrYT\"><a href=\"/url?q=https://www.timeanddate.com/weather/india/jammu/ext&amp;sa=U&amp;ved=2ahUKEwjIvo-Cu-L0AhVNR_EDHaCED_EQFnoECAEQAg&amp;usg=AOvVaw3kVSnGRPU1sCidZnuq521J\"><h3 class=\"zBAuLc l97dzf\"><div class=\"BNeawe vvjwJb AP7Wnd\">Jammu 14 Day Extended Forecast - Weather - Time and Date</div></h3><div class=\"BNeawe UPmit AP7Wnd\">www.timeanddate.com &#8250; Weather &#8250; India &#8250; Jammu</div></a></div><div class=\"x54gtf\"></div><div class=\"kCrYT\"><div><div class=\"BNeawe s3v9rd AP7Wnd\"><div><div><div class=\"BNeawe s3v9rd AP7Wnd\">Conditions, Comfort, Precipitation, Sun. Day, Temperature, Weather, Feels Like, Wind, Humidity, Chance, Amount, UV, Sunrise, Sunset ...</div></div></div></div></div></div></div></div><div><div class=\"ZINbbc xpd O9g5cc uUPGi\"><div class=\"kCrYT\"><a href=\"/url?q=https://www.yr.no/en/forecast/daily-table/2-1269321/India/Jammu%2520and%2520Kashmir/Jammu/Jammu&amp;sa=U&amp;ved=2ahUKEwjIvo-Cu-L0AhVNR_EDHaCED_EQFnoECAAQAg&amp;usg=AOvVaw3SP_TrL7ocKXZVx3ZOD0uY\"><h3 class=\"zBAuLc l97dzf\"><div class=\"BNeawe vvjwJb AP7Wnd\">Jammu - Yr</div></h3><div class=\"BNeawe UPmit AP7Wnd\">www.yr.no &#8250; forecast &#8250; daily-table &#8250; India &#8250; Jammu &#8250; Jammu</div></a></div><div class=\"x54gtf\"></div><div class=\"kCrYT\"><div><div class=\"BNeawe s3v9rd AP7Wnd\"><div><div><div class=\"BNeawe s3v9rd AP7Wnd\">Today's weather forecast, by the hour and long term. See the forecast as a table or graph.</div></div></div></div></div></div></div></div><div><div class=\"ZINbbc xpd O9g5cc uUPGi\"><div class=\"kCrYT\"><a href=\"/url?q=https://www.weather15days.in/forecast/weather/india/jk/jammu-weather-20-days.html&amp;sa=U&amp;ved=2ahUKEwjIvo-Cu-L0AhVNR_EDHaCED_EQFnoECAQQAg&amp;usg=AOvVaw2yIgakRll7Dmz3c64ojMIX\"><h3 class=\"zBAuLc l97dzf\"><div class=\"BNeawe vvjwJb AP7Wnd\">Weather jammu 20 days - &#2332;&#2350;&#2381;&#2350;&#2370; &#2324;&#2352; &#2325;&#2358;&#2350;&#2368;&#2352; jammu ka mausam</div></h3><div class=\"BNeawe UPmit AP7Wnd\">www.weather15days.in &#8250; forecast &#8250; weather &#8250; india &#8250; jammu-weather-20-d...</div></a></div><div class=\"x54gtf\"></div><div class=\"kCrYT\"><div><div class=\"BNeawe s3v9rd AP7Wnd\"><div><div><div class=\"BNeawe s3v9rd AP7Wnd\">jammu weather 20 days ... Air quality will be very unhealthy Monday evening through Thursday morning... Date. Weather. Rain. High. Low.</div></div></div></div></div></div></div></div><div><div class=\"ZINbbc xpd O9g5cc uUPGi\"><div class=\"kCrYT\"><a href=\"/url?q=https://www.theweathernetwork.com/in/weather/jammu-kashmir/jammu&amp;sa=U&amp;ved=2ahUKEwjIvo-Cu-L0AhVNR_EDHaCED_EQFnoECAIQAg&amp;usg=AOvVaw3tC5F1lulfQZ7R6aDjVhvP\"><h3 class=\"zBAuLc l97dzf\"><div class=\"BNeawe vvjwJb AP7Wnd\">Jammu, IN - Current Weather</div></h3><div class=\"BNeawe UPmit AP7Wnd\">www.theweathernetwork.com &#8250; weather &#8250; jammu-kashmir &#8250; jammu</div></a></div><div class=\"x54gtf\"></div><div class=\"kCrYT\"><div><div class=\"BNeawe s3v9rd AP7Wnd\"><div><div><div class=\"BNeawe s3v9rd AP7Wnd\">Get Jammu, IN current weather report with temperature, feels like, air quality, humidity, UV report and pollen forecast from TheWeatherNetwork.com.</div></div></div></div></div></div></div></div><div><div class=\"ZINbbc xpd O9g5cc uUPGi\"><div class=\"kCrYT\"><a href=\"/url?q=https://www.weathercrave.com/weather-forecast-india/city-6551/weather-forecast-jammu-today&amp;sa=U&amp;ved=2ahUKEwjIvo-Cu-L0AhVNR_EDHaCED_EQFnoECAsQAg&amp;usg=AOvVaw0yQl5z9d1Xxj2wrQxCzHqk\"><h3 class=\"zBAuLc l97dzf\"><div class=\"BNeawe vvjwJb AP7Wnd\">India (Jammu and Kashmir) : free 15 day weather forecasts</div></h3><div class=\"BNeawe UPmit AP7Wnd\">www.weathercrave.com &#8250; Weather &#8250; India &#8250; Jammu and Kashmir</div></a></div><div class=\"x54gtf\"></div><div class=\"kCrYT\"><div><div class=\"BNeawe s3v9rd AP7Wnd\"><div><div><div class=\"BNeawe s3v9rd AP7Wnd\">Weather Forecast Jammu - India (Jammu and Kashmir) &#9788; Longitude : 74.86 Latitude : 32.72 Altitude : 301m &#9728; Localisée dans le sous-continent indien, ...</div></div></div></div></div></div></div></div><div><div class=\"ZINbbc xpd O9g5cc uUPGi\"><div></div><div class=\"mEUgP\"><span><div class=\"BNeawe\">Related searches</div></span></div><div class=\"x54gtf\"></div><div><div class=\"gGQDvd iIWm4b\"><a class=\"Q71vJc\" href=\"/search?ie=UTF-8&amp;q=Heavy+rain+in+Jammu+Today&amp;sa=X&amp;ved=2ahUKEwjIvo-Cu-L0AhVNR_EDHaCED_EQ1QJ6BAgFEAI\"><accordion-entry-search-icon><span class=\"ieB2Dd WqQeqc LsF2v\"><span></span></span></accordion-entry-search-icon><div class=\"kjGX2\"><span><div class=\"BNeawe s3v9rd AP7Wnd lRVwie\">Heavy rain in Jammu Today</div></span></div></a></div></div><div class=\"x54gtf\"></div><div><div class=\"gGQDvd iIWm4b\"><a class=\"Q71vJc\" href=\"/search?ie=UTF-8&amp;q=Jammu+weather+for+10+days&amp;sa=X&amp;ved=2ahUKEwjIvo-Cu-L0AhVNR_EDHaCED_EQ1QJ6BAgFEAQ\"><accordion-entry-search-icon><span class=\"ieB2Dd WqQeqc LsF2v\"><span></span></span></accordion-entry-search-icon><div class=\"kjGX2\"><span><div class=\"BNeawe s3v9rd AP7Wnd lRVwie\">Jammu weather for 10 days</div></span></div></a></div></div><div class=\"x54gtf\"></div><div><div class=\"gGQDvd iIWm4b\"><a class=\"Q71vJc\" href=\"/search?ie=UTF-8&amp;q=Jammu+weather+tomorrow&amp;sa=X&amp;ved=2ahUKEwjIvo-Cu-L0AhVNR_EDHaCED_EQ1QJ6BAgFEAY\"><accordion-entry-search-icon><span class=\"ieB2Dd WqQeqc LsF2v\"><span></span></span></accordion-entry-search-icon><div class=\"kjGX2\"><span><div class=\"BNeawe s3v9rd AP7Wnd lRVwie\">Jammu weather tomorrow</div></span></div></a></div></div><div class=\"x54gtf\"></div><div><div class=\"gGQDvd iIWm4b\"><a class=\"Q71vJc\" href=\"/search?ie=UTF-8&amp;q=Weather+in+Jammu+for+next+5+days&amp;sa=X&amp;ved=2ahUKEwjIvo-Cu-L0AhVNR_EDHaCED_EQ1QJ6BAgFEAg\"><accordion-entry-search-icon><span class=\"ieB2Dd WqQeqc LsF2v\"><span></span></span></accordion-entry-search-icon><div class=\"kjGX2\"><span><div class=\"BNeawe s3v9rd AP7Wnd lRVwie\">Weather in Jammu for next 5 days</div></span></div></a></div></div><div class=\"x54gtf\"></div><div><div class=\"gGQDvd iIWm4b\"><a class=\"Q71vJc\" href=\"/search?ie=UTF-8&amp;q=Weather+in+Jammu+30+days&amp;sa=X&amp;ved=2ahUKEwjIvo-Cu-L0AhVNR_EDHaCED_EQ1QJ6BAgFEAo\"><accordion-entry-search-icon><span class=\"ieB2Dd WqQeqc LsF2v\"><span></span></span></accordion-entry-search-icon><div class=\"kjGX2\"><span><div class=\"BNeawe s3v9rd AP7Wnd lRVwie\">Weather in Jammu 30 days</div></span></div></a></div></div><div class=\"x54gtf\"></div><div><div class=\"gGQDvd iIWm4b\"><a class=\"Q71vJc\" href=\"/search?ie=UTF-8&amp;q=Jammu+weather+forecast+15+days&amp;sa=X&amp;ved=2ahUKEwjIvo-Cu-L0AhVNR_EDHaCED_EQ1QJ6BAgFEAw\"><accordion-entry-search-icon><span class=\"ieB2Dd WqQeqc LsF2v\"><span></span></span></accordion-entry-search-icon><div class=\"kjGX2\"><span><div class=\"BNeawe s3v9rd AP7Wnd lRVwie\">Jammu weather forecast 15 days</div></span></div></a></div></div><div class=\"x54gtf\"></div><div><div class=\"gGQDvd iIWm4b\"><a class=\"Q71vJc\" href=\"/search?ie=UTF-8&amp;q=Jammu+temperature+today+morning&amp;sa=X&amp;ved=2ahUKEwjIvo-Cu-L0AhVNR_EDHaCED_EQ1QJ6BAgFEA4\"><accordion-entry-search-icon><span class=\"ieB2Dd WqQeqc LsF2v\"><span></span></span></accordion-entry-search-icon><div class=\"kjGX2\"><span><div class=\"BNeawe s3v9rd AP7Wnd lRVwie\">Jammu temperature today morning</div></span></div></a></div></div><div class=\"x54gtf\"></div><div><div class=\"gGQDvd iIWm4b\"><a class=\"Q71vJc\" href=\"/search?ie=UTF-8&amp;q=Weather+Jammu+14+days&amp;sa=X&amp;ved=2ahUKEwjIvo-Cu-L0AhVNR_EDHaCED_EQ1QJ6BAgFEBA\"><accordion-entry-search-icon><span class=\"ieB2Dd WqQeqc LsF2v\"><span></span></span></accordion-entry-search-icon><div class=\"kjGX2\"><span><div class=\"BNeawe s3v9rd AP7Wnd lRVwie\">Weather Jammu 14 days</div></span></div></a></div></div></div></div><footer> <div>  <div class=\"ZINbbc xpd O9g5cc uUPGi BmP5tf\"><div class=\"nMymef MUxGbd lyLwlc\"><a class=\"nBDE1b G5eFlf\" href=\"/search?q=jammuweather&amp;ie=UTF-8&amp;ei=jh64Yci_Js2Oxc8PoIm-iA8&amp;start=10&amp;sa=N\" aria-label=\"Next page\">Next &gt;</a></div></div> </div>  <div id=\"EOlPnc\"><div class=\"Srfpq\"><span class=\"unknown_loc\"></span><span id=\"xxxXMc\">201301, Noida, Uttar Pradesh</span><span id=\"ttWoPb\">&nbsp;-&nbsp;</span><span>From your IP address</span><span>&nbsp;-&nbsp;</span><a href=\"/url?q=https://support.google.com/websearch%3Fp%3Dws_settings_location%26hl%3Den-IN&amp;sa=U&amp;ved=0ahUKEwjIvo-Cu-L0AhVNR_EDHaCED_EQty4Icw&amp;usg=AOvVaw2NX53QuM8vrFOBQqS6JoOs\">Learn more</a></div><div><a href=\"/url?q=https://accounts.google.com/ServiceLogin%3Fcontinue%3Dhttps://www.google.com/search%253Fq%253Djammuweather%26hl%3Den&amp;sa=U&amp;ved=0ahUKEwjIvo-Cu-L0AhVNR_EDHaCED_EQxs8CCHQ&amp;usg=AOvVaw02ShRU0D8VmIz-_PemGjBA\">Sign in</a></div><div><a class=\"xeDNfc\" href=\"https://www.google.com/preferences?hl=en-IN&amp;fg=1&amp;sa=X&amp;ved=0ahUKEwjIvo-Cu-L0AhVNR_EDHaCED_EQ5fUCCHU\">Settings</a><a class=\"xeDNfc\" href=\"https://policies.google.com/privacy?hl=en-IN&amp;fg=1\">Privacy</a><a class=\"xeDNfc\" href=\"https://policies.google.com/terms?hl=en-IN&amp;fg=1\">Terms</a></div></div> </footer><script nonce=\"OsKHRwY2oLntm/WOHYmkmQ==\">(function(){var hl='en-IN';(function(){\n",
            "var f=this||self,g=function(a){return a};var h,k=function(){if(void 0===h){var a=null,b=f.trustedTypes;if(b&&b.createPolicy){try{a=b.createPolicy(\"goog#html\",{createHTML:g,createScript:g,createScriptURL:g})}catch(c){f.console&&f.console.error(c.message)}h=a}else h=a}return h};var n=function(a,b){this.h=a===l&&b||\"\";this.g=m},p=function(a){return a instanceof n&&a.constructor===n&&a.g===m?a.h:\"type_error:Const\"},m={},l={};var r=function(a,b){this.g=b===q?a:\"\"};r.prototype.toString=function(){return this.g+\"\"};var t=function(a){return a instanceof r&&a.constructor===r?a.g:\"type_error:TrustedResourceUrl\"},x=function(){var a={},b=p(new n(l,\"/complete/search\"));if(!u.test(b))throw Error(\"a`\"+b);var c=b.replace(v,function(e,d){if(!Object.prototype.hasOwnProperty.call(a,d))throw Error(\"b`\"+d+\"`\"+b+\"`\"+JSON.stringify(a));e=a[d];return e instanceof n?p(e):encodeURIComponent(String(e))});return w(c)},v=/%{(\\w+)}/g,u=RegExp(\"^((https:)?//[0-9a-z.:[\\\\]-]+/|/[^/\\\\\\\\]|[^:/\\\\\\\\%]+/|[^:/\\\\\\\\%]*[?#]|about:blank#)\",\"i\"),y=/^([^?#]*)(\\?[^#]*)?(#[\\s\\S]*)?/,q={},w=function(a){var b=k();a=b?b.createScriptURL(a):a;return new r(a,q)},z=function(a,b,c){if(null==c)return b;if(\"string\"===typeof c)return c?a+encodeURIComponent(c):\"\";for(var e in c)if(Object.prototype.hasOwnProperty.call(c,e)){var d=c[e];d=Array.isArray(d)?d:[d];for(var D=0;D<d.length;D++){var P=d[D];null!=P&&(b||(b=a),b+=(b.length>a.length?\"&\":\"\")+encodeURIComponent(e)+\"=\"+encodeURIComponent(String(P)))}}return b};var A={},B=function(a,b,c){this.g=c===A?a:\"\"};B.prototype.toString=function(){return this.g.toString()};var C=function(a){var b=k();a=b?b.createHTML(a):a;return new B(a,null,A)};\n",
            "function E(a,b){if(null!==a&&void 0!==a.tagName){if(\"script\"===a.tagName.toLowerCase())throw Error(\"c\");if(\"style\"===a.tagName.toLowerCase())throw Error(\"d\");}a.innerHTML=b instanceof B&&b.constructor===B?b.g:\"type_error:SafeHtml\"};var F=document.querySelector(\".l\"),G=document.querySelector(\"#sf\"),H=G.querySelector(\".sbc\"),I=G.querySelector(\"[type=text]\"),J=G.querySelector(\"[type=submit]\"),K=G.querySelector(\".sc\"),L=G.querySelector(\".x\"),M=I.value,N=[],O=-1,Q=M,R,S,T;M||(L&&(L.style.display=\"none\"),U(!1));function U(a){if(H.classList.contains(\"esbc\")){var b=H.classList.contains(\"chsbc\"),c=H.classList.contains(\"rtlsbc\");a&&(K.style.display=\"block\",b?(G.style.borderRadius=\"20px 20px 0 0\",K.style.borderBottom=\"1px solid #DFE1E5\",J.style.borderRadius=c?\"20px 0 0 0\":\"0 20px 0 0\"):H.style.borderRadius=c?\"0 8px 0 0\":\"8px 0 0 0\");a||(K.style.display=\"none\",b?(G.style.borderRadius=\"20px\",K.style.borderBottom=\"none\",J.style.borderRadius=c?\"20px 0 0 20px\":\"0 20px 20px 0\"):H.style.borderRadius=c?\"0 8px 8px 0\":\"8px 0 0 8px\")}}function V(){G.querySelector(\"[name=oq]\").value=Q;G.querySelector(\"[name=aqs]\").value=\"heirloom-srp.\"+(0<=O?O:\"\")+\".\"+(0<N.length?\"0l\"+N.length:\"\")}\n",
            "function W(){R=null;if(S){var a={client:\"heirloom-srp\",hl:hl,json:\"t\",callback:\"hS\",q:S};\"undefined\"!==typeof ds&&ds&&(a.ds=ds);var b=document;var c=\"SCRIPT\";\"application/xhtml+xml\"===b.contentType&&(c=c.toLowerCase());c=b.createElement(c);b=x();b=y.exec(t(b).toString());var e=b[3]||\"\";a=w(b[1]+z(\"?\",b[2]||\"\",a)+z(\"#\",e,void 0));c.src=t(a);var d;a=(c.ownerDocument&&c.ownerDocument.defaultView||window).document;(d=(b=null===(d=a.querySelector)||void 0===d?void 0:d.call(a,\"script[nonce]\"))?b.nonce||\n",
            "b.getAttribute(\"nonce\")||\"\":\"\")&&c.setAttribute(\"nonce\",d);document.body.appendChild(c);S=null;R=setTimeout(W,500)}}function X(){for(;K.firstChild;)K.removeChild(K.firstChild);N=[];O=-1;U(!1)}function Y(){var a=K.querySelector(\".scs\");a&&(a.className=\"\");0<=O?(a=K.childNodes[O],a.className=\"scs\",M=a.textContent):M=Q;I.value=M}I.addEventListener(\"focus\",function(){F&&(F.style.display=\"none\")},!1);I.addEventListener(\"blur\",function(){X();F&&(F.style.display=\"\")},!1);I.addEventListener(\"keyup\",function(a){M=I.value;T=!1;13===a.which?V():27===a.which?(X(),F&&(F.style.display=\"\"),M=Q,I.value=M):40===a.which?(O++,O>=N.length&&(O=-1),Y()):38===a.which?(O--,-1>O&&(O=N.length-1),Y()):(a=M)?(L&&(L.style.display=\"\"),S=a,R||W(),Q=a):(L&&(L.style.display=\"none\"),U(!1),X(),Q=\"\",T=!0)},!1);J.addEventListener(\"click\",V,!1);L.addEventListener(\"click\",function(){I.value=\"\";L.style.display=\"none\";U(!1)},!1);H.addEventListener(\"click\",function(){I.focus()},!1);window.hS=function(a){if(!T){X();0===a[1].length&&U(!1);for(var b=0;b<a[1].length;b++){var c=a[1][b][0],e=document.createElement(\"div\");E(e,C(c));e.addEventListener(\"mousedown\",function(d){d.preventDefault();return!1},!1);c=c.replace(/<\\/?b>/g,\"\");e.addEventListener(\"click\",function(d){return function(){O=d;V();Y();X();G.submit()}}(b),!1);e.addEventListener(\"mouseover\",function(d){return function(){O!==d&&(O=d,Y())}}(b),!1);K.appendChild(e);U(!0);N.push(c)}}};}).call(this);})();(function(){\n",
            "function b(a){for(a=a.target||a.srcElement;a&&\"A\"!==a.nodeName;)a=a.parentElement;a&&(a.href||\"\").match(/\\/search.*[?&]tbm=isch/)&&(a.href+=\"&biw=\"+document.documentElement.clientWidth,a.href+=\"&bih=\"+document.documentElement.clientHeight)}document.addEventListener(\"click\",b,!1);document.addEventListener(\"touchStart\",b,!1);}).call(this);</script></div><!-- cctlcm 5 cctlcm --><textarea class=\"csi\" name=\"csi\" style=\"display:none\"></textarea><script nonce=\"OsKHRwY2oLntm/WOHYmkmQ==\">(function(){var e='jh64Yci_Js2Oxc8PoIm-iA8';var sn='web';var timl=false;(function(){\n",
            "function y(a){if(!a||z(a))return 0;if(!a.getBoundingClientRect)return 1;var c=function(b){return b.getBoundingClientRect()};return A(a,c)?0:I(a,c)}function A(a,c){var b;a:{for(b=a;b&&null!==b;b=b.parentElement)if(\"hidden\"===b.style.overflow)break a;b=null}if(!b)return!1;a=c(a);c=c(b);return a.bottom<c.top||a.top>=c.bottom||a.right<c.left||a.left>=c.right}\n",
            "function z(a){return\"none\"===a.style.display?!0:document.defaultView&&document.defaultView.getComputedStyle?(a=document.defaultView.getComputedStyle(a),!!a&&(\"hidden\"===a.visibility||\"0px\"===a.height&&\"0px\"===a.width)):!1}\n",
            "function I(a,c){var b=c(a);a=b.left+window.pageXOffset;c=b.top+window.pageYOffset;var f=b.width;b=b.height;var g=0;if(0>=b&&0>=f)return g;var p=window.innerHeight||document.documentElement.clientHeight;0>c+b?g=2:c>=p&&(g=4);if(0>a+f||a>=(window.innerWidth||document.documentElement.clientWidth))g|=8;g||(g=1,c+b>p&&(g|=4));return g};var J=e,K=sn,L=\"undefined\"===typeof de?!0:!1!==de,M=[];function N(a,c,b){a=\"/gen_204?atyp=csi&s=\"+(K||\"web\")+\"&t=\"+a+(\"&lite=1&ei=\"+J+\"&conn=\"+(window.navigator&&window.navigator.connection?window.navigator.connection.type:-1)+c);c=\"&rt=\";for(var f in b)a+=\"\"+c+f+\".\"+b[f],c=\",\";return a}function O(a){a={prt:a};window.wsrt&&(a.wsrt=window.wsrt);return a}function P(a){window.ping?window.ping(a):(new Image).src=a}\n",
            "(function(){for(var a=(new Date).getTime()-window.start,c=O(a),b=0,f=0,g=0,p=document.getElementsByTagName(\"img\"),q=L?\"&biw=\"+window.innerWidth+\"&bih=\"+window.innerHeight:\"\",Q=function(h,r){h.onload=function(){f=(new Date).getTime()-window.start;r&&++u==g&&(b=f,B());h.onload=null}},B=function(){q+=\"&ima=\"+g;c.aft=b;P(N(\"aft\",q,c))},u=0,R=0,d=void 0;d=p[R++];){var t=y(d),n=!!(t&1);n&&++g;var m=d.hasAttribute(\"data-ilite\"),v=d.hasAttribute(\"data-deferred\")||m,C=d.getAttribute(\"data-src\")||d.getAttribute(\"data-lzysrc\"),D=!v&&C;M.push([t,v,D,google.ldi&&d.id&&google.ldi[d.id]||m&&C]);m=(t=d.complete&&(m||!v&&!(n&&D)))&&Number(d.getAttribute(\"data-iml\"))||0;t&&m?(n&&++u,m&&(d=m-window.start,n&&(b=Math.max(b,d)),f=Math.max(f,d))):Q(d,n)}b||(b=a);f||(f=b);u==g&&B();google.rglh&&google.rglh();window.addEventListener(\"load\",function(){window.setTimeout(function(){c.ol=(new Date).getTime()-window.start;timl&&(c.iml=f);var h=window.performance&&window.performance.timing;h&&(c.rqst=h.responseEnd-h.requestStart,c.rspt=h.responseEnd-\n",
            "h.responseStart);for(var r=h=0,E=0,F=0,G=0,S=0,k;k=M[S++];){var l=k[0],w=k[1],T=k[2];k=k[3];var U=0==l,x=l&8,H=l&4;l=1==l||2==l||x&&!H;!l||x||w&&!k||++E;w&&(l&&k&&++h,H&&!k&&++r);U||x?T||++G:w||++F}q+=\"&ime=\"+E+(\"&imex=\"+F+\"&imeh=\"+G)+(\"&imea=\"+h+\"&imeb=\"+r);P(N(\"all\",q,c))},0)},!1)})();}).call(this);})();</script><script nonce=\"OsKHRwY2oLntm/WOHYmkmQ==\">(function(){var e='jh64Yci_Js2Oxc8PoIm-iA8';(function(){\n",
            "var a=e;2===(window.performance&&window.performance.navigation&&window.performance.navigation.type)&&window.ping(\"/gen_204?ct=backbutton&ei=\"+a);}).call(this);})();(function(){\n",
            "var b=[function(){google.tick&&google.tick(\"load\",\"dcl\")}];google.dclc=function(a){b.length?b.push(a):a()};function c(){for(var a=b.shift();a;)a(),a=b.shift()}window.addEventListener?(document.addEventListener(\"DOMContentLoaded\",c,!1),window.addEventListener(\"load\",c,!1)):window.attachEvent&&window.attachEvent(\"onload\",c);}).call(this);\n",
            "window.jsl=window.jsl||{};window.jsl.dh=function(d,e,c){try{var f=document.getElementById(d);if(f)f.innerHTML=e,c&&c();else{var a={id:d,script:String(!!c),milestone:String(google.jslm||0)};google.jsla&&(a.async=google.jsla);var g=document.createElement(\"div\");g.innerHTML=e;var b=g.children[0];b&&(a.tag=b.tagName,a[\"class\"]=String(b.className||null),a.name=String(b.getAttribute(\"jsname\")));google.ml(Error(\"Missing ID.\"),!1,a)}}catch(h){google.ml(h,!0,{\"jsl.dh\":!0})}};(function(){var x=false;\n",
            "google.jslm=x?2:1;})();(function(){(function(){google.csct={};google.csct.ps='AOvVaw376pORlZhjP_HERzc6eSyB\\x26ust\\x3d1639542798668611';})();})();(function(){(function(){google.csct.rd=true;})();})();(function(){(function(){google.csct.rl=true;})();})();(function(){\n",
            "window.xp=function(b){function f(k,g,h){return\"xp\"+(\"x\"==g?\"c\":\"x\")+h}for(var c=/\\bxp(x|c)(\\d?)\\b/,a=b;a;){var e=a.className,d=e.match(c);if(d){d=\"c\"==d[1];a.className=e.replace(c,f);b&&b.setAttribute(\"aria-expanded\",d);if(d)for(b=a.getElementsByTagName(\"img\"),c=0;c<b.length;++c)if(a=b[c],e=a.getAttribute(\"data-ll\"))a.src=e,a.removeAttribute(\"data-ll\");break}a=a.parentElement}};})();(function(){(function(){\n",
            "window.logVe=function(a){a&&a.attributes[\"data-ved\"]&&window.ping(\"/gen_204?ved=\"+a.attributes[\"data-ved\"].value)};}).call(this);})();(function(){(function(){var id='tsuid1';var lve=true;(function(){\n",
            "\n",
            "\n",
            "var e=\"undefined\"!=typeof navigator&&!/Opera/.test(navigator.userAgent)&&/WebKit/.test(navigator.userAgent),f={A:1,INPUT:1,TEXTAREA:1,SELECT:1,BUTTON:1},g={A:13,BUTTON:0,CHECKBOX:32,COMBOBOX:13,FILE:0,GRIDCELL:13,LINK:13,LISTBOX:13,MENU:0,MENUBAR:0,MENUITEM:0,MENUITEMCHECKBOX:0,MENUITEMRADIO:0,OPTION:0,RADIO:32,RADIOGROUP:32,RESET:0,SUBMIT:0,SWITCH:32,TAB:0,TREE:13,TREEITEM:13},h={CHECKBOX:!0,FILE:!0,OPTION:!0,RADIO:!0},k={COLOR:!0,DATE:!0,DATETIME:!0,\"DATETIME-LOCAL\":!0,EMAIL:!0,MONTH:!0,NUMBER:!0,PASSWORD:!0,RANGE:!0,SEARCH:!0,TEL:!0,TEXT:!0,TEXTAREA:!0,TIME:!0,URL:!0,WEEK:!0};document.getElementById(id).onclick=function(){window.xp(this);lve&&window.logVe(this)};document.getElementById(id).onkeydown=function(d){var c=d.which||d.keyCode;e&&3==c&&(c=13);if(13!=c&&32!=c)c=!1;else{var a=d.target||d.srcElement;!a.getAttribute&&a.parentNode&&(a=a.parentNode);var b;if(!(b=\"keydown\"!=d.type)){if(b=\"getAttribute\"in a)b=!((a.getAttribute(\"type\")||a.tagName).toUpperCase()in k);b=!(b&&!(\"BUTTON\"==a.tagName.toUpperCase()||a.type&&\"FILE\"==a.type.toUpperCase())&&!a.isContentEditable)}(b=b||d.ctrlKey||d.shiftKey||d.altKey||d.metaKey||(a.getAttribute(\"type\")||a.tagName).toUpperCase()in\n",
            "h&&32==c)||((b=a.tagName in f)||(b=a.getAttributeNode(\"tabindex\"),b=null!=b&&b.specified),b=!(b&&!a.disabled));if(b)c=!1;else{b=(a.getAttribute(\"role\")||a.type||a.tagName).toUpperCase();var l=!(b in g)&&13==c;a=\"INPUT\"!=a.tagName.toUpperCase()||!!a.type;c=(0==g[b]%c||l)&&a}}c&&(d.preventDefault(),window.xp(this),lve&&window.logVe(this))};}).call(this);})();})();(function(){window.jsl=window.jsl||{};window.jsl.dh=window.jsl.dh||function(i,c,d){try{var e=document.getElementById(i);if(e){e.innerHTML=c;if(d){d();}}else{if(window.jsl.el){window.jsl.el(new Error('Missing ID.'),{'id':i});}}}catch(e){if(window.jsl.el){window.jsl.el(new Error('jsl.dh'));}}};})();(function(){window.jsl.dh('accdef_2','\\x3cdiv\\x3e\\x3cdiv style\\x3d\\x22padding-bottom:12px;padding-top:0px\\x22 class\\x3d\\x22hwc kCrYT\\x22\\x3e\\x3cdiv class\\x3d\\x22yStFkb\\x22\\x3e\\x3cdiv class\\x3d\\x22ZINbbc xpd O9g5cc uUPGi\\x22\\x3e\\x3cdiv class\\x3d\\x22kCrYT\\x22\\x3e\\x3cdiv class\\x3d\\x22q4vBJc\\x22\\x3e\\x3c/div\\x3e\\x3cspan\\x3e\\x3ch2 class\\x3d\\x22zBAuLc l97dzf\\x22\\x3e\\x3cdiv class\\x3d\\x22BNeawe deIvCb AP7Wnd\\x22\\x3e\\x3cspan class\\x3d\\x22atOwb UMOHqf\\x22\\x3eSun 26\\x3c/span\\x3e\\x3c/div\\x3e\\x3c/h2\\x3e\\x3c/span\\x3e\\x3c/div\\x3e\\x3cdiv class\\x3d\\x22Q0HXG\\x22\\x3e\\x3c/div\\x3e\\x3cdiv class\\x3d\\x22X7NTVe\\x22\\x3e\\x3cdiv class\\x3d\\x22tHmfQe\\x22\\x3e\\x3cdiv class\\x3d\\x22am3QBf\\x22\\x3e\\x3cdiv class\\x3d\\x22pkr8ib\\x22\\x3e\\x3cspan\\x3e\\x3cdiv class\\x3d\\x22BNeawe deIvCb AP7Wnd\\x22\\x3e1\\x3c/div\\x3e\\x3c/span\\x3e\\x3c/div\\x3e\\x3cdiv\\x3e\\x3cspan\\x3e\\x3cdiv class\\x3d\\x22BNeawe deIvCb AP7Wnd\\x22\\x3eHumidity61%\\x3c/div\\x3e\\x3c/span\\x3e\\x3c/div\\x3e\\x3c/div\\x3e\\x3c/div\\x3e\\x3c/div\\x3e\\x3cdiv class\\x3d\\x22Q0HXG\\x22\\x3e\\x3c/div\\x3e\\x3cdiv class\\x3d\\x22X7NTVe\\x22\\x3e\\x3cdiv class\\x3d\\x22tHmfQe\\x22\\x3e\\x3cdiv class\\x3d\\x22am3QBf\\x22\\x3e\\x3cdiv class\\x3d\\x22pkr8ib\\x22\\x3e\\x3cspan\\x3e\\x3cdiv class\\x3d\\x22BNeawe deIvCb AP7Wnd\\x22\\x3e2\\x3c/div\\x3e\\x3c/span\\x3e\\x3c/div\\x3e\\x3cdiv\\x3e\\x3cspan\\x3e\\x3cdiv class\\x3d\\x22BNeawe deIvCb AP7Wnd\\x22\\x3eUV Index3 of 10.\\x3c/div\\x3e\\x3c/span\\x3e\\x3c/div\\x3e\\x3c/div\\x3e\\x3c/div\\x3e\\x3c/div\\x3e\\x3cdiv class\\x3d\\x22Q0HXG\\x22\\x3e\\x3c/div\\x3e\\x3cdiv class\\x3d\\x22X7NTVe\\x22\\x3e\\x3cdiv class\\x3d\\x22tHmfQe\\x22\\x3e\\x3cdiv class\\x3d\\x22am3QBf\\x22\\x3e\\x3cdiv class\\x3d\\x22pkr8ib\\x22\\x3e\\x3cspan\\x3e\\x3cdiv class\\x3d\\x22BNeawe deIvCb AP7Wnd\\x22\\x3e3\\x3c/div\\x3e\\x3c/span\\x3e\\x3c/div\\x3e\\x3cdiv\\x3e\\x3cspan\\x3e\\x3cdiv class\\x3d\\x22BNeawe deIvCb AP7Wnd\\x22\\x3eSunrise07:31.\\x3c/div\\x3e\\x3c/span\\x3e\\x3c/div\\x3e\\x3c/div\\x3e\\x3c/div\\x3e\\x3c/div\\x3e\\x3cdiv class\\x3d\\x22Q0HXG\\x22\\x3e\\x3c/div\\x3e\\x3cdiv class\\x3d\\x22X7NTVe\\x22\\x3e\\x3cdiv class\\x3d\\x22tHmfQe\\x22\\x3e\\x3cdiv class\\x3d\\x22am3QBf\\x22\\x3e\\x3cdiv class\\x3d\\x22pkr8ib\\x22\\x3e\\x3cspan\\x3e\\x3cdiv class\\x3d\\x22BNeawe deIvCb AP7Wnd\\x22\\x3e4\\x3c/div\\x3e\\x3c/span\\x3e\\x3c/div\\x3e\\x3cdiv\\x3e\\x3cspan\\x3e\\x3cdiv class\\x3d\\x22BNeawe deIvCb AP7Wnd\\x22\\x3eSunset17:31.\\x3c/div\\x3e\\x3c/span\\x3e\\x3c/div\\x3e\\x3c/div\\x3e\\x3c/div\\x3e\\x3c/div\\x3e\\x3cdiv class\\x3d\\x22kCrYT\\x22\\x3e\\x3cspan\\x3e\\x3cdiv class\\x3d\\x22BNeawe uEec3 AP7Wnd\\x22\\x3e\\x3cspan class\\x3d\\x22UMOHqf EDgFbc\\x22\\x3eJammu, Jammu and Kashmir 10-Day Weather Forecast\\x3c/span\\x3e\\n\\x3cspan class\\x3d\\x22BNeawe\\x22\\x3e\\x3ca href\\x3d\\x22/url?q\\x3dhttps://weather.com/en-IN/weather/tenday/l/Jammu%2BJammu%2Band%2BKashmir%3FcanonicalCityId%3Ddda5d618b76d8480ec6a0736da19a101de3ee3e17c24286c9f66b681ff0643a8\\x26amp;sa\\x3dU\\x26amp;ved\\x3d2ahUKEwjIvo-Cu-L0AhVNR_EDHaCED_EQFXoECAYQBg\\x26amp;usg\\x3dAOvVaw0pffn_eTadwbYjl_JuHfU1\\x22\\x3e\\x3cspan class\\x3d\\x22uEec3 AP7Wnd\\x22\\x3e\\x3cspan class\\x3d\\x22UMOHqf VbKY9d\\x22\\x3eweather.com \\u203a en-IN \\u203a weather \\u203a tenday \\u203a Jammu+Jammu+and+Kashmir\\x3c/span\\x3e\\x3c/span\\x3e\\x3c/a\\x3e\\x3c/span\\x3e\\x3c/div\\x3e\\x3c/span\\x3e\\x3c/div\\x3e\\x3c/div\\x3e\\x3c/div\\x3e\\x3cdiv\\x3e\\x3cdiv class\\x3d\\x22P1NWSe\\x22\\x3e\\x3cdiv class\\x3d\\x22wOMIed nkPlDb\\x22\\x3e\\x3cspan class\\x3d\\x22JhFlyf VQFmSd\\x22\\x3e\\x3ca class\\x3d\\x22f4J0H\\x22 href\\x3d\\x22https://www.google.com/search?ie\\x3dUTF-8\\x26amp;ei\\x3djh64Yci_Js2Oxc8PoIm-iA8\\x26amp;q\\x3dHow+is+the+weather+in+Jammu?\\x26amp;sa\\x3dX\\x26amp;ved\\x3d2ahUKEwjIvo-Cu-L0AhVNR_EDHaCED_EQzmd6BAgGEAc\\x22\\x3eMore results\\x3c/a\\x3e\\x3c/span\\x3e\\x3c/div\\x3e\\x3c/div\\x3e\\x3c/div\\x3e\\x3c/div\\x3e\\x3c/div\\x3e');})();(function(){(function(){var id='tsuid4';var lve=true;(function(){\n",
            "\n",
            "\n",
            "var e=\"undefined\"!=typeof navigator&&!/Opera/.test(navigator.userAgent)&&/WebKit/.test(navigator.userAgent),f={A:1,INPUT:1,TEXTAREA:1,SELECT:1,BUTTON:1},g={A:13,BUTTON:0,CHECKBOX:32,COMBOBOX:13,FILE:0,GRIDCELL:13,LINK:13,LISTBOX:13,MENU:0,MENUBAR:0,MENUITEM:0,MENUITEMCHECKBOX:0,MENUITEMRADIO:0,OPTION:0,RADIO:32,RADIOGROUP:32,RESET:0,SUBMIT:0,SWITCH:32,TAB:0,TREE:13,TREEITEM:13},h={CHECKBOX:!0,FILE:!0,OPTION:!0,RADIO:!0},k={COLOR:!0,DATE:!0,DATETIME:!0,\"DATETIME-LOCAL\":!0,EMAIL:!0,MONTH:!0,NUMBER:!0,PASSWORD:!0,RANGE:!0,SEARCH:!0,TEL:!0,TEXT:!0,TEXTAREA:!0,TIME:!0,URL:!0,WEEK:!0};document.getElementById(id).onclick=function(){window.xp(this);lve&&window.logVe(this)};document.getElementById(id).onkeydown=function(d){var c=d.which||d.keyCode;e&&3==c&&(c=13);if(13!=c&&32!=c)c=!1;else{var a=d.target||d.srcElement;!a.getAttribute&&a.parentNode&&(a=a.parentNode);var b;if(!(b=\"keydown\"!=d.type)){if(b=\"getAttribute\"in a)b=!((a.getAttribute(\"type\")||a.tagName).toUpperCase()in k);b=!(b&&!(\"BUTTON\"==a.tagName.toUpperCase()||a.type&&\"FILE\"==a.type.toUpperCase())&&!a.isContentEditable)}(b=b||d.ctrlKey||d.shiftKey||d.altKey||d.metaKey||(a.getAttribute(\"type\")||a.tagName).toUpperCase()in\n",
            "h&&32==c)||((b=a.tagName in f)||(b=a.getAttributeNode(\"tabindex\"),b=null!=b&&b.specified),b=!(b&&!a.disabled));if(b)c=!1;else{b=(a.getAttribute(\"role\")||a.type||a.tagName).toUpperCase();var l=!(b in g)&&13==c;a=\"INPUT\"!=a.tagName.toUpperCase()||!!a.type;c=(0==g[b]%c||l)&&a}}c&&(d.preventDefault(),window.xp(this),lve&&window.logVe(this))};}).call(this);})();})();(function(){window.jsl.dh('accdef_5','\\x3cdiv\\x3e\\x3cdiv style\\x3d\\x22padding-bottom:12px;padding-top:0px\\x22 class\\x3d\\x22hwc kCrYT\\x22\\x3e\\x3cdiv class\\x3d\\x22yStFkb\\x22\\x3e\\x3cdiv class\\x3d\\x22ZINbbc xpd O9g5cc uUPGi\\x22\\x3e\\x3cdiv class\\x3d\\x22kCrYT\\x22\\x3e\\x3cdiv\\x3e\\x3cdiv class\\x3d\\x22BNeawe s3v9rd AP7Wnd\\x22\\x3e\\x3cdiv\\x3e\\x3cdiv class\\x3d\\x22BNeawe s3v9rd AP7Wnd\\x22\\x3eThe Jammu region has a sub tropical climate and \\x3cspan class\\x3d\\x22atOwb UMOHqf\\x22\\x3ethe summer is hot\\x3c/span\\x3e. The temperature starts soaring in the month of March and is at its peak in the month of April. The maximum temperature in summer can go as high as 45 degree Celsius. Kashmir is quite pleasant with the temperature varying from 14 to 30 degree Celsius.\\x3c/div\\x3e\\x3c/div\\x3e\\x3c/div\\x3e\\x3c/div\\x3e\\x3c/div\\x3e\\x3cdiv class\\x3d\\x22x54gtf\\x22\\x3e\\x3c/div\\x3e\\x3cdiv class\\x3d\\x22kCrYT\\x22\\x3e\\x3ca href\\x3d\\x22/url?q\\x3dhttps://www.tripcrafters.com/travel/jammu-and-kashmir-weather-and-best-time-to-visit-jammu-and-kashmir\\x26amp;sa\\x3dU\\x26amp;ved\\x3d2ahUKEwjIvo-Cu-L0AhVNR_EDHaCED_EQFXoECAYQDA\\x26amp;usg\\x3dAOvVaw2iZ49ZoStJSHugdPOCMNFl\\x22\\x3e\\x3cspan\\x3e\\x3cdiv class\\x3d\\x22BNeawe vvjwJb AP7Wnd\\x22\\x3e\\x3cspan class\\x3d\\x22UMOHqf EDgFbc\\x22\\x3eJammu and Kashmir Weather And Best Time To Visit ... - TripCrafters\\x3c/span\\x3e\\x3c/div\\x3e\\x3c/span\\x3e\\x3cspan\\x3e\\x3cdiv class\\x3d\\x22BNeawe UPmit AP7Wnd\\x22\\x3ewww.tripcrafters.com \\u203a travel \\u203a jammu-and-kashmir-weather-and-best-time...\\x3c/div\\x3e\\x3c/span\\x3e\\x3c/a\\x3e\\x3cdiv class\\x3d\\x22oTWEpb\\x22\\x3e\\x3cspan\\x3e\\x3cdiv class\\x3d\\x22BNeawe uEec3 AP7Wnd\\x22\\x3e\\x3cspan class\\x3d\\x22BNeawe\\x22\\x3e\\x3ca href\\x3d\\x22https://www.google.com/url?q\\x3dhttps://support.google.com/websearch%3Fp%3Dfeatured_snippets%26hl%3Den-IN\\x26amp;usg\\x3dAOvVaw1lVClPxAkMXTKuxQxgb55o\\x22\\x3e\\x3cspan class\\x3d\\x22uEec3 AP7Wnd\\x22\\x3e\\x3cspan class\\x3d\\x22xUrNXd UMOHqf\\x22\\x3eAbout featured snippets\\x3c/span\\x3e\\x3c/span\\x3e\\x3c/a\\x3e\\x3c/span\\x3e\\x3c/div\\x3e\\x3c/span\\x3e\\x3c/div\\x3e\\x3c/div\\x3e\\x3c/div\\x3e\\x3c/div\\x3e\\x3cdiv\\x3e\\x3cdiv class\\x3d\\x22P1NWSe\\x22\\x3e\\x3cdiv class\\x3d\\x22wOMIed nkPlDb\\x22\\x3e\\x3cspan class\\x3d\\x22JhFlyf VQFmSd\\x22\\x3e\\x3ca class\\x3d\\x22f4J0H\\x22 href\\x3d\\x22https://www.google.com/search?ie\\x3dUTF-8\\x26amp;ei\\x3djh64Yci_Js2Oxc8PoIm-iA8\\x26amp;q\\x3dIs+Jammu+hot+or+cold?\\x26amp;sa\\x3dX\\x26amp;ved\\x3d2ahUKEwjIvo-Cu-L0AhVNR_EDHaCED_EQzmd6BAgGEA4\\x22\\x3eMore results\\x3c/a\\x3e\\x3c/span\\x3e\\x3c/div\\x3e\\x3c/div\\x3e\\x3c/div\\x3e\\x3c/div\\x3e\\x3c/div\\x3e');})();(function(){(function(){var id='tsuid7';var lve=true;(function(){\n",
            "\n",
            "\n",
            "var e=\"undefined\"!=typeof navigator&&!/Opera/.test(navigator.userAgent)&&/WebKit/.test(navigator.userAgent),f={A:1,INPUT:1,TEXTAREA:1,SELECT:1,BUTTON:1},g={A:13,BUTTON:0,CHECKBOX:32,COMBOBOX:13,FILE:0,GRIDCELL:13,LINK:13,LISTBOX:13,MENU:0,MENUBAR:0,MENUITEM:0,MENUITEMCHECKBOX:0,MENUITEMRADIO:0,OPTION:0,RADIO:32,RADIOGROUP:32,RESET:0,SUBMIT:0,SWITCH:32,TAB:0,TREE:13,TREEITEM:13},h={CHECKBOX:!0,FILE:!0,OPTION:!0,RADIO:!0},k={COLOR:!0,DATE:!0,DATETIME:!0,\"DATETIME-LOCAL\":!0,EMAIL:!0,MONTH:!0,NUMBER:!0,PASSWORD:!0,RANGE:!0,SEARCH:!0,TEL:!0,TEXT:!0,TEXTAREA:!0,TIME:!0,URL:!0,WEEK:!0};document.getElementById(id).onclick=function(){window.xp(this);lve&&window.logVe(this)};document.getElementById(id).onkeydown=function(d){var c=d.which||d.keyCode;e&&3==c&&(c=13);if(13!=c&&32!=c)c=!1;else{var a=d.target||d.srcElement;!a.getAttribute&&a.parentNode&&(a=a.parentNode);var b;if(!(b=\"keydown\"!=d.type)){if(b=\"getAttribute\"in a)b=!((a.getAttribute(\"type\")||a.tagName).toUpperCase()in k);b=!(b&&!(\"BUTTON\"==a.tagName.toUpperCase()||a.type&&\"FILE\"==a.type.toUpperCase())&&!a.isContentEditable)}(b=b||d.ctrlKey||d.shiftKey||d.altKey||d.metaKey||(a.getAttribute(\"type\")||a.tagName).toUpperCase()in\n",
            "h&&32==c)||((b=a.tagName in f)||(b=a.getAttributeNode(\"tabindex\"),b=null!=b&&b.specified),b=!(b&&!a.disabled));if(b)c=!1;else{b=(a.getAttribute(\"role\")||a.type||a.tagName).toUpperCase();var l=!(b in g)&&13==c;a=\"INPUT\"!=a.tagName.toUpperCase()||!!a.type;c=(0==g[b]%c||l)&&a}}c&&(d.preventDefault(),window.xp(this),lve&&window.logVe(this))};}).call(this);})();})();(function(){window.jsl.dh('accdef_8','\\x3cdiv\\x3e\\x3cdiv style\\x3d\\x22padding-bottom:12px;padding-top:0px\\x22 class\\x3d\\x22hwc kCrYT\\x22\\x3e\\x3cdiv class\\x3d\\x22yStFkb\\x22\\x3e\\x3cdiv class\\x3d\\x22ZINbbc xpd O9g5cc uUPGi\\x22\\x3e\\x3cdiv\\x3e\\x3cdiv class\\x3d\\x22kCrYT\\x22\\x3e\\x3ca href\\x3d\\x22/url?q\\x3dhttps://www.timeanddate.com/weather/india/jammu/ext\\x26amp;sa\\x3dU\\x26amp;ved\\x3d2ahUKEwjIvo-Cu-L0AhVNR_EDHaCED_EQFXoECAYQEg\\x26amp;usg\\x3dAOvVaw2qLCQg2E11k3NsCva9yEgV\\x22\\x3e\\x3cspan\\x3e\\x3cdiv class\\x3d\\x22BNeawe deIvCb AP7Wnd\\x22\\x3e2 Week Extended Forecast in Jammu, Jammu and Kashmir, India\\x3c/div\\x3e\\x3c/span\\x3e\\x3c/a\\x3e\\x3c/div\\x3e\\x3cdiv class\\x3d\\x22CgE3Ac\\x22\\x3e\\x3ctable class\\x3d\\x22LnMnt\\x22\\x3e\\x3cthead\\x3e\\x3ctr\\x3e\\x3ctd class\\x3d\\x22IxZjcf sjsZvd OE1use\\x22\\x3e\\x3cdiv class\\x3d\\x22hfgVwf\\x22\\x3e\\x3cdiv class\\x3d\\x22BNeawe uEec3 AP7Wnd\\x22\\x3e\\x3c/div\\x3e\\x3c/div\\x3e\\x3c/td\\x3e\\x3ctd class\\x3d\\x22IxZjcf sjsZvd OE1use\\x22\\x3e\\x3cdiv class\\x3d\\x22hfgVwf\\x22\\x3e\\x3cdiv class\\x3d\\x22BNeawe uEec3 AP7Wnd\\x22\\x3eConditions\\x3c/div\\x3e\\x3c/div\\x3e\\x3c/td\\x3e\\x3ctd class\\x3d\\x22IxZjcf sjsZvd s5aIid OE1use\\x22\\x3e\\x3cdiv class\\x3d\\x22hfgVwf\\x22\\x3e\\x3cdiv class\\x3d\\x22BNeawe uEec3 AP7Wnd\\x22\\x3ePrecipitation\\x3c/div\\x3e\\x3c/div\\x3e\\x3c/td\\x3e\\x3c/tr\\x3e\\x3c/thead\\x3e\\x3ctbody\\x3e\\x3ctr\\x3e\\x3ctd class\\x3d\\x22sjsZvd OE1use\\x22\\x3e\\x3cdiv class\\x3d\\x22hfgVwf\\x22\\x3e\\x3cdiv class\\x3d\\x22BNeawe s3v9rd AP7Wnd\\x22\\x3eDay\\x3c/div\\x3e\\x3c/div\\x3e\\x3c/td\\x3e\\x3ctd class\\x3d\\x22sjsZvd OE1use\\x22\\x3e\\x3cdiv class\\x3d\\x22hfgVwf\\x22\\x3e\\x3cdiv class\\x3d\\x22BNeawe s3v9rd AP7Wnd\\x22\\x3eTemperature\\x3c/div\\x3e\\x3c/div\\x3e\\x3c/td\\x3e\\x3ctd class\\x3d\\x22sjsZvd s5aIid OE1use\\x22\\x3e\\x3cdiv class\\x3d\\x22hfgVwf\\x22\\x3e\\x3cdiv class\\x3d\\x22BNeawe s3v9rd AP7Wnd\\x22\\x3eChance\\x3c/div\\x3e\\x3c/div\\x3e\\x3c/td\\x3e\\x3c/tr\\x3e\\x3ctr\\x3e\\x3ctd class\\x3d\\x22sjsZvd OE1use\\x22\\x3e\\x3cdiv class\\x3d\\x22hfgVwf\\x22\\x3e\\x3cdiv class\\x3d\\x22BNeawe s3v9rd AP7Wnd\\x22\\x3eSun Dec 26\\x3c/div\\x3e\\x3c/div\\x3e\\x3c/td\\x3e\\x3ctd class\\x3d\\x22sjsZvd OE1use\\x22\\x3e\\x3cdiv class\\x3d\\x22hfgVwf\\x22\\x3e\\x3cdiv class\\x3d\\x22BNeawe s3v9rd AP7Wnd\\x22\\x3e69 / 45 \\xb0F\\x3c/div\\x3e\\x3c/div\\x3e\\x3c/td\\x3e\\x3ctd class\\x3d\\x22sjsZvd s5aIid OE1use\\x22\\x3e\\x3cdiv class\\x3d\\x22hfgVwf\\x22\\x3e\\x3cdiv class\\x3d\\x22BNeawe s3v9rd AP7Wnd\\x22\\x3e44%\\x3c/div\\x3e\\x3c/div\\x3e\\x3c/td\\x3e\\x3c/tr\\x3e\\x3ctr\\x3e\\x3ctd class\\x3d\\x22sjsZvd OE1use\\x22\\x3e\\x3cdiv class\\x3d\\x22hfgVwf\\x22\\x3e\\x3cdiv class\\x3d\\x22BNeawe s3v9rd AP7Wnd\\x22\\x3eMon Dec 27\\x3c/div\\x3e\\x3c/div\\x3e\\x3c/td\\x3e\\x3ctd class\\x3d\\x22sjsZvd OE1use\\x22\\x3e\\x3cdiv class\\x3d\\x22hfgVwf\\x22\\x3e\\x3cdiv class\\x3d\\x22BNeawe s3v9rd AP7Wnd\\x22\\x3e69 / 46 \\xb0F\\x3c/div\\x3e\\x3c/div\\x3e\\x3c/td\\x3e\\x3ctd class\\x3d\\x22sjsZvd s5aIid OE1use\\x22\\x3e\\x3cdiv class\\x3d\\x22hfgVwf\\x22\\x3e\\x3cdiv class\\x3d\\x22BNeawe s3v9rd AP7Wnd\\x22\\x3e52%\\x3c/div\\x3e\\x3c/div\\x3e\\x3c/td\\x3e\\x3c/tr\\x3e\\x3ctr\\x3e\\x3ctd class\\x3d\\x22sjsZvd OE1use\\x22\\x3e\\x3cdiv class\\x3d\\x22hfgVwf\\x22\\x3e\\x3cdiv class\\x3d\\x22BNeawe s3v9rd AP7Wnd\\x22\\x3e* Updated Sunday, December 12, 2021 8:52:45 pm Jammu time - Weather by CustomWeather, \\xa9 2021\\x3c/div\\x3e\\x3c/div\\x3e\\x3c/td\\x3e\\x3ctd class\\x3d\\x22sjsZvd OE1use\\x22\\x3e\\x3cdiv class\\x3d\\x22hfgVwf\\x22\\x3e\\x3cdiv class\\x3d\\x22BNeawe s3v9rd AP7Wnd\\x22\\x3e\\x3c/div\\x3e\\x3c/div\\x3e\\x3c/td\\x3e\\x3ctd class\\x3d\\x22sjsZvd s5aIid OE1use\\x22\\x3e\\x3cdiv class\\x3d\\x22hfgVwf\\x22\\x3e\\x3cdiv class\\x3d\\x22BNeawe s3v9rd AP7Wnd\\x22\\x3e\\x3c/div\\x3e\\x3c/div\\x3e\\x3c/td\\x3e\\x3c/tr\\x3e\\x3c/tbody\\x3e\\x3c/table\\x3e\\x3c/div\\x3e\\x3cdiv class\\x3d\\x22hwc\\x22\\x3e\\x3cdiv class\\x3d\\x22Q0HXG\\x22\\x3e\\x3c/div\\x3e\\x3cdiv class\\x3d\\x22kCrYT\\x22\\x3e\\x3ca href\\x3d\\x22/url?q\\x3dhttps://www.timeanddate.com/weather/india/jammu/ext\\x26amp;sa\\x3dU\\x26amp;ved\\x3d2ahUKEwjIvo-Cu-L0AhVNR_EDHaCED_EQFXoECAYQFA\\x26amp;usg\\x3dAOvVaw0JiaFC4256OoLiGkXqbS4-\\x22\\x3e\\x3cdiv\\x3e\\x3cspan\\x3e\\x3cdiv class\\x3d\\x22BNeawe vvjwJb AP7Wnd\\x22\\x3e\\x3cspan class\\x3d\\x22UMOHqf EDgFbc\\x22\\x3eJammu 14 Day Extended Forecast - Weather - Time and Date\\x3c/span\\x3e\\x3c/div\\x3e\\x3c/span\\x3e\\x3cspan\\x3e\\x3cdiv class\\x3d\\x22BNeawe UPmit AP7Wnd\\x22\\x3ewww.timeanddate.com \\u203a Weather \\u203a India \\u203a Jammu\\x3c/div\\x3e\\x3c/span\\x3e\\x3c/div\\x3e\\x3c/a\\x3e\\x3cdiv class\\x3d\\x22hfgVwf\\x22\\x3e\\x3cspan\\x3e\\x3cdiv class\\x3d\\x22BNeawe uEec3 AP7Wnd\\x22\\x3e\\x3cspan class\\x3d\\x22BNeawe\\x22\\x3e\\x3ca href\\x3d\\x22https://www.google.com/url?q\\x3dhttps://support.google.com/websearch%3Fp%3Dfeatured_snippets%26hl%3Den-IN\\x26amp;usg\\x3dAOvVaw1lVClPxAkMXTKuxQxgb55o\\x22\\x3e\\x3cspan class\\x3d\\x22uEec3 AP7Wnd\\x22\\x3e\\x3cspan class\\x3d\\x22xUrNXd UMOHqf\\x22\\x3eAbout featured snippets\\x3c/span\\x3e\\x3c/span\\x3e\\x3c/a\\x3e\\x3c/span\\x3e\\x3c/div\\x3e\\x3c/span\\x3e\\x3c/div\\x3e\\x3c/div\\x3e\\x3c/div\\x3e\\x3c/div\\x3e\\x3c/div\\x3e\\x3c/div\\x3e\\x3cdiv\\x3e\\x3cdiv class\\x3d\\x22P1NWSe\\x22\\x3e\\x3cdiv class\\x3d\\x22wOMIed nkPlDb\\x22\\x3e\\x3cspan class\\x3d\\x22JhFlyf VQFmSd\\x22\\x3e\\x3ca class\\x3d\\x22f4J0H\\x22 href\\x3d\\x22https://www.google.com/search?ie\\x3dUTF-8\\x26amp;ei\\x3djh64Yci_Js2Oxc8PoIm-iA8\\x26amp;q\\x3dWhen+rain+is+expected+in+Jammu?\\x26amp;sa\\x3dX\\x26amp;ved\\x3d2ahUKEwjIvo-Cu-L0AhVNR_EDHaCED_EQzmd6BAgGEBY\\x22\\x3eMore results\\x3c/a\\x3e\\x3c/span\\x3e\\x3c/div\\x3e\\x3c/div\\x3e\\x3c/div\\x3e\\x3c/div\\x3e\\x3c/div\\x3e');})();(function(){(function(){var id='tsuid10';var lve=true;(function(){\n",
            "\n",
            "\n",
            "var e=\"undefined\"!=typeof navigator&&!/Opera/.test(navigator.userAgent)&&/WebKit/.test(navigator.userAgent),f={A:1,INPUT:1,TEXTAREA:1,SELECT:1,BUTTON:1},g={A:13,BUTTON:0,CHECKBOX:32,COMBOBOX:13,FILE:0,GRIDCELL:13,LINK:13,LISTBOX:13,MENU:0,MENUBAR:0,MENUITEM:0,MENUITEMCHECKBOX:0,MENUITEMRADIO:0,OPTION:0,RADIO:32,RADIOGROUP:32,RESET:0,SUBMIT:0,SWITCH:32,TAB:0,TREE:13,TREEITEM:13},h={CHECKBOX:!0,FILE:!0,OPTION:!0,RADIO:!0},k={COLOR:!0,DATE:!0,DATETIME:!0,\"DATETIME-LOCAL\":!0,EMAIL:!0,MONTH:!0,NUMBER:!0,PASSWORD:!0,RANGE:!0,SEARCH:!0,TEL:!0,TEXT:!0,TEXTAREA:!0,TIME:!0,URL:!0,WEEK:!0};document.getElementById(id).onclick=function(){window.xp(this);lve&&window.logVe(this)};document.getElementById(id).onkeydown=function(d){var c=d.which||d.keyCode;e&&3==c&&(c=13);if(13!=c&&32!=c)c=!1;else{var a=d.target||d.srcElement;!a.getAttribute&&a.parentNode&&(a=a.parentNode);var b;if(!(b=\"keydown\"!=d.type)){if(b=\"getAttribute\"in a)b=!((a.getAttribute(\"type\")||a.tagName).toUpperCase()in k);b=!(b&&!(\"BUTTON\"==a.tagName.toUpperCase()||a.type&&\"FILE\"==a.type.toUpperCase())&&!a.isContentEditable)}(b=b||d.ctrlKey||d.shiftKey||d.altKey||d.metaKey||(a.getAttribute(\"type\")||a.tagName).toUpperCase()in\n",
            "h&&32==c)||((b=a.tagName in f)||(b=a.getAttributeNode(\"tabindex\"),b=null!=b&&b.specified),b=!(b&&!a.disabled));if(b)c=!1;else{b=(a.getAttribute(\"role\")||a.type||a.tagName).toUpperCase();var l=!(b in g)&&13==c;a=\"INPUT\"!=a.tagName.toUpperCase()||!!a.type;c=(0==g[b]%c||l)&&a}}c&&(d.preventDefault(),window.xp(this),lve&&window.logVe(this))};}).call(this);})();})();(function(){window.jsl.dh('accdef_11','\\x3cdiv\\x3e\\x3cdiv style\\x3d\\x22padding-bottom:12px;padding-top:0px\\x22 class\\x3d\\x22hwc kCrYT\\x22\\x3e\\x3cdiv class\\x3d\\x22yStFkb\\x22\\x3e\\x3cdiv class\\x3d\\x22ZINbbc xpd O9g5cc uUPGi\\x22\\x3e\\x3cdiv class\\x3d\\x22kCrYT\\x22\\x3e\\x3cdiv\\x3e\\x3cdiv class\\x3d\\x22BNeawe s3v9rd AP7Wnd\\x22\\x3e\\x3cdiv\\x3e\\x3cdiv class\\x3d\\x22BNeawe s3v9rd AP7Wnd\\x22\\x3eMonsoon season arrives in Jammu by \\x3cspan class\\x3d\\x22atOwb UMOHqf\\x22\\x3eend of June\\x3c/span\\x3e. The months from June to August receive sufficient rainfall. November marks the beginning of the winter season in Jammu region.\\x3c/div\\x3e\\x3c/div\\x3e\\x3c/div\\x3e\\x3c/div\\x3e\\x3c/div\\x3e\\x3cdiv class\\x3d\\x22x54gtf\\x22\\x3e\\x3c/div\\x3e\\x3cdiv class\\x3d\\x22kCrYT\\x22\\x3e\\x3ca href\\x3d\\x22/url?q\\x3dhttps://www.skymetweather.com/forecast/weather/india/jammu%2520and%2520kashmir/jammu/jammu\\x26amp;sa\\x3dU\\x26amp;ved\\x3d2ahUKEwjIvo-Cu-L0AhVNR_EDHaCED_EQFXoECAYQGw\\x26amp;usg\\x3dAOvVaw0MiviGYECeuZrHwCDzH8n_\\x22\\x3e\\x3cspan\\x3e\\x3cdiv class\\x3d\\x22BNeawe vvjwJb AP7Wnd\\x22\\x3e\\x3cspan class\\x3d\\x22UMOHqf EDgFbc\\x22\\x3eHourly and weekly weather forecast for Jammu and kashmir, Jammu\\x3c/span\\x3e\\x3c/div\\x3e\\x3c/span\\x3e\\x3cspan\\x3e\\x3cdiv class\\x3d\\x22BNeawe UPmit AP7Wnd\\x22\\x3ewww.skymetweather.com \\u203a forecast \\u203a weather \\u203a india \\u203a jammu \\u203a jammu\\x3c/div\\x3e\\x3c/span\\x3e\\x3c/a\\x3e\\x3cdiv class\\x3d\\x22oTWEpb\\x22\\x3e\\x3cspan\\x3e\\x3cdiv class\\x3d\\x22BNeawe uEec3 AP7Wnd\\x22\\x3e\\x3cspan class\\x3d\\x22BNeawe\\x22\\x3e\\x3ca href\\x3d\\x22https://www.google.com/url?q\\x3dhttps://support.google.com/websearch%3Fp%3Dfeatured_snippets%26hl%3Den-IN\\x26amp;usg\\x3dAOvVaw1lVClPxAkMXTKuxQxgb55o\\x22\\x3e\\x3cspan class\\x3d\\x22uEec3 AP7Wnd\\x22\\x3e\\x3cspan class\\x3d\\x22xUrNXd UMOHqf\\x22\\x3eAbout featured snippets\\x3c/span\\x3e\\x3c/span\\x3e\\x3c/a\\x3e\\x3c/span\\x3e\\x3c/div\\x3e\\x3c/span\\x3e\\x3c/div\\x3e\\x3c/div\\x3e\\x3c/div\\x3e\\x3c/div\\x3e\\x3cdiv\\x3e\\x3cdiv class\\x3d\\x22P1NWSe\\x22\\x3e\\x3cdiv class\\x3d\\x22wOMIed nkPlDb\\x22\\x3e\\x3cspan class\\x3d\\x22JhFlyf VQFmSd\\x22\\x3e\\x3ca class\\x3d\\x22f4J0H\\x22 href\\x3d\\x22https://www.google.com/search?ie\\x3dUTF-8\\x26amp;ei\\x3djh64Yci_Js2Oxc8PoIm-iA8\\x26amp;q\\x3dWhen+monsoon+will+come+in+Jammu+and+Kashmir?\\x26amp;sa\\x3dX\\x26amp;ved\\x3d2ahUKEwjIvo-Cu-L0AhVNR_EDHaCED_EQzmd6BAgGEB0\\x22\\x3eMore results\\x3c/a\\x3e\\x3c/span\\x3e\\x3c/div\\x3e\\x3c/div\\x3e\\x3c/div\\x3e\\x3c/div\\x3e\\x3c/div\\x3e');})();google.drty&&google.drty(undefined,true);</script></body></html>\n"
          ]
        }
      ],
      "source": [
        "print(google_con.text)"
      ]
    },
    {
      "cell_type": "code",
      "execution_count": null,
      "id": "d36d6348-f43d-41ca-8145-4215e40f58f3",
      "metadata": {
        "id": "d36d6348-f43d-41ca-8145-4215e40f58f3"
      },
      "outputs": [],
      "source": [
        "result_text=google_con.text\n",
        "soup=bs4.BeautifulSoup(result_text,\"html.parser\")"
      ]
    },
    {
      "cell_type": "code",
      "execution_count": null,
      "id": "681550cf-5726-4db7-9617-632989d01fae",
      "metadata": {
        "id": "681550cf-5726-4db7-9617-632989d01fae",
        "outputId": "7da453a7-c0e1-47f2-975c-70970c343f0c"
      },
      "outputs": [
        {
          "name": "stdout",
          "output_type": "stream",
          "text": [
            "Tuesday\n",
            "Sunny\n",
            "High: 22°C Low: 9°C\n"
          ]
        }
      ],
      "source": [
        "print(soup.find(\"div\",{'class':\"BNeawe tAd8D AP7Wnd\"}).getText())"
      ]
    },
    {
      "cell_type": "code",
      "execution_count": null,
      "id": "5c58f84e-36a8-4c72-af6b-a8e5d88e415b",
      "metadata": {
        "id": "5c58f84e-36a8-4c72-af6b-a8e5d88e415b",
        "outputId": "11116797-fc79-4e06-fcb7-576eab255f0c"
      },
      "outputs": [
        {
          "name": "stdout",
          "output_type": "stream",
          "text": [
            "14°C\n"
          ]
        }
      ],
      "source": [
        "print(soup.find(\"div\",{'class':\"BNeawe iBp4i AP7Wnd\"}).getText())"
      ]
    },
    {
      "cell_type": "code",
      "execution_count": null,
      "id": "2e7294d5-57a8-4509-8b98-4ccb7c71cb1c",
      "metadata": {
        "id": "2e7294d5-57a8-4509-8b98-4ccb7c71cb1c",
        "outputId": "ff843c66-aa71-440f-d29b-70555ee72dda"
      },
      "outputs": [
        {
          "ename": "AttributeError",
          "evalue": "'NoneType' object has no attribute 'getText'",
          "output_type": "error",
          "traceback": [
            "\u001b[1;31m---------------------------------------------------------------------------\u001b[0m",
            "\u001b[1;31mAttributeError\u001b[0m                            Traceback (most recent call last)",
            "\u001b[1;32mC:\\Users\\ADITYA~1\\AppData\\Local\\Temp/ipykernel_6224/3968489750.py\u001b[0m in \u001b[0;36m<module>\u001b[1;34m\u001b[0m\n\u001b[0;32m      4\u001b[0m \u001b[0mresult_text\u001b[0m\u001b[1;33m=\u001b[0m\u001b[0mgoogle_con\u001b[0m\u001b[1;33m.\u001b[0m\u001b[0mtext\u001b[0m\u001b[1;33m\u001b[0m\u001b[1;33m\u001b[0m\u001b[0m\n\u001b[0;32m      5\u001b[0m \u001b[0msoup\u001b[0m\u001b[1;33m=\u001b[0m\u001b[0mbs4\u001b[0m\u001b[1;33m.\u001b[0m\u001b[0mBeautifulSoup\u001b[0m\u001b[1;33m(\u001b[0m\u001b[0mresult_text\u001b[0m\u001b[1;33m,\u001b[0m\u001b[1;34m\"html.parser\"\u001b[0m\u001b[1;33m)\u001b[0m\u001b[1;33m\u001b[0m\u001b[1;33m\u001b[0m\u001b[0m\n\u001b[1;32m----> 6\u001b[1;33m \u001b[0mprint\u001b[0m\u001b[1;33m(\u001b[0m\u001b[1;34m\"Weather Report:\\nCurrent temp:\"\u001b[0m\u001b[1;33m,\u001b[0m\u001b[0msoup\u001b[0m\u001b[1;33m.\u001b[0m\u001b[0mfind\u001b[0m\u001b[1;33m(\u001b[0m\u001b[1;34m\"div\"\u001b[0m\u001b[1;33m,\u001b[0m\u001b[1;33m{\u001b[0m\u001b[1;34m'class'\u001b[0m\u001b[1;33m:\u001b[0m\u001b[1;34m\"BNeawe iBp4i AP7Wnd\"\u001b[0m\u001b[1;33m}\u001b[0m\u001b[1;33m)\u001b[0m\u001b[1;33m.\u001b[0m\u001b[0mgetText\u001b[0m\u001b[1;33m(\u001b[0m\u001b[1;33m)\u001b[0m\u001b[1;33m)\u001b[0m\u001b[1;33m\u001b[0m\u001b[1;33m\u001b[0m\u001b[0m\n\u001b[0m\u001b[0;32m      7\u001b[0m \u001b[0mprint\u001b[0m\u001b[1;33m(\u001b[0m\u001b[0msoup\u001b[0m\u001b[1;33m.\u001b[0m\u001b[0mfind\u001b[0m\u001b[1;33m(\u001b[0m\u001b[1;34m\"div\"\u001b[0m\u001b[1;33m,\u001b[0m\u001b[1;33m{\u001b[0m\u001b[1;34m'class'\u001b[0m\u001b[1;33m:\u001b[0m\u001b[1;34m\"BNeawe tAd8D AP7Wnd\"\u001b[0m\u001b[1;33m}\u001b[0m\u001b[1;33m)\u001b[0m\u001b[1;33m.\u001b[0m\u001b[0mgetText\u001b[0m\u001b[1;33m(\u001b[0m\u001b[1;33m)\u001b[0m\u001b[1;33m)\u001b[0m\u001b[1;33m\u001b[0m\u001b[1;33m\u001b[0m\u001b[0m\n",
            "\u001b[1;31mAttributeError\u001b[0m: 'NoneType' object has no attribute 'getText'"
          ]
        }
      ],
      "source": [
        "city='noida'\n",
        "url=f\"https://www.google.com/search?q={city}weather\"\n",
        "con=requests.get(url)\n",
        "result_text=google_con.text\n",
        "soup=bs4.BeautifulSoup(result_text,\"html.parser\")\n",
        "print(\"Weather Report:\\nCurrent temp:\",soup.find(\"div\",{'class':\"BNeawe iBp4i AP7Wnd\"}).getText())\n",
        "print(soup.find(\"div\",{'class':\"BNeawe tAd8D AP7Wnd\"}).getText())"
      ]
    },
    {
      "cell_type": "code",
      "execution_count": null,
      "id": "20f88994-1f96-4d65-a527-fc858f4a3de4",
      "metadata": {
        "id": "20f88994-1f96-4d65-a527-fc858f4a3de4",
        "outputId": "0fd81bdf-f617-4ff3-fe56-e20d3f067608"
      },
      "outputs": [
        {
          "data": {
            "text/plain": [
              "[<name>sonu</name>, <roll>101</roll>]"
            ]
          },
          "execution_count": 73,
          "metadata": {},
          "output_type": "execute_result"
        }
      ],
      "source": [
        "file=open(\"students.xml\")\n",
        "text=file.read()\n",
        "file.close()\n",
        "\n",
        "soup=bs4.BeautifulSoup(text,\"lxml\")\n",
        "soup.find(\"student\").findChildren()"
      ]
    },
    {
      "cell_type": "code",
      "execution_count": null,
      "id": "969f865f-6a94-4546-b12f-f8b99979c845",
      "metadata": {
        "id": "969f865f-6a94-4546-b12f-f8b99979c845"
      },
      "outputs": [],
      "source": [
        "import pandas as pd"
      ]
    },
    {
      "cell_type": "code",
      "execution_count": null,
      "id": "a23c8807-dd7b-491d-a242-35cdea8fcc14",
      "metadata": {
        "id": "a23c8807-dd7b-491d-a242-35cdea8fcc14"
      },
      "outputs": [],
      "source": [
        "df=pd.read_json(\"d:/dataset/analysis/students.json\")"
      ]
    },
    {
      "cell_type": "code",
      "execution_count": null,
      "id": "f1215e3c-fe4d-4138-b267-517c07fda339",
      "metadata": {
        "id": "f1215e3c-fe4d-4138-b267-517c07fda339",
        "outputId": "58d00534-3dd5-400c-ac16-c6fdeccccdfb"
      },
      "outputs": [
        {
          "data": {
            "text/html": [
              "<div>\n",
              "<style scoped>\n",
              "    .dataframe tbody tr th:only-of-type {\n",
              "        vertical-align: middle;\n",
              "    }\n",
              "\n",
              "    .dataframe tbody tr th {\n",
              "        vertical-align: top;\n",
              "    }\n",
              "\n",
              "    .dataframe thead th {\n",
              "        text-align: right;\n",
              "    }\n",
              "</style>\n",
              "<table border=\"1\" class=\"dataframe\">\n",
              "  <thead>\n",
              "    <tr style=\"text-align: right;\">\n",
              "      <th></th>\n",
              "      <th>name</th>\n",
              "      <th>age</th>\n",
              "      <th>roll</th>\n",
              "    </tr>\n",
              "  </thead>\n",
              "  <tbody>\n",
              "    <tr>\n",
              "      <th>0</th>\n",
              "      <td>sonu</td>\n",
              "      <td>20</td>\n",
              "      <td>101</td>\n",
              "    </tr>\n",
              "    <tr>\n",
              "      <th>1</th>\n",
              "      <td>monu</td>\n",
              "      <td>21</td>\n",
              "      <td>102</td>\n",
              "    </tr>\n",
              "    <tr>\n",
              "      <th>2</th>\n",
              "      <td>chintu</td>\n",
              "      <td>10</td>\n",
              "      <td>103</td>\n",
              "    </tr>\n",
              "    <tr>\n",
              "      <th>3</th>\n",
              "      <td>pintu</td>\n",
              "      <td>25</td>\n",
              "      <td>104</td>\n",
              "    </tr>\n",
              "  </tbody>\n",
              "</table>\n",
              "</div>"
            ],
            "text/plain": [
              "     name  age  roll\n",
              "0    sonu   20   101\n",
              "1    monu   21   102\n",
              "2  chintu   10   103\n",
              "3   pintu   25   104"
            ]
          },
          "execution_count": 76,
          "metadata": {},
          "output_type": "execute_result"
        }
      ],
      "source": [
        "df"
      ]
    },
    {
      "cell_type": "code",
      "execution_count": null,
      "id": "6744116a-b775-4fac-9486-bafd53031abc",
      "metadata": {
        "id": "6744116a-b775-4fac-9486-bafd53031abc"
      },
      "outputs": [],
      "source": [
        ""
      ]
    }
  ],
  "metadata": {
    "kernelspec": {
      "display_name": "Python 3 (ipykernel)",
      "language": "python",
      "name": "python3"
    },
    "language_info": {
      "codemirror_mode": {
        "name": "ipython",
        "version": 3
      },
      "file_extension": ".py",
      "mimetype": "text/x-python",
      "name": "python",
      "nbconvert_exporter": "python",
      "pygments_lexer": "ipython3",
      "version": "3.9.7"
    },
    "colab": {
      "name": "web_scrapping_of_covid_data.ipynb",
      "provenance": [],
      "include_colab_link": true
    }
  },
  "nbformat": 4,
  "nbformat_minor": 5
}