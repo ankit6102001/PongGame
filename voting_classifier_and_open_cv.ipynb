{
  "cells": [
    {
      "cell_type": "markdown",
      "metadata": {
        "id": "view-in-github",
        "colab_type": "text"
      },
      "source": [
        "<a href=\"https://colab.research.google.com/github/ankit6102001/Python-Machine-learning-Deep-learning/blob/main/voting_classifier_and_open_cv.ipynb\" target=\"_parent\"><img src=\"https://colab.research.google.com/assets/colab-badge.svg\" alt=\"Open In Colab\"/></a>"
      ]
    },
    {
      "cell_type": "code",
      "execution_count": null,
      "id": "9127403d-e7ea-415b-b643-6b5e89491eff",
      "metadata": {
        "id": "9127403d-e7ea-415b-b643-6b5e89491eff"
      },
      "outputs": [],
      "source": [
        "import pandas as pd\n",
        "from sklearn.ensemble import RandomForestClassifier,BaggingClassifier,AdaBoostClassifier,VotingClassifier\n",
        "from sklearn.neighbors import KNeighborsClassifier\n",
        "from sklearn.linear_model import LogisticRegression\n",
        "from sklearn.tree import DecisionTreeClassifier"
      ]
    },
    {
      "cell_type": "code",
      "execution_count": null,
      "id": "11c062f0-18c6-45fa-a9a9-831f81544a19",
      "metadata": {
        "id": "11c062f0-18c6-45fa-a9a9-831f81544a19"
      },
      "outputs": [],
      "source": [
        "df=pd.read_csv(\"d:/dataset/classification/iris.csv\")\n",
        "X=df.iloc[:,:-1].values\n",
        "y=df.iloc[:,-1].values"
      ]
    },
    {
      "cell_type": "code",
      "execution_count": null,
      "id": "831ce523-0cc9-40db-a050-5b73bd3de1bb",
      "metadata": {
        "id": "831ce523-0cc9-40db-a050-5b73bd3de1bb",
        "outputId": "ea4f49f9-1894-471a-cf4c-5d358abe9239"
      },
      "outputs": [
        {
          "name": "stdout",
          "output_type": "stream",
          "text": [
            "[1]\n",
            "[[0.2 0.8 0. ]]\n"
          ]
        }
      ],
      "source": [
        "model=RandomForestClassifier(n_estimators=5)\n",
        "model.fit(X,y)\n",
        "sample=[1.9,.5,3.5,.8]\n",
        "print(model.predict([sample]))\n",
        "print(model.predict_proba([sample]))"
      ]
    },
    {
      "cell_type": "code",
      "execution_count": null,
      "id": "87c6fa94-eb99-4a25-b41d-ae009ad00c13",
      "metadata": {
        "id": "87c6fa94-eb99-4a25-b41d-ae009ad00c13",
        "outputId": "c0b6855e-b0cc-45f9-da7c-ccb1530e8d87"
      },
      "outputs": [
        {
          "name": "stdout",
          "output_type": "stream",
          "text": [
            "[1]\n",
            "[[0.2159121  0.70269522 0.08139269]]\n"
          ]
        }
      ],
      "source": [
        "#weak_model=KNeighborsClassifier()\n",
        "weak_model=LogisticRegression(max_iter=500)\n",
        "model=BaggingClassifier(base_estimator=weak_model,n_estimators=5)\n",
        "model.fit(X,y)\n",
        "sample=[1.9,.5,3.5,.8]\n",
        "print(model.predict([sample]))\n",
        "print(model.predict_proba([sample]))"
      ]
    },
    {
      "cell_type": "code",
      "execution_count": null,
      "id": "56acca38-a0d9-4d7f-a04d-a31ac007c487",
      "metadata": {
        "id": "56acca38-a0d9-4d7f-a04d-a31ac007c487",
        "outputId": "776d8459-719f-4251-8458-2b2da6193a27"
      },
      "outputs": [
        {
          "name": "stdout",
          "output_type": "stream",
          "text": [
            "[0]\n",
            "[[9.99999921e-01 5.36767571e-08 2.48518262e-08]]\n"
          ]
        }
      ],
      "source": [
        "model=AdaBoostClassifier(n_estimators=5) #decision tree\n",
        "model.fit(X,y)\n",
        "sample=[1.9,.5,3.5,.8]\n",
        "print(model.predict([sample]))\n",
        "print(model.predict_proba([sample]))"
      ]
    },
    {
      "cell_type": "code",
      "execution_count": null,
      "id": "5425dad4-f71e-4ae7-9825-9b1d4b310445",
      "metadata": {
        "id": "5425dad4-f71e-4ae7-9825-9b1d4b310445",
        "outputId": "c7aba439-c4f4-47e9-e0fe-e1076414946f"
      },
      "outputs": [
        {
          "name": "stdout",
          "output_type": "stream",
          "text": [
            "[1]\n",
            "[[0.30060387 0.51024779 0.18914834]]\n"
          ]
        }
      ],
      "source": [
        "weak_model=LogisticRegression(max_iter=500)\n",
        "model=AdaBoostClassifier(base_estimator=weak_model,n_estimators=5) \n",
        "model.fit(X,y)\n",
        "sample=[1.9,.5,3.5,.8]\n",
        "print(model.predict([sample]))\n",
        "print(model.predict_proba([sample]))"
      ]
    },
    {
      "cell_type": "code",
      "execution_count": null,
      "id": "8600e34e-2bf6-4b6f-9276-2fb7ab6d5189",
      "metadata": {
        "id": "8600e34e-2bf6-4b6f-9276-2fb7ab6d5189",
        "outputId": "cfe8dfdc-f954-4562-dd8b-fcf82ba3863d"
      },
      "outputs": [
        {
          "ename": "ValueError",
          "evalue": "KNeighborsClassifier doesn't support sample_weight.",
          "output_type": "error",
          "traceback": [
            "\u001b[1;31m---------------------------------------------------------------------------\u001b[0m",
            "\u001b[1;31mValueError\u001b[0m                                Traceback (most recent call last)",
            "\u001b[1;32mC:\\Users\\ADITYA~1\\AppData\\Local\\Temp/ipykernel_1576/2184987330.py\u001b[0m in \u001b[0;36m<module>\u001b[1;34m\u001b[0m\n\u001b[0;32m      1\u001b[0m \u001b[0mweak_model\u001b[0m\u001b[1;33m=\u001b[0m\u001b[0mKNeighborsClassifier\u001b[0m\u001b[1;33m(\u001b[0m\u001b[1;33m)\u001b[0m\u001b[1;33m\u001b[0m\u001b[1;33m\u001b[0m\u001b[0m\n\u001b[0;32m      2\u001b[0m \u001b[0mmodel\u001b[0m\u001b[1;33m=\u001b[0m\u001b[0mAdaBoostClassifier\u001b[0m\u001b[1;33m(\u001b[0m\u001b[0mbase_estimator\u001b[0m\u001b[1;33m=\u001b[0m\u001b[0mweak_model\u001b[0m\u001b[1;33m,\u001b[0m\u001b[0mn_estimators\u001b[0m\u001b[1;33m=\u001b[0m\u001b[1;36m5\u001b[0m\u001b[1;33m)\u001b[0m\u001b[1;33m\u001b[0m\u001b[1;33m\u001b[0m\u001b[0m\n\u001b[1;32m----> 3\u001b[1;33m \u001b[0mmodel\u001b[0m\u001b[1;33m.\u001b[0m\u001b[0mfit\u001b[0m\u001b[1;33m(\u001b[0m\u001b[0mX\u001b[0m\u001b[1;33m,\u001b[0m\u001b[0my\u001b[0m\u001b[1;33m)\u001b[0m\u001b[1;33m\u001b[0m\u001b[1;33m\u001b[0m\u001b[0m\n\u001b[0m\u001b[0;32m      4\u001b[0m \u001b[0msample\u001b[0m\u001b[1;33m=\u001b[0m\u001b[1;33m[\u001b[0m\u001b[1;36m1.9\u001b[0m\u001b[1;33m,\u001b[0m\u001b[1;36m.5\u001b[0m\u001b[1;33m,\u001b[0m\u001b[1;36m3.5\u001b[0m\u001b[1;33m,\u001b[0m\u001b[1;36m.8\u001b[0m\u001b[1;33m]\u001b[0m\u001b[1;33m\u001b[0m\u001b[1;33m\u001b[0m\u001b[0m\n\u001b[0;32m      5\u001b[0m \u001b[0mprint\u001b[0m\u001b[1;33m(\u001b[0m\u001b[0mmodel\u001b[0m\u001b[1;33m.\u001b[0m\u001b[0mpredict\u001b[0m\u001b[1;33m(\u001b[0m\u001b[1;33m[\u001b[0m\u001b[0msample\u001b[0m\u001b[1;33m]\u001b[0m\u001b[1;33m)\u001b[0m\u001b[1;33m)\u001b[0m\u001b[1;33m\u001b[0m\u001b[1;33m\u001b[0m\u001b[0m\n",
            "\u001b[1;32m~\\anaconda3\\lib\\site-packages\\sklearn\\ensemble\\_weight_boosting.py\u001b[0m in \u001b[0;36mfit\u001b[1;34m(self, X, y, sample_weight)\u001b[0m\n\u001b[0;32m    484\u001b[0m \u001b[1;33m\u001b[0m\u001b[0m\n\u001b[0;32m    485\u001b[0m         \u001b[1;31m# Fit\u001b[0m\u001b[1;33m\u001b[0m\u001b[1;33m\u001b[0m\u001b[0m\n\u001b[1;32m--> 486\u001b[1;33m         \u001b[1;32mreturn\u001b[0m \u001b[0msuper\u001b[0m\u001b[1;33m(\u001b[0m\u001b[1;33m)\u001b[0m\u001b[1;33m.\u001b[0m\u001b[0mfit\u001b[0m\u001b[1;33m(\u001b[0m\u001b[0mX\u001b[0m\u001b[1;33m,\u001b[0m \u001b[0my\u001b[0m\u001b[1;33m,\u001b[0m \u001b[0msample_weight\u001b[0m\u001b[1;33m)\u001b[0m\u001b[1;33m\u001b[0m\u001b[1;33m\u001b[0m\u001b[0m\n\u001b[0m\u001b[0;32m    487\u001b[0m \u001b[1;33m\u001b[0m\u001b[0m\n\u001b[0;32m    488\u001b[0m     \u001b[1;32mdef\u001b[0m \u001b[0m_validate_estimator\u001b[0m\u001b[1;33m(\u001b[0m\u001b[0mself\u001b[0m\u001b[1;33m)\u001b[0m\u001b[1;33m:\u001b[0m\u001b[1;33m\u001b[0m\u001b[1;33m\u001b[0m\u001b[0m\n",
            "\u001b[1;32m~\\anaconda3\\lib\\site-packages\\sklearn\\ensemble\\_weight_boosting.py\u001b[0m in \u001b[0;36mfit\u001b[1;34m(self, X, y, sample_weight)\u001b[0m\n\u001b[0;32m    130\u001b[0m \u001b[1;33m\u001b[0m\u001b[0m\n\u001b[0;32m    131\u001b[0m         \u001b[1;31m# Check parameters\u001b[0m\u001b[1;33m\u001b[0m\u001b[1;33m\u001b[0m\u001b[0m\n\u001b[1;32m--> 132\u001b[1;33m         \u001b[0mself\u001b[0m\u001b[1;33m.\u001b[0m\u001b[0m_validate_estimator\u001b[0m\u001b[1;33m(\u001b[0m\u001b[1;33m)\u001b[0m\u001b[1;33m\u001b[0m\u001b[1;33m\u001b[0m\u001b[0m\n\u001b[0m\u001b[0;32m    133\u001b[0m \u001b[1;33m\u001b[0m\u001b[0m\n\u001b[0;32m    134\u001b[0m         \u001b[1;31m# Clear any previous fit results\u001b[0m\u001b[1;33m\u001b[0m\u001b[1;33m\u001b[0m\u001b[0m\n",
            "\u001b[1;32m~\\anaconda3\\lib\\site-packages\\sklearn\\ensemble\\_weight_boosting.py\u001b[0m in \u001b[0;36m_validate_estimator\u001b[1;34m(self)\u001b[0m\n\u001b[0;32m    501\u001b[0m                 )\n\u001b[0;32m    502\u001b[0m         \u001b[1;32mif\u001b[0m \u001b[1;32mnot\u001b[0m \u001b[0mhas_fit_parameter\u001b[0m\u001b[1;33m(\u001b[0m\u001b[0mself\u001b[0m\u001b[1;33m.\u001b[0m\u001b[0mbase_estimator_\u001b[0m\u001b[1;33m,\u001b[0m \u001b[1;34m\"sample_weight\"\u001b[0m\u001b[1;33m)\u001b[0m\u001b[1;33m:\u001b[0m\u001b[1;33m\u001b[0m\u001b[1;33m\u001b[0m\u001b[0m\n\u001b[1;32m--> 503\u001b[1;33m             raise ValueError(\n\u001b[0m\u001b[0;32m    504\u001b[0m                 \u001b[1;34m\"%s doesn't support sample_weight.\"\u001b[0m\u001b[1;33m\u001b[0m\u001b[1;33m\u001b[0m\u001b[0m\n\u001b[0;32m    505\u001b[0m                 \u001b[1;33m%\u001b[0m \u001b[0mself\u001b[0m\u001b[1;33m.\u001b[0m\u001b[0mbase_estimator_\u001b[0m\u001b[1;33m.\u001b[0m\u001b[0m__class__\u001b[0m\u001b[1;33m.\u001b[0m\u001b[0m__name__\u001b[0m\u001b[1;33m\u001b[0m\u001b[1;33m\u001b[0m\u001b[0m\n",
            "\u001b[1;31mValueError\u001b[0m: KNeighborsClassifier doesn't support sample_weight."
          ]
        }
      ],
      "source": [
        "weak_model=KNeighborsClassifier()\n",
        "model=AdaBoostClassifier(base_estimator=weak_model,n_estimators=5)\n",
        "model.fit(X,y)\n",
        "sample=[1.9,.5,3.5,.8]\n",
        "print(model.predict([sample]))\n",
        "print(model.predict_proba([sample]))"
      ]
    },
    {
      "cell_type": "code",
      "execution_count": null,
      "id": "f54a751b-3991-4a09-8375-4ac305b74033",
      "metadata": {
        "id": "f54a751b-3991-4a09-8375-4ac305b74033"
      },
      "outputs": [],
      "source": [
        "df=pd.read_csv(\"d:/dataset/classification/iris.csv\")\n",
        "X=df.iloc[:,:-1].values\n",
        "y=df.iloc[:,-1].values"
      ]
    },
    {
      "cell_type": "code",
      "execution_count": null,
      "id": "be3746e0-e7f2-4d7e-a912-3d9e85998712",
      "metadata": {
        "id": "be3746e0-e7f2-4d7e-a912-3d9e85998712",
        "outputId": "9128b76e-4577-4a43-9215-c3fc0fb317a8"
      },
      "outputs": [
        {
          "name": "stdout",
          "output_type": "stream",
          "text": [
            "[1]\n"
          ]
        }
      ],
      "source": [
        "weak_model1=KNeighborsClassifier()\n",
        "weak_model2=LogisticRegression(max_iter=500)\n",
        "weak_model3=DecisionTreeClassifier()\n",
        "\n",
        "#voting=hard---->weak models predict class (default in VotingClassifier)\n",
        "model=VotingClassifier(estimators=[('m1',weak_model1),('m2',weak_model2),('m3',weak_model3)],voting='hard')\n",
        "model.fit(X,y)\n",
        "sample=[1.9,.5,3.5,.8]\n",
        "print(model.predict([sample]))"
      ]
    },
    {
      "cell_type": "code",
      "execution_count": null,
      "id": "c2bbf810-fd00-49a8-8668-6a97e3db9e80",
      "metadata": {
        "id": "c2bbf810-fd00-49a8-8668-6a97e3db9e80",
        "outputId": "a534a2fc-5f64-4fe5-bec1-b1b4a0ba7a76"
      },
      "outputs": [
        {
          "name": "stdout",
          "output_type": "stream",
          "text": [
            "[1]\n"
          ]
        }
      ],
      "source": [
        "#voting=soft---->weak models predict prob\n",
        "model=VotingClassifier(estimators=[('m1',weak_model1),('m2',weak_model2),('m3',weak_model3)],voting='soft')\n",
        "model.fit(X,y)\n",
        "sample=[1.9,.5,3.5,.8]\n",
        "print(model.predict([sample]))"
      ]
    },
    {
      "cell_type": "code",
      "execution_count": null,
      "id": "79bc3f48-7dce-48fd-94aa-b86831f943c4",
      "metadata": {
        "id": "79bc3f48-7dce-48fd-94aa-b86831f943c4"
      },
      "outputs": [],
      "source": [
        "from sklearn.model_selection import cross_val_score"
      ]
    },
    {
      "cell_type": "code",
      "execution_count": null,
      "id": "60c5260f-db60-4b72-b600-ffd48d8ebd84",
      "metadata": {
        "id": "60c5260f-db60-4b72-b600-ffd48d8ebd84",
        "outputId": "3b2d4540-c386-47ad-9345-ed2736387b74"
      },
      "outputs": [
        {
          "data": {
            "text/plain": [
              "0.9733333333333334"
            ]
          },
          "execution_count": 10,
          "metadata": {},
          "output_type": "execute_result"
        }
      ],
      "source": [
        "model=KNeighborsClassifier()\n",
        "cross_val_score(model,X,y,cv=5).mean()"
      ]
    },
    {
      "cell_type": "code",
      "execution_count": null,
      "id": "82df7199-42f3-4e3f-918c-56922bc84f13",
      "metadata": {
        "id": "82df7199-42f3-4e3f-918c-56922bc84f13",
        "outputId": "61826be6-d671-4e52-a7d7-a6a6c2fac9ae"
      },
      "outputs": [
        {
          "data": {
            "text/plain": [
              "0.9733333333333334"
            ]
          },
          "execution_count": 11,
          "metadata": {},
          "output_type": "execute_result"
        }
      ],
      "source": [
        "model=LogisticRegression(max_iter=500)\n",
        "cross_val_score(model,X,y,cv=5).mean()"
      ]
    },
    {
      "cell_type": "code",
      "execution_count": null,
      "id": "9b7fa388-a076-42ff-9f34-bf457169dd97",
      "metadata": {
        "id": "9b7fa388-a076-42ff-9f34-bf457169dd97",
        "outputId": "9216f97a-c6ed-4aab-f6d6-bad479e442ec"
      },
      "outputs": [
        {
          "data": {
            "text/plain": [
              "0.9666666666666668"
            ]
          },
          "execution_count": 12,
          "metadata": {},
          "output_type": "execute_result"
        }
      ],
      "source": [
        "model=DecisionTreeClassifier()\n",
        "cross_val_score(model,X,y,cv=5).mean()"
      ]
    },
    {
      "cell_type": "code",
      "execution_count": null,
      "id": "4aa8e1ad-ef1a-4b06-9d81-f43eb745db7e",
      "metadata": {
        "id": "4aa8e1ad-ef1a-4b06-9d81-f43eb745db7e",
        "outputId": "4dcd7bf9-8723-4e92-8e9b-032b67520970"
      },
      "outputs": [
        {
          "data": {
            "text/plain": [
              "0.96"
            ]
          },
          "execution_count": 13,
          "metadata": {},
          "output_type": "execute_result"
        }
      ],
      "source": [
        "model=RandomForestClassifier()\n",
        "cross_val_score(model,X,y,cv=5).mean()"
      ]
    },
    {
      "cell_type": "code",
      "execution_count": null,
      "id": "ad222ea1-5894-4f68-9a82-757f53be56ff",
      "metadata": {
        "id": "ad222ea1-5894-4f68-9a82-757f53be56ff",
        "outputId": "638ade02-d9f2-4226-c3e9-cdbfbc1b65cd"
      },
      "outputs": [
        {
          "data": {
            "text/plain": [
              "0.9466666666666667"
            ]
          },
          "execution_count": 14,
          "metadata": {},
          "output_type": "execute_result"
        }
      ],
      "source": [
        "model=AdaBoostClassifier()\n",
        "cross_val_score(model,X,y,cv=5).mean()"
      ]
    },
    {
      "cell_type": "code",
      "execution_count": null,
      "id": "8be62b07-c726-4169-af29-ad4d3404ca5f",
      "metadata": {
        "id": "8be62b07-c726-4169-af29-ad4d3404ca5f",
        "outputId": "974df155-5b6b-4591-bb96-d6e01b7d79c4"
      },
      "outputs": [
        {
          "data": {
            "text/plain": [
              "0.9666666666666668"
            ]
          },
          "execution_count": 15,
          "metadata": {},
          "output_type": "execute_result"
        }
      ],
      "source": [
        "model=VotingClassifier(estimators=[('m1',weak_model1),('m2',weak_model2),('m3',weak_model3)],voting='soft')\n",
        "cross_val_score(model,X,y,cv=5).mean()"
      ]
    },
    {
      "cell_type": "code",
      "execution_count": null,
      "id": "ca761abf-891e-49d3-8e01-00572ba48321",
      "metadata": {
        "id": "ca761abf-891e-49d3-8e01-00572ba48321"
      },
      "outputs": [],
      "source": [
        "import cv2"
      ]
    },
    {
      "cell_type": "code",
      "execution_count": null,
      "id": "034a4764-2632-44f0-9621-7fb4478a17e8",
      "metadata": {
        "id": "034a4764-2632-44f0-9621-7fb4478a17e8",
        "outputId": "e039f5d0-dc05-476c-a4e9-e460706c3d5a"
      },
      "outputs": [
        {
          "data": {
            "text/plain": [
              "'4.5.5'"
            ]
          },
          "execution_count": 17,
          "metadata": {},
          "output_type": "execute_result"
        }
      ],
      "source": [
        "cv2.__version__"
      ]
    },
    {
      "cell_type": "code",
      "execution_count": null,
      "id": "17b8f5e3-202a-4dbe-b9eb-6f8718c6d23b",
      "metadata": {
        "id": "17b8f5e3-202a-4dbe-b9eb-6f8718c6d23b"
      },
      "outputs": [],
      "source": [
        "img=cv2.imread(\"d:/images/sachin.jpg\",cv2.IMREAD_COLOR)\n",
        "cv2.imshow(\"color image\",img)\n",
        "cv2.waitKey(5000)\n",
        "cv2.destroyAllWindows()"
      ]
    },
    {
      "cell_type": "code",
      "execution_count": null,
      "id": "34b42692-93be-41c6-b995-3b73d5712812",
      "metadata": {
        "id": "34b42692-93be-41c6-b995-3b73d5712812"
      },
      "outputs": [],
      "source": [
        "img=cv2.imread(\"d:/images/sachin.jpg\",cv2.IMREAD_COLOR)\n",
        "cv2.imshow(\"color image\",img)\n",
        "cv2.waitKey()\n",
        "cv2.destroyAllWindows()"
      ]
    },
    {
      "cell_type": "code",
      "execution_count": null,
      "id": "8122d676-f845-41f3-8599-3dd9fb04f717",
      "metadata": {
        "id": "8122d676-f845-41f3-8599-3dd9fb04f717",
        "outputId": "68b5bd95-fb29-4015-ec6c-1574e87f958e"
      },
      "outputs": [
        {
          "name": "stdout",
          "output_type": "stream",
          "text": [
            "<class 'numpy.ndarray'> 3 (606, 420, 3)\n",
            "<class 'numpy.ndarray'> 2 (606, 420)\n"
          ]
        }
      ],
      "source": [
        "img_clr=cv2.imread(\"d:/images/sachin.jpg\",cv2.IMREAD_COLOR)\n",
        "img_gray=cv2.imread(\"d:/images/sachin.jpg\",cv2.IMREAD_GRAYSCALE)\n",
        "print(type(img_clr),img_clr.ndim,img_clr.shape)\n",
        "print(type(img_gray),img_gray.ndim,img_gray.shape)\n",
        "\n",
        "cv2.imshow(\"color image\",img_clr)\n",
        "cv2.imshow(\"gray image\",img_gray)\n",
        "cv2.waitKey()\n",
        "cv2.destroyAllWindows()"
      ]
    },
    {
      "cell_type": "code",
      "execution_count": null,
      "id": "8a8bc922-9f25-4730-96b4-939e975e73ef",
      "metadata": {
        "id": "8a8bc922-9f25-4730-96b4-939e975e73ef"
      },
      "outputs": [],
      "source": [
        "img=cv2.imread(\"d:/images/sachin.jpg\",cv2.IMREAD_COLOR)\n",
        "img=cv2.resize(img,(300,400))\n",
        "cv2.imshow(\"color image\",img)\n",
        "cv2.waitKey()\n",
        "cv2.destroyAllWindows()"
      ]
    },
    {
      "cell_type": "code",
      "execution_count": null,
      "id": "b749167c-65c5-43eb-8731-04197c63b830",
      "metadata": {
        "id": "b749167c-65c5-43eb-8731-04197c63b830"
      },
      "outputs": [],
      "source": [
        "img=cv2.imread(\"d:/images/sachin.jpg\",cv2.IMREAD_COLOR)\n",
        "img1=cv2.cvtColor(img,cv2.COLOR_BGR2GRAY)\n",
        "cv2.imshow(\"color image\",img)\n",
        "cv2.imshow(\"gray image\",img1)\n",
        "cv2.waitKey()\n",
        "cv2.destroyAllWindows()"
      ]
    },
    {
      "cell_type": "code",
      "execution_count": null,
      "id": "bad5e507-383f-49dd-94df-842d165ca978",
      "metadata": {
        "id": "bad5e507-383f-49dd-94df-842d165ca978"
      },
      "outputs": [],
      "source": [
        "img=cv2.imread(\"d:/images/sachin.jpg\",cv2.IMREAD_COLOR)\n",
        "img2=cv2.convertScaleAbs(img,alpha=1.5,beta=50)\n",
        "cv2.imwrite(\"sachin2.jpg\",img2)\n",
        "cv2.imshow(\"color image\",img2)\n",
        "cv2.waitKey()\n",
        "cv2.destroyAllWindows()"
      ]
    },
    {
      "cell_type": "code",
      "execution_count": null,
      "id": "804d7ce9-7ecd-4735-b637-c188898a3cd5",
      "metadata": {
        "id": "804d7ce9-7ecd-4735-b637-c188898a3cd5"
      },
      "outputs": [],
      "source": [
        "img=cv2.imread(\"d:/images/sachin.jpg\",cv2.IMREAD_COLOR)\n",
        "img2=cv2.flip(img,-1)\n",
        "cv2.imshow(\"color image2\",img2)\n",
        "cv2.imshow(\"color image\",img)\n",
        "\n",
        "cv2.waitKey()\n",
        "cv2.destroyAllWindows()"
      ]
    },
    {
      "cell_type": "code",
      "execution_count": null,
      "id": "f3d48699-27ed-4cde-a106-bb59ef34aade",
      "metadata": {
        "id": "f3d48699-27ed-4cde-a106-bb59ef34aade"
      },
      "outputs": [],
      "source": [
        "img=cv2.imread(\"d:/images/sachin.jpg\",cv2.IMREAD_COLOR)\n",
        "img2=cv2.blur(img,(10,10))\n",
        "cv2.imshow(\"color image2\",img2)\n",
        "cv2.imshow(\"color image\",img)\n",
        "\n",
        "cv2.waitKey()\n",
        "cv2.destroyAllWindows()"
      ]
    }
  ],
  "metadata": {
    "kernelspec": {
      "display_name": "Python 3 (ipykernel)",
      "language": "python",
      "name": "python3"
    },
    "language_info": {
      "codemirror_mode": {
        "name": "ipython",
        "version": 3
      },
      "file_extension": ".py",
      "mimetype": "text/x-python",
      "name": "python",
      "nbconvert_exporter": "python",
      "pygments_lexer": "ipython3",
      "version": "3.9.7"
    },
    "colab": {
      "name": "voting_classifier_and_open_cv.ipynb",
      "provenance": [],
      "include_colab_link": true
    }
  },
  "nbformat": 4,
  "nbformat_minor": 5
}