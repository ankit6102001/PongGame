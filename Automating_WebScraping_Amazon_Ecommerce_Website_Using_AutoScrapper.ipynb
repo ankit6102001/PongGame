{
  "cells": [
    {
      "cell_type": "markdown",
      "metadata": {
        "id": "view-in-github",
        "colab_type": "text"
      },
      "source": [
        "<a href=\"https://colab.research.google.com/github/ankit6102001/Python-Machine-learning-Deep-learning/blob/main/Automating_WebScraping_Amazon_Ecommerce_Website_Using_AutoScrapper.ipynb\" target=\"_parent\"><img src=\"https://colab.research.google.com/assets/colab-badge.svg\" alt=\"Open In Colab\"/></a>"
      ]
    },
    {
      "cell_type": "code",
      "execution_count": null,
      "id": "4b7e9291",
      "metadata": {
        "id": "4b7e9291",
        "outputId": "ef10a9f5-2ac3-41e2-fa0a-0209380bed07"
      },
      "outputs": [
        {
          "name": "stdout",
          "output_type": "stream",
          "text": [
            "Collecting autoscraper\n",
            "  Downloading autoscraper-1.1.14-py3-none-any.whl (10 kB)\n",
            "Requirement already satisfied: requests in c:\\users\\user\\anaconda3\\lib\\site-packages (from autoscraper) (2.27.1)\n",
            "Requirement already satisfied: lxml in c:\\users\\user\\anaconda3\\lib\\site-packages (from autoscraper) (4.8.0)\n",
            "Collecting bs4\n",
            "  Downloading bs4-0.0.1.tar.gz (1.1 kB)\n",
            "Requirement already satisfied: beautifulsoup4 in c:\\users\\user\\anaconda3\\lib\\site-packages (from bs4->autoscraper) (4.11.1)\n",
            "Requirement already satisfied: soupsieve>1.2 in c:\\users\\user\\anaconda3\\lib\\site-packages (from beautifulsoup4->bs4->autoscraper) (2.3.1)\n",
            "Requirement already satisfied: charset-normalizer~=2.0.0 in c:\\users\\user\\anaconda3\\lib\\site-packages (from requests->autoscraper) (2.0.4)\n",
            "Requirement already satisfied: idna<4,>=2.5 in c:\\users\\user\\anaconda3\\lib\\site-packages (from requests->autoscraper) (3.3)\n",
            "Requirement already satisfied: urllib3<1.27,>=1.21.1 in c:\\users\\user\\anaconda3\\lib\\site-packages (from requests->autoscraper) (1.26.9)\n",
            "Requirement already satisfied: certifi>=2017.4.17 in c:\\users\\user\\anaconda3\\lib\\site-packages (from requests->autoscraper) (2021.10.8)\n",
            "Building wheels for collected packages: bs4\n",
            "  Building wheel for bs4 (setup.py): started\n",
            "  Building wheel for bs4 (setup.py): finished with status 'done'\n",
            "  Created wheel for bs4: filename=bs4-0.0.1-py3-none-any.whl size=1272 sha256=41dcf4bdcfc49c7b58d958750efc901d27d91714fbd7979b2d2d328354e63c5a\n",
            "  Stored in directory: c:\\users\\user\\appdata\\local\\pip\\cache\\wheels\\73\\2b\\cb\\099980278a0c9a3e57ff1a89875ec07bfa0b6fcbebb9a8cad3\n",
            "Successfully built bs4\n",
            "Installing collected packages: bs4, autoscraper\n",
            "Successfully installed autoscraper-1.1.14 bs4-0.0.1\n"
          ]
        }
      ],
      "source": [
        "!pip install autoscraper"
      ]
    },
    {
      "cell_type": "code",
      "execution_count": null,
      "id": "ffda8805",
      "metadata": {
        "id": "ffda8805"
      },
      "outputs": [],
      "source": [
        "from autoscraper import AutoScraper"
      ]
    },
    {
      "cell_type": "code",
      "execution_count": null,
      "id": "11628f78",
      "metadata": {
        "id": "11628f78"
      },
      "outputs": [],
      "source": [
        "amazon_url=\"https://www.amazon.in/s?k=iphones\"\n",
        "wanted_list=[\"₹1,29,900\",\"Apple iPhone 13 Pro Max (256GB) - Sierra Blue\",\"1,014\"]"
      ]
    },
    {
      "cell_type": "code",
      "execution_count": null,
      "id": "858f405b",
      "metadata": {
        "id": "858f405b",
        "outputId": "669aed37-872d-4343-d528-3a30c303c69c"
      },
      "outputs": [
        {
          "name": "stdout",
          "output_type": "stream",
          "text": [
            "['₹46,999', '₹49,900', '₹15,499', '₹27,999', '₹1,29,900', '₹1,39,900', '₹54,900', '₹1,07,900', '₹1,19,900', '₹55,179', '₹64,900', '₹70,900', '₹79,900', '₹46,990', '₹71,900', '₹57,400', '₹65,900', '₹58,900', 'Apple iPhone 11 (64GB) - White', \"(I:Phone) 6G Space Grey 16GB with 8 Mega Pixel Camera - Without Icloud I'd\", 'Apple iPhone 11 (64GB) - Black', 'Apple iPhone 13 Pro Max (256GB) - Sierra Blue', 'Apple iPhone 11 (128GB) - Black', 'Apple iPhone 13 Pro (128GB) - Sierra Blue', 'Apple iPhone 12 Mini (128GB) - White', 'Apple iPhone 13 (128GB) - Blue', 'Apple iPhone 13 (128GB) - Midnight', 'Apple iPhone 13 (128GB) - Green', 'Apple iPhone 11 (64GB) - Green', 'Apple iPhone 13 (128GB) - Starlight', 'Apple iPhone 11 (64GB) - Purple', 'Apple iPhone 13 Pro (128 GB) - Alpine Green', 'Apple iPhone 12 (64GB) - Black', 'Apple iPhone 12 (64GB) - Purple', '43,493', '1,014', '814', '6,799', '8,902', '18,608']\n"
          ]
        }
      ],
      "source": [
        "scraper=AutoScraper()\n",
        "result=scraper.build(amazon_url,wanted_list)\n",
        "print(result)"
      ]
    },
    {
      "cell_type": "code",
      "execution_count": null,
      "id": "e9e6462f",
      "metadata": {
        "id": "e9e6462f",
        "outputId": "67af40dd-8b22-4c91-e2ec-f9007c7aa85a"
      },
      "outputs": [
        {
          "data": {
            "text/plain": [
              "{'rule_aw28': ['₹46,999',\n",
              "  '₹49,900',\n",
              "  '₹15,499',\n",
              "  '₹27,999',\n",
              "  '₹46,999',\n",
              "  '₹49,900',\n",
              "  '₹1,29,900',\n",
              "  '₹1,39,900',\n",
              "  '₹49,900',\n",
              "  '₹54,900',\n",
              "  '₹1,07,900',\n",
              "  '₹1,19,900',\n",
              "  '₹55,179',\n",
              "  '₹64,900',\n",
              "  '₹70,900',\n",
              "  '₹79,900',\n",
              "  '₹70,900',\n",
              "  '₹79,900',\n",
              "  '₹70,900',\n",
              "  '₹79,900',\n",
              "  '₹46,990',\n",
              "  '₹54,900',\n",
              "  '₹71,900',\n",
              "  '₹79,900',\n",
              "  '₹46,990',\n",
              "  '₹49,900',\n",
              "  '₹1,07,900',\n",
              "  '₹1,19,900',\n",
              "  '₹57,400',\n",
              "  '₹65,900',\n",
              "  '₹58,900',\n",
              "  '₹65,900'],\n",
              " 'rule_ujuj': ['₹46,999',\n",
              "  '₹49,900',\n",
              "  '₹15,499',\n",
              "  '₹27,999',\n",
              "  '₹46,999',\n",
              "  '₹49,900',\n",
              "  '₹1,29,900',\n",
              "  '₹1,39,900',\n",
              "  '₹49,900',\n",
              "  '₹54,900',\n",
              "  '₹1,07,900',\n",
              "  '₹1,19,900',\n",
              "  '₹55,179',\n",
              "  '₹64,900',\n",
              "  '₹70,900',\n",
              "  '₹79,900',\n",
              "  '₹70,900',\n",
              "  '₹79,900',\n",
              "  '₹70,900',\n",
              "  '₹79,900',\n",
              "  '₹46,990',\n",
              "  '₹54,900',\n",
              "  '₹71,900',\n",
              "  '₹79,900',\n",
              "  '₹46,990',\n",
              "  '₹49,900',\n",
              "  '₹1,07,900',\n",
              "  '₹1,19,900',\n",
              "  '₹57,400',\n",
              "  '₹65,900',\n",
              "  '₹58,900',\n",
              "  '₹65,900'],\n",
              " 'rule_w17x': ['Apple iPhone 11 (64GB) - White',\n",
              "  \"(I:Phone) 6G Space Grey 16GB with 8 Mega Pixel Camera - Without Icloud I'd\",\n",
              "  'Apple iPhone 11 (64GB) - Black',\n",
              "  'Apple iPhone 13 Pro Max (256GB) - Sierra Blue',\n",
              "  'Apple iPhone 11 (128GB) - Black',\n",
              "  'Apple iPhone 13 Pro (128GB) - Sierra Blue',\n",
              "  'Apple iPhone 12 Mini (128GB) - White',\n",
              "  'Apple iPhone 13 (128GB) - Blue',\n",
              "  'Apple iPhone 13 (128GB) - Midnight',\n",
              "  'Apple iPhone 13 (128GB) - Green',\n",
              "  'Apple iPhone 11 (64GB) - Green',\n",
              "  'Apple iPhone 13 (128GB) - Starlight',\n",
              "  'Apple iPhone 11 (64GB) - Purple',\n",
              "  'Apple iPhone 13 Pro (128 GB) - Alpine Green',\n",
              "  'Apple iPhone 12 (64GB) - Black',\n",
              "  'Apple iPhone 12 (64GB) - Purple'],\n",
              " 'rule_9vj4': ['Apple iPhone 11 (64GB) - White',\n",
              "  \"(I:Phone) 6G Space Grey 16GB with 8 Mega Pixel Camera - Without Icloud I'd\",\n",
              "  'Apple iPhone 11 (64GB) - Black',\n",
              "  'Apple iPhone 13 Pro Max (256GB) - Sierra Blue',\n",
              "  'Apple iPhone 11 (128GB) - Black',\n",
              "  'Apple iPhone 13 Pro (128GB) - Sierra Blue',\n",
              "  'Apple iPhone 12 Mini (128GB) - White',\n",
              "  'Apple iPhone 13 (128GB) - Blue',\n",
              "  'Apple iPhone 13 (128GB) - Midnight',\n",
              "  'Apple iPhone 13 (128GB) - Green',\n",
              "  'Apple iPhone 11 (64GB) - Green',\n",
              "  'Apple iPhone 13 (128GB) - Starlight',\n",
              "  'Apple iPhone 11 (64GB) - Purple',\n",
              "  'Apple iPhone 13 Pro (128 GB) - Alpine Green',\n",
              "  'Apple iPhone 12 (64GB) - Black',\n",
              "  'Apple iPhone 12 (64GB) - Purple'],\n",
              " 'rule_sgd7': ['43,493',\n",
              "  '43,493',\n",
              "  '1,014',\n",
              "  '43,493',\n",
              "  '814',\n",
              "  '6,799',\n",
              "  '8,902',\n",
              "  '8,902',\n",
              "  '8,902',\n",
              "  '43,493',\n",
              "  '8,902',\n",
              "  '43,493',\n",
              "  '814',\n",
              "  '18,608',\n",
              "  '18,608']}"
            ]
          },
          "execution_count": 29,
          "metadata": {},
          "output_type": "execute_result"
        }
      ],
      "source": [
        "scraper.get_result_similar(amazon_url,grouped=True)"
      ]
    },
    {
      "cell_type": "code",
      "execution_count": null,
      "id": "d8acf192",
      "metadata": {
        "id": "d8acf192"
      },
      "outputs": [],
      "source": [
        "scraper.set_rule_aliases({'rule_w17x':'Title','rule_aw28':'Price'})\n",
        "scraper.keep_rules(['rule_w17x','rule_aw28'])\n",
        "scraper.save('amazon-search')"
      ]
    },
    {
      "cell_type": "code",
      "execution_count": null,
      "id": "23bd5975",
      "metadata": {
        "id": "23bd5975"
      },
      "outputs": [],
      "source": [
        "results=scraper.get_result_similar(\"https://www.amazon.in/s?k=mi+phones\",group_by_alias=True)"
      ]
    },
    {
      "cell_type": "code",
      "execution_count": null,
      "id": "1631df4b",
      "metadata": {
        "id": "1631df4b",
        "outputId": "67f16b32-7859-4c45-932f-876d3160f904"
      },
      "outputs": [
        {
          "data": {
            "text/plain": [
              "['₹10,740',\n",
              " '₹10,999',\n",
              " '₹10,545',\n",
              " '₹12,999',\n",
              " '₹29,999',\n",
              " '₹34,999',\n",
              " '₹27,999',\n",
              " '₹33,999',\n",
              " '₹27,999',\n",
              " '₹33,999',\n",
              " '₹13,295',\n",
              " '₹16,999',\n",
              " '₹34,999',\n",
              " '₹47,999',\n",
              " '₹11,749',\n",
              " '₹11,999',\n",
              " '₹10,485',\n",
              " '₹12,999',\n",
              " '₹12,990',\n",
              " '₹16,999',\n",
              " '₹54,999',\n",
              " '₹59,999',\n",
              " '₹8,999',\n",
              " '₹9,999',\n",
              " '₹9,990',\n",
              " '₹17,499']"
            ]
          },
          "execution_count": 35,
          "metadata": {},
          "output_type": "execute_result"
        }
      ],
      "source": [
        "results['Price']"
      ]
    },
    {
      "cell_type": "code",
      "execution_count": null,
      "id": "83f14df5",
      "metadata": {
        "id": "83f14df5"
      },
      "outputs": [],
      "source": [
        ""
      ]
    }
  ],
  "metadata": {
    "kernelspec": {
      "display_name": "Python 3 (ipykernel)",
      "language": "python",
      "name": "python3"
    },
    "language_info": {
      "codemirror_mode": {
        "name": "ipython",
        "version": 3
      },
      "file_extension": ".py",
      "mimetype": "text/x-python",
      "name": "python",
      "nbconvert_exporter": "python",
      "pygments_lexer": "ipython3",
      "version": "3.9.12"
    },
    "colab": {
      "name": "Automating WebScraping Amazon Ecommerce Website Using AutoScrapper.ipynb",
      "provenance": [],
      "include_colab_link": true
    }
  },
  "nbformat": 4,
  "nbformat_minor": 5
}