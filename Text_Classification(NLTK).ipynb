{
  "cells": [
    {
      "cell_type": "markdown",
      "metadata": {
        "id": "view-in-github",
        "colab_type": "text"
      },
      "source": [
        "<a href=\"https://colab.research.google.com/github/ankit6102001/Python-Machine-learning-Deep-learning/blob/main/Text_Classification(NLTK).ipynb\" target=\"_parent\"><img src=\"https://colab.research.google.com/assets/colab-badge.svg\" alt=\"Open In Colab\"/></a>"
      ]
    },
    {
      "cell_type": "code",
      "execution_count": null,
      "id": "4ea89e9d-d7c1-4a5d-a99f-d0fba86130af",
      "metadata": {
        "id": "4ea89e9d-d7c1-4a5d-a99f-d0fba86130af",
        "outputId": "c3d1af44-6c83-4d96-a382-98b50324ac1b"
      },
      "outputs": [
        {
          "name": "stdout",
          "output_type": "stream",
          "text": [
            "showing info https://raw.githubusercontent.com/nltk/nltk_data/gh-pages/index.xml\n"
          ]
        },
        {
          "data": {
            "text/plain": [
              "True"
            ]
          },
          "execution_count": 1,
          "metadata": {},
          "output_type": "execute_result"
        }
      ],
      "source": [
        "import nltk\n",
        "nltk.download()"
      ]
    },
    {
      "cell_type": "code",
      "execution_count": null,
      "id": "717218d6-7e49-4e20-a38d-f5423e63fc3a",
      "metadata": {
        "id": "717218d6-7e49-4e20-a38d-f5423e63fc3a"
      },
      "outputs": [],
      "source": [
        "#document->it is simply a string representing a text.\n",
        "#corpus->it is a group of documents as list/array.\n",
        "\n",
        "doc1='food is # good! _@ 2019'\n",
        "doc2='& Food # is * tasty'\n",
        "doc3='quality is Good'\n",
        "doc4='service is Poor poor means very poor'\n",
        "doc5='food is not good'\n",
        "doc6='cheap quality'\n",
        "\n",
        "corpus=[doc1,doc2,doc3,doc4,doc5,doc6]\n"
      ]
    },
    {
      "cell_type": "code",
      "execution_count": null,
      "id": "7cd55026-557e-4e55-8730-55b6790760f2",
      "metadata": {
        "id": "7cd55026-557e-4e55-8730-55b6790760f2",
        "outputId": "0a454556-00f5-4874-d2ac-271a5d891d48"
      },
      "outputs": [
        {
          "data": {
            "text/plain": [
              "['food is # good! _@ 2019',\n",
              " '& Food # is * tasty',\n",
              " 'quality is Good',\n",
              " 'service is Poor poor means very poor',\n",
              " 'food is not good',\n",
              " 'cheap quality']"
            ]
          },
          "execution_count": 25,
          "metadata": {},
          "output_type": "execute_result"
        }
      ],
      "source": [
        "corpus"
      ]
    },
    {
      "cell_type": "code",
      "execution_count": null,
      "id": "b2de4c04-8861-4e26-9692-905b0b1317ff",
      "metadata": {
        "id": "b2de4c04-8861-4e26-9692-905b0b1317ff",
        "outputId": "69bb6ceb-4486-4d3c-a38b-5a4a96c6f905"
      },
      "outputs": [
        {
          "data": {
            "text/plain": [
              "['food is # good! _@ 2019',\n",
              " '& food # is * tasty',\n",
              " 'quality is good',\n",
              " 'service is poor poor means very poor',\n",
              " 'food is not good',\n",
              " 'cheap quality']"
            ]
          },
          "execution_count": 26,
          "metadata": {},
          "output_type": "execute_result"
        }
      ],
      "source": [
        "corpus1=list(map(str.lower,corpus))\n",
        "corpus1"
      ]
    },
    {
      "cell_type": "code",
      "execution_count": null,
      "id": "4d99253a-437f-4d1f-a46e-f7c55ff518b0",
      "metadata": {
        "id": "4d99253a-437f-4d1f-a46e-f7c55ff518b0",
        "outputId": "c7636e60-1246-48f4-c978-fa9e5c1db7a0"
      },
      "outputs": [
        {
          "data": {
            "text/plain": [
              "'!\"#$%&\\'()*+,-./:;<=>?@[\\\\]^_`{|}~'"
            ]
          },
          "execution_count": 27,
          "metadata": {},
          "output_type": "execute_result"
        }
      ],
      "source": [
        "import re\n",
        "import string\n",
        "\n",
        "string.punctuation"
      ]
    },
    {
      "cell_type": "code",
      "execution_count": null,
      "id": "df7f9959-82dd-4e4f-9bfa-e0bf6dea94b6",
      "metadata": {
        "id": "df7f9959-82dd-4e4f-9bfa-e0bf6dea94b6",
        "outputId": "7ec68077-ba9b-4a7e-928c-99f5741a3d91"
      },
      "outputs": [
        {
          "data": {
            "text/plain": [
              "'a bcdg hkl'"
            ]
          },
          "execution_count": 28,
          "metadata": {},
          "output_type": "execute_result"
        }
      ],
      "source": [
        "re.sub(\"[^a-z ]\",\"\",\"a b5c$d#_g h@kl\")"
      ]
    },
    {
      "cell_type": "code",
      "execution_count": null,
      "id": "5babd04f-a36e-463f-ac6d-36d45e04d5f0",
      "metadata": {
        "id": "5babd04f-a36e-463f-ac6d-36d45e04d5f0"
      },
      "outputs": [],
      "source": [
        "def remove_punch(doc):\n",
        "    return re.sub(\"[^a-z ]\",\"\",doc).strip()\n",
        "\n",
        "corpus2=list(map(remove_punch,corpus1))"
      ]
    },
    {
      "cell_type": "code",
      "execution_count": null,
      "id": "8b2d056c-621e-4798-af6a-9e38f951f176",
      "metadata": {
        "id": "8b2d056c-621e-4798-af6a-9e38f951f176",
        "outputId": "6fb19a0c-83d2-49ff-fb5b-62b3d7523439"
      },
      "outputs": [
        {
          "data": {
            "text/plain": [
              "['food is  good',\n",
              " 'food  is  tasty',\n",
              " 'quality is good',\n",
              " 'service is poor poor means very poor',\n",
              " 'food is not good',\n",
              " 'cheap quality']"
            ]
          },
          "execution_count": 30,
          "metadata": {},
          "output_type": "execute_result"
        }
      ],
      "source": [
        "corpus2"
      ]
    },
    {
      "cell_type": "code",
      "execution_count": null,
      "id": "8522a539-9e58-4d8a-b7cd-f5180a4fc61a",
      "metadata": {
        "id": "8522a539-9e58-4d8a-b7cd-f5180a4fc61a"
      },
      "outputs": [],
      "source": [
        "from nltk.corpus import stopwords"
      ]
    },
    {
      "cell_type": "code",
      "execution_count": null,
      "id": "638dcb1d-345e-460a-9347-7a2e693c1ce2",
      "metadata": {
        "id": "638dcb1d-345e-460a-9347-7a2e693c1ce2"
      },
      "outputs": [],
      "source": [
        "sw=stopwords.words(\"english\")"
      ]
    },
    {
      "cell_type": "code",
      "execution_count": null,
      "id": "7eeed3f8-047a-4af7-b833-b744a7506415",
      "metadata": {
        "id": "7eeed3f8-047a-4af7-b833-b744a7506415",
        "outputId": "2604c67a-154f-4258-a9eb-1955f4cb4b97"
      },
      "outputs": [
        {
          "data": {
            "text/plain": [
              "179"
            ]
          },
          "execution_count": 22,
          "metadata": {},
          "output_type": "execute_result"
        }
      ],
      "source": [
        "len(sw)"
      ]
    },
    {
      "cell_type": "code",
      "execution_count": null,
      "id": "0d5f7813-562b-449b-9862-d308089be44f",
      "metadata": {
        "id": "0d5f7813-562b-449b-9862-d308089be44f",
        "outputId": "00a70655-f11f-4c5c-8a4d-39cd8d657b4b"
      },
      "outputs": [
        {
          "data": {
            "text/plain": [
              "178"
            ]
          },
          "execution_count": 31,
          "metadata": {},
          "output_type": "execute_result"
        }
      ],
      "source": [
        "sw.remove('not')\n",
        "len(sw)"
      ]
    },
    {
      "cell_type": "code",
      "execution_count": null,
      "id": "a3b7fb4d-f1d1-4c55-9ba6-295d05a5747c",
      "metadata": {
        "id": "a3b7fb4d-f1d1-4c55-9ba6-295d05a5747c",
        "outputId": "b3fdcb63-533c-473f-9158-199b66ffe3d3"
      },
      "outputs": [
        {
          "data": {
            "text/plain": [
              "'service poor poor means poor '"
            ]
          },
          "execution_count": 35,
          "metadata": {},
          "output_type": "execute_result"
        }
      ],
      "source": [
        "from nltk.tokenize import word_tokenize\n",
        "s='service is poor poor means very poor'\n",
        "tokens=word_tokenize(s)\n",
        "s2=\"\"\n",
        "for i in tokens:\n",
        "    if(i not in sw):\n",
        "        s2=s2+i+\" \"\n",
        "s2"
      ]
    },
    {
      "cell_type": "code",
      "execution_count": null,
      "id": "17aa53b4-724e-4611-b501-e36d0d3fba8c",
      "metadata": {
        "id": "17aa53b4-724e-4611-b501-e36d0d3fba8c"
      },
      "outputs": [],
      "source": [
        "def remove_sp(doc):\n",
        "    tokens=word_tokenize(doc)\n",
        "    s2=\"\"\n",
        "    for i in tokens:\n",
        "        if(i not in sw):\n",
        "            s2=s2+i+\" \"\n",
        "    return s2.strip()\n",
        "\n",
        "corpus3=list(map(remove_sp,corpus2))"
      ]
    },
    {
      "cell_type": "code",
      "execution_count": null,
      "id": "887292ad-c812-4269-a1bb-e4c61b3d8748",
      "metadata": {
        "id": "887292ad-c812-4269-a1bb-e4c61b3d8748",
        "outputId": "1c98e685-9bf7-4838-e3dd-b18d6904d1e0"
      },
      "outputs": [
        {
          "data": {
            "text/plain": [
              "['food good',\n",
              " 'food tasty',\n",
              " 'quality good',\n",
              " 'service poor poor means poor',\n",
              " 'food not good',\n",
              " 'cheap quality']"
            ]
          },
          "execution_count": 39,
          "metadata": {},
          "output_type": "execute_result"
        }
      ],
      "source": [
        "corpus3"
      ]
    },
    {
      "cell_type": "code",
      "execution_count": null,
      "id": "453829bc-f15f-4978-800b-647febbd13b8",
      "metadata": {
        "id": "453829bc-f15f-4978-800b-647febbd13b8",
        "outputId": "ea988c81-63f4-4402-f335-0af20d629d6c"
      },
      "outputs": [
        {
          "data": {
            "text/plain": [
              "['food is # good! _@ 2019',\n",
              " '& Food # is * tasty',\n",
              " 'quality is Good',\n",
              " 'service is Poor poor means very poor',\n",
              " 'food is not good',\n",
              " 'cheap quality']"
            ]
          },
          "execution_count": 40,
          "metadata": {},
          "output_type": "execute_result"
        }
      ],
      "source": [
        "corpus"
      ]
    },
    {
      "cell_type": "code",
      "execution_count": null,
      "id": "deb406b5-0c53-408b-94bb-1b8d6ca5cb38",
      "metadata": {
        "id": "deb406b5-0c53-408b-94bb-1b8d6ca5cb38"
      },
      "outputs": [],
      "source": [
        ""
      ]
    }
  ],
  "metadata": {
    "kernelspec": {
      "display_name": "Python 3 (ipykernel)",
      "language": "python",
      "name": "python3"
    },
    "language_info": {
      "codemirror_mode": {
        "name": "ipython",
        "version": 3
      },
      "file_extension": ".py",
      "mimetype": "text/x-python",
      "name": "python",
      "nbconvert_exporter": "python",
      "pygments_lexer": "ipython3",
      "version": "3.9.7"
    },
    "colab": {
      "name": "Text_Classification(NLTK).ipynb",
      "provenance": [],
      "include_colab_link": true
    }
  },
  "nbformat": 4,
  "nbformat_minor": 5
}